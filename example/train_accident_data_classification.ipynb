{
 "cells": [
  {
   "cell_type": "code",
   "execution_count": 380,
   "metadata": {},
   "outputs": [],
   "source": [
    "import numpy as np\n",
    "import pandas as pd\n",
    "from sklearn.metrics import mean_squared_error\n",
    "from sklearn.metrics import confusion_matrix\n",
    "from sklearn.metrics import f1_score, accuracy_score, roc_auc_score, roc_curve\n"
   ]
  },
  {
   "cell_type": "code",
   "execution_count": 58,
   "metadata": {},
   "outputs": [
    {
     "data": {
      "text/html": [
       "<div>\n",
       "<style scoped>\n",
       "    .dataframe tbody tr th:only-of-type {\n",
       "        vertical-align: middle;\n",
       "    }\n",
       "\n",
       "    .dataframe tbody tr th {\n",
       "        vertical-align: top;\n",
       "    }\n",
       "\n",
       "    .dataframe thead th {\n",
       "        text-align: right;\n",
       "    }\n",
       "</style>\n",
       "<table border=\"1\" class=\"dataframe\">\n",
       "  <thead>\n",
       "    <tr style=\"text-align: right;\">\n",
       "      <th></th>\n",
       "      <th>PassengerId</th>\n",
       "      <th>Survived</th>\n",
       "      <th>Pclass</th>\n",
       "      <th>Name</th>\n",
       "      <th>Sex</th>\n",
       "      <th>Age</th>\n",
       "      <th>SibSp</th>\n",
       "      <th>Parch</th>\n",
       "      <th>Ticket</th>\n",
       "      <th>Fare</th>\n",
       "      <th>Cabin</th>\n",
       "      <th>Embarked</th>\n",
       "    </tr>\n",
       "  </thead>\n",
       "  <tbody>\n",
       "    <tr>\n",
       "      <th>0</th>\n",
       "      <td>1</td>\n",
       "      <td>0</td>\n",
       "      <td>3</td>\n",
       "      <td>Braund, Mr. Owen Harris</td>\n",
       "      <td>male</td>\n",
       "      <td>22.0</td>\n",
       "      <td>1</td>\n",
       "      <td>0</td>\n",
       "      <td>A/5 21171</td>\n",
       "      <td>7.2500</td>\n",
       "      <td>NaN</td>\n",
       "      <td>S</td>\n",
       "    </tr>\n",
       "    <tr>\n",
       "      <th>1</th>\n",
       "      <td>2</td>\n",
       "      <td>1</td>\n",
       "      <td>1</td>\n",
       "      <td>Cumings, Mrs. John Bradley (Florence Briggs Th...</td>\n",
       "      <td>female</td>\n",
       "      <td>38.0</td>\n",
       "      <td>1</td>\n",
       "      <td>0</td>\n",
       "      <td>PC 17599</td>\n",
       "      <td>71.2833</td>\n",
       "      <td>C85</td>\n",
       "      <td>C</td>\n",
       "    </tr>\n",
       "    <tr>\n",
       "      <th>2</th>\n",
       "      <td>3</td>\n",
       "      <td>1</td>\n",
       "      <td>3</td>\n",
       "      <td>Heikkinen, Miss. Laina</td>\n",
       "      <td>female</td>\n",
       "      <td>26.0</td>\n",
       "      <td>0</td>\n",
       "      <td>0</td>\n",
       "      <td>STON/O2. 3101282</td>\n",
       "      <td>7.9250</td>\n",
       "      <td>NaN</td>\n",
       "      <td>S</td>\n",
       "    </tr>\n",
       "    <tr>\n",
       "      <th>3</th>\n",
       "      <td>4</td>\n",
       "      <td>1</td>\n",
       "      <td>1</td>\n",
       "      <td>Futrelle, Mrs. Jacques Heath (Lily May Peel)</td>\n",
       "      <td>female</td>\n",
       "      <td>35.0</td>\n",
       "      <td>1</td>\n",
       "      <td>0</td>\n",
       "      <td>113803</td>\n",
       "      <td>53.1000</td>\n",
       "      <td>C123</td>\n",
       "      <td>S</td>\n",
       "    </tr>\n",
       "    <tr>\n",
       "      <th>4</th>\n",
       "      <td>5</td>\n",
       "      <td>0</td>\n",
       "      <td>3</td>\n",
       "      <td>Allen, Mr. William Henry</td>\n",
       "      <td>male</td>\n",
       "      <td>35.0</td>\n",
       "      <td>0</td>\n",
       "      <td>0</td>\n",
       "      <td>373450</td>\n",
       "      <td>8.0500</td>\n",
       "      <td>NaN</td>\n",
       "      <td>S</td>\n",
       "    </tr>\n",
       "    <tr>\n",
       "      <th>...</th>\n",
       "      <td>...</td>\n",
       "      <td>...</td>\n",
       "      <td>...</td>\n",
       "      <td>...</td>\n",
       "      <td>...</td>\n",
       "      <td>...</td>\n",
       "      <td>...</td>\n",
       "      <td>...</td>\n",
       "      <td>...</td>\n",
       "      <td>...</td>\n",
       "      <td>...</td>\n",
       "      <td>...</td>\n",
       "    </tr>\n",
       "    <tr>\n",
       "      <th>886</th>\n",
       "      <td>887</td>\n",
       "      <td>0</td>\n",
       "      <td>2</td>\n",
       "      <td>Montvila, Rev. Juozas</td>\n",
       "      <td>male</td>\n",
       "      <td>27.0</td>\n",
       "      <td>0</td>\n",
       "      <td>0</td>\n",
       "      <td>211536</td>\n",
       "      <td>13.0000</td>\n",
       "      <td>NaN</td>\n",
       "      <td>S</td>\n",
       "    </tr>\n",
       "    <tr>\n",
       "      <th>887</th>\n",
       "      <td>888</td>\n",
       "      <td>1</td>\n",
       "      <td>1</td>\n",
       "      <td>Graham, Miss. Margaret Edith</td>\n",
       "      <td>female</td>\n",
       "      <td>19.0</td>\n",
       "      <td>0</td>\n",
       "      <td>0</td>\n",
       "      <td>112053</td>\n",
       "      <td>30.0000</td>\n",
       "      <td>B42</td>\n",
       "      <td>S</td>\n",
       "    </tr>\n",
       "    <tr>\n",
       "      <th>888</th>\n",
       "      <td>889</td>\n",
       "      <td>0</td>\n",
       "      <td>3</td>\n",
       "      <td>Johnston, Miss. Catherine Helen \"Carrie\"</td>\n",
       "      <td>female</td>\n",
       "      <td>NaN</td>\n",
       "      <td>1</td>\n",
       "      <td>2</td>\n",
       "      <td>W./C. 6607</td>\n",
       "      <td>23.4500</td>\n",
       "      <td>NaN</td>\n",
       "      <td>S</td>\n",
       "    </tr>\n",
       "    <tr>\n",
       "      <th>889</th>\n",
       "      <td>890</td>\n",
       "      <td>1</td>\n",
       "      <td>1</td>\n",
       "      <td>Behr, Mr. Karl Howell</td>\n",
       "      <td>male</td>\n",
       "      <td>26.0</td>\n",
       "      <td>0</td>\n",
       "      <td>0</td>\n",
       "      <td>111369</td>\n",
       "      <td>30.0000</td>\n",
       "      <td>C148</td>\n",
       "      <td>C</td>\n",
       "    </tr>\n",
       "    <tr>\n",
       "      <th>890</th>\n",
       "      <td>891</td>\n",
       "      <td>0</td>\n",
       "      <td>3</td>\n",
       "      <td>Dooley, Mr. Patrick</td>\n",
       "      <td>male</td>\n",
       "      <td>32.0</td>\n",
       "      <td>0</td>\n",
       "      <td>0</td>\n",
       "      <td>370376</td>\n",
       "      <td>7.7500</td>\n",
       "      <td>NaN</td>\n",
       "      <td>Q</td>\n",
       "    </tr>\n",
       "  </tbody>\n",
       "</table>\n",
       "<p>891 rows × 12 columns</p>\n",
       "</div>"
      ],
      "text/plain": [
       "     PassengerId  Survived  Pclass  \\\n",
       "0              1         0       3   \n",
       "1              2         1       1   \n",
       "2              3         1       3   \n",
       "3              4         1       1   \n",
       "4              5         0       3   \n",
       "..           ...       ...     ...   \n",
       "886          887         0       2   \n",
       "887          888         1       1   \n",
       "888          889         0       3   \n",
       "889          890         1       1   \n",
       "890          891         0       3   \n",
       "\n",
       "                                                  Name     Sex   Age  SibSp  \\\n",
       "0                              Braund, Mr. Owen Harris    male  22.0      1   \n",
       "1    Cumings, Mrs. John Bradley (Florence Briggs Th...  female  38.0      1   \n",
       "2                               Heikkinen, Miss. Laina  female  26.0      0   \n",
       "3         Futrelle, Mrs. Jacques Heath (Lily May Peel)  female  35.0      1   \n",
       "4                             Allen, Mr. William Henry    male  35.0      0   \n",
       "..                                                 ...     ...   ...    ...   \n",
       "886                              Montvila, Rev. Juozas    male  27.0      0   \n",
       "887                       Graham, Miss. Margaret Edith  female  19.0      0   \n",
       "888           Johnston, Miss. Catherine Helen \"Carrie\"  female   NaN      1   \n",
       "889                              Behr, Mr. Karl Howell    male  26.0      0   \n",
       "890                                Dooley, Mr. Patrick    male  32.0      0   \n",
       "\n",
       "     Parch            Ticket     Fare Cabin Embarked  \n",
       "0        0         A/5 21171   7.2500   NaN        S  \n",
       "1        0          PC 17599  71.2833   C85        C  \n",
       "2        0  STON/O2. 3101282   7.9250   NaN        S  \n",
       "3        0            113803  53.1000  C123        S  \n",
       "4        0            373450   8.0500   NaN        S  \n",
       "..     ...               ...      ...   ...      ...  \n",
       "886      0            211536  13.0000   NaN        S  \n",
       "887      0            112053  30.0000   B42        S  \n",
       "888      2        W./C. 6607  23.4500   NaN        S  \n",
       "889      0            111369  30.0000  C148        C  \n",
       "890      0            370376   7.7500   NaN        Q  \n",
       "\n",
       "[891 rows x 12 columns]"
      ]
     },
     "execution_count": 58,
     "metadata": {},
     "output_type": "execute_result"
    }
   ],
   "source": [
    "train_df = pandas.read_csv('./train.csv')\n",
    "\n",
    "train_df"
   ]
  },
  {
   "cell_type": "markdown",
   "metadata": {},
   "source": [
    "- 필요없는 변수 제거, 범주형 데이터 처리"
   ]
  },
  {
   "cell_type": "code",
   "execution_count": 59,
   "metadata": {},
   "outputs": [],
   "source": [
    "train_df = train_df.drop(['PassengerId', 'Name', 'SibSp', 'Parch', 'Ticket', 'Cabin', 'Embarked'], axis=1)\n",
    "\n",
    "train_df = pd.get_dummies(train_df, columns=['Sex', 'Pclass'], drop_first=True)"
   ]
  },
  {
   "cell_type": "code",
   "execution_count": 60,
   "metadata": {},
   "outputs": [
    {
     "data": {
      "text/html": [
       "<div>\n",
       "<style scoped>\n",
       "    .dataframe tbody tr th:only-of-type {\n",
       "        vertical-align: middle;\n",
       "    }\n",
       "\n",
       "    .dataframe tbody tr th {\n",
       "        vertical-align: top;\n",
       "    }\n",
       "\n",
       "    .dataframe thead th {\n",
       "        text-align: right;\n",
       "    }\n",
       "</style>\n",
       "<table border=\"1\" class=\"dataframe\">\n",
       "  <thead>\n",
       "    <tr style=\"text-align: right;\">\n",
       "      <th></th>\n",
       "      <th>Survived</th>\n",
       "      <th>Age</th>\n",
       "      <th>Fare</th>\n",
       "      <th>Sex_male</th>\n",
       "      <th>Pclass_2</th>\n",
       "      <th>Pclass_3</th>\n",
       "    </tr>\n",
       "  </thead>\n",
       "  <tbody>\n",
       "    <tr>\n",
       "      <th>0</th>\n",
       "      <td>0</td>\n",
       "      <td>22.0</td>\n",
       "      <td>7.2500</td>\n",
       "      <td>1</td>\n",
       "      <td>0</td>\n",
       "      <td>1</td>\n",
       "    </tr>\n",
       "    <tr>\n",
       "      <th>1</th>\n",
       "      <td>1</td>\n",
       "      <td>38.0</td>\n",
       "      <td>71.2833</td>\n",
       "      <td>0</td>\n",
       "      <td>0</td>\n",
       "      <td>0</td>\n",
       "    </tr>\n",
       "    <tr>\n",
       "      <th>2</th>\n",
       "      <td>1</td>\n",
       "      <td>26.0</td>\n",
       "      <td>7.9250</td>\n",
       "      <td>0</td>\n",
       "      <td>0</td>\n",
       "      <td>1</td>\n",
       "    </tr>\n",
       "    <tr>\n",
       "      <th>3</th>\n",
       "      <td>1</td>\n",
       "      <td>35.0</td>\n",
       "      <td>53.1000</td>\n",
       "      <td>0</td>\n",
       "      <td>0</td>\n",
       "      <td>0</td>\n",
       "    </tr>\n",
       "    <tr>\n",
       "      <th>4</th>\n",
       "      <td>0</td>\n",
       "      <td>35.0</td>\n",
       "      <td>8.0500</td>\n",
       "      <td>1</td>\n",
       "      <td>0</td>\n",
       "      <td>1</td>\n",
       "    </tr>\n",
       "    <tr>\n",
       "      <th>...</th>\n",
       "      <td>...</td>\n",
       "      <td>...</td>\n",
       "      <td>...</td>\n",
       "      <td>...</td>\n",
       "      <td>...</td>\n",
       "      <td>...</td>\n",
       "    </tr>\n",
       "    <tr>\n",
       "      <th>886</th>\n",
       "      <td>0</td>\n",
       "      <td>27.0</td>\n",
       "      <td>13.0000</td>\n",
       "      <td>1</td>\n",
       "      <td>1</td>\n",
       "      <td>0</td>\n",
       "    </tr>\n",
       "    <tr>\n",
       "      <th>887</th>\n",
       "      <td>1</td>\n",
       "      <td>19.0</td>\n",
       "      <td>30.0000</td>\n",
       "      <td>0</td>\n",
       "      <td>0</td>\n",
       "      <td>0</td>\n",
       "    </tr>\n",
       "    <tr>\n",
       "      <th>888</th>\n",
       "      <td>0</td>\n",
       "      <td>NaN</td>\n",
       "      <td>23.4500</td>\n",
       "      <td>0</td>\n",
       "      <td>0</td>\n",
       "      <td>1</td>\n",
       "    </tr>\n",
       "    <tr>\n",
       "      <th>889</th>\n",
       "      <td>1</td>\n",
       "      <td>26.0</td>\n",
       "      <td>30.0000</td>\n",
       "      <td>1</td>\n",
       "      <td>0</td>\n",
       "      <td>0</td>\n",
       "    </tr>\n",
       "    <tr>\n",
       "      <th>890</th>\n",
       "      <td>0</td>\n",
       "      <td>32.0</td>\n",
       "      <td>7.7500</td>\n",
       "      <td>1</td>\n",
       "      <td>0</td>\n",
       "      <td>1</td>\n",
       "    </tr>\n",
       "  </tbody>\n",
       "</table>\n",
       "<p>891 rows × 6 columns</p>\n",
       "</div>"
      ],
      "text/plain": [
       "     Survived   Age     Fare  Sex_male  Pclass_2  Pclass_3\n",
       "0           0  22.0   7.2500         1         0         1\n",
       "1           1  38.0  71.2833         0         0         0\n",
       "2           1  26.0   7.9250         0         0         1\n",
       "3           1  35.0  53.1000         0         0         0\n",
       "4           0  35.0   8.0500         1         0         1\n",
       "..        ...   ...      ...       ...       ...       ...\n",
       "886         0  27.0  13.0000         1         1         0\n",
       "887         1  19.0  30.0000         0         0         0\n",
       "888         0   NaN  23.4500         0         0         1\n",
       "889         1  26.0  30.0000         1         0         0\n",
       "890         0  32.0   7.7500         1         0         1\n",
       "\n",
       "[891 rows x 6 columns]"
      ]
     },
     "execution_count": 60,
     "metadata": {},
     "output_type": "execute_result"
    }
   ],
   "source": [
    "train_df"
   ]
  },
  {
   "cell_type": "markdown",
   "metadata": {},
   "source": [
    "- 데이터 관찰"
   ]
  },
  {
   "cell_type": "code",
   "execution_count": 61,
   "metadata": {},
   "outputs": [
    {
     "data": {
      "text/html": [
       "<div>\n",
       "<style scoped>\n",
       "    .dataframe tbody tr th:only-of-type {\n",
       "        vertical-align: middle;\n",
       "    }\n",
       "\n",
       "    .dataframe tbody tr th {\n",
       "        vertical-align: top;\n",
       "    }\n",
       "\n",
       "    .dataframe thead th {\n",
       "        text-align: right;\n",
       "    }\n",
       "</style>\n",
       "<table border=\"1\" class=\"dataframe\">\n",
       "  <thead>\n",
       "    <tr style=\"text-align: right;\">\n",
       "      <th></th>\n",
       "      <th>Survived</th>\n",
       "      <th>Age</th>\n",
       "      <th>Fare</th>\n",
       "      <th>Sex_male</th>\n",
       "      <th>Pclass_2</th>\n",
       "      <th>Pclass_3</th>\n",
       "    </tr>\n",
       "  </thead>\n",
       "  <tbody>\n",
       "    <tr>\n",
       "      <th>count</th>\n",
       "      <td>891.000000</td>\n",
       "      <td>714.000000</td>\n",
       "      <td>891.000000</td>\n",
       "      <td>891.000000</td>\n",
       "      <td>891.000000</td>\n",
       "      <td>891.000000</td>\n",
       "    </tr>\n",
       "    <tr>\n",
       "      <th>mean</th>\n",
       "      <td>0.383838</td>\n",
       "      <td>29.699118</td>\n",
       "      <td>32.204208</td>\n",
       "      <td>0.647587</td>\n",
       "      <td>0.206510</td>\n",
       "      <td>0.551066</td>\n",
       "    </tr>\n",
       "    <tr>\n",
       "      <th>std</th>\n",
       "      <td>0.486592</td>\n",
       "      <td>14.526497</td>\n",
       "      <td>49.693429</td>\n",
       "      <td>0.477990</td>\n",
       "      <td>0.405028</td>\n",
       "      <td>0.497665</td>\n",
       "    </tr>\n",
       "    <tr>\n",
       "      <th>min</th>\n",
       "      <td>0.000000</td>\n",
       "      <td>0.420000</td>\n",
       "      <td>0.000000</td>\n",
       "      <td>0.000000</td>\n",
       "      <td>0.000000</td>\n",
       "      <td>0.000000</td>\n",
       "    </tr>\n",
       "    <tr>\n",
       "      <th>25%</th>\n",
       "      <td>0.000000</td>\n",
       "      <td>20.125000</td>\n",
       "      <td>7.910400</td>\n",
       "      <td>0.000000</td>\n",
       "      <td>0.000000</td>\n",
       "      <td>0.000000</td>\n",
       "    </tr>\n",
       "    <tr>\n",
       "      <th>50%</th>\n",
       "      <td>0.000000</td>\n",
       "      <td>28.000000</td>\n",
       "      <td>14.454200</td>\n",
       "      <td>1.000000</td>\n",
       "      <td>0.000000</td>\n",
       "      <td>1.000000</td>\n",
       "    </tr>\n",
       "    <tr>\n",
       "      <th>75%</th>\n",
       "      <td>1.000000</td>\n",
       "      <td>38.000000</td>\n",
       "      <td>31.000000</td>\n",
       "      <td>1.000000</td>\n",
       "      <td>0.000000</td>\n",
       "      <td>1.000000</td>\n",
       "    </tr>\n",
       "    <tr>\n",
       "      <th>max</th>\n",
       "      <td>1.000000</td>\n",
       "      <td>80.000000</td>\n",
       "      <td>512.329200</td>\n",
       "      <td>1.000000</td>\n",
       "      <td>1.000000</td>\n",
       "      <td>1.000000</td>\n",
       "    </tr>\n",
       "  </tbody>\n",
       "</table>\n",
       "</div>"
      ],
      "text/plain": [
       "         Survived         Age        Fare    Sex_male    Pclass_2    Pclass_3\n",
       "count  891.000000  714.000000  891.000000  891.000000  891.000000  891.000000\n",
       "mean     0.383838   29.699118   32.204208    0.647587    0.206510    0.551066\n",
       "std      0.486592   14.526497   49.693429    0.477990    0.405028    0.497665\n",
       "min      0.000000    0.420000    0.000000    0.000000    0.000000    0.000000\n",
       "25%      0.000000   20.125000    7.910400    0.000000    0.000000    0.000000\n",
       "50%      0.000000   28.000000   14.454200    1.000000    0.000000    1.000000\n",
       "75%      1.000000   38.000000   31.000000    1.000000    0.000000    1.000000\n",
       "max      1.000000   80.000000  512.329200    1.000000    1.000000    1.000000"
      ]
     },
     "execution_count": 61,
     "metadata": {},
     "output_type": "execute_result"
    }
   ],
   "source": [
    "train_df.describe()"
   ]
  },
  {
   "cell_type": "code",
   "execution_count": 62,
   "metadata": {},
   "outputs": [
    {
     "data": {
      "text/html": [
       "<div>\n",
       "<style scoped>\n",
       "    .dataframe tbody tr th:only-of-type {\n",
       "        vertical-align: middle;\n",
       "    }\n",
       "\n",
       "    .dataframe tbody tr th {\n",
       "        vertical-align: top;\n",
       "    }\n",
       "\n",
       "    .dataframe thead th {\n",
       "        text-align: right;\n",
       "    }\n",
       "</style>\n",
       "<table border=\"1\" class=\"dataframe\">\n",
       "  <thead>\n",
       "    <tr style=\"text-align: right;\">\n",
       "      <th></th>\n",
       "      <th>Survived</th>\n",
       "      <th>Age</th>\n",
       "      <th>Fare</th>\n",
       "      <th>Sex_male</th>\n",
       "      <th>Pclass_2</th>\n",
       "      <th>Pclass_3</th>\n",
       "    </tr>\n",
       "  </thead>\n",
       "  <tbody>\n",
       "    <tr>\n",
       "      <th>Survived</th>\n",
       "      <td>1.000000</td>\n",
       "      <td>-0.077221</td>\n",
       "      <td>0.257307</td>\n",
       "      <td>-0.543351</td>\n",
       "      <td>0.093349</td>\n",
       "      <td>-0.322308</td>\n",
       "    </tr>\n",
       "    <tr>\n",
       "      <th>Age</th>\n",
       "      <td>-0.077221</td>\n",
       "      <td>1.000000</td>\n",
       "      <td>0.096067</td>\n",
       "      <td>0.093254</td>\n",
       "      <td>0.006954</td>\n",
       "      <td>-0.312271</td>\n",
       "    </tr>\n",
       "    <tr>\n",
       "      <th>Fare</th>\n",
       "      <td>0.257307</td>\n",
       "      <td>0.096067</td>\n",
       "      <td>1.000000</td>\n",
       "      <td>-0.182333</td>\n",
       "      <td>-0.118557</td>\n",
       "      <td>-0.413333</td>\n",
       "    </tr>\n",
       "    <tr>\n",
       "      <th>Sex_male</th>\n",
       "      <td>-0.543351</td>\n",
       "      <td>0.093254</td>\n",
       "      <td>-0.182333</td>\n",
       "      <td>1.000000</td>\n",
       "      <td>-0.064746</td>\n",
       "      <td>0.137143</td>\n",
       "    </tr>\n",
       "    <tr>\n",
       "      <th>Pclass_2</th>\n",
       "      <td>0.093349</td>\n",
       "      <td>0.006954</td>\n",
       "      <td>-0.118557</td>\n",
       "      <td>-0.064746</td>\n",
       "      <td>1.000000</td>\n",
       "      <td>-0.565210</td>\n",
       "    </tr>\n",
       "    <tr>\n",
       "      <th>Pclass_3</th>\n",
       "      <td>-0.322308</td>\n",
       "      <td>-0.312271</td>\n",
       "      <td>-0.413333</td>\n",
       "      <td>0.137143</td>\n",
       "      <td>-0.565210</td>\n",
       "      <td>1.000000</td>\n",
       "    </tr>\n",
       "  </tbody>\n",
       "</table>\n",
       "</div>"
      ],
      "text/plain": [
       "          Survived       Age      Fare  Sex_male  Pclass_2  Pclass_3\n",
       "Survived  1.000000 -0.077221  0.257307 -0.543351  0.093349 -0.322308\n",
       "Age      -0.077221  1.000000  0.096067  0.093254  0.006954 -0.312271\n",
       "Fare      0.257307  0.096067  1.000000 -0.182333 -0.118557 -0.413333\n",
       "Sex_male -0.543351  0.093254 -0.182333  1.000000 -0.064746  0.137143\n",
       "Pclass_2  0.093349  0.006954 -0.118557 -0.064746  1.000000 -0.565210\n",
       "Pclass_3 -0.322308 -0.312271 -0.413333  0.137143 -0.565210  1.000000"
      ]
     },
     "execution_count": 62,
     "metadata": {},
     "output_type": "execute_result"
    }
   ],
   "source": [
    "train_df.corr()"
   ]
  },
  {
   "attachments": {},
   "cell_type": "markdown",
   "metadata": {},
   "source": [
    "- Pclass_2와 Pclass_3은 어느정도의 상관관계가 있다 --> 범주형 데이터 나눈거니까 당연\n",
    "- Fare와 Pclass_3은 어느정도의 상관관계가 있다  --> 요금과 3등석은 당연히 반비례\n",
    "- Age와 Pclass_3은 어느정도의 상관관계가 있다 --> 나이와 3등석은 반비례\n",
    "- Survived와 Pclass_3은 어느정도의 상관관계가 있다 --> 생존율과 3등석은 반비례\n",
    "- Survived와 Sex_male은 어느정도의 상관관계가 있다 --> 생존율과 성별은 상관관계 있음"
   ]
  },
  {
   "cell_type": "code",
   "execution_count": 64,
   "metadata": {},
   "outputs": [
    {
     "data": {
      "text/plain": [
       "<matplotlib.image.AxesImage at 0x2a7170ee0b8>"
      ]
     },
     "execution_count": 64,
     "metadata": {},
     "output_type": "execute_result"
    },
    {
     "data": {
      "image/png": "[encoded data removed]",
      "text/plain": [
       "<Figure size 288x288 with 1 Axes>"
      ]
     },
     "metadata": {
      "needs_background": "light"
     },
     "output_type": "display_data"
    }
   ],
   "source": [
    "import matplotlib.pyplot as plt\n",
    "\n",
    "plt.matshow(train_df.corr())"
   ]
  },
  {
   "cell_type": "code",
   "execution_count": 65,
   "metadata": {},
   "outputs": [
    {
     "name": "stdout",
     "output_type": "stream",
     "text": [
      "<class 'pandas.core.frame.DataFrame'>\n",
      "RangeIndex: 891 entries, 0 to 890\n",
      "Data columns (total 6 columns):\n",
      " #   Column    Non-Null Count  Dtype  \n",
      "---  ------    --------------  -----  \n",
      " 0   Survived  891 non-null    int64  \n",
      " 1   Age       714 non-null    float64\n",
      " 2   Fare      891 non-null    float64\n",
      " 3   Sex_male  891 non-null    uint8  \n",
      " 4   Pclass_2  891 non-null    uint8  \n",
      " 5   Pclass_3  891 non-null    uint8  \n",
      "dtypes: float64(2), int64(1), uint8(3)\n",
      "memory usage: 23.6 KB\n"
     ]
    }
   ],
   "source": [
    "train_df.info()"
   ]
  },
  {
   "cell_type": "markdown",
   "metadata": {},
   "source": [
    "- 결측치를 평균값으로 채워줌"
   ]
  },
  {
   "cell_type": "code",
   "execution_count": 66,
   "metadata": {},
   "outputs": [],
   "source": [
    "mean_age = np.mean(train_df['Age'])\n",
    "train_df['Age'] = train_df['Age'].fillna(mean_age)"
   ]
  },
  {
   "cell_type": "code",
   "execution_count": 67,
   "metadata": {},
   "outputs": [
    {
     "name": "stdout",
     "output_type": "stream",
     "text": [
      "<class 'pandas.core.frame.DataFrame'>\n",
      "RangeIndex: 891 entries, 0 to 890\n",
      "Data columns (total 6 columns):\n",
      " #   Column    Non-Null Count  Dtype  \n",
      "---  ------    --------------  -----  \n",
      " 0   Survived  891 non-null    int64  \n",
      " 1   Age       891 non-null    float64\n",
      " 2   Fare      891 non-null    float64\n",
      " 3   Sex_male  891 non-null    uint8  \n",
      " 4   Pclass_2  891 non-null    uint8  \n",
      " 5   Pclass_3  891 non-null    uint8  \n",
      "dtypes: float64(2), int64(1), uint8(3)\n",
      "memory usage: 23.6 KB\n"
     ]
    }
   ],
   "source": [
    "train_df.info()"
   ]
  },
  {
   "cell_type": "markdown",
   "metadata": {},
   "source": [
    "- 독립변수 / 종속변수 나눔"
   ]
  },
  {
   "cell_type": "code",
   "execution_count": 68,
   "metadata": {},
   "outputs": [],
   "source": [
    "x = train_df.drop(['Survived'], axis=1)\n",
    "y = train_df['Survived']"
   ]
  },
  {
   "cell_type": "markdown",
   "metadata": {},
   "source": [
    "- train, test 나눔"
   ]
  },
  {
   "cell_type": "code",
   "execution_count": 69,
   "metadata": {},
   "outputs": [],
   "source": [
    "from sklearn.model_selection import train_test_split\n",
    "\n",
    "x_train, x_test, y_train, y_test = train_test_split(x, y, test_size=0.25, random_state=42)"
   ]
  },
  {
   "cell_type": "code",
   "execution_count": 70,
   "metadata": {},
   "outputs": [
    {
     "data": {
      "text/plain": [
       "((668, 5), (668,))"
      ]
     },
     "execution_count": 70,
     "metadata": {},
     "output_type": "execute_result"
    }
   ],
   "source": [
    "x_train.shape, y_train.shape"
   ]
  },
  {
   "cell_type": "code",
   "execution_count": 71,
   "metadata": {},
   "outputs": [
    {
     "data": {
      "text/plain": [
       "((223, 5), (223,))"
      ]
     },
     "execution_count": 71,
     "metadata": {},
     "output_type": "execute_result"
    }
   ],
   "source": [
    "x_test.shape, y_test.shape"
   ]
  },
  {
   "cell_type": "markdown",
   "metadata": {},
   "source": [
    "- multiple linear regression (logistic)"
   ]
  },
  {
   "cell_type": "code",
   "execution_count": 72,
   "metadata": {},
   "outputs": [
    {
     "data": {
      "text/plain": [
       "LogisticRegression()"
      ]
     },
     "execution_count": 72,
     "metadata": {},
     "output_type": "execute_result"
    }
   ],
   "source": [
    "from sklearn.linear_model import LogisticRegression\n",
    "\n",
    "reg = LogisticRegression()\n",
    "reg.fit(x_train, y_train)"
   ]
  },
  {
   "cell_type": "code",
   "execution_count": 73,
   "metadata": {},
   "outputs": [
    {
     "data": {
      "text/plain": [
       "0.7847533632286996"
      ]
     },
     "execution_count": 73,
     "metadata": {},
     "output_type": "execute_result"
    }
   ],
   "source": [
    "reg.score(x_test, y_test)  ## R-square"
   ]
  },
  {
   "cell_type": "code",
   "execution_count": 75,
   "metadata": {
    "scrolled": false
   },
   "outputs": [
    {
     "data": {
      "text/plain": [
       "0.21524663677130046"
      ]
     },
     "execution_count": 75,
     "metadata": {},
     "output_type": "execute_result"
    }
   ],
   "source": [
    "mean_squared_error(y_test, reg.predict(x_test))"
   ]
  },
  {
   "cell_type": "code",
   "execution_count": 146,
   "metadata": {},
   "outputs": [
    {
     "data": {
      "text/plain": [
       "0.7757847533632287"
      ]
     },
     "execution_count": 146,
     "metadata": {},
     "output_type": "execute_result"
    }
   ],
   "source": [
    "accuracy_score(y_test, pred_lasso_5)"
   ]
  },
  {
   "cell_type": "code",
   "execution_count": 110,
   "metadata": {},
   "outputs": [
    {
     "data": {
      "text/plain": [
       "array([[112,  22],\n",
       "       [ 26,  63]], dtype=int64)"
      ]
     },
     "execution_count": 110,
     "metadata": {},
     "output_type": "execute_result"
    }
   ],
   "source": [
    "confusion_matrix(y_test, reg.predict(x_test))\n",
    "\n",
    "# 실제 1을 1로 예측: 112개\n",
    "# 실제 1을 0으로 예측: 22개\n",
    "\n",
    "# 실제 0을 0으로 예측: 63개\n",
    "# 실제 0을 1로 예측: 26개"
   ]
  },
  {
   "cell_type": "code",
   "execution_count": 112,
   "metadata": {},
   "outputs": [
    {
     "data": {
      "text/plain": [
       "array([0, 0, 0, 1, 1, 1, 1, 0, 1, 1, 0, 0, 1, 0, 0, 1, 0, 1, 0, 0, 0, 0,\n",
       "       1, 0, 0, 0, 0, 0, 0, 1, 0, 1, 0, 1, 0, 0, 0, 1, 1, 0, 0, 0, 0, 0,\n",
       "       0, 0, 0, 0, 0, 0, 1, 1, 0, 1, 0, 1, 0, 1, 1, 1, 0, 1, 1, 0, 0, 1,\n",
       "       0, 0, 0, 1, 1, 1, 0, 1, 0, 0, 1, 1, 1, 0, 0, 1, 1, 0, 0, 0, 1, 1,\n",
       "       0, 0, 0, 1, 0, 0, 0, 0, 0, 0, 1, 0, 0, 0, 1, 0, 0, 0, 1, 0, 0, 0,\n",
       "       1, 0, 1, 0, 1, 0, 0, 0, 1, 0, 0, 1, 1, 0, 0, 0, 1, 0, 1, 0, 1, 0,\n",
       "       0, 1, 0, 1, 1, 0, 0, 1, 0, 1, 0, 0, 1, 1, 0, 0, 1, 0, 0, 0, 0, 1,\n",
       "       0, 0, 0, 1, 1, 1, 0, 0, 0, 1, 0, 0, 0, 1, 0, 0, 0, 1, 0, 1, 0, 0,\n",
       "       1, 1, 1, 0, 0, 0, 0, 1, 1, 0, 0, 0, 0, 1, 0, 0, 0, 0, 1, 1, 1, 0,\n",
       "       1, 1, 0, 1, 1, 0, 0, 1, 0, 0, 0, 0, 1, 0, 1, 0, 1, 0, 1, 0, 1, 0,\n",
       "       0, 1, 0], dtype=int64)"
      ]
     },
     "execution_count": 112,
     "metadata": {},
     "output_type": "execute_result"
    }
   ],
   "source": [
    "reg.predict(x_test)\n",
    "\n",
    "## sklearn 내부적으로 cutoff 통해 0~1사이의 값을 \n",
    "## 0~0.5는 0으로, 0.5~1은 1로 바꿔줌"
   ]
  },
  {
   "cell_type": "code",
   "execution_count": 105,
   "metadata": {},
   "outputs": [
    {
     "data": {
      "image/png": "[encoded data removed]",
      "text/plain": [
       "<Figure size 432x288 with 1 Axes>"
      ]
     },
     "metadata": {
      "needs_background": "light"
     },
     "output_type": "display_data"
    }
   ],
   "source": [
    "plt.scatter(y_test,reg.predict(x_test))\n",
    "plt.xlabel(\"real_value\")\n",
    "plt.ylabel(\"pred_value\")\n",
    "plt.show()\n",
    "\n",
    "## sklearn의 logistic_regression에서는 cut_off를 default로 0.5로 지정해놓음\n",
    "## 0 또는 1밖에 표시가 안됨"
   ]
  },
  {
   "cell_type": "markdown",
   "metadata": {},
   "source": [
    "- sklearn의 logistic regression에서 cutoff 지정 전... 즉, 연속적인 수로 결과값 그래프 그리기\n",
    "     - predict() 대신 predict_proba() 이용"
   ]
  },
  {
   "cell_type": "code",
   "execution_count": 106,
   "metadata": {},
   "outputs": [
    {
     "data": {
      "image/png": "[encoded data removed]",
      "text/plain": [
       "<Figure size 432x288 with 1 Axes>"
      ]
     },
     "metadata": {
      "needs_background": "light"
     },
     "output_type": "display_data"
    }
   ],
   "source": [
    "[data[0] for data in reg.predict_proba(x_test)]\n",
    "\n",
    "plt.scatter([data[1] for data in reg.predict_proba(x_test)], y_test)\n",
    "plt.plot([data[1] for data in reg.predict_proba(x_test)], y_test, linewidth=0.1)\n",
    "plt.xlabel(\"pred_probability_1\")\n",
    "plt.ylabel(\"real_class\")\n",
    "plt.show()\n",
    "\n",
    "## class=1일 확률이 0.5보다 작게 예측하면 실제값도 0인 경우가 대부분이고\n",
    "## class=1일 확률이 0.5보다 크게 예측하면 실제값도 1인 경우가 대부분이고\n",
    "## 이때의 정확도는 위에서 구했다시피 0.78로, 높은수준이다"
   ]
  },
  {
   "cell_type": "markdown",
   "metadata": {},
   "source": [
    "- 성능 평가 함수 만들기\n",
    "  "
   ]
  },
  {
   "cell_type": "code",
   "execution_count": 382,
   "metadata": {},
   "outputs": [],
   "source": [
    "def scoring(y, pred):\n",
    "    \n",
    "    print(\"MSE:\", mean_squared_error(y, pred),'\\n')\n",
    "    print(\"Accuracy: \", accuracy_score(y, pred),'\\n')\n",
    "    print('F1 Measure: ', f1_score(y,pred), '\\n')\n",
    "    print(\"confusion matrix\")\n",
    "    print(confusion_matrix(y, pred))\n",
    "    \n",
    "def scoring_roc(y, pred):\n",
    "    \n",
    "    fpr, tpr, thresholds = roc_curve(y, pred, pos_label=1)\n",
    "    plt.plot(fpr,tpr)\n",
    "    auc = np.trapz(tpr,fpr)\n",
    "    print('AUC:', auc)"
   ]
  },
  {
   "cell_type": "markdown",
   "metadata": {},
   "source": [
    "- Lasso classification\n",
    "    - Lasso만 하면 regression 되므로 cutoff 정해서 0과 1로 바꿔줘야함"
   ]
  },
  {
   "cell_type": "code",
   "execution_count": 383,
   "metadata": {},
   "outputs": [
    {
     "data": {
      "text/plain": [
       "Lasso(alpha=0.005)"
      ]
     },
     "execution_count": 383,
     "metadata": {},
     "output_type": "execute_result"
    }
   ],
   "source": [
    "from sklearn.linear_model import Lasso\n",
    "\n",
    "## alpha값을 너무 높이면 더 많은 변수가 0이 되고, 예측력이 떨어질 수 있으니 적당한 값을 넣어야 한다\n",
    "reg = Lasso(alpha = 0.005)\n",
    "reg.fit(x_train, y_train)"
   ]
  },
  {
   "cell_type": "code",
   "execution_count": 384,
   "metadata": {
    "scrolled": true
   },
   "outputs": [
    {
     "data": {
      "text/plain": [
       "array([-0.00354753,  0.00080377, -0.47870188, -0.00878255, -0.22382783])"
      ]
     },
     "execution_count": 384,
     "metadata": {},
     "output_type": "execute_result"
    }
   ],
   "source": [
    "reg.coef_"
   ]
  },
  {
   "cell_type": "code",
   "execution_count": 385,
   "metadata": {},
   "outputs": [
    {
     "data": {
      "text/plain": [
       "array([0.10391301, 0.31052883, 0.13243663, 0.89600375, 0.63508954,\n",
       "       0.87068872, 0.57658997, 0.15472474, 0.62518796, 0.85326976,\n",
       "       0.33226692, 0.04739646, 0.59083016, 0.09639873, 0.29480063,\n",
       "       0.87445518, 0.31409059, 0.57665363, 0.32672837, 0.2959075 ,\n",
       "       0.11822306, 0.32156935, 0.61462913, 0.13348154, 0.10331356,\n",
       "       0.18396725, 0.30122525, 0.31253826, 0.20525241, 0.57205881])"
      ]
     },
     "execution_count": 385,
     "metadata": {},
     "output_type": "execute_result"
    }
   ],
   "source": [
    "reg.predict(x_test)[:30]"
   ]
  },
  {
   "cell_type": "code",
   "execution_count": 386,
   "metadata": {},
   "outputs": [],
   "source": [
    "# 0.5 이상이면 1로, 아니면 0으로 판단함.\n",
    "def cut_off(y,threshold):\n",
    "    Y = y.copy() # copy함수를 사용하여 이전의 y값이 변화지 않게 함\n",
    "    Y[Y>threshold]=1\n",
    "    Y[Y<=threshold]=0\n",
    "    return(Y.astype(int))"
   ]
  },
  {
   "cell_type": "code",
   "execution_count": 387,
   "metadata": {},
   "outputs": [
    {
     "data": {
      "text/plain": [
       "array([0, 0, 0, 1, 1, 1, 1, 0, 1, 1, 0, 0, 1, 0, 0, 1, 0, 1, 0, 0, 0, 0,\n",
       "       1, 0, 0, 0, 0, 0, 0, 1, 0, 1, 0, 1, 0, 0, 0, 1, 1, 0, 0, 0, 0, 0,\n",
       "       1, 0, 0, 0, 0, 0, 1, 1, 0, 0, 0, 1, 0, 1, 1, 1, 0, 1, 1, 0, 0, 1,\n",
       "       0, 0, 0, 1, 1, 1, 0, 1, 0, 0, 1, 1, 1, 1, 0, 1, 1, 0, 0, 0, 1, 1,\n",
       "       0, 0, 0, 1, 0, 0, 0, 0, 0, 0, 1, 0, 0, 0, 1, 0, 0, 0, 1, 0, 0, 0,\n",
       "       1, 0, 1, 0, 0, 0, 0, 0, 1, 1, 0, 1, 1, 0, 0, 0, 1, 0, 1, 0, 1, 0,\n",
       "       0, 1, 0, 1, 1, 0, 0, 1, 0, 1, 0, 0, 1, 1, 0, 0, 1, 0, 0, 0, 0, 1,\n",
       "       0, 0, 0, 1, 1, 1, 0, 0, 0, 1, 0, 0, 0, 1, 0, 0, 0, 1, 0, 1, 0, 0,\n",
       "       1, 1, 1, 0, 0, 0, 0, 1, 1, 0, 0, 0, 0, 1, 0, 0, 0, 0, 1, 1, 1, 0,\n",
       "       1, 1, 0, 1, 1, 0, 0, 1, 0, 0, 0, 0, 0, 0, 1, 0, 1, 0, 1, 0, 1, 0,\n",
       "       0, 1, 0])"
      ]
     },
     "execution_count": 387,
     "metadata": {},
     "output_type": "execute_result"
    }
   ],
   "source": [
    "pred_lasso_5 = cut_off(reg.predict(x_test), 0.5)\n",
    "pred_lasso_5"
   ]
  },
  {
   "cell_type": "code",
   "execution_count": 388,
   "metadata": {},
   "outputs": [
    {
     "name": "stdout",
     "output_type": "stream",
     "text": [
      "MSE: 0.2242152466367713 \n",
      "\n",
      "Accuracy:  0.7757847533632287 \n",
      "\n",
      "F1 Measure:  0.7126436781609194 \n",
      "\n",
      "confusion matrix\n",
      "[[111  23]\n",
      " [ 27  62]]\n"
     ]
    }
   ],
   "source": [
    "scoring(y_test, pred_lasso_5)"
   ]
  },
  {
   "cell_type": "code",
   "execution_count": 389,
   "metadata": {},
   "outputs": [
    {
     "name": "stdout",
     "output_type": "stream",
     "text": [
      "AUC: 0.8623176253563645\n"
     ]
    },
    {
     "data": {
      "image/png": "[encoded data removed]",
      "text/plain": [
       "<Figure size 432x288 with 1 Axes>"
      ]
     },
     "metadata": {
      "needs_background": "light"
     },
     "output_type": "display_data"
    }
   ],
   "source": [
    "scoring_roc(y_test, reg.predict(x_test))"
   ]
  },
  {
   "cell_type": "markdown",
   "metadata": {},
   "source": [
    "- cutoff 바꿔가면서 성능 측정해보기\n",
    "    - 실험 결과, cutoff=0.6 일때 가장 성능이 좋다"
   ]
  },
  {
   "cell_type": "code",
   "execution_count": 390,
   "metadata": {
    "scrolled": true
   },
   "outputs": [
    {
     "data": {
      "text/plain": [
       "array([0.3, 0.4, 0.5, 0.6, 0.7])"
      ]
     },
     "execution_count": 390,
     "metadata": {},
     "output_type": "execute_result"
    }
   ],
   "source": [
    "cutoffs = np.arange(0.3,0.8,0.1)\n",
    "cutoffs"
   ]
  },
  {
   "cell_type": "code",
   "execution_count": 391,
   "metadata": {},
   "outputs": [
    {
     "name": "stdout",
     "output_type": "stream",
     "text": [
      "-----------------\n",
      "cut_off =  0.3\n",
      "MSE: 0.2556053811659193 \n",
      "\n",
      "Accuracy:  0.7443946188340808 \n",
      "\n",
      "F1 Measure:  0.7323943661971831 \n",
      "\n",
      "confusion matrix\n",
      "[[88 46]\n",
      " [11 78]]\n",
      "None\n",
      "-----------------\n",
      "cut_off =  0.4\n",
      "MSE: 0.21973094170403587 \n",
      "\n",
      "Accuracy:  0.7802690582959642 \n",
      "\n",
      "F1 Measure:  0.7262569832402235 \n",
      "\n",
      "confusion matrix\n",
      "[[109  25]\n",
      " [ 24  65]]\n",
      "None\n",
      "-----------------\n",
      "cut_off =  0.5\n",
      "MSE: 0.2242152466367713 \n",
      "\n",
      "Accuracy:  0.7757847533632287 \n",
      "\n",
      "F1 Measure:  0.7126436781609194 \n",
      "\n",
      "confusion matrix\n",
      "[[111  23]\n",
      " [ 27  62]]\n",
      "None\n",
      "-----------------\n",
      "cut_off =  0.6000000000000001\n",
      "MSE: 0.20179372197309417 \n",
      "\n",
      "Accuracy:  0.7982062780269058 \n",
      "\n",
      "F1 Measure:  0.7058823529411764 \n",
      "\n",
      "confusion matrix\n",
      "[[124  10]\n",
      " [ 35  54]]\n",
      "None\n",
      "-----------------\n",
      "cut_off =  0.7000000000000002\n",
      "MSE: 0.21524663677130046 \n",
      "\n",
      "Accuracy:  0.7847533632286996 \n",
      "\n",
      "F1 Measure:  0.6521739130434783 \n",
      "\n",
      "confusion matrix\n",
      "[[130   4]\n",
      " [ 44  45]]\n",
      "None\n"
     ]
    }
   ],
   "source": [
    "pred_lasso_cutoffs = [cut_off(reg.predict(x_test), i) for i in cutoffs]\n",
    "\n",
    "for idx, pred in enumerate(pred_lasso_cutoffs):\n",
    "    print(\"-----------------\")\n",
    "    print(\"cut_off = \",cutoffs[idx])\n",
    "    print(scoring(y_test, pred))\n"
   ]
  },
  {
   "cell_type": "markdown",
   "metadata": {},
   "source": [
    "- ridge classification"
   ]
  },
  {
   "cell_type": "code",
   "execution_count": 392,
   "metadata": {},
   "outputs": [
    {
     "data": {
      "text/plain": [
       "Ridge(alpha=0.005)"
      ]
     },
     "execution_count": 392,
     "metadata": {},
     "output_type": "execute_result"
    }
   ],
   "source": [
    "from sklearn.linear_model import Ridge\n",
    "\n",
    "reg = Ridge(alpha=0.005)\n",
    "reg.fit(x_train, y_train)"
   ]
  },
  {
   "cell_type": "code",
   "execution_count": 393,
   "metadata": {},
   "outputs": [
    {
     "data": {
      "text/plain": [
       "array([-4.27755245e-03,  3.38799764e-04, -5.00091827e-01, -1.11816996e-01,\n",
       "       -3.15834740e-01])"
      ]
     },
     "execution_count": 393,
     "metadata": {},
     "output_type": "execute_result"
    }
   ],
   "source": [
    "reg.coef_"
   ]
  },
  {
   "cell_type": "code",
   "execution_count": 394,
   "metadata": {},
   "outputs": [
    {
     "name": "stdout",
     "output_type": "stream",
     "text": [
      "MSE: 0.21973094170403587 \n",
      "\n",
      "Accuracy:  0.7802690582959642 \n",
      "\n",
      "F1 Measure:  0.7199999999999999 \n",
      "\n",
      "confusion matrix\n",
      "[[111  23]\n",
      " [ 26  63]]\n"
     ]
    }
   ],
   "source": [
    "pred_ridge_5 = cut_off(reg.predict(x_test), 0.5)\n",
    "\n",
    "scoring(y_test, pred_ridge_5)\n"
   ]
  },
  {
   "cell_type": "code",
   "execution_count": 395,
   "metadata": {},
   "outputs": [
    {
     "name": "stdout",
     "output_type": "stream",
     "text": [
      "AUC: 0.8683548549387893\n"
     ]
    },
    {
     "data": {
      "image/png": "[encoded data removed]",
      "text/plain": [
       "<Figure size 432x288 with 1 Axes>"
      ]
     },
     "metadata": {
      "needs_background": "light"
     },
     "output_type": "display_data"
    }
   ],
   "source": [
    "scoring_roc(y_test, reg.predict(x_test))"
   ]
  },
  {
   "cell_type": "markdown",
   "metadata": {},
   "source": [
    "- elastic_net classification"
   ]
  },
  {
   "cell_type": "code",
   "execution_count": 396,
   "metadata": {},
   "outputs": [
    {
     "data": {
      "text/plain": [
       "ElasticNet(alpha=0.005)"
      ]
     },
     "execution_count": 396,
     "metadata": {},
     "output_type": "execute_result"
    }
   ],
   "source": [
    "from sklearn.linear_model import ElasticNet\n",
    "\n",
    "reg = ElasticNet(alpha=0.005)\n",
    "reg.fit(x_train, y_train)"
   ]
  },
  {
   "cell_type": "code",
   "execution_count": 397,
   "metadata": {},
   "outputs": [
    {
     "data": {
      "text/plain": [
       "array([-0.0038673 ,  0.00061453, -0.48401861, -0.05325071, -0.26229214])"
      ]
     },
     "execution_count": 397,
     "metadata": {},
     "output_type": "execute_result"
    }
   ],
   "source": [
    "reg.coef_"
   ]
  },
  {
   "cell_type": "code",
   "execution_count": 398,
   "metadata": {},
   "outputs": [
    {
     "name": "stdout",
     "output_type": "stream",
     "text": [
      "MSE: 0.2242152466367713 \n",
      "\n",
      "Accuracy:  0.7757847533632287 \n",
      "\n",
      "F1 Measure:  0.7126436781609194 \n",
      "\n",
      "confusion matrix\n",
      "[[111  23]\n",
      " [ 27  62]]\n"
     ]
    }
   ],
   "source": [
    "pred_elastic_5 = cut_off(reg.predict(x_test), 0.5)\n",
    "scoring(y_test, pred_elastic_5)"
   ]
  },
  {
   "cell_type": "code",
   "execution_count": 399,
   "metadata": {},
   "outputs": [
    {
     "name": "stdout",
     "output_type": "stream",
     "text": [
      "AUC: 0.7624937112191851\n"
     ]
    },
    {
     "data": {
      "image/png": "[encoded data removed]",
      "text/plain": [
       "<Figure size 432x288 with 1 Axes>"
      ]
     },
     "metadata": {
      "needs_background": "light"
     },
     "output_type": "display_data"
    }
   ],
   "source": [
    "scoring_roc(y_test, pred_elastic_5)\n",
    "\n",
    "# 0,1 범주 자체로 한것..."
   ]
  },
  {
   "cell_type": "code",
   "execution_count": 400,
   "metadata": {
    "scrolled": true
   },
   "outputs": [
    {
     "name": "stdout",
     "output_type": "stream",
     "text": [
      "AUC: 0.866761697132316\n"
     ]
    },
    {
     "data": {
      "image/png": "[encoded data removed]",
      "text/plain": [
       "<Figure size 432x288 with 1 Axes>"
      ]
     },
     "metadata": {
      "needs_background": "light"
     },
     "output_type": "display_data"
    }
   ],
   "source": [
    "scoring_roc(y_test, reg.predict(x_test))"
   ]
  },
  {
   "cell_type": "markdown",
   "metadata": {},
   "source": [
    "- PCA"
   ]
  },
  {
   "cell_type": "code",
   "execution_count": 401,
   "metadata": {},
   "outputs": [
    {
     "data": {
      "text/plain": [
       "PCA(n_components=5)"
      ]
     },
     "execution_count": 401,
     "metadata": {},
     "output_type": "execute_result"
    }
   ],
   "source": [
    "from sklearn.decomposition import PCA\n",
    "\n",
    "pca = PCA(n_components=5)\n",
    "pca.fit(x)"
   ]
  },
  {
   "cell_type": "code",
   "execution_count": 402,
   "metadata": {},
   "outputs": [
    {
     "data": {
      "text/plain": [
       "array([[ 2.56949338e-02,  9.99659205e-01, -1.74687834e-03,\n",
       "        -9.64858383e-04, -4.15465876e-03],\n",
       "       [ 9.99618516e-01, -2.57253260e-02,  3.78857078e-03,\n",
       "         5.80003356e-04, -9.29200231e-03],\n",
       "       [-6.01371555e-03, -2.71028222e-03, -2.86484087e-01,\n",
       "         6.35952525e-01, -7.16552680e-01],\n",
       "       [ 5.66965100e-03, -1.13369622e-03, -9.58059126e-01,\n",
       "        -1.94583396e-01,  2.10301172e-01],\n",
       "       [ 5.85525697e-03,  3.32416250e-03, -5.67225535e-03,\n",
       "         7.46793426e-01,  6.64997798e-01]])"
      ]
     },
     "execution_count": 402,
     "metadata": {},
     "output_type": "execute_result"
    }
   ],
   "source": [
    "pca.components_\n",
    "# eigen vector"
   ]
  },
  {
   "cell_type": "code",
   "execution_count": 403,
   "metadata": {},
   "outputs": [
    {
     "data": {
      "text/plain": [
       "array([2.47100989e+03, 1.67548756e+02, 3.07903022e-01, 2.10547635e-01,\n",
       "       5.23432669e-02])"
      ]
     },
     "execution_count": 403,
     "metadata": {},
     "output_type": "execute_result"
    }
   ],
   "source": [
    "pca.explained_variance_\n",
    "# eigen value"
   ]
  },
  {
   "cell_type": "markdown",
   "metadata": {},
   "source": [
    "- eigen value 보니까 차원 2개로 축소해주면 좋을듯"
   ]
  },
  {
   "cell_type": "code",
   "execution_count": 404,
   "metadata": {},
   "outputs": [
    {
     "data": {
      "text/plain": [
       "array([[-25.14581356,  -7.05718155],\n",
       "       [ 39.28268471,   7.29494062],\n",
       "       [-24.36651698,  -3.07986065],\n",
       "       [ 21.02849668,   4.76385639],\n",
       "       [-24.01205206,   5.91727889]])"
      ]
     },
     "execution_count": 404,
     "metadata": {},
     "output_type": "execute_result"
    }
   ],
   "source": [
    "pcScore = pca.transform(x)[:,0:2]\n",
    "pcScore[:5]"
   ]
  },
  {
   "cell_type": "code",
   "execution_count": 405,
   "metadata": {},
   "outputs": [
    {
     "data": {
      "image/png": "[encoded data removed]",
      "text/plain": [
       "<Figure size 432x288 with 1 Axes>"
      ]
     },
     "metadata": {
      "needs_background": "light"
     },
     "output_type": "display_data"
    }
   ],
   "source": [
    "plt.scatter(pcScore[:,0],pcScore[:,1])\n",
    "plt.show()"
   ]
  },
  {
   "cell_type": "markdown",
   "metadata": {},
   "source": [
    "- PCA 결과 나온 데이터를 logistic regression으로 돌려보자\n",
    "    - 변수 안그래도 몇개 없는데 확 줄이니까 당연히 성능 나빠짐\n",
    "   "
   ]
  },
  {
   "cell_type": "code",
   "execution_count": 406,
   "metadata": {},
   "outputs": [],
   "source": [
    "x_train_pca, x_test_pca, y_train, y_test = train_test_split(pcScore, y, test_size=0.25, random_state=42)"
   ]
  },
  {
   "cell_type": "code",
   "execution_count": 407,
   "metadata": {},
   "outputs": [
    {
     "data": {
      "text/plain": [
       "LogisticRegression()"
      ]
     },
     "execution_count": 407,
     "metadata": {},
     "output_type": "execute_result"
    }
   ],
   "source": [
    "pca_logi_reg = LogisticRegression()\n",
    "pca_logi_reg.fit(x_train_pca, y_train)"
   ]
  },
  {
   "cell_type": "code",
   "execution_count": 408,
   "metadata": {},
   "outputs": [
    {
     "name": "stdout",
     "output_type": "stream",
     "text": [
      "MSE: 0.336322869955157 \n",
      "\n",
      "Accuracy:  0.6636771300448431 \n",
      "\n",
      "F1 Measure:  0.3589743589743589 \n",
      "\n",
      "confusion matrix\n",
      "[[127   7]\n",
      " [ 68  21]]\n"
     ]
    }
   ],
   "source": [
    "scoring(y_test, pca_logi_reg.predict(x_test_pca))"
   ]
  },
  {
   "cell_type": "code",
   "execution_count": 409,
   "metadata": {
    "scrolled": true
   },
   "outputs": [
    {
     "name": "stdout",
     "output_type": "stream",
     "text": [
      "AUC: 0.7603555257420762\n"
     ]
    },
    {
     "data": {
      "image/png": "[encoded data removed]",
      "text/plain": [
       "<Figure size 432x288 with 1 Axes>"
      ]
     },
     "metadata": {
      "needs_background": "light"
     },
     "output_type": "display_data"
    }
   ],
   "source": [
    "scoring_roc(y_test, np.array([i[1] for i in pca_logi_reg.predict_proba(x_test_pca)]))"
   ]
  },
  {
   "cell_type": "markdown",
   "metadata": {},
   "source": [
    "- KNN"
   ]
  },
  {
   "cell_type": "code",
   "execution_count": 410,
   "metadata": {},
   "outputs": [
    {
     "data": {
      "text/plain": [
       "KNeighborsClassifier(n_neighbors=38, weights='distance')"
      ]
     },
     "execution_count": 410,
     "metadata": {},
     "output_type": "execute_result"
    }
   ],
   "source": [
    "from sklearn import neighbors\n",
    "\n",
    "clf = neighbors.KNeighborsClassifier(n_neighbors=38, weights='distance') ## 거리에 반비례하는 가중치\n",
    "clf.fit(x_train, y_train)"
   ]
  },
  {
   "cell_type": "code",
   "execution_count": 411,
   "metadata": {},
   "outputs": [
    {
     "name": "stdout",
     "output_type": "stream",
     "text": [
      "MSE: 0.2825112107623318 \n",
      "\n",
      "Accuracy:  0.7174887892376681 \n",
      "\n",
      "F1 Measure:  0.588235294117647 \n",
      "\n",
      "confusion matrix\n",
      "[[115  19]\n",
      " [ 44  45]]\n"
     ]
    }
   ],
   "source": [
    "scoring(y_test, clf.predict(x_test))"
   ]
  },
  {
   "cell_type": "markdown",
   "metadata": {},
   "source": [
    "- KNN.... 가장 좋은 k 찾기\n",
    "    - k=37, 38정도일 때 가장 좋음"
   ]
  },
  {
   "cell_type": "code",
   "execution_count": 412,
   "metadata": {},
   "outputs": [
    {
     "data": {
      "image/png": "[encoded data removed]",
      "text/plain": [
       "<Figure size 432x288 with 1 Axes>"
      ]
     },
     "metadata": {
      "needs_background": "light"
     },
     "output_type": "display_data"
    }
   ],
   "source": [
    "k_scores = []\n",
    "k_range = range(1,100)\n",
    "for i in k_range:\n",
    "    clf = neighbors.KNeighborsClassifier(n_neighbors=i, weights='distance') ## 거리에 반비례하는 가중치\n",
    "    clf.fit(x_train, y_train)\n",
    "    k_scores.append(accuracy_score(y_test, clf.predict(x_test)))\n",
    "    \n",
    "plt.plot(k_range, k_scores)\n",
    "plt.xlabel('k')\n",
    "plt.ylabel('accuracy')\n",
    "plt.show()"
   ]
  },
  {
   "cell_type": "markdown",
   "metadata": {},
   "source": [
    "- KNN with k-fold cross validation"
   ]
  },
  {
   "cell_type": "code",
   "execution_count": 413,
   "metadata": {},
   "outputs": [],
   "source": [
    "from sklearn.model_selection import cross_val_score"
   ]
  },
  {
   "cell_type": "code",
   "execution_count": 414,
   "metadata": {},
   "outputs": [
    {
     "data": {
      "text/plain": [
       "0.7714141414141414"
      ]
     },
     "execution_count": 414,
     "metadata": {},
     "output_type": "execute_result"
    }
   ],
   "source": [
    "clf = neighbors.KNeighborsClassifier(n_neighbors=5, weights='distance')\n",
    "scores = cross_val_score(clf, x_test, y_test, scoring='accuracy') ## 여기서 바로 fitting\n",
    "scores.mean()"
   ]
  },
  {
   "cell_type": "markdown",
   "metadata": {},
   "source": [
    "- LDA"
   ]
  },
  {
   "cell_type": "code",
   "execution_count": 415,
   "metadata": {},
   "outputs": [],
   "source": [
    "from sklearn.discriminant_analysis import LinearDiscriminantAnalysis"
   ]
  },
  {
   "cell_type": "code",
   "execution_count": 416,
   "metadata": {},
   "outputs": [
    {
     "data": {
      "text/plain": [
       "LinearDiscriminantAnalysis()"
      ]
     },
     "execution_count": 416,
     "metadata": {},
     "output_type": "execute_result"
    }
   ],
   "source": [
    "clf = LinearDiscriminantAnalysis()\n",
    "clf.fit(x_train, y_train)"
   ]
  },
  {
   "cell_type": "code",
   "execution_count": 417,
   "metadata": {},
   "outputs": [
    {
     "name": "stdout",
     "output_type": "stream",
     "text": [
      "MSE: 0.21973094170403587 \n",
      "\n",
      "Accuracy:  0.7802690582959642 \n",
      "\n",
      "F1 Measure:  0.7199999999999999 \n",
      "\n",
      "confusion matrix\n",
      "[[111  23]\n",
      " [ 26  63]]\n"
     ]
    }
   ],
   "source": [
    "scoring(y_test, clf.predict(x_test))"
   ]
  },
  {
   "cell_type": "code",
   "execution_count": 418,
   "metadata": {},
   "outputs": [
    {
     "name": "stdout",
     "output_type": "stream",
     "text": [
      "AUC: 0.8683548549387893\n"
     ]
    },
    {
     "data": {
      "image/png": "[encoded data removed]",
      "text/plain": [
       "<Figure size 432x288 with 1 Axes>"
      ]
     },
     "metadata": {
      "needs_background": "light"
     },
     "output_type": "display_data"
    }
   ],
   "source": [
    "scoring_roc(y_test, np.array([i[1] for i in clf.predict_proba(x_test)]))"
   ]
  },
  {
   "cell_type": "markdown",
   "metadata": {},
   "source": [
    "- QDA"
   ]
  },
  {
   "cell_type": "code",
   "execution_count": 419,
   "metadata": {},
   "outputs": [
    {
     "data": {
      "text/plain": [
       "QuadraticDiscriminantAnalysis()"
      ]
     },
     "execution_count": 419,
     "metadata": {},
     "output_type": "execute_result"
    }
   ],
   "source": [
    "from sklearn.discriminant_analysis import QuadraticDiscriminantAnalysis\n",
    "\n",
    "clf = QuadraticDiscriminantAnalysis()\n",
    "clf.fit(x_train, y_train)"
   ]
  },
  {
   "cell_type": "code",
   "execution_count": 420,
   "metadata": {},
   "outputs": [
    {
     "name": "stdout",
     "output_type": "stream",
     "text": [
      "MSE: 0.21973094170403587 \n",
      "\n",
      "Accuracy:  0.7802690582959642 \n",
      "\n",
      "F1 Measure:  0.6754966887417219 \n",
      "\n",
      "confusion matrix\n",
      "[[123  11]\n",
      " [ 38  51]]\n"
     ]
    }
   ],
   "source": [
    "scoring(y_test, clf.predict(x_test))"
   ]
  },
  {
   "cell_type": "code",
   "execution_count": 421,
   "metadata": {},
   "outputs": [
    {
     "data": {
      "text/plain": [
       "array([[0.9741631 , 0.0258369 ],\n",
       "       [0.9316019 , 0.0683981 ],\n",
       "       [0.95912236, 0.04087764],\n",
       "       [0.02319483, 0.97680517],\n",
       "       [0.5414873 , 0.4585127 ],\n",
       "       [0.02994364, 0.97005636],\n",
       "       [0.56853153, 0.43146847],\n",
       "       [0.9509181 , 0.0490819 ],\n",
       "       [0.53521288, 0.46478712],\n",
       "       [0.00935259, 0.99064741]])"
      ]
     },
     "execution_count": 421,
     "metadata": {},
     "output_type": "execute_result"
    }
   ],
   "source": [
    "clf.predict_proba(x_test)[:10]"
   ]
  },
  {
   "cell_type": "code",
   "execution_count": 422,
   "metadata": {},
   "outputs": [
    {
     "name": "stdout",
     "output_type": "stream",
     "text": [
      "AUC: 0.8452121415394935\n"
     ]
    },
    {
     "data": {
      "image/png": "[encoded data removed]",
      "text/plain": [
       "<Figure size 432x288 with 1 Axes>"
      ]
     },
     "metadata": {
      "needs_background": "light"
     },
     "output_type": "display_data"
    }
   ],
   "source": [
    "scoring_roc(y_test, np.array([i[1] for i in clf.predict_proba(x_test)]))"
   ]
  },
  {
   "cell_type": "markdown",
   "metadata": {},
   "source": [
    "SVM"
   ]
  },
  {
   "cell_type": "code",
   "execution_count": 423,
   "metadata": {},
   "outputs": [],
   "source": [
    "from sklearn import svm\n"
   ]
  },
  {
   "cell_type": "code",
   "execution_count": 424,
   "metadata": {},
   "outputs": [
    {
     "name": "stderr",
     "output_type": "stream",
     "text": [
      "C:\\Users\\Jang\\Anaconda3\\lib\\site-packages\\sklearn\\svm\\_base.py:977: ConvergenceWarning: Liblinear failed to converge, increase the number of iterations.\n",
      "  \"the number of iterations.\", ConvergenceWarning)\n"
     ]
    },
    {
     "data": {
      "text/plain": [
       "SVC(kernel='sigmoid')"
      ]
     },
     "execution_count": 424,
     "metadata": {},
     "output_type": "execute_result"
    }
   ],
   "source": [
    "linear_svm = svm.LinearSVC() # linear -> 커널 사용안함\n",
    "poly_svm = svm.SVC(kernel='poly', gamma='scale')  # gamma=scale이 default\n",
    "rbf_svm = svm.SVC(kernel='rbf') ## kernel='rbf'가 default\n",
    "sigmoid_svm = svm.SVC(kernel='sigmoid')\n",
    "\n",
    "linear_svm.fit(x_train, y_train)\n",
    "poly_svm.fit(x_train, y_train)\n",
    "rbf_svm.fit(x_train, y_train)\n",
    "sigmoid_svm.fit(x_train, y_train)"
   ]
  },
  {
   "cell_type": "code",
   "execution_count": 425,
   "metadata": {},
   "outputs": [
    {
     "name": "stdout",
     "output_type": "stream",
     "text": [
      "MSE: 0.21973094170403587 \n",
      "\n",
      "Accuracy:  0.7802690582959642 \n",
      "\n",
      "F1 Measure:  0.6918238993710691 \n",
      "\n",
      "confusion matrix\n",
      "[[119  15]\n",
      " [ 34  55]]\n"
     ]
    }
   ],
   "source": [
    "scoring(y_test, linear_svm.predict(x_test))"
   ]
  },
  {
   "cell_type": "code",
   "execution_count": 426,
   "metadata": {},
   "outputs": [
    {
     "name": "stdout",
     "output_type": "stream",
     "text": [
      "MSE: 0.3811659192825112 \n",
      "\n",
      "Accuracy:  0.6188340807174888 \n",
      "\n",
      "F1 Measure:  0.15841584158415842 \n",
      "\n",
      "confusion matrix\n",
      "[[130   4]\n",
      " [ 81   8]]\n"
     ]
    }
   ],
   "source": [
    "scoring(y_test, poly_svm.predict(x_test))"
   ]
  },
  {
   "cell_type": "code",
   "execution_count": 427,
   "metadata": {},
   "outputs": [
    {
     "name": "stdout",
     "output_type": "stream",
     "text": [
      "MSE: 0.34080717488789236 \n",
      "\n",
      "Accuracy:  0.6591928251121076 \n",
      "\n",
      "F1 Measure:  0.36666666666666664 \n",
      "\n",
      "confusion matrix\n",
      "[[125   9]\n",
      " [ 67  22]]\n"
     ]
    }
   ],
   "source": [
    "scoring(y_test, rbf_svm.predict(x_test))"
   ]
  },
  {
   "cell_type": "code",
   "execution_count": 428,
   "metadata": {},
   "outputs": [
    {
     "name": "stdout",
     "output_type": "stream",
     "text": [
      "MSE: 0.40358744394618834 \n",
      "\n",
      "Accuracy:  0.5964125560538116 \n",
      "\n",
      "F1 Measure:  0.4943820224719101 \n",
      "\n",
      "confusion matrix\n",
      "[[89 45]\n",
      " [45 44]]\n"
     ]
    }
   ],
   "source": [
    "scoring(y_test, sigmoid_svm.predict(x_test))"
   ]
  },
  {
   "cell_type": "markdown",
   "metadata": {},
   "source": [
    "- decision tree"
   ]
  },
  {
   "cell_type": "code",
   "execution_count": 429,
   "metadata": {},
   "outputs": [
    {
     "data": {
      "text/plain": [
       "DecisionTreeClassifier(criterion='entropy')"
      ]
     },
     "execution_count": 429,
     "metadata": {},
     "output_type": "execute_result"
    }
   ],
   "source": [
    "from sklearn import tree\n",
    "\n",
    "clf = tree.DecisionTreeClassifier(criterion='gini')\n",
    "clf2 = tree.DecisionTreeClassifier(criterion='entropy')\n",
    "\n",
    "clf.fit(x_train, y_train)\n",
    "clf2.fit(x_train, y_train)"
   ]
  },
  {
   "cell_type": "code",
   "execution_count": 430,
   "metadata": {},
   "outputs": [
    {
     "name": "stdout",
     "output_type": "stream",
     "text": [
      "MSE: 0.242152466367713 \n",
      "\n",
      "Accuracy:  0.757847533632287 \n",
      "\n",
      "F1 Measure:  0.6823529411764707 \n",
      "\n",
      "confusion matrix\n",
      "[[111  23]\n",
      " [ 31  58]]\n"
     ]
    }
   ],
   "source": [
    "scoring(y_test, clf.predict(x_test))"
   ]
  },
  {
   "cell_type": "code",
   "execution_count": 431,
   "metadata": {},
   "outputs": [
    {
     "name": "stdout",
     "output_type": "stream",
     "text": [
      "MSE: 0.25112107623318386 \n",
      "\n",
      "Accuracy:  0.7488789237668162 \n",
      "\n",
      "F1 Measure:  0.6744186046511629 \n",
      "\n",
      "confusion matrix\n",
      "[[109  25]\n",
      " [ 31  58]]\n"
     ]
    }
   ],
   "source": [
    "scoring(y_test, clf2.predict(x_test))"
   ]
  },
  {
   "cell_type": "markdown",
   "metadata": {},
   "source": [
    "- neural network"
   ]
  },
  {
   "cell_type": "code",
   "execution_count": 432,
   "metadata": {},
   "outputs": [
    {
     "data": {
      "text/plain": [
       "MLPClassifier()"
      ]
     },
     "execution_count": 432,
     "metadata": {},
     "output_type": "execute_result"
    }
   ],
   "source": [
    "from sklearn.neural_network import MLPClassifier \n",
    "\n",
    "clf = MLPClassifier(solver='adam', activation='relu', learning_rate='constant', alpha=0.0001) ## 전부 default\n",
    "clf.fit(x_train, y_train)"
   ]
  },
  {
   "cell_type": "code",
   "execution_count": 433,
   "metadata": {},
   "outputs": [
    {
     "name": "stdout",
     "output_type": "stream",
     "text": [
      "MSE: 0.22869955156950672 \n",
      "\n",
      "Accuracy:  0.7713004484304933 \n",
      "\n",
      "F1 Measure:  0.718232044198895 \n",
      "\n",
      "confusion matrix\n",
      "[[107  27]\n",
      " [ 24  65]]\n"
     ]
    }
   ],
   "source": [
    "scoring(y_test, clf.predict(x_test))"
   ]
  },
  {
   "cell_type": "markdown",
   "metadata": {},
   "source": [
    "- bagging"
   ]
  },
  {
   "cell_type": "code",
   "execution_count": 445,
   "metadata": {},
   "outputs": [],
   "source": [
    "from sklearn.ensemble import BaggingClassifier"
   ]
  },
  {
   "cell_type": "code",
   "execution_count": 446,
   "metadata": {},
   "outputs": [
    {
     "name": "stderr",
     "output_type": "stream",
     "text": [
      "[Parallel(n_jobs=1)]: Using backend SequentialBackend with 1 concurrent workers.\n",
      "[Parallel(n_jobs=1)]: Done   1 out of   1 | elapsed:    0.1s finished\n",
      "[Parallel(n_jobs=1)]: Using backend SequentialBackend with 1 concurrent workers.\n",
      "[Parallel(n_jobs=1)]: Done   1 out of   1 | elapsed:    0.0s finished\n"
     ]
    },
    {
     "data": {
      "text/plain": [
       "BaggingClassifier(base_estimator=LinearDiscriminantAnalysis(), verbose=1)"
      ]
     },
     "execution_count": 446,
     "metadata": {},
     "output_type": "execute_result"
    }
   ],
   "source": [
    "bagging_logistic_regression = BaggingClassifier(base_estimator = LogisticRegression(), n_estimators=10, verbose=1)\n",
    "bagging_lda = BaggingClassifier(base_estimator = LinearDiscriminantAnalysis(), n_estimators=10, verbose=1)\n",
    "\n",
    "bagging_logistic_regression.fit(x_train, y_train)\n",
    "bagging_lda.fit(x_train, y_train)"
   ]
  },
  {
   "cell_type": "code",
   "execution_count": 447,
   "metadata": {},
   "outputs": [
    {
     "name": "stdout",
     "output_type": "stream",
     "text": [
      "MSE: 0.21524663677130046 \n",
      "\n",
      "Accuracy:  0.7847533632286996 \n",
      "\n",
      "F1 Measure:  0.7241379310344828 \n",
      "\n",
      "confusion matrix\n",
      "[[112  22]\n",
      " [ 26  63]]\n"
     ]
    },
    {
     "name": "stderr",
     "output_type": "stream",
     "text": [
      "[Parallel(n_jobs=1)]: Using backend SequentialBackend with 1 concurrent workers.\n",
      "[Parallel(n_jobs=1)]: Done   1 out of   1 | elapsed:    0.0s finished\n"
     ]
    }
   ],
   "source": [
    "scoring(y_test, bagging_logistic_regression.predict(x_test))"
   ]
  },
  {
   "cell_type": "code",
   "execution_count": 448,
   "metadata": {
    "scrolled": true
   },
   "outputs": [
    {
     "name": "stdout",
     "output_type": "stream",
     "text": [
      "MSE: 0.21076233183856502 \n",
      "\n",
      "Accuracy:  0.7892376681614349 \n",
      "\n",
      "F1 Measure:  0.7283236994219654 \n",
      "\n",
      "confusion matrix\n",
      "[[113  21]\n",
      " [ 26  63]]\n"
     ]
    },
    {
     "name": "stderr",
     "output_type": "stream",
     "text": [
      "[Parallel(n_jobs=1)]: Using backend SequentialBackend with 1 concurrent workers.\n",
      "[Parallel(n_jobs=1)]: Done   1 out of   1 | elapsed:    0.0s finished\n"
     ]
    }
   ],
   "source": [
    "scoring(y_test, bagging_lda.predict(x_test))"
   ]
  },
  {
   "cell_type": "markdown",
   "metadata": {},
   "source": [
    "- Adaboost"
   ]
  },
  {
   "cell_type": "code",
   "execution_count": 450,
   "metadata": {},
   "outputs": [
    {
     "data": {
      "text/plain": [
       "AdaBoostClassifier(base_estimator=LogisticRegression(), n_estimators=20,\n",
       "                   random_state=0)"
      ]
     },
     "execution_count": 450,
     "metadata": {},
     "output_type": "execute_result"
    }
   ],
   "source": [
    "from sklearn.ensemble import AdaBoostClassifier\n",
    "\n",
    "ada_lr = AdaBoostClassifier(base_estimator= LogisticRegression(), n_estimators=20, random_state=0)\n",
    "ada_lr.fit(x_train, y_train)"
   ]
  },
  {
   "cell_type": "code",
   "execution_count": 451,
   "metadata": {},
   "outputs": [
    {
     "name": "stdout",
     "output_type": "stream",
     "text": [
      "MSE: 0.21076233183856502 \n",
      "\n",
      "Accuracy:  0.7892376681614349 \n",
      "\n",
      "F1 Measure:  0.7080745341614907 \n",
      "\n",
      "confusion matrix\n",
      "[[119  15]\n",
      " [ 32  57]]\n"
     ]
    }
   ],
   "source": [
    "scoring(y_test, ada_lr.predict(x_test))"
   ]
  },
  {
   "cell_type": "markdown",
   "metadata": {},
   "source": [
    "- XGBoost"
   ]
  },
  {
   "cell_type": "code",
   "execution_count": 453,
   "metadata": {},
   "outputs": [
    {
     "name": "stdout",
     "output_type": "stream",
     "text": [
      "[21:52:40] WARNING: C:\\Users\\Administrator\\workspace\\xgboost-win64_release_1.2.0\\src\\learner.cc:516: \n",
      "Parameters: { n_estimators } might not be used.\n",
      "\n",
      "  This may not be accurate due to some parameters are only used in language bindings but\n",
      "  passed down to XGBoost core.  Or some parameters are not used but slip through this\n",
      "  verification. Please open an issue if you find above cases.\n",
      "\n",
      "\n"
     ]
    }
   ],
   "source": [
    "import xgboost as xgb\n",
    "\n",
    "xgb_dtrain = xgb.DMatrix(data=x_train, label=y_train)\n",
    "xgb_dtest = xgb.DMatrix(data=x_test)\n",
    "\n",
    "xgb_param = {'max_depth': 10, # 트리 깊이\n",
    "             'learning_rate': 0.01, # Step Size\n",
    "             'n_estimators': 100, # Number of trees, 트리 생성 개수\n",
    "             'objective': 'multi:softmax', # 목적 함수\n",
    "             'num_class': len(set(y_train)) + 1} # 파라미터 추가, Label must be in [0, num_class) -> num_class보다 1 커야한다.\n",
    "xgb_model = xgb.train(params = xgb_param, dtrain = xgb_dtrain)"
   ]
  },
  {
   "cell_type": "code",
   "execution_count": 457,
   "metadata": {},
   "outputs": [
    {
     "name": "stdout",
     "output_type": "stream",
     "text": [
      "MSE: 0.17937219730941703 \n",
      "\n",
      "Accuracy:  0.820627802690583 \n",
      "\n",
      "F1 Measure:  0.761904761904762 \n",
      "\n",
      "confusion matrix\n",
      "[[119  15]\n",
      " [ 25  64]]\n"
     ]
    }
   ],
   "source": [
    "scoring(y_test, xgb_model.predict(xgb_test)) # 평가 데이터 예측, Softmax의 결과값 중 가장 큰 값의 Label로 예측"
   ]
  },
  {
   "cell_type": "markdown",
   "metadata": {},
   "source": [
    "- LightGBM"
   ]
  },
  {
   "cell_type": "code",
   "execution_count": 491,
   "metadata": {},
   "outputs": [
    {
     "name": "stdout",
     "output_type": "stream",
     "text": [
      "[LightGBM] [Warning] Auto-choosing col-wise multi-threading, the overhead of testing was 0.000153 seconds.\n",
      "You can set `force_col_wise=true` to remove the overhead.\n",
      "[LightGBM] [Info] Total Bins 174\n",
      "[LightGBM] [Info] Number of data points in the train set: 668, number of used features: 5\n",
      "[LightGBM] [Info] Start training from score -0.476010\n",
      "[LightGBM] [Info] Start training from score -0.970899\n",
      "[LightGBM] [Info] Start training from score -34.538776\n"
     ]
    },
    {
     "name": "stderr",
     "output_type": "stream",
     "text": [
      "C:\\Users\\Jang\\Anaconda3\\lib\\site-packages\\lightgbm\\engine.py:151: UserWarning: Found `n_estimators` in params. Will use it instead of argument\n",
      "  warnings.warn(\"Found `{}` in params. Will use it instead of argument\".format(alias))\n"
     ]
    }
   ],
   "source": [
    "import lightgbm as lgb\n",
    "\n",
    "lgb_dtrain = lgb.Dataset(data=x_train, label=y_train)\n",
    "lgb_param = {'max_depth': 1, # 트리 깊이\n",
    "            'learning_rate': 0.01, # Step Size\n",
    "            'n_estimators': 100, # Number of trees, 트리 생성 개수\n",
    "            'objective': 'multiclass', # 목적 함수\n",
    "            'num_class': len(set(y_train)) + 1} # 파라미터 추가, Label must be in [0, num_class) -> num_class보다 1 커야한다.\n",
    "lgb_model = lgb.train(params = lgb_param, train_set = lgb_dtrain) # 학습 진행"
   ]
  },
  {
   "cell_type": "code",
   "execution_count": 492,
   "metadata": {},
   "outputs": [
    {
     "data": {
      "text/plain": [
       "array([0, 0, 0, 1, 1, 1, 1, 0, 1, 1, 0, 0, 1, 0, 0, 1, 0, 1, 0, 0, 0, 0,\n",
       "       1, 0, 0, 0, 0, 0, 0, 1, 0, 1, 0, 1, 0, 0, 0, 1, 1, 0, 0, 0, 0, 0,\n",
       "       1, 0, 0, 0, 0, 0, 1, 1, 0, 0, 0, 1, 0, 1, 1, 1, 0, 1, 1, 0, 0, 1,\n",
       "       0, 0, 0, 1, 1, 1, 0, 1, 0, 0, 1, 1, 1, 1, 0, 1, 1, 0, 0, 0, 1, 1,\n",
       "       0, 0, 0, 1, 0, 0, 0, 0, 0, 0, 1, 0, 0, 0, 1, 0, 0, 0, 1, 0, 0, 0,\n",
       "       1, 0, 1, 0, 0, 0, 0, 0, 1, 1, 0, 1, 1, 0, 0, 0, 1, 0, 1, 0, 1, 0,\n",
       "       0, 1, 0, 1, 1, 0, 0, 1, 0, 1, 0, 0, 1, 1, 0, 0, 1, 0, 0, 0, 0, 1,\n",
       "       0, 0, 0, 1, 1, 1, 0, 0, 0, 1, 0, 0, 0, 1, 0, 0, 0, 1, 0, 1, 0, 0,\n",
       "       1, 1, 1, 0, 0, 0, 0, 1, 0, 0, 0, 0, 0, 1, 0, 0, 0, 0, 1, 1, 1, 0,\n",
       "       1, 1, 0, 1, 1, 1, 0, 1, 0, 0, 0, 0, 0, 0, 1, 0, 1, 0, 1, 0, 1, 0,\n",
       "       0, 1, 0], dtype=int64)"
      ]
     },
     "execution_count": 492,
     "metadata": {},
     "output_type": "execute_result"
    }
   ],
   "source": [
    "np.argmax(lgb_model.predict(x_test), axis = 1)"
   ]
  },
  {
   "cell_type": "code",
   "execution_count": 493,
   "metadata": {},
   "outputs": [
    {
     "name": "stdout",
     "output_type": "stream",
     "text": [
      "MSE: 0.21524663677130046 \n",
      "\n",
      "Accuracy:  0.7847533632286996 \n",
      "\n",
      "F1 Measure:  0.7241379310344828 \n",
      "\n",
      "confusion matrix\n",
      "[[112  22]\n",
      " [ 26  63]]\n"
     ]
    }
   ],
   "source": [
    "scoring(y_test, np.argmax(lgb_model.predict(x_test), axis = 1))"
   ]
  },
  {
   "cell_type": "markdown",
   "metadata": {},
   "source": [
    "- Ensemble in Ensemble (XGBoost)"
   ]
  },
  {
   "cell_type": "code",
   "execution_count": 543,
   "metadata": {},
   "outputs": [
    {
     "name": "stdout",
     "output_type": "stream",
     "text": [
      "0 번째 복원추출시 unique한 데이터 수:  419\n",
      "0 번째 모델의 MSE:  0.19730941704035873 \n",
      "\n",
      "1 번째 복원추출시 unique한 데이터 수:  429\n",
      "1 번째 모델의 MSE:  0.2062780269058296 \n",
      "\n",
      "2 번째 복원추출시 unique한 데이터 수:  427\n",
      "2 번째 모델의 MSE:  0.21524663677130046 \n",
      "\n",
      "3 번째 복원추출시 unique한 데이터 수:  421\n",
      "3 번째 모델의 MSE:  0.2062780269058296 \n",
      "\n",
      "4 번째 복원추출시 unique한 데이터 수:  424\n",
      "4 번째 모델의 MSE:  0.18834080717488788 \n",
      "\n",
      "5 번째 복원추출시 unique한 데이터 수:  427\n",
      "5 번째 모델의 MSE:  0.17937219730941703 \n",
      "\n",
      "6 번째 복원추출시 unique한 데이터 수:  420\n",
      "6 번째 모델의 MSE:  0.19730941704035873 \n",
      "\n",
      "7 번째 복원추출시 unique한 데이터 수:  431\n",
      "7 번째 모델의 MSE:  0.19282511210762332 \n",
      "\n",
      "8 번째 복원추출시 unique한 데이터 수:  432\n",
      "8 번째 모델의 MSE:  0.19282511210762332 \n",
      "\n",
      "9 번째 복원추출시 unique한 데이터 수:  429\n",
      "9 번째 모델의 MSE:  0.17488789237668162 \n",
      "\n",
      "10 번째 복원추출시 unique한 데이터 수:  421\n",
      "10 번째 모델의 MSE:  0.17488789237668162 \n",
      "\n",
      "11 번째 복원추출시 unique한 데이터 수:  428\n",
      "11 번째 모델의 MSE:  0.2242152466367713 \n",
      "\n",
      "12 번째 복원추출시 unique한 데이터 수:  417\n",
      "12 번째 모델의 MSE:  0.17488789237668162 \n",
      "\n",
      "13 번째 복원추출시 unique한 데이터 수:  435\n",
      "13 번째 모델의 MSE:  0.16591928251121077 \n",
      "\n",
      "14 번째 복원추출시 unique한 데이터 수:  427\n",
      "14 번째 모델의 MSE:  0.18385650224215247 \n",
      "\n",
      "15 번째 복원추출시 unique한 데이터 수:  424\n",
      "15 번째 모델의 MSE:  0.2062780269058296 \n",
      "\n",
      "16 번째 복원추출시 unique한 데이터 수:  420\n",
      "16 번째 모델의 MSE:  0.21076233183856502 \n",
      "\n",
      "17 번째 복원추출시 unique한 데이터 수:  415\n",
      "17 번째 모델의 MSE:  0.19282511210762332 \n",
      "\n",
      "18 번째 복원추출시 unique한 데이터 수:  419\n",
      "18 번째 모델의 MSE:  0.19282511210762332 \n",
      "\n",
      "19 번째 복원추출시 unique한 데이터 수:  418\n",
      "19 번째 모델의 MSE:  0.23318385650224216 \n",
      "\n",
      "20 번째 복원추출시 unique한 데이터 수:  420\n",
      "20 번째 모델의 MSE:  0.19282511210762332 \n",
      "\n",
      "21 번째 복원추출시 unique한 데이터 수:  417\n",
      "21 번째 모델의 MSE:  0.19730941704035873 \n",
      "\n",
      "22 번째 복원추출시 unique한 데이터 수:  421\n",
      "22 번째 모델의 MSE:  0.18834080717488788 \n",
      "\n",
      "23 번째 복원추출시 unique한 데이터 수:  424\n",
      "23 번째 모델의 MSE:  0.20179372197309417 \n",
      "\n",
      "24 번째 복원추출시 unique한 데이터 수:  425\n",
      "24 번째 모델의 MSE:  0.21524663677130046 \n",
      "\n",
      "25 번째 복원추출시 unique한 데이터 수:  423\n",
      "25 번째 모델의 MSE:  0.19730941704035873 \n",
      "\n",
      "26 번째 복원추출시 unique한 데이터 수:  423\n",
      "26 번째 모델의 MSE:  0.22869955156950672 \n",
      "\n",
      "27 번째 복원추출시 unique한 데이터 수:  427\n",
      "27 번째 모델의 MSE:  0.19730941704035873 \n",
      "\n",
      "28 번째 복원추출시 unique한 데이터 수:  435\n",
      "28 번째 모델의 MSE:  0.17937219730941703 \n",
      "\n",
      "29 번째 복원추출시 unique한 데이터 수:  428\n",
      "29 번째 모델의 MSE:  0.19282511210762332 \n",
      "\n",
      "30 번째 복원추출시 unique한 데이터 수:  406\n",
      "30 번째 모델의 MSE:  0.20179372197309417 \n",
      "\n",
      "31 번째 복원추출시 unique한 데이터 수:  418\n",
      "31 번째 모델의 MSE:  0.2242152466367713 \n",
      "\n",
      "32 번째 복원추출시 unique한 데이터 수:  438\n",
      "32 번째 모델의 MSE:  0.19282511210762332 \n",
      "\n",
      "33 번째 복원추출시 unique한 데이터 수:  430\n",
      "33 번째 모델의 MSE:  0.2062780269058296 \n",
      "\n",
      "34 번째 복원추출시 unique한 데이터 수:  434\n",
      "34 번째 모델의 MSE:  0.17937219730941703 \n",
      "\n",
      "35 번째 복원추출시 unique한 데이터 수:  416\n",
      "35 번째 모델의 MSE:  0.2062780269058296 \n",
      "\n",
      "36 번째 복원추출시 unique한 데이터 수:  417\n",
      "36 번째 모델의 MSE:  0.21076233183856502 \n",
      "\n",
      "37 번째 복원추출시 unique한 데이터 수:  413\n",
      "37 번째 모델의 MSE:  0.242152466367713 \n",
      "\n",
      "38 번째 복원추출시 unique한 데이터 수:  406\n",
      "38 번째 모델의 MSE:  0.19730941704035873 \n",
      "\n",
      "39 번째 복원추출시 unique한 데이터 수:  429\n",
      "39 번째 모델의 MSE:  0.17488789237668162 \n",
      "\n",
      "40 번째 복원추출시 unique한 데이터 수:  417\n",
      "40 번째 모델의 MSE:  0.18385650224215247 \n",
      "\n",
      "41 번째 복원추출시 unique한 데이터 수:  406\n",
      "41 번째 모델의 MSE:  0.17937219730941703 \n",
      "\n",
      "42 번째 복원추출시 unique한 데이터 수:  418\n",
      "42 번째 모델의 MSE:  0.21973094170403587 \n",
      "\n",
      "43 번째 복원추출시 unique한 데이터 수:  427\n",
      "43 번째 모델의 MSE:  0.19282511210762332 \n",
      "\n",
      "44 번째 복원추출시 unique한 데이터 수:  417\n",
      "44 번째 모델의 MSE:  0.20179372197309417 \n",
      "\n",
      "45 번째 복원추출시 unique한 데이터 수:  435\n",
      "45 번째 모델의 MSE:  0.21973094170403587 \n",
      "\n",
      "46 번째 복원추출시 unique한 데이터 수:  419\n",
      "46 번째 모델의 MSE:  0.18834080717488788 \n",
      "\n",
      "47 번째 복원추출시 unique한 데이터 수:  417\n",
      "47 번째 모델의 MSE:  0.21076233183856502 \n",
      "\n",
      "48 번째 복원추출시 unique한 데이터 수:  429\n",
      "48 번째 모델의 MSE:  0.17040358744394618 \n",
      "\n",
      "49 번째 복원추출시 unique한 데이터 수:  418\n",
      "49 번째 모델의 MSE:  0.2062780269058296 \n",
      "\n"
     ]
    }
   ],
   "source": [
    "bagging_predict_result = [] # 빈 리스트 생성\n",
    "for _ in range(50):\n",
    "    \n",
    "#     data_index = [data_index for data_index in range(x_train.shape[0])]\n",
    "    # (0 ~  x_train.shape[0])의 데이터중 랜덤으로 x_train.shape[0]개 뽑음\n",
    "    random_data_index = np.random.choice(x_train.shape[0], x_train.shape[0])\n",
    "    print(_, \"번째 복원추출시 unique한 데이터 수: \", len(set(random_data_index)))\n",
    "    xgb_dtrain = xgb.DMatrix(data=x_train.iloc[random_data_index], label=y_train.iloc[random_data_index])\n",
    "    xgb_dtest = xgb.DMatrix(data=x_test)\n",
    "\n",
    "    xgb_param = {'max_depth': 10, # 트리 깊이\n",
    "                 'learning_rate': 0.01, # Step Size\n",
    "                 'n_estimators': 100, # Number of trees, 트리 생성 개수\n",
    "                 'objective': 'multi:softmax', # 목적 함수\n",
    "                 'num_class': len(set(y_train)) + 1,  # 파라미터 추가, Label must be in [0, num_class) -> num_class보다 1 커야한다.\n",
    "                 'verbosity': 0}  ## warning 끄기\n",
    "    xgb_model = xgb.train(params = xgb_param, dtrain = xgb_dtrain)\n",
    "    \n",
    "    predict = xgb_model.predict(xgb_dtest)\n",
    "    bagging_predict_result.append(predict)\n",
    "    print(_, \"번째 모델의 MSE: \", mean_squared_error(y_test, predict), '\\n')\n",
    "    "
   ]
  },
  {
   "cell_type": "code",
   "execution_count": 544,
   "metadata": {},
   "outputs": [
    {
     "name": "stdout",
     "output_type": "stream",
     "text": [
      "-------------------\n",
      "cut off:  0.3\n",
      "MSE: 0.16143497757847533 \n",
      "\n",
      "Accuracy:  0.8385650224215246 \n",
      "\n",
      "F1 Measure:  0.793103448275862 \n",
      "\n",
      "confusion matrix\n",
      "[[118  16]\n",
      " [ 20  69]]\n",
      "-------------------\n",
      "cut off:  0.4\n",
      "MSE: 0.16143497757847533 \n",
      "\n",
      "Accuracy:  0.8385650224215246 \n",
      "\n",
      "F1 Measure:  0.7906976744186045 \n",
      "\n",
      "confusion matrix\n",
      "[[119  15]\n",
      " [ 21  68]]\n",
      "-------------------\n",
      "cut off:  0.5\n",
      "MSE: 0.17937219730941703 \n",
      "\n",
      "Accuracy:  0.820627802690583 \n",
      "\n",
      "F1 Measure:  0.7590361445783134 \n",
      "\n",
      "confusion matrix\n",
      "[[120  14]\n",
      " [ 26  63]]\n",
      "-------------------\n",
      "cut off:  0.6000000000000001\n",
      "MSE: 0.18834080717488788 \n",
      "\n",
      "Accuracy:  0.8116591928251121 \n",
      "\n",
      "F1 Measure:  0.7341772151898734 \n",
      "\n",
      "confusion matrix\n",
      "[[123  11]\n",
      " [ 31  58]]\n",
      "-------------------\n",
      "cut off:  0.7000000000000002\n",
      "MSE: 0.19282511210762332 \n",
      "\n",
      "Accuracy:  0.8071748878923767 \n",
      "\n",
      "F1 Measure:  0.7225806451612904 \n",
      "\n",
      "confusion matrix\n",
      "[[124  10]\n",
      " [ 33  56]]\n"
     ]
    }
   ],
   "source": [
    "bagging_predict_result\n",
    "final_pred = []\n",
    "for i in range(x_test.shape[0]):\n",
    "    tmp_pred = []\n",
    "    for j in range(len(bagging_predict_result)):\n",
    "        tmp_pred.append(bagging_predict_result[j][i])\n",
    "    final_pred.append(np.mean(tmp_pred))\n",
    "\n",
    "c_off = np.arange(0.3,0.8,0.1)  ## array([0.3, 0.4, 0.5, 0.6, 0.7])\n",
    "\n",
    "for i in c_off:\n",
    "    print(\"-------------------\")\n",
    "    print(\"cut off: \", i)\n",
    "    scoring(y_test, cut_off(np.array(final_pred), i))"
   ]
  },
  {
   "cell_type": "markdown",
   "metadata": {},
   "source": [
    "- XGboost로 앙상블 한 결과, bagging 50번 반복하고, cutoff = 0.4로 했을 때\n",
    "- accuracy = 약 0.84, F1-measure = 약 0.79로, 성능이 가장 좋았다"
   ]
  },
  {
   "cell_type": "markdown",
   "metadata": {},
   "source": [
    "- 1등 : XGboost로 앙상블\n",
    "- 2등 : XGboost\n",
    "- 그 뒤로는 거의 비슷\n",
    "- SVM, KNN, PCA 한 결과는 매우 안좋음"
   ]
  },
  {
   "cell_type": "markdown",
   "metadata": {},
   "source": [
    "- 자료해석을 위해 클러스터링도 해보자"
   ]
  },
  {
   "cell_type": "code",
   "execution_count": null,
   "metadata": {},
   "outputs": [],
   "source": []
  }
 ],
 "metadata": {
  "kernelspec": {
   "display_name": "Python 3",
   "language": "python",
   "name": "python3"
  },
  "language_info": {
   "codemirror_mode": {
    "name": "ipython",
    "version": 3
   },
   "file_extension": ".py",
   "mimetype": "text/x-python",
   "name": "python",
   "nbconvert_exporter": "python",
   "pygments_lexer": "ipython3",
   "version": "3.7.1"
  }
 },
 "nbformat": 4,
 "nbformat_minor": 4
}
