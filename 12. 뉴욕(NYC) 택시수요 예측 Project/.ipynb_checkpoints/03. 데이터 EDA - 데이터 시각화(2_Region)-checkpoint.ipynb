{
 "cells": [
  {
   "cell_type": "markdown",
   "metadata": {},
   "source": [
    "## 데이터 시각화(2)\n",
    "### 지역 관점으로 EDA\n",
    "- 지역별로는 어떻게 봐야할까?\n",
    "    - 좌표는 달려있음\n",
    "        - Reverse Geocoding : 위도/경도 => 주소로 변환\n",
    "        - API를 날려야할까?\n",
    "        - BigQuery GIS엔 shp 파일을 Join해서 찾아내는 기능이 있음\n"
   ]
  },
  {
   "cell_type": "markdown",
   "metadata": {},
   "source": [
    "- Shp 파일\n",
    "    - `bigquery-public-data.geo_us_boundaries.zip_codes`에 저장됨\n",
    "    - pickup_longitude, pickup_latitude가 zip_code_geom에 속하면 그 지역\n",
    "- BigQuery GIS\n",
    "    - [공식 문서](https://cloud.google.com/bigquery/docs/gis-intro?hl=ko)\n",
    "    - [Geography functions](https://cloud.google.com/bigquery/docs/reference/standard-sql/geography_functions)"
   ]
  },
  {
   "cell_type": "code",
   "execution_count": 1,
   "metadata": {},
   "outputs": [
    {
     "name": "stdout",
     "output_type": "stream",
     "text": [
      "0.17.3\n"
     ]
    },
    {
     "data": {
      "text/html": [
       "        <script type=\"text/javascript\">\n",
       "        window.PlotlyConfig = {MathJaxConfig: 'local'};\n",
       "        if (window.MathJax) {MathJax.Hub.Config({SVG: {font: \"STIX-Web\"}});}\n",
       "        if (typeof require !== 'undefined') {\n",
       "        require.undef(\"plotly\");\n",
       "        requirejs.config({\n",
       "            paths: {\n",
       "                'plotly': ['https://cdn.plot.ly/plotly-latest.min']\n",
       "            }\n",
       "        });\n",
       "        require(['plotly'], function(Plotly) {\n",
       "            window._Plotly = Plotly;\n",
       "        });\n",
       "        }\n",
       "        </script>\n",
       "        "
      ]
     },
     "metadata": {},
     "output_type": "display_data"
    }
   ],
   "source": [
    "import chart_studio.plotly as py\n",
    "import cufflinks as cf\n",
    "import pandas as pd\n",
    "import numpy as np\n",
    "import seaborn as sns\n",
    "import matplotlib.pyplot as plt\n",
    "print(cf.__version__)\n",
    "cf.go_offline()\n",
    "%config InlineBackend.figure_format = 'retina'"
   ]
  },
  {
   "cell_type": "code",
   "execution_count": 2,
   "metadata": {},
   "outputs": [
    {
     "name": "stdout",
     "output_type": "stream",
     "text": [
      "Wall time: 1min 43s\n"
     ]
    }
   ],
   "source": [
    "%%time\n",
    "\n",
    "query = \"\"\"\n",
    "WITH base_data AS (\n",
    "  SELECT \n",
    "    *\n",
    "  FROM `bigquery-public-data.new_york_taxi_trips.tlc_yellow_trips_2015`\n",
    "  WHERE EXTRACT(MONTH from pickup_datetime) = 1\n",
    "), temp AS (\n",
    "  SELECT nyc_taxi.*, gis.* \n",
    "  FROM (\n",
    "    SELECT *\n",
    "    FROM base_data\n",
    "    WHERE pickup_latitude  <= 90 and pickup_latitude >= -90\n",
    "    ) as nyc_taxi\n",
    "  JOIN (\n",
    "    SELECT zip_code, state_code, state_name, city, county, zip_code_geom\n",
    "    FROM `bigquery-public-data.geo_us_boundaries.zip_codes`\n",
    "    WHERE state_code='NY'\n",
    "    ) as gis \n",
    "  ON st_contains(zip_code_geom, st_geogpoint(pickup_longitude, pickup_latitude))\n",
    ")\n",
    "\n",
    "SELECT \n",
    "  zip_code, \n",
    "  city,\n",
    "  ST_ASTEXT(zip_code_geom) as zip_code_geom,\n",
    "  DATETIME_TRUNC(pickup_datetime, hour) as pickup_hour,\n",
    "  count(*) as cnt\n",
    "FROM temp\n",
    "GROUP BY zip_code, city, zip_code_geom, pickup_hour\n",
    "ORDER BY pickup_hour\n",
    "\n",
    "\"\"\"\n",
    "\n",
    "df = pd.read_gbq(query=query, dialect='standard', project_id='python-machine-deep-learning')"
   ]
  },
  {
   "cell_type": "code",
   "execution_count": 5,
   "metadata": {},
   "outputs": [
    {
     "data": {
      "text/html": [
       "<div>\n",
       "<style scoped>\n",
       "    .dataframe tbody tr th:only-of-type {\n",
       "        vertical-align: middle;\n",
       "    }\n",
       "\n",
       "    .dataframe tbody tr th {\n",
       "        vertical-align: top;\n",
       "    }\n",
       "\n",
       "    .dataframe thead th {\n",
       "        text-align: right;\n",
       "    }\n",
       "</style>\n",
       "<table border=\"1\" class=\"dataframe\">\n",
       "  <thead>\n",
       "    <tr style=\"text-align: right;\">\n",
       "      <th></th>\n",
       "      <th>zip_code</th>\n",
       "      <th>city</th>\n",
       "      <th>zip_code_geom</th>\n",
       "      <th>pickup_hour</th>\n",
       "      <th>cnt</th>\n",
       "    </tr>\n",
       "  </thead>\n",
       "  <tbody>\n",
       "    <tr>\n",
       "      <th>0</th>\n",
       "      <td>10014</td>\n",
       "      <td>New York city</td>\n",
       "      <td>POLYGON((-74.015728 40.725423, -74.01599 40.72...</td>\n",
       "      <td>2015-01-01</td>\n",
       "      <td>1093</td>\n",
       "    </tr>\n",
       "    <tr>\n",
       "      <th>1</th>\n",
       "      <td>11209</td>\n",
       "      <td>New York city</td>\n",
       "      <td>POLYGON((-74.041916 40.624247, -74.041908 40.6...</td>\n",
       "      <td>2015-01-01</td>\n",
       "      <td>4</td>\n",
       "    </tr>\n",
       "    <tr>\n",
       "      <th>2</th>\n",
       "      <td>10473</td>\n",
       "      <td>New York city</td>\n",
       "      <td>POLYGON((-73.884411 40.82297, -73.884396 40.82...</td>\n",
       "      <td>2015-01-01</td>\n",
       "      <td>1</td>\n",
       "    </tr>\n",
       "    <tr>\n",
       "      <th>3</th>\n",
       "      <td>11237</td>\n",
       "      <td>New York city</td>\n",
       "      <td>POLYGON((-73.934802 40.713373, -73.934534 40.7...</td>\n",
       "      <td>2015-01-01</td>\n",
       "      <td>38</td>\n",
       "    </tr>\n",
       "    <tr>\n",
       "      <th>4</th>\n",
       "      <td>10803</td>\n",
       "      <td>Pelham village, New Rochelle city, Pelham Mano...</td>\n",
       "      <td>POLYGON((-73.823264 40.891357, -73.823244 40.8...</td>\n",
       "      <td>2015-01-01</td>\n",
       "      <td>1</td>\n",
       "    </tr>\n",
       "  </tbody>\n",
       "</table>\n",
       "</div>"
      ],
      "text/plain": [
       "  zip_code                                               city  \\\n",
       "0    10014                                      New York city   \n",
       "1    11209                                      New York city   \n",
       "2    10473                                      New York city   \n",
       "3    11237                                      New York city   \n",
       "4    10803  Pelham village, New Rochelle city, Pelham Mano...   \n",
       "\n",
       "                                       zip_code_geom pickup_hour   cnt  \n",
       "0  POLYGON((-74.015728 40.725423, -74.01599 40.72...  2015-01-01  1093  \n",
       "1  POLYGON((-74.041916 40.624247, -74.041908 40.6...  2015-01-01     4  \n",
       "2  POLYGON((-73.884411 40.82297, -73.884396 40.82...  2015-01-01     1  \n",
       "3  POLYGON((-73.934802 40.713373, -73.934534 40.7...  2015-01-01    38  \n",
       "4  POLYGON((-73.823264 40.891357, -73.823244 40.8...  2015-01-01     1  "
      ]
     },
     "execution_count": 5,
     "metadata": {},
     "output_type": "execute_result"
    }
   ],
   "source": [
    "df.head()"
   ]
  },
  {
   "cell_type": "code",
   "execution_count": 6,
   "metadata": {},
   "outputs": [
    {
     "name": "stdout",
     "output_type": "stream",
     "text": [
      "<class 'pandas.core.frame.DataFrame'>\n",
      "RangeIndex: 87020 entries, 0 to 87019\n",
      "Data columns (total 5 columns):\n",
      " #   Column         Non-Null Count  Dtype         \n",
      "---  ------         --------------  -----         \n",
      " 0   zip_code       87020 non-null  object        \n",
      " 1   city           87020 non-null  object        \n",
      " 2   zip_code_geom  87020 non-null  object        \n",
      " 3   pickup_hour    87020 non-null  datetime64[ns]\n",
      " 4   cnt            87020 non-null  int64         \n",
      "dtypes: datetime64[ns](1), int64(1), object(3)\n",
      "memory usage: 3.3+ MB\n"
     ]
    }
   ],
   "source": [
    "df.info()"
   ]
  },
  {
   "cell_type": "markdown",
   "metadata": {},
   "source": [
    "### Trip이 많은 zip_code는?"
   ]
  },
  {
   "cell_type": "code",
   "execution_count": 7,
   "metadata": {},
   "outputs": [],
   "source": [
    "zip_code_agg_df = df.groupby(['zip_code', 'zip_code_geom'])[['cnt']].sum().reset_index()"
   ]
  },
  {
   "cell_type": "code",
   "execution_count": 8,
   "metadata": {},
   "outputs": [
    {
     "data": {
      "text/html": [
       "<div>\n",
       "<style scoped>\n",
       "    .dataframe tbody tr th:only-of-type {\n",
       "        vertical-align: middle;\n",
       "    }\n",
       "\n",
       "    .dataframe tbody tr th {\n",
       "        vertical-align: top;\n",
       "    }\n",
       "\n",
       "    .dataframe thead th {\n",
       "        text-align: right;\n",
       "    }\n",
       "</style>\n",
       "<table border=\"1\" class=\"dataframe\">\n",
       "  <thead>\n",
       "    <tr style=\"text-align: right;\">\n",
       "      <th></th>\n",
       "      <th>zip_code</th>\n",
       "      <th>zip_code_geom</th>\n",
       "      <th>cnt</th>\n",
       "    </tr>\n",
       "  </thead>\n",
       "  <tbody>\n",
       "    <tr>\n",
       "      <th>0</th>\n",
       "      <td>10001</td>\n",
       "      <td>POLYGON((-74.00828 40.750272, -74.008255 40.75...</td>\n",
       "      <td>627563</td>\n",
       "    </tr>\n",
       "    <tr>\n",
       "      <th>1</th>\n",
       "      <td>10002</td>\n",
       "      <td>POLYGON((-73.997504 40.714069, -73.9973 40.713...</td>\n",
       "      <td>234527</td>\n",
       "    </tr>\n",
       "    <tr>\n",
       "      <th>2</th>\n",
       "      <td>10003</td>\n",
       "      <td>POLYGON((-73.999366 40.731323, -73.999604 40.7...</td>\n",
       "      <td>704598</td>\n",
       "    </tr>\n",
       "    <tr>\n",
       "      <th>3</th>\n",
       "      <td>10004</td>\n",
       "      <td>MULTIPOLYGON(((-74.018008 40.705935, -74.01801...</td>\n",
       "      <td>59700</td>\n",
       "    </tr>\n",
       "    <tr>\n",
       "      <th>4</th>\n",
       "      <td>10005</td>\n",
       "      <td>POLYGON((-74.012508 40.706767, -74.0124 40.706...</td>\n",
       "      <td>52454</td>\n",
       "    </tr>\n",
       "    <tr>\n",
       "      <th>5</th>\n",
       "      <td>10006</td>\n",
       "      <td>POLYGON((-74.015834 40.706984, -74.015956 40.7...</td>\n",
       "      <td>35708</td>\n",
       "    </tr>\n",
       "    <tr>\n",
       "      <th>6</th>\n",
       "      <td>10007</td>\n",
       "      <td>POLYGON((-74.013382 40.714408, -74.0137 40.713...</td>\n",
       "      <td>87112</td>\n",
       "    </tr>\n",
       "    <tr>\n",
       "      <th>7</th>\n",
       "      <td>10009</td>\n",
       "      <td>POLYGON((-73.988451 40.723277, -73.988643 40.7...</td>\n",
       "      <td>252903</td>\n",
       "    </tr>\n",
       "    <tr>\n",
       "      <th>8</th>\n",
       "      <td>10010</td>\n",
       "      <td>POLYGON((-73.993739 40.741617, -73.994028 40.7...</td>\n",
       "      <td>387908</td>\n",
       "    </tr>\n",
       "    <tr>\n",
       "      <th>9</th>\n",
       "      <td>10011</td>\n",
       "      <td>POLYGON((-74.012285 40.74387, -74.012359 40.74...</td>\n",
       "      <td>647831</td>\n",
       "    </tr>\n",
       "  </tbody>\n",
       "</table>\n",
       "</div>"
      ],
      "text/plain": [
       "  zip_code                                      zip_code_geom     cnt\n",
       "0    10001  POLYGON((-74.00828 40.750272, -74.008255 40.75...  627563\n",
       "1    10002  POLYGON((-73.997504 40.714069, -73.9973 40.713...  234527\n",
       "2    10003  POLYGON((-73.999366 40.731323, -73.999604 40.7...  704598\n",
       "3    10004  MULTIPOLYGON(((-74.018008 40.705935, -74.01801...   59700\n",
       "4    10005  POLYGON((-74.012508 40.706767, -74.0124 40.706...   52454\n",
       "5    10006  POLYGON((-74.015834 40.706984, -74.015956 40.7...   35708\n",
       "6    10007  POLYGON((-74.013382 40.714408, -74.0137 40.713...   87112\n",
       "7    10009  POLYGON((-73.988451 40.723277, -73.988643 40.7...  252903\n",
       "8    10010  POLYGON((-73.993739 40.741617, -73.994028 40.7...  387908\n",
       "9    10011  POLYGON((-74.012285 40.74387, -74.012359 40.74...  647831"
      ]
     },
     "execution_count": 8,
     "metadata": {},
     "output_type": "execute_result"
    }
   ],
   "source": [
    "zip_code_agg_df.head(10)"
   ]
  },
  {
   "cell_type": "code",
   "execution_count": 9,
   "metadata": {},
   "outputs": [],
   "source": [
    "zip_code_agg_df['percent'] = (zip_code_agg_df[['cnt']]/df[['cnt']].sum()).round(3).rename(columns={'cnt':'percent'}).reset_index()['percent']"
   ]
  },
  {
   "cell_type": "code",
   "execution_count": 10,
   "metadata": {},
   "outputs": [
    {
     "data": {
      "text/html": [
       "<div>\n",
       "<style scoped>\n",
       "    .dataframe tbody tr th:only-of-type {\n",
       "        vertical-align: middle;\n",
       "    }\n",
       "\n",
       "    .dataframe tbody tr th {\n",
       "        vertical-align: top;\n",
       "    }\n",
       "\n",
       "    .dataframe thead th {\n",
       "        text-align: right;\n",
       "    }\n",
       "</style>\n",
       "<table border=\"1\" class=\"dataframe\">\n",
       "  <thead>\n",
       "    <tr style=\"text-align: right;\">\n",
       "      <th></th>\n",
       "      <th>zip_code</th>\n",
       "      <th>zip_code_geom</th>\n",
       "      <th>cnt</th>\n",
       "      <th>percent</th>\n",
       "    </tr>\n",
       "  </thead>\n",
       "  <tbody>\n",
       "    <tr>\n",
       "      <th>0</th>\n",
       "      <td>10001</td>\n",
       "      <td>POLYGON((-74.00828 40.750272, -74.008255 40.75...</td>\n",
       "      <td>627563</td>\n",
       "      <td>0.051</td>\n",
       "    </tr>\n",
       "    <tr>\n",
       "      <th>1</th>\n",
       "      <td>10002</td>\n",
       "      <td>POLYGON((-73.997504 40.714069, -73.9973 40.713...</td>\n",
       "      <td>234527</td>\n",
       "      <td>0.019</td>\n",
       "    </tr>\n",
       "    <tr>\n",
       "      <th>2</th>\n",
       "      <td>10003</td>\n",
       "      <td>POLYGON((-73.999366 40.731323, -73.999604 40.7...</td>\n",
       "      <td>704598</td>\n",
       "      <td>0.057</td>\n",
       "    </tr>\n",
       "    <tr>\n",
       "      <th>3</th>\n",
       "      <td>10004</td>\n",
       "      <td>MULTIPOLYGON(((-74.018008 40.705935, -74.01801...</td>\n",
       "      <td>59700</td>\n",
       "      <td>0.005</td>\n",
       "    </tr>\n",
       "    <tr>\n",
       "      <th>4</th>\n",
       "      <td>10005</td>\n",
       "      <td>POLYGON((-74.012508 40.706767, -74.0124 40.706...</td>\n",
       "      <td>52454</td>\n",
       "      <td>0.004</td>\n",
       "    </tr>\n",
       "    <tr>\n",
       "      <th>5</th>\n",
       "      <td>10006</td>\n",
       "      <td>POLYGON((-74.015834 40.706984, -74.015956 40.7...</td>\n",
       "      <td>35708</td>\n",
       "      <td>0.003</td>\n",
       "    </tr>\n",
       "    <tr>\n",
       "      <th>6</th>\n",
       "      <td>10007</td>\n",
       "      <td>POLYGON((-74.013382 40.714408, -74.0137 40.713...</td>\n",
       "      <td>87112</td>\n",
       "      <td>0.007</td>\n",
       "    </tr>\n",
       "    <tr>\n",
       "      <th>7</th>\n",
       "      <td>10009</td>\n",
       "      <td>POLYGON((-73.988451 40.723277, -73.988643 40.7...</td>\n",
       "      <td>252903</td>\n",
       "      <td>0.021</td>\n",
       "    </tr>\n",
       "    <tr>\n",
       "      <th>8</th>\n",
       "      <td>10010</td>\n",
       "      <td>POLYGON((-73.993739 40.741617, -73.994028 40.7...</td>\n",
       "      <td>387908</td>\n",
       "      <td>0.031</td>\n",
       "    </tr>\n",
       "    <tr>\n",
       "      <th>9</th>\n",
       "      <td>10011</td>\n",
       "      <td>POLYGON((-74.012285 40.74387, -74.012359 40.74...</td>\n",
       "      <td>647831</td>\n",
       "      <td>0.053</td>\n",
       "    </tr>\n",
       "  </tbody>\n",
       "</table>\n",
       "</div>"
      ],
      "text/plain": [
       "  zip_code                                      zip_code_geom     cnt  percent\n",
       "0    10001  POLYGON((-74.00828 40.750272, -74.008255 40.75...  627563    0.051\n",
       "1    10002  POLYGON((-73.997504 40.714069, -73.9973 40.713...  234527    0.019\n",
       "2    10003  POLYGON((-73.999366 40.731323, -73.999604 40.7...  704598    0.057\n",
       "3    10004  MULTIPOLYGON(((-74.018008 40.705935, -74.01801...   59700    0.005\n",
       "4    10005  POLYGON((-74.012508 40.706767, -74.0124 40.706...   52454    0.004\n",
       "5    10006  POLYGON((-74.015834 40.706984, -74.015956 40.7...   35708    0.003\n",
       "6    10007  POLYGON((-74.013382 40.714408, -74.0137 40.713...   87112    0.007\n",
       "7    10009  POLYGON((-73.988451 40.723277, -73.988643 40.7...  252903    0.021\n",
       "8    10010  POLYGON((-73.993739 40.741617, -73.994028 40.7...  387908    0.031\n",
       "9    10011  POLYGON((-74.012285 40.74387, -74.012359 40.74...  647831    0.053"
      ]
     },
     "execution_count": 10,
     "metadata": {},
     "output_type": "execute_result"
    }
   ],
   "source": [
    "zip_code_agg_df.head(10)"
   ]
  },
  {
   "cell_type": "code",
   "execution_count": 11,
   "metadata": {},
   "outputs": [
    {
     "data": {
      "text/html": [
       "<div>\n",
       "<style scoped>\n",
       "    .dataframe tbody tr th:only-of-type {\n",
       "        vertical-align: middle;\n",
       "    }\n",
       "\n",
       "    .dataframe tbody tr th {\n",
       "        vertical-align: top;\n",
       "    }\n",
       "\n",
       "    .dataframe thead th {\n",
       "        text-align: right;\n",
       "    }\n",
       "</style>\n",
       "<table border=\"1\" class=\"dataframe\">\n",
       "  <thead>\n",
       "    <tr style=\"text-align: right;\">\n",
       "      <th></th>\n",
       "      <th>zip_code</th>\n",
       "      <th>zip_code_geom</th>\n",
       "      <th>cnt</th>\n",
       "      <th>percent</th>\n",
       "    </tr>\n",
       "  </thead>\n",
       "  <tbody>\n",
       "    <tr>\n",
       "      <th>369</th>\n",
       "      <td>13656</td>\n",
       "      <td>POLYGON((-76.067267 44.140696, -76.067236 44.1...</td>\n",
       "      <td>1</td>\n",
       "      <td>0.0</td>\n",
       "    </tr>\n",
       "    <tr>\n",
       "      <th>370</th>\n",
       "      <td>13691</td>\n",
       "      <td>POLYGON((-75.88536 44.23349, -75.88501 44.2310...</td>\n",
       "      <td>1</td>\n",
       "      <td>0.0</td>\n",
       "    </tr>\n",
       "    <tr>\n",
       "      <th>371</th>\n",
       "      <td>14072</td>\n",
       "      <td>MULTIPOLYGON(((-78.935536 42.965442, -78.93553...</td>\n",
       "      <td>1</td>\n",
       "      <td>0.0</td>\n",
       "    </tr>\n",
       "    <tr>\n",
       "      <th>372</th>\n",
       "      <td>14527</td>\n",
       "      <td>MULTIPOLYGON(((-77.121905 42.624718, -77.12188...</td>\n",
       "      <td>1</td>\n",
       "      <td>0.0</td>\n",
       "    </tr>\n",
       "    <tr>\n",
       "      <th>373</th>\n",
       "      <td>14801</td>\n",
       "      <td>POLYGON((-77.442016 42.140918, -77.44193 42.14...</td>\n",
       "      <td>1</td>\n",
       "      <td>0.0</td>\n",
       "    </tr>\n",
       "  </tbody>\n",
       "</table>\n",
       "</div>"
      ],
      "text/plain": [
       "    zip_code                                      zip_code_geom  cnt  percent\n",
       "369    13656  POLYGON((-76.067267 44.140696, -76.067236 44.1...    1      0.0\n",
       "370    13691  POLYGON((-75.88536 44.23349, -75.88501 44.2310...    1      0.0\n",
       "371    14072  MULTIPOLYGON(((-78.935536 42.965442, -78.93553...    1      0.0\n",
       "372    14527  MULTIPOLYGON(((-77.121905 42.624718, -77.12188...    1      0.0\n",
       "373    14801  POLYGON((-77.442016 42.140918, -77.44193 42.14...    1      0.0"
      ]
     },
     "execution_count": 11,
     "metadata": {},
     "output_type": "execute_result"
    }
   ],
   "source": [
    "zip_code_agg_df.tail()"
   ]
  },
  {
   "cell_type": "code",
   "execution_count": 14,
   "metadata": {},
   "outputs": [],
   "source": [
    "filter_agg_df = zip_code_agg_df[zip_code_agg_df['percent'] > 0.000]"
   ]
  },
  {
   "cell_type": "code",
   "execution_count": 15,
   "metadata": {},
   "outputs": [
    {
     "data": {
      "text/plain": [
       "12197865"
      ]
     },
     "execution_count": 15,
     "metadata": {},
     "output_type": "execute_result"
    }
   ],
   "source": [
    "filter_agg_df['cnt'].sum()"
   ]
  },
  {
   "cell_type": "code",
   "execution_count": 16,
   "metadata": {},
   "outputs": [],
   "source": [
    "filter_zip_code = filter_agg_df['zip_code'].to_list()"
   ]
  },
  {
   "cell_type": "code",
   "execution_count": 17,
   "metadata": {},
   "outputs": [
    {
     "data": {
      "text/plain": [
       "12322300"
      ]
     },
     "execution_count": 17,
     "metadata": {},
     "output_type": "execute_result"
    }
   ],
   "source": [
    "zip_code_agg_df['cnt'].sum()"
   ]
  },
  {
   "cell_type": "code",
   "execution_count": 18,
   "metadata": {},
   "outputs": [
    {
     "data": {
      "text/html": [
       "<div>\n",
       "<style scoped>\n",
       "    .dataframe tbody tr th:only-of-type {\n",
       "        vertical-align: middle;\n",
       "    }\n",
       "\n",
       "    .dataframe tbody tr th {\n",
       "        vertical-align: top;\n",
       "    }\n",
       "\n",
       "    .dataframe thead th {\n",
       "        text-align: right;\n",
       "    }\n",
       "</style>\n",
       "<table border=\"1\" class=\"dataframe\">\n",
       "  <thead>\n",
       "    <tr style=\"text-align: right;\">\n",
       "      <th></th>\n",
       "      <th>zip_code</th>\n",
       "      <th>zip_code_geom</th>\n",
       "      <th>cnt</th>\n",
       "      <th>percent</th>\n",
       "    </tr>\n",
       "  </thead>\n",
       "  <tbody>\n",
       "    <tr>\n",
       "      <th>195</th>\n",
       "      <td>11206</td>\n",
       "      <td>POLYGON((-73.95733 40.700904, -73.957457 40.70...</td>\n",
       "      <td>9628</td>\n",
       "      <td>0.001</td>\n",
       "    </tr>\n",
       "    <tr>\n",
       "      <th>200</th>\n",
       "      <td>11211</td>\n",
       "      <td>MULTIPOLYGON(((-73.955603 40.724041, -73.95567...</td>\n",
       "      <td>61907</td>\n",
       "      <td>0.005</td>\n",
       "    </tr>\n",
       "    <tr>\n",
       "      <th>204</th>\n",
       "      <td>11215</td>\n",
       "      <td>POLYGON((-74.000995 40.654067, -74.002144 40.6...</td>\n",
       "      <td>12420</td>\n",
       "      <td>0.001</td>\n",
       "    </tr>\n",
       "    <tr>\n",
       "      <th>206</th>\n",
       "      <td>11217</td>\n",
       "      <td>POLYGON((-73.990424 40.682694, -73.990867 40.6...</td>\n",
       "      <td>22778</td>\n",
       "      <td>0.002</td>\n",
       "    </tr>\n",
       "    <tr>\n",
       "      <th>211</th>\n",
       "      <td>11222</td>\n",
       "      <td>POLYGON((-73.962672 40.736446, -73.962668 40.7...</td>\n",
       "      <td>13370</td>\n",
       "      <td>0.001</td>\n",
       "    </tr>\n",
       "    <tr>\n",
       "      <th>219</th>\n",
       "      <td>11231</td>\n",
       "      <td>POLYGON((-74.02002 40.677049, -74.019892 40.67...</td>\n",
       "      <td>14605</td>\n",
       "      <td>0.001</td>\n",
       "    </tr>\n",
       "    <tr>\n",
       "      <th>226</th>\n",
       "      <td>11238</td>\n",
       "      <td>POLYGON((-73.973648 40.687303, -73.973374 40.6...</td>\n",
       "      <td>9456</td>\n",
       "      <td>0.001</td>\n",
       "    </tr>\n",
       "    <tr>\n",
       "      <th>245</th>\n",
       "      <td>11371</td>\n",
       "      <td>POLYGON((-73.889077 40.773574, -73.889424 40.7...</td>\n",
       "      <td>247923</td>\n",
       "      <td>0.020</td>\n",
       "    </tr>\n",
       "    <tr>\n",
       "      <th>250</th>\n",
       "      <td>11377</td>\n",
       "      <td>POLYGON((-73.925808 40.73589, -73.925834 40.73...</td>\n",
       "      <td>13416</td>\n",
       "      <td>0.001</td>\n",
       "    </tr>\n",
       "    <tr>\n",
       "      <th>273</th>\n",
       "      <td>11430</td>\n",
       "      <td>POLYGON((-73.832705 40.665406, -73.831781 40.6...</td>\n",
       "      <td>233390</td>\n",
       "      <td>0.019</td>\n",
       "    </tr>\n",
       "  </tbody>\n",
       "</table>\n",
       "</div>"
      ],
      "text/plain": [
       "    zip_code                                      zip_code_geom     cnt  \\\n",
       "195    11206  POLYGON((-73.95733 40.700904, -73.957457 40.70...    9628   \n",
       "200    11211  MULTIPOLYGON(((-73.955603 40.724041, -73.95567...   61907   \n",
       "204    11215  POLYGON((-74.000995 40.654067, -74.002144 40.6...   12420   \n",
       "206    11217  POLYGON((-73.990424 40.682694, -73.990867 40.6...   22778   \n",
       "211    11222  POLYGON((-73.962672 40.736446, -73.962668 40.7...   13370   \n",
       "219    11231  POLYGON((-74.02002 40.677049, -74.019892 40.67...   14605   \n",
       "226    11238  POLYGON((-73.973648 40.687303, -73.973374 40.6...    9456   \n",
       "245    11371  POLYGON((-73.889077 40.773574, -73.889424 40.7...  247923   \n",
       "250    11377  POLYGON((-73.925808 40.73589, -73.925834 40.73...   13416   \n",
       "273    11430  POLYGON((-73.832705 40.665406, -73.831781 40.6...  233390   \n",
       "\n",
       "     percent  \n",
       "195    0.001  \n",
       "200    0.005  \n",
       "204    0.001  \n",
       "206    0.002  \n",
       "211    0.001  \n",
       "219    0.001  \n",
       "226    0.001  \n",
       "245    0.020  \n",
       "250    0.001  \n",
       "273    0.019  "
      ]
     },
     "execution_count": 18,
     "metadata": {},
     "output_type": "execute_result"
    }
   ],
   "source": [
    "filter_agg_df.tail(10)"
   ]
  },
  {
   "cell_type": "code",
   "execution_count": 16,
   "metadata": {},
   "outputs": [],
   "source": [
    "filter_agg_df.sort_values?"
   ]
  },
  {
   "cell_type": "code",
   "execution_count": 19,
   "metadata": {},
   "outputs": [
    {
     "data": {
      "text/html": [
       "<div>\n",
       "<style scoped>\n",
       "    .dataframe tbody tr th:only-of-type {\n",
       "        vertical-align: middle;\n",
       "    }\n",
       "\n",
       "    .dataframe tbody tr th {\n",
       "        vertical-align: top;\n",
       "    }\n",
       "\n",
       "    .dataframe thead th {\n",
       "        text-align: right;\n",
       "    }\n",
       "</style>\n",
       "<table border=\"1\" class=\"dataframe\">\n",
       "  <thead>\n",
       "    <tr style=\"text-align: right;\">\n",
       "      <th></th>\n",
       "      <th>zip_code</th>\n",
       "      <th>zip_code_geom</th>\n",
       "      <th>cnt</th>\n",
       "      <th>percent</th>\n",
       "    </tr>\n",
       "  </thead>\n",
       "  <tbody>\n",
       "    <tr>\n",
       "      <th>16</th>\n",
       "      <td>10019</td>\n",
       "      <td>POLYGON((-74.003568 40.763799, -74.003767 40.7...</td>\n",
       "      <td>817267</td>\n",
       "      <td>0.066</td>\n",
       "    </tr>\n",
       "    <tr>\n",
       "      <th>2</th>\n",
       "      <td>10003</td>\n",
       "      <td>POLYGON((-73.999366 40.731323, -73.999604 40.7...</td>\n",
       "      <td>704598</td>\n",
       "      <td>0.057</td>\n",
       "    </tr>\n",
       "    <tr>\n",
       "      <th>19</th>\n",
       "      <td>10022</td>\n",
       "      <td>POLYGON((-73.977201 40.758538, -73.977655 40.7...</td>\n",
       "      <td>679831</td>\n",
       "      <td>0.055</td>\n",
       "    </tr>\n",
       "    <tr>\n",
       "      <th>13</th>\n",
       "      <td>10016</td>\n",
       "      <td>POLYGON((-73.987298 40.744682, -73.987746 40.7...</td>\n",
       "      <td>663540</td>\n",
       "      <td>0.054</td>\n",
       "    </tr>\n",
       "    <tr>\n",
       "      <th>9</th>\n",
       "      <td>10011</td>\n",
       "      <td>POLYGON((-74.012285 40.74387, -74.012359 40.74...</td>\n",
       "      <td>647831</td>\n",
       "      <td>0.053</td>\n",
       "    </tr>\n",
       "    <tr>\n",
       "      <th>...</th>\n",
       "      <td>...</td>\n",
       "      <td>...</td>\n",
       "      <td>...</td>\n",
       "      <td>...</td>\n",
       "    </tr>\n",
       "    <tr>\n",
       "      <th>194</th>\n",
       "      <td>11205</td>\n",
       "      <td>POLYGON((-73.980649 40.701561, -73.980729 40.7...</td>\n",
       "      <td>8437</td>\n",
       "      <td>0.001</td>\n",
       "    </tr>\n",
       "    <tr>\n",
       "      <th>54</th>\n",
       "      <td>10167</td>\n",
       "      <td>POLYGON((-73.975352 40.755303, -73.975807 40.7...</td>\n",
       "      <td>8186</td>\n",
       "      <td>0.001</td>\n",
       "    </tr>\n",
       "    <tr>\n",
       "      <th>45</th>\n",
       "      <td>10112</td>\n",
       "      <td>POLYGON((-73.980426 40.759899, -73.980886 40.7...</td>\n",
       "      <td>8135</td>\n",
       "      <td>0.001</td>\n",
       "    </tr>\n",
       "    <tr>\n",
       "      <th>60</th>\n",
       "      <td>10173</td>\n",
       "      <td>POLYGON((-73.979937 40.754783, -73.980395 40.7...</td>\n",
       "      <td>7966</td>\n",
       "      <td>0.001</td>\n",
       "    </tr>\n",
       "    <tr>\n",
       "      <th>44</th>\n",
       "      <td>10111</td>\n",
       "      <td>POLYGON((-73.97845 40.759065, -73.978039 40.75...</td>\n",
       "      <td>6898</td>\n",
       "      <td>0.001</td>\n",
       "    </tr>\n",
       "  </tbody>\n",
       "</table>\n",
       "<p>72 rows × 4 columns</p>\n",
       "</div>"
      ],
      "text/plain": [
       "    zip_code                                      zip_code_geom     cnt  \\\n",
       "16     10019  POLYGON((-74.003568 40.763799, -74.003767 40.7...  817267   \n",
       "2      10003  POLYGON((-73.999366 40.731323, -73.999604 40.7...  704598   \n",
       "19     10022  POLYGON((-73.977201 40.758538, -73.977655 40.7...  679831   \n",
       "13     10016  POLYGON((-73.987298 40.744682, -73.987746 40.7...  663540   \n",
       "9      10011  POLYGON((-74.012285 40.74387, -74.012359 40.74...  647831   \n",
       "..       ...                                                ...     ...   \n",
       "194    11205  POLYGON((-73.980649 40.701561, -73.980729 40.7...    8437   \n",
       "54     10167  POLYGON((-73.975352 40.755303, -73.975807 40.7...    8186   \n",
       "45     10112  POLYGON((-73.980426 40.759899, -73.980886 40.7...    8135   \n",
       "60     10173  POLYGON((-73.979937 40.754783, -73.980395 40.7...    7966   \n",
       "44     10111  POLYGON((-73.97845 40.759065, -73.978039 40.75...    6898   \n",
       "\n",
       "     percent  \n",
       "16     0.066  \n",
       "2      0.057  \n",
       "19     0.055  \n",
       "13     0.054  \n",
       "9      0.053  \n",
       "..       ...  \n",
       "194    0.001  \n",
       "54     0.001  \n",
       "45     0.001  \n",
       "60     0.001  \n",
       "44     0.001  \n",
       "\n",
       "[72 rows x 4 columns]"
      ]
     },
     "execution_count": 19,
     "metadata": {},
     "output_type": "execute_result"
    }
   ],
   "source": [
    "filter_agg_df.sort_values(by='cnt', ascending=False)"
   ]
  },
  {
   "cell_type": "code",
   "execution_count": 20,
   "metadata": {},
   "outputs": [],
   "source": [
    "filter_agg_df.to_csv(\"zip_code_ratio.csv\", index=False)"
   ]
  },
  {
   "cell_type": "markdown",
   "metadata": {},
   "source": [
    "### Kepler.gl에서 시각화\n",
    "- [Kepler.gl](https://kepler.gl/demo)\n",
    "- <img src=\"https://www.dropbox.com/s/v18lb654qhrqx9l/Screenshot%202019-10-12%2016.01.45.png?raw=1\">"
   ]
  },
  {
   "cell_type": "markdown",
   "metadata": {},
   "source": [
    "- 좌측의 Fill Color 옆에 있는 점 3개 클릭\n",
    "    - Select a field에 percent 클릭\n",
    "<img src=\"https://www.dropbox.com/s/g0iautf1tb55y89/Screenshot%202019-10-12%2016.03.24.png?raw=1\">"
   ]
  },
  {
   "cell_type": "code",
   "execution_count": 21,
   "metadata": {},
   "outputs": [],
   "source": [
    "zip_df = df[['zip_code', 'zip_code_geom', 'pickup_hour', 'cnt']]"
   ]
  },
  {
   "cell_type": "code",
   "execution_count": 22,
   "metadata": {},
   "outputs": [],
   "source": [
    "zip_df['date'] = zip_df['pickup_hour'].dt.date"
   ]
  },
  {
   "cell_type": "code",
   "execution_count": 23,
   "metadata": {},
   "outputs": [
    {
     "data": {
      "image/png": "[encoded data removed]",
      "text/plain": [
       "<Figure size 432x288 with 1 Axes>"
      ]
     },
     "metadata": {
      "image/png": {
       "height": 268,
       "width": 389
      },
      "needs_background": "light"
     },
     "output_type": "display_data"
    }
   ],
   "source": [
    "zip_df[zip_df['zip_code'] == '10001'].set_index('pickup_hour')['cnt'].plot();"
   ]
  },
  {
   "cell_type": "markdown",
   "metadata": {},
   "source": [
    "### 하루 단위 zip_code별 Trip Box Plot"
   ]
  },
  {
   "cell_type": "code",
   "execution_count": 24,
   "metadata": {},
   "outputs": [],
   "source": [
    "filter_zip_df = zip_df[zip_df['zip_code'].isin(filter_zip_code)]"
   ]
  },
  {
   "cell_type": "code",
   "execution_count": 25,
   "metadata": {},
   "outputs": [],
   "source": [
    "filter_zip_daily_df = filter_zip_df.groupby(['zip_code','date'])[['cnt']].sum().reset_index()"
   ]
  },
  {
   "cell_type": "code",
   "execution_count": 26,
   "metadata": {},
   "outputs": [
    {
     "data": {
      "application/vnd.plotly.v1+json": {
       "config": {
        "linkText": "Export to plot.ly",
        "plotlyServerURL": "https://plot.ly",
        "showLink": true
       },
       "data": [
        {
         "boxpoints": false,
         "line": {
          "width": 1.3
         },
         "marker": {
          "color": "rgba(255, 153, 51, 1.0)"
         },
         "name": "10001",
         "orientation": "v",
         "type": "box",
         "y": [
          16770,
          17046,
          20478,
          16743,
          17441,
          18544,
          20846,
          22799,
          21773,
          25343,
          20844,
          21735,
          23843,
          21389,
          21626,
          22900,
          22495,
          21921,
          18347,
          20405,
          21170,
          22038,
          23654,
          23572,
          20230,
          10789,
          5054,
          18005,
          20982,
          23742,
          25039
         ]
        },
        {
         "boxpoints": false,
         "line": {
          "width": 1.3
         },
         "marker": {
          "color": "rgba(55, 128, 191, 1.0)"
         },
         "name": "10002",
         "orientation": "v",
         "type": "box",
         "y": [
          9703,
          5538,
          10507,
          9067,
          3769,
          4086,
          4990,
          5483,
          7195,
          13939,
          12908,
          4165,
          5106,
          5547,
          6066,
          8153,
          13690,
          13512,
          5571,
          4868,
          5154,
          5808,
          7576,
          12143,
          13423,
          2376,
          1741,
          4009,
          5657,
          7996,
          14781
         ]
        },
        {
         "boxpoints": false,
         "line": {
          "width": 1.3
         },
         "marker": {
          "color": "rgba(50, 171, 96, 1.0)"
         },
         "name": "10003",
         "orientation": "v",
         "type": "box",
         "y": [
          21226,
          18452,
          26384,
          19516,
          16264,
          17745,
          21063,
          22227,
          23696,
          34699,
          26613,
          17697,
          21668,
          21632,
          22407,
          26318,
          33397,
          30089,
          17418,
          19317,
          20787,
          22730,
          25329,
          30319,
          26257,
          10553,
          7403,
          18480,
          21956,
          26214,
          36742
         ]
        },
        {
         "boxpoints": false,
         "line": {
          "width": 1.3
         },
         "marker": {
          "color": "rgba(128, 0, 128, 1.0)"
         },
         "name": "10004",
         "orientation": "v",
         "type": "box",
         "y": [
          2137,
          1972,
          1560,
          1182,
          1921,
          1798,
          2277,
          2470,
          2299,
          1799,
          1349,
          1936,
          2511,
          2541,
          2701,
          2520,
          1846,
          1220,
          1264,
          2128,
          2327,
          2556,
          2509,
          1553,
          1511,
          917,
          461,
          1912,
          2323,
          2428,
          1772
         ]
        },
        {
         "boxpoints": false,
         "line": {
          "width": 1.3
         },
         "marker": {
          "color": "rgba(219, 64, 82, 1.0)"
         },
         "name": "10005",
         "orientation": "v",
         "type": "box",
         "y": [
          1485,
          1234,
          1290,
          964,
          1475,
          1735,
          1939,
          2032,
          2087,
          1757,
          1294,
          1781,
          2030,
          2085,
          2123,
          2137,
          1643,
          1223,
          1246,
          1898,
          2146,
          2141,
          2259,
          1711,
          1384,
          935,
          508,
          1742,
          2092,
          2191,
          1887
         ]
        },
        {
         "boxpoints": false,
         "line": {
          "width": 1.3
         },
         "marker": {
          "color": "rgba(0, 128, 128, 1.0)"
         },
         "name": "10006",
         "orientation": "v",
         "type": "box",
         "y": [
          1656,
          1405,
          1575,
          993,
          956,
          938,
          1158,
          1199,
          1069,
          1502,
          1040,
          1162,
          1243,
          1143,
          1206,
          1280,
          1600,
          1071,
          990,
          1058,
          1101,
          1252,
          1238,
          1218,
          1191,
          469,
          369,
          904,
          1109,
          1204,
          1409
         ]
        },
        {
         "boxpoints": false,
         "line": {
          "width": 1.3
         },
         "marker": {
          "color": "rgba(255, 255, 51, 1.0)"
         },
         "name": "10007",
         "orientation": "v",
         "type": "box",
         "y": [
          2868,
          2437,
          2358,
          1844,
          2438,
          2502,
          3056,
          3293,
          3234,
          3392,
          2644,
          2747,
          3323,
          3226,
          3417,
          3550,
          2873,
          2372,
          1924,
          2853,
          3047,
          3378,
          3627,
          2789,
          2532,
          1502,
          863,
          2691,
          3215,
          3724,
          3393
         ]
        },
        {
         "boxpoints": false,
         "line": {
          "width": 1.3
         },
         "marker": {
          "color": "rgba(128, 128, 0, 1.0)"
         },
         "name": "10009",
         "orientation": "v",
         "type": "box",
         "y": [
          10049,
          7158,
          10918,
          8098,
          5213,
          5373,
          6488,
          6481,
          7949,
          14088,
          10932,
          4935,
          5973,
          6312,
          6722,
          8840,
          13734,
          12763,
          6671,
          5699,
          5933,
          6738,
          8555,
          12842,
          11739,
          3778,
          2489,
          5380,
          6399,
          9071,
          15583
         ]
        },
        {
         "boxpoints": false,
         "line": {
          "width": 1.3
         },
         "marker": {
          "color": "rgba(251, 128, 114, 1.0)"
         },
         "name": "10010",
         "orientation": "v",
         "type": "box",
         "y": [
          10306,
          9334,
          11338,
          8738,
          10431,
          11680,
          13315,
          14207,
          14140,
          15717,
          12653,
          12183,
          13944,
          13982,
          14378,
          14957,
          14114,
          12763,
          9540,
          12859,
          13652,
          14480,
          15032,
          14044,
          11483,
          6914,
          4127,
          12162,
          13891,
          15515,
          16029
         ]
        },
        {
         "boxpoints": false,
         "line": {
          "width": 1.3
         },
         "marker": {
          "color": "rgba(128, 177, 211, 1.0)"
         },
         "name": "10011",
         "orientation": "v",
         "type": "box",
         "y": [
          15644,
          16040,
          20606,
          15877,
          16002,
          17649,
          20367,
          21880,
          22150,
          29604,
          22848,
          17914,
          21453,
          21873,
          22522,
          24958,
          29201,
          23831,
          17287,
          18918,
          21284,
          22866,
          24590,
          26209,
          22821,
          10582,
          6341,
          18399,
          21221,
          25201,
          31693
         ]
        },
        {
         "boxpoints": false,
         "line": {
          "width": 1.3
         },
         "marker": {
          "color": "rgba(128, 177, 211, 0.8999999999999999)"
         },
         "name": "10012",
         "orientation": "v",
         "type": "box",
         "y": [
          9693,
          10435,
          13945,
          10729,
          8401,
          8812,
          10528,
          11012,
          12306,
          18997,
          14307,
          8941,
          11179,
          11331,
          11820,
          13539,
          17385,
          14341,
          9852,
          9765,
          10726,
          11792,
          13150,
          16171,
          14469,
          4431,
          3729,
          9191,
          11037,
          13872,
          18318
         ]
        },
        {
         "boxpoints": false,
         "line": {
          "width": 1.3
         },
         "marker": {
          "color": "rgba(255, 153, 51, 0.8999999999999999)"
         },
         "name": "10013",
         "orientation": "v",
         "type": "box",
         "y": [
          8744,
          7670,
          8514,
          6459,
          7797,
          8279,
          9465,
          10291,
          11037,
          12164,
          10394,
          9234,
          10201,
          10562,
          11149,
          11645,
          11603,
          9862,
          6856,
          9616,
          10572,
          11159,
          11280,
          11433,
          10238,
          4499,
          2879,
          8389,
          10657,
          12160,
          12669
         ]
        },
        {
         "boxpoints": false,
         "line": {
          "width": 1.3
         },
         "marker": {
          "color": "rgba(55, 128, 191, 0.8999999999999999)"
         },
         "name": "10014",
         "orientation": "v",
         "type": "box",
         "y": [
          10797,
          10855,
          16024,
          11651,
          9598,
          10461,
          11978,
          13128,
          14328,
          21170,
          16593,
          10942,
          13223,
          13607,
          13939,
          16062,
          20137,
          17782,
          11044,
          11826,
          13015,
          13900,
          16127,
          19320,
          17489,
          6006,
          3905,
          10748,
          12782,
          16402,
          21552
         ]
        },
        {
         "boxpoints": false,
         "line": {
          "width": 1.3
         },
         "marker": {
          "color": "rgba(50, 171, 96, 0.8999999999999999)"
         },
         "name": "10016",
         "orientation": "v",
         "type": "box",
         "y": [
          21076,
          18222,
          20313,
          15118,
          17884,
          20415,
          22272,
          24345,
          24829,
          26319,
          20062,
          20577,
          23526,
          23593,
          24331,
          26011,
          24178,
          20890,
          16276,
          21060,
          22843,
          24315,
          26109,
          24304,
          19182,
          12498,
          6625,
          20036,
          23511,
          26619,
          26201
         ]
        },
        {
         "boxpoints": false,
         "line": {
          "width": 1.3
         },
         "marker": {
          "color": "rgba(128, 0, 128, 0.8999999999999999)"
         },
         "name": "10017",
         "orientation": "v",
         "type": "box",
         "y": [
          10664,
          11705,
          11916,
          8784,
          13659,
          15931,
          17211,
          18698,
          16933,
          13364,
          10299,
          16127,
          17673,
          18771,
          18099,
          16928,
          12632,
          10474,
          11019,
          16458,
          18212,
          18553,
          17537,
          12320,
          9787,
          8597,
          4580,
          15611,
          17281,
          16916,
          12892
         ]
        },
        {
         "boxpoints": false,
         "line": {
          "width": 1.3
         },
         "marker": {
          "color": "rgba(219, 64, 82, 0.8999999999999999)"
         },
         "name": "10018",
         "orientation": "v",
         "type": "box",
         "y": [
          7904,
          8687,
          9170,
          7675,
          9629,
          10468,
          11675,
          12209,
          11528,
          10630,
          9672,
          12631,
          13780,
          12634,
          12298,
          12369,
          10363,
          9798,
          9465,
          11979,
          12188,
          12257,
          12425,
          10410,
          9115,
          6212,
          2625,
          9905,
          11664,
          12488,
          11077
         ]
        },
        {
         "boxpoints": false,
         "line": {
          "width": 1.3
         },
         "marker": {
          "color": "rgba(0, 128, 128, 0.8999999999999999)"
         },
         "name": "10019",
         "orientation": "v",
         "type": "box",
         "y": [
          23614,
          22443,
          26120,
          20168,
          23620,
          25676,
          28843,
          29973,
          28937,
          30186,
          25567,
          27703,
          32728,
          31502,
          30369,
          30143,
          27930,
          27521,
          20952,
          26504,
          29482,
          30380,
          29797,
          28481,
          23336,
          13786,
          10056,
          24287,
          27966,
          30298,
          28899
         ]
        },
        {
         "boxpoints": false,
         "line": {
          "width": 1.3
         },
         "marker": {
          "color": "rgba(255, 255, 51, 0.8999999999999999)"
         },
         "name": "10020",
         "orientation": "v",
         "type": "box",
         "y": [
          1192,
          1452,
          1503,
          1096,
          1482,
          1670,
          1739,
          1775,
          1499,
          1314,
          1090,
          1617,
          1574,
          1808,
          1597,
          1545,
          1384,
          1060,
          1190,
          1707,
          1699,
          1694,
          1691,
          1267,
          1077,
          682,
          662,
          1558,
          1410,
          1484,
          1388
         ]
        },
        {
         "boxpoints": false,
         "line": {
          "width": 1.3
         },
         "marker": {
          "color": "rgba(128, 128, 0, 0.8999999999999999)"
         },
         "name": "10021",
         "orientation": "v",
         "type": "box",
         "y": [
          9236,
          10538,
          10430,
          8511,
          14068,
          14746,
          17242,
          16878,
          15461,
          14835,
          11016,
          14529,
          16650,
          16453,
          16695,
          16785,
          12955,
          10345,
          11153,
          15718,
          16562,
          16927,
          16948,
          13192,
          11456,
          10403,
          5498,
          15022,
          16276,
          17303,
          14656
         ]
        },
        {
         "boxpoints": false,
         "line": {
          "width": 1.3
         },
         "marker": {
          "color": "rgba(251, 128, 114, 0.8999999999999999)"
         },
         "name": "10022",
         "orientation": "v",
         "type": "box",
         "y": [
          17582,
          18181,
          20050,
          14911,
          21519,
          23147,
          25455,
          26713,
          24794,
          23370,
          17751,
          23863,
          26840,
          27347,
          27122,
          25879,
          22253,
          17404,
          17340,
          23941,
          26450,
          27610,
          25800,
          21205,
          16887,
          11810,
          8352,
          22619,
          25229,
          25457,
          22950
         ]
        },
        {
         "boxpoints": false,
         "line": {
          "width": 1.3
         },
         "marker": {
          "color": "rgba(251, 128, 114, 0.7999999999999998)"
         },
         "name": "10023",
         "orientation": "v",
         "type": "box",
         "y": [
          12798,
          13087,
          14593,
          11368,
          13529,
          14290,
          15931,
          16484,
          15692,
          19909,
          15255,
          13812,
          16570,
          15301,
          16595,
          16923,
          17126,
          14287,
          12983,
          14934,
          15973,
          16107,
          17187,
          16925,
          14600,
          9162,
          5654,
          14509,
          16012,
          16617,
          18836
         ]
        },
        {
         "boxpoints": false,
         "line": {
          "width": 1.3
         },
         "marker": {
          "color": "rgba(128, 177, 211, 0.7999999999999998)"
         },
         "name": "10024",
         "orientation": "v",
         "type": "box",
         "y": [
          10708,
          9739,
          11208,
          9173,
          10374,
          11226,
          12563,
          12496,
          12028,
          16874,
          13103,
          10410,
          12219,
          11505,
          12147,
          12868,
          12855,
          12281,
          10265,
          11080,
          11592,
          12281,
          12731,
          13251,
          11814,
          6996,
          4351,
          10731,
          11734,
          12822,
          14348
         ]
        },
        {
         "boxpoints": false,
         "line": {
          "width": 1.3
         },
         "marker": {
          "color": "rgba(255, 153, 51, 0.7999999999999998)"
         },
         "name": "10025",
         "orientation": "v",
         "type": "box",
         "y": [
          9115,
          7354,
          8446,
          7602,
          8128,
          8714,
          9725,
          9874,
          9716,
          11260,
          9612,
          8279,
          9598,
          9156,
          9558,
          10420,
          9961,
          9164,
          7635,
          8815,
          9610,
          9664,
          10624,
          10167,
          9700,
          6194,
          3256,
          8397,
          9769,
          11300,
          13290
         ]
        },
        {
         "boxpoints": false,
         "line": {
          "width": 1.3
         },
         "marker": {
          "color": "rgba(55, 128, 191, 0.7999999999999998)"
         },
         "name": "10026",
         "orientation": "v",
         "type": "box",
         "y": [
          1349,
          705,
          926,
          870,
          717,
          795,
          886,
          853,
          1022,
          1101,
          935,
          713,
          829,
          795,
          856,
          1014,
          1014,
          1247,
          688,
          747,
          724,
          713,
          960,
          1045,
          901,
          695,
          381,
          727,
          861,
          1203,
          1683
         ]
        },
        {
         "boxpoints": false,
         "line": {
          "width": 1.3
         },
         "marker": {
          "color": "rgba(50, 171, 96, 0.7999999999999998)"
         },
         "name": "10027",
         "orientation": "v",
         "type": "box",
         "y": [
          2176,
          938,
          1243,
          1200,
          1148,
          1293,
          1500,
          1478,
          1681,
          1517,
          1397,
          1328,
          1498,
          1420,
          1606,
          1747,
          1622,
          1845,
          1118,
          1447,
          1585,
          1716,
          1794,
          1674,
          1545,
          1265,
          499,
          1417,
          1756,
          2424,
          2535
         ]
        },
        {
         "boxpoints": false,
         "line": {
          "width": 1.3
         },
         "marker": {
          "color": "rgba(128, 0, 128, 0.7999999999999998)"
         },
         "name": "10028",
         "orientation": "v",
         "type": "box",
         "y": [
          9509,
          9373,
          10497,
          8360,
          10718,
          10179,
          12145,
          12152,
          11979,
          14585,
          10841,
          9977,
          11775,
          11514,
          11870,
          13057,
          12567,
          10105,
          9460,
          10793,
          11280,
          11846,
          13212,
          12768,
          10614,
          7415,
          4018,
          10388,
          11289,
          13266,
          14129
         ]
        },
        {
         "boxpoints": false,
         "line": {
          "width": 1.3
         },
         "marker": {
          "color": "rgba(219, 64, 82, 0.7999999999999998)"
         },
         "name": "10029",
         "orientation": "v",
         "type": "box",
         "y": [
          3002,
          2109,
          2514,
          2172,
          2294,
          2640,
          2764,
          2754,
          2928,
          3126,
          2457,
          2334,
          2544,
          2458,
          2559,
          2948,
          2917,
          2554,
          1954,
          2290,
          2197,
          2225,
          2840,
          2722,
          2284,
          2103,
          1055,
          2168,
          2678,
          3444,
          3628
         ]
        },
        {
         "boxpoints": false,
         "line": {
          "width": 1.3
         },
         "marker": {
          "color": "rgba(0, 128, 128, 0.7999999999999998)"
         },
         "name": "10031",
         "orientation": "v",
         "type": "box",
         "y": [
          1450,
          423,
          499,
          518,
          455,
          459,
          508,
          590,
          615,
          636,
          632,
          424,
          481,
          469,
          495,
          640,
          607,
          859,
          435,
          420,
          471,
          443,
          555,
          631,
          570,
          431,
          206,
          408,
          496,
          741,
          842
         ]
        },
        {
         "boxpoints": false,
         "line": {
          "width": 1.3
         },
         "marker": {
          "color": "rgba(255, 255, 51, 0.7999999999999998)"
         },
         "name": "10032",
         "orientation": "v",
         "type": "box",
         "y": [
          766,
          186,
          193,
          242,
          253,
          270,
          274,
          302,
          340,
          269,
          285,
          256,
          288,
          284,
          251,
          342,
          284,
          342,
          183,
          234,
          283,
          266,
          293,
          242,
          238,
          264,
          111,
          243,
          241,
          399,
          341
         ]
        },
        {
         "boxpoints": false,
         "line": {
          "width": 1.3
         },
         "marker": {
          "color": "rgba(128, 128, 0, 0.7999999999999998)"
         },
         "name": "10035",
         "orientation": "v",
         "type": "box",
         "y": [
          1276,
          609,
          813,
          714,
          729,
          718,
          756,
          809,
          895,
          868,
          714,
          650,
          690,
          606,
          744,
          932,
          1062,
          889,
          595,
          603,
          638,
          666,
          822,
          848,
          815,
          742,
          297,
          620,
          750,
          1210,
          1223
         ]
        },
        {
         "boxpoints": false,
         "line": {
          "width": 1.3
         },
         "marker": {
          "color": "rgba(128, 128, 0, 0.7)"
         },
         "name": "10036",
         "orientation": "v",
         "type": "box",
         "y": [
          19151,
          18287,
          21478,
          17972,
          16425,
          18583,
          20401,
          20902,
          19578,
          23429,
          20795,
          19994,
          22077,
          21063,
          19880,
          21689,
          22653,
          23337,
          16313,
          18027,
          19865,
          19932,
          20593,
          22069,
          19339,
          9564,
          7207,
          16581,
          17969,
          20814,
          22969
         ]
        },
        {
         "boxpoints": false,
         "line": {
          "width": 1.3
         },
         "marker": {
          "color": "rgba(251, 128, 114, 0.7)"
         },
         "name": "10038",
         "orientation": "v",
         "type": "box",
         "y": [
          2562,
          1931,
          2025,
          1531,
          1825,
          1929,
          2161,
          2385,
          2497,
          2611,
          1933,
          2084,
          2298,
          2427,
          2517,
          2700,
          2570,
          1955,
          1568,
          2132,
          2354,
          2492,
          2669,
          2569,
          2124,
          1174,
          638,
          1957,
          2437,
          2912,
          2752
         ]
        },
        {
         "boxpoints": false,
         "line": {
          "width": 1.3
         },
         "marker": {
          "color": "rgba(128, 177, 211, 0.7)"
         },
         "name": "10065",
         "orientation": "v",
         "type": "box",
         "y": [
          9194,
          10209,
          11400,
          8390,
          12644,
          13606,
          15144,
          15925,
          15064,
          14510,
          10546,
          13412,
          15754,
          15492,
          15557,
          15764,
          12790,
          9424,
          10927,
          14205,
          14646,
          15882,
          15808,
          12796,
          10121,
          8738,
          5177,
          13806,
          15836,
          16143,
          14236
         ]
        },
        {
         "boxpoints": false,
         "line": {
          "width": 1.3
         },
         "marker": {
          "color": "rgba(255, 153, 51, 0.7)"
         },
         "name": "10069",
         "orientation": "v",
         "type": "box",
         "y": [
          610,
          619,
          644,
          607,
          628,
          709,
          790,
          781,
          685,
          930,
          763,
          642,
          717,
          695,
          733,
          832,
          838,
          718,
          729,
          759,
          738,
          787,
          861,
          858,
          813,
          415,
          209,
          723,
          750,
          791,
          951
         ]
        },
        {
         "boxpoints": false,
         "line": {
          "width": 1.3
         },
         "marker": {
          "color": "rgba(55, 128, 191, 0.7)"
         },
         "name": "10075",
         "orientation": "v",
         "type": "box",
         "y": [
          5446,
          5641,
          6100,
          4757,
          7070,
          7086,
          8151,
          8223,
          7951,
          8541,
          6165,
          6679,
          8060,
          7976,
          8087,
          8628,
          7302,
          5643,
          5873,
          7545,
          7616,
          8358,
          8486,
          7498,
          6239,
          5041,
          3132,
          7225,
          7873,
          8830,
          8369
         ]
        },
        {
         "boxpoints": false,
         "line": {
          "width": 1.3
         },
         "marker": {
          "color": "rgba(50, 171, 96, 0.7)"
         },
         "name": "10103",
         "orientation": "v",
         "type": "box",
         "y": [
          419,
          478,
          572,
          387,
          448,
          512,
          467,
          562,
          513,
          535,
          492,
          610,
          612,
          595,
          552,
          509,
          527,
          647,
          369,
          556,
          557,
          649,
          475,
          535,
          384,
          219,
          184,
          472,
          457,
          482,
          520
         ]
        },
        {
         "boxpoints": false,
         "line": {
          "width": 1.3
         },
         "marker": {
          "color": "rgba(128, 0, 128, 0.7)"
         },
         "name": "10110",
         "orientation": "v",
         "type": "box",
         "y": [
          411,
          330,
          305,
          222,
          399,
          505,
          504,
          529,
          477,
          366,
          273,
          503,
          555,
          580,
          501,
          438,
          305,
          220,
          256,
          543,
          580,
          544,
          507,
          306,
          311,
          222,
          186,
          499,
          479,
          502,
          343
         ]
        },
        {
         "boxpoints": false,
         "line": {
          "width": 1.3
         },
         "marker": {
          "color": "rgba(219, 64, 82, 0.7)"
         },
         "name": "10111",
         "orientation": "v",
         "type": "box",
         "y": [
          244,
          259,
          310,
          183,
          237,
          240,
          267,
          252,
          184,
          177,
          210,
          209,
          225,
          255,
          249,
          222,
          246,
          202,
          198,
          252,
          245,
          269,
          272,
          252,
          175,
          80,
          87,
          233,
          226,
          206,
          232
         ]
        },
        {
         "boxpoints": false,
         "line": {
          "width": 1.3
         },
         "marker": {
          "color": "rgba(0, 128, 128, 0.7)"
         },
         "name": "10112",
         "orientation": "v",
         "type": "box",
         "y": [
          204,
          282,
          335,
          188,
          351,
          285,
          328,
          326,
          258,
          210,
          176,
          302,
          283,
          334,
          277,
          261,
          301,
          210,
          276,
          245,
          306,
          265,
          347,
          306,
          218,
          117,
          115,
          307,
          227,
          245,
          250
         ]
        },
        {
         "boxpoints": false,
         "line": {
          "width": 1.3
         },
         "marker": {
          "color": "rgba(255, 255, 51, 0.7)"
         },
         "name": "10119",
         "orientation": "v",
         "type": "box",
         "y": [
          3704,
          5431,
          5257,
          5465,
          4818,
          5120,
          5323,
          5657,
          5178,
          5405,
          4425,
          5238,
          5325,
          5379,
          5565,
          6370,
          5408,
          4802,
          5325,
          5598,
          5594,
          5929,
          6270,
          5314,
          4680,
          3347,
          765,
          4773,
          5554,
          5862,
          5458
         ]
        },
        {
         "boxpoints": false,
         "line": {
          "width": 1.3
         },
         "marker": {
          "color": "rgba(255, 255, 51, 0.5999999999999999)"
         },
         "name": "10128",
         "orientation": "v",
         "type": "box",
         "y": [
          9250,
          9096,
          10478,
          8396,
          11493,
          11676,
          13498,
          13350,
          13121,
          14628,
          11175,
          11856,
          12933,
          12648,
          13154,
          13814,
          12580,
          10359,
          9664,
          12246,
          12363,
          13259,
          14009,
          12956,
          10845,
          8238,
          4355,
          11706,
          12655,
          14584,
          14674
         ]
        },
        {
         "boxpoints": false,
         "line": {
          "width": 1.3
         },
         "marker": {
          "color": "rgba(128, 128, 0, 0.5999999999999999)"
         },
         "name": "10152",
         "orientation": "v",
         "type": "box",
         "y": [
          115,
          183,
          178,
          139,
          440,
          490,
          572,
          535,
          403,
          230,
          194,
          513,
          611,
          635,
          549,
          383,
          234,
          169,
          232,
          577,
          617,
          631,
          429,
          196,
          191,
          160,
          170,
          535,
          537,
          426,
          232
         ]
        },
        {
         "boxpoints": false,
         "line": {
          "width": 1.3
         },
         "marker": {
          "color": "rgba(251, 128, 114, 0.5999999999999999)"
         },
         "name": "10153",
         "orientation": "v",
         "type": "box",
         "y": [
          469,
          538,
          702,
          407,
          620,
          636,
          717,
          692,
          593,
          565,
          443,
          663,
          656,
          696,
          682,
          653,
          583,
          513,
          445,
          597,
          636,
          676,
          594,
          565,
          461,
          222,
          308,
          600,
          557,
          581,
          641
         ]
        },
        {
         "boxpoints": false,
         "line": {
          "width": 1.3
         },
         "marker": {
          "color": "rgba(128, 177, 211, 0.5999999999999999)"
         },
         "name": "10154",
         "orientation": "v",
         "type": "box",
         "y": [
          155,
          218,
          207,
          171,
          381,
          416,
          466,
          477,
          408,
          274,
          220,
          528,
          551,
          577,
          531,
          413,
          303,
          193,
          229,
          522,
          525,
          583,
          434,
          232,
          193,
          161,
          162,
          478,
          515,
          386,
          259
         ]
        },
        {
         "boxpoints": false,
         "line": {
          "width": 1.3
         },
         "marker": {
          "color": "rgba(255, 153, 51, 0.5999999999999999)"
         },
         "name": "10165",
         "orientation": "v",
         "type": "box",
         "y": [
          572,
          668,
          745,
          592,
          776,
          860,
          979,
          1062,
          935,
          863,
          628,
          1025,
          1074,
          1080,
          1027,
          927,
          850,
          770,
          859,
          1046,
          1158,
          1079,
          999,
          849,
          707,
          575,
          189,
          917,
          1054,
          915,
          941
         ]
        },
        {
         "boxpoints": false,
         "line": {
          "width": 1.3
         },
         "marker": {
          "color": "rgba(55, 128, 191, 0.5999999999999999)"
         },
         "name": "10167",
         "orientation": "v",
         "type": "box",
         "y": [
          157,
          135,
          107,
          97,
          306,
          324,
          343,
          399,
          292,
          143,
          155,
          384,
          382,
          419,
          401,
          345,
          154,
          106,
          174,
          401,
          447,
          409,
          358,
          147,
          115,
          173,
          110,
          377,
          385,
          314,
          127
         ]
        },
        {
         "boxpoints": false,
         "line": {
          "width": 1.3
         },
         "marker": {
          "color": "rgba(50, 171, 96, 0.5999999999999999)"
         },
         "name": "10168",
         "orientation": "v",
         "type": "box",
         "y": [
          547,
          461,
          658,
          447,
          404,
          454,
          450,
          561,
          592,
          612,
          489,
          534,
          569,
          579,
          533,
          506,
          564,
          545,
          389,
          479,
          567,
          582,
          507,
          501,
          440,
          300,
          105,
          442,
          539,
          561,
          504
         ]
        },
        {
         "boxpoints": false,
         "line": {
          "width": 1.3
         },
         "marker": {
          "color": "rgba(128, 0, 128, 0.5999999999999999)"
         },
         "name": "10170",
         "orientation": "v",
         "type": "box",
         "y": [
          743,
          711,
          910,
          692,
          755,
          911,
          914,
          1084,
          1005,
          990,
          891,
          999,
          1064,
          1142,
          1074,
          1011,
          830,
          785,
          716,
          927,
          1071,
          1101,
          1063,
          788,
          707,
          528,
          224,
          831,
          1002,
          981,
          857
         ]
        },
        {
         "boxpoints": false,
         "line": {
          "width": 1.3
         },
         "marker": {
          "color": "rgba(219, 64, 82, 0.5999999999999999)"
         },
         "name": "10171",
         "orientation": "v",
         "type": "box",
         "y": [
          318,
          356,
          324,
          219,
          369,
          387,
          449,
          459,
          470,
          380,
          339,
          495,
          503,
          563,
          490,
          440,
          389,
          356,
          219,
          463,
          545,
          454,
          453,
          313,
          236,
          218,
          153,
          392,
          456,
          401,
          339
         ]
        },
        {
         "boxpoints": false,
         "line": {
          "width": 1.3
         },
         "marker": {
          "color": "rgba(0, 128, 128, 0.5999999999999999)"
         },
         "name": "10172",
         "orientation": "v",
         "type": "box",
         "y": [
          286,
          292,
          190,
          180,
          418,
          509,
          488,
          517,
          499,
          279,
          225,
          530,
          547,
          638,
          573,
          411,
          314,
          207,
          214,
          570,
          628,
          567,
          492,
          300,
          241,
          257,
          173,
          532,
          555,
          458,
          238
         ]
        },
        {
         "boxpoints": false,
         "line": {
          "width": 1.3
         },
         "marker": {
          "color": "rgba(0, 128, 128, 0.49999999999999983)"
         },
         "name": "10173",
         "orientation": "v",
         "type": "box",
         "y": [
          183,
          232,
          180,
          144,
          273,
          332,
          346,
          377,
          309,
          206,
          149,
          326,
          341,
          342,
          360,
          297,
          195,
          136,
          228,
          330,
          364,
          358,
          335,
          173,
          167,
          171,
          96,
          270,
          277,
          270,
          199
         ]
        },
        {
         "boxpoints": false,
         "line": {
          "width": 1.3
         },
         "marker": {
          "color": "rgba(255, 255, 51, 0.49999999999999983)"
         },
         "name": "10174",
         "orientation": "v",
         "type": "box",
         "y": [
          377,
          437,
          451,
          387,
          513,
          597,
          689,
          683,
          684,
          541,
          459,
          620,
          724,
          740,
          699,
          669,
          498,
          407,
          472,
          713,
          726,
          717,
          690,
          471,
          435,
          329,
          181,
          547,
          680,
          698,
          504
         ]
        },
        {
         "boxpoints": false,
         "line": {
          "width": 1.3
         },
         "marker": {
          "color": "rgba(128, 128, 0, 0.49999999999999983)"
         },
         "name": "10199",
         "orientation": "v",
         "type": "box",
         "y": [
          527,
          812,
          762,
          766,
          728,
          705,
          790,
          838,
          900,
          770,
          771,
          823,
          749,
          805,
          864,
          922,
          804,
          792,
          854,
          864,
          895,
          863,
          894,
          805,
          768,
          510,
          154,
          787,
          884,
          814,
          767
         ]
        },
        {
         "boxpoints": false,
         "line": {
          "width": 1.3
         },
         "marker": {
          "color": "rgba(251, 128, 114, 0.49999999999999983)"
         },
         "name": "10280",
         "orientation": "v",
         "type": "box",
         "y": [
          1511,
          1560,
          1313,
          1014,
          1565,
          1570,
          1859,
          2005,
          1858,
          1721,
          1335,
          1667,
          1919,
          1995,
          2091,
          2028,
          1746,
          1265,
          1155,
          1741,
          1937,
          2056,
          2005,
          1574,
          1393,
          1023,
          464,
          1767,
          1952,
          2134,
          1803
         ]
        },
        {
         "boxpoints": false,
         "line": {
          "width": 1.3
         },
         "marker": {
          "color": "rgba(128, 177, 211, 0.49999999999999983)"
         },
         "name": "10282",
         "orientation": "v",
         "type": "box",
         "y": [
          928,
          1185,
          1080,
          844,
          1558,
          1719,
          1858,
          2115,
          1945,
          1441,
          1140,
          1988,
          2177,
          2072,
          2095,
          2066,
          1479,
          1209,
          1259,
          1950,
          2074,
          1957,
          1904,
          1271,
          1195,
          1156,
          570,
          1882,
          2052,
          2035,
          1367
         ]
        },
        {
         "boxpoints": false,
         "line": {
          "width": 1.3
         },
         "marker": {
          "color": "rgba(255, 153, 51, 0.49999999999999983)"
         },
         "name": "11101",
         "orientation": "v",
         "type": "box",
         "y": [
          1736,
          874,
          1764,
          1537,
          1237,
          1208,
          1217,
          1297,
          1629,
          1968,
          1501,
          1178,
          1221,
          1429,
          1601,
          1709,
          1948,
          1755,
          1194,
          1278,
          1144,
          1243,
          1322,
          1821,
          1554,
          811,
          411,
          1111,
          1333,
          1382,
          2052
         ]
        },
        {
         "boxpoints": false,
         "line": {
          "width": 1.3
         },
         "marker": {
          "color": "rgba(55, 128, 191, 0.49999999999999983)"
         },
         "name": "11102",
         "orientation": "v",
         "type": "box",
         "y": [
          1065,
          402,
          550,
          589,
          375,
          352,
          398,
          402,
          555,
          612,
          688,
          320,
          327,
          375,
          408,
          444,
          550,
          679,
          356,
          365,
          310,
          361,
          464,
          618,
          552,
          381,
          199,
          343,
          363,
          467,
          618
         ]
        },
        {
         "boxpoints": false,
         "line": {
          "width": 1.3
         },
         "marker": {
          "color": "rgba(50, 171, 96, 0.49999999999999983)"
         },
         "name": "11103",
         "orientation": "v",
         "type": "box",
         "y": [
          1099,
          251,
          481,
          478,
          246,
          239,
          221,
          251,
          371,
          586,
          549,
          238,
          245,
          271,
          242,
          316,
          504,
          560,
          286,
          205,
          223,
          237,
          254,
          480,
          431,
          234,
          152,
          249,
          230,
          284,
          494
         ]
        },
        {
         "boxpoints": false,
         "line": {
          "width": 1.3
         },
         "marker": {
          "color": "rgba(128, 0, 128, 0.49999999999999983)"
         },
         "name": "11104",
         "orientation": "v",
         "type": "box",
         "y": [
          729,
          392,
          428,
          462,
          466,
          395,
          470,
          485,
          438,
          618,
          443,
          403,
          388,
          366,
          413,
          509,
          678,
          653,
          425,
          415,
          386,
          442,
          510,
          703,
          583,
          360,
          211,
          375,
          414,
          481,
          657
         ]
        },
        {
         "boxpoints": false,
         "line": {
          "width": 1.3
         },
         "marker": {
          "color": "rgba(219, 64, 82, 0.49999999999999983)"
         },
         "name": "11106",
         "orientation": "v",
         "type": "box",
         "y": [
          1288,
          497,
          755,
          734,
          478,
          475,
          525,
          562,
          724,
          858,
          888,
          497,
          480,
          539,
          523,
          617,
          789,
          832,
          496,
          436,
          455,
          461,
          595,
          728,
          728,
          440,
          238,
          452,
          479,
          628,
          799
         ]
        },
        {
         "boxpoints": false,
         "line": {
          "width": 1.3
         },
         "marker": {
          "color": "rgba(219, 64, 82, 0.39999999999999974)"
         },
         "name": "11201",
         "orientation": "v",
         "type": "box",
         "y": [
          2351,
          1180,
          1433,
          1273,
          1318,
          1381,
          1631,
          1746,
          1785,
          2055,
          1710,
          1374,
          1578,
          1601,
          1763,
          2009,
          1837,
          1887,
          1202,
          1446,
          1579,
          1552,
          1831,
          1660,
          1612,
          1036,
          512,
          1504,
          1839,
          2465,
          2422
         ]
        },
        {
         "boxpoints": false,
         "line": {
          "width": 1.3
         },
         "marker": {
          "color": "rgba(0, 128, 128, 0.39999999999999974)"
         },
         "name": "11205",
         "orientation": "v",
         "type": "box",
         "y": [
          716,
          162,
          272,
          260,
          171,
          172,
          219,
          201,
          280,
          384,
          322,
          178,
          207,
          216,
          207,
          293,
          425,
          434,
          221,
          189,
          227,
          212,
          234,
          371,
          342,
          133,
          100,
          169,
          267,
          354,
          499
         ]
        },
        {
         "boxpoints": false,
         "line": {
          "width": 1.3
         },
         "marker": {
          "color": "rgba(255, 255, 51, 0.39999999999999974)"
         },
         "name": "11206",
         "orientation": "v",
         "type": "box",
         "y": [
          1302,
          165,
          314,
          338,
          164,
          162,
          193,
          175,
          250,
          464,
          448,
          145,
          169,
          174,
          210,
          308,
          554,
          568,
          190,
          154,
          160,
          176,
          284,
          485,
          573,
          120,
          77,
          152,
          216,
          301,
          637
         ]
        },
        {
         "boxpoints": false,
         "line": {
          "width": 1.3
         },
         "marker": {
          "color": "rgba(128, 128, 0, 0.39999999999999974)"
         },
         "name": "11211",
         "orientation": "v",
         "type": "box",
         "y": [
          5150,
          1218,
          2310,
          1931,
          1064,
          1086,
          1301,
          1402,
          1767,
          3261,
          3234,
          1104,
          1362,
          1407,
          1438,
          1942,
          3662,
          3918,
          1689,
          1131,
          1232,
          1344,
          1599,
          3295,
          3231,
          744,
          516,
          1055,
          1463,
          2086,
          3965
         ]
        },
        {
         "boxpoints": false,
         "line": {
          "width": 1.3
         },
         "marker": {
          "color": "rgba(251, 128, 114, 0.39999999999999974)"
         },
         "name": "11215",
         "orientation": "v",
         "type": "box",
         "y": [
          1120,
          238,
          369,
          366,
          253,
          291,
          349,
          373,
          391,
          626,
          500,
          284,
          310,
          314,
          316,
          444,
          575,
          732,
          269,
          294,
          285,
          329,
          316,
          500,
          540,
          191,
          136,
          298,
          317,
          442,
          652
         ]
        },
        {
         "boxpoints": false,
         "line": {
          "width": 1.3
         },
         "marker": {
          "color": "rgba(128, 177, 211, 0.39999999999999974)"
         },
         "name": "11217",
         "orientation": "v",
         "type": "box",
         "y": [
          1458,
          522,
          827,
          673,
          630,
          485,
          798,
          597,
          753,
          1037,
          823,
          647,
          605,
          752,
          607,
          750,
          1051,
          1096,
          502,
          611,
          548,
          581,
          644,
          930,
          835,
          305,
          201,
          527,
          607,
          1068,
          1308
         ]
        },
        {
         "boxpoints": false,
         "line": {
          "width": 1.3
         },
         "marker": {
          "color": "rgba(255, 153, 51, 0.39999999999999974)"
         },
         "name": "11222",
         "orientation": "v",
         "type": "box",
         "y": [
          1479,
          219,
          440,
          353,
          210,
          232,
          249,
          252,
          406,
          686,
          685,
          218,
          291,
          294,
          277,
          447,
          757,
          869,
          327,
          296,
          241,
          259,
          349,
          695,
          694,
          162,
          127,
          253,
          319,
          494,
          790
         ]
        },
        {
         "boxpoints": false,
         "line": {
          "width": 1.3
         },
         "marker": {
          "color": "rgba(55, 128, 191, 0.39999999999999974)"
         },
         "name": "11231",
         "orientation": "v",
         "type": "box",
         "y": [
          656,
          278,
          528,
          347,
          359,
          419,
          514,
          523,
          547,
          533,
          482,
          477,
          422,
          463,
          485,
          573,
          527,
          612,
          372,
          369,
          389,
          441,
          487,
          457,
          486,
          388,
          129,
          455,
          585,
          627,
          675
         ]
        },
        {
         "boxpoints": false,
         "line": {
          "width": 1.3
         },
         "marker": {
          "color": "rgba(50, 171, 96, 0.39999999999999974)"
         },
         "name": "11238",
         "orientation": "v",
         "type": "box",
         "y": [
          1043,
          204,
          360,
          336,
          181,
          156,
          190,
          221,
          286,
          475,
          435,
          161,
          185,
          227,
          219,
          297,
          469,
          571,
          194,
          172,
          197,
          207,
          250,
          445,
          447,
          93,
          82,
          185,
          236,
          368,
          564
         ]
        },
        {
         "boxpoints": false,
         "line": {
          "width": 1.3
         },
         "marker": {
          "color": "rgba(128, 0, 128, 0.39999999999999974)"
         },
         "name": "11371",
         "orientation": "v",
         "type": "box",
         "y": [
          6401,
          8316,
          7381,
          10917,
          11369,
          8592,
          8083,
          8953,
          8484,
          5811,
          9280,
          10344,
          9204,
          8268,
          9652,
          9218,
          4648,
          6652,
          11609,
          10035,
          8533,
          9787,
          8208,
          3914,
          8402,
          3339,
          892,
          9470,
          9341,
          8046,
          4774
         ]
        },
        {
         "boxpoints": false,
         "line": {
          "width": 1.3
         },
         "marker": {
          "color": "rgba(128, 0, 128, 0.2999999999999999)"
         },
         "name": "11377",
         "orientation": "v",
         "type": "box",
         "y": [
          828,
          374,
          403,
          396,
          450,
          382,
          402,
          419,
          476,
          422,
          432,
          409,
          392,
          403,
          407,
          515,
          497,
          609,
          334,
          386,
          350,
          369,
          406,
          531,
          463,
          426,
          197,
          360,
          360,
          492,
          526
         ]
        },
        {
         "boxpoints": false,
         "line": {
          "width": 1.3
         },
         "marker": {
          "color": "rgba(219, 64, 82, 0.2999999999999999)"
         },
         "name": "11430",
         "orientation": "v",
         "type": "box",
         "y": [
          7400,
          8225,
          8507,
          10287,
          11463,
          8751,
          7828,
          7483,
          7935,
          8010,
          8809,
          8859,
          6903,
          6531,
          7280,
          7659,
          6479,
          7296,
          9766,
          8122,
          6917,
          6927,
          7212,
          6609,
          7945,
          4235,
          1345,
          7727,
          7527,
          7079,
          6274
         ]
        }
       ],
       "layout": {
        "legend": {
         "bgcolor": "#F5F6F9",
         "font": {
          "color": "#4D5663"
         }
        },
        "paper_bgcolor": "#F5F6F9",
        "plot_bgcolor": "#F5F6F9",
        "template": {
         "data": {
          "bar": [
           {
            "error_x": {
             "color": "#2a3f5f"
            },
            "error_y": {
             "color": "#2a3f5f"
            },
            "marker": {
             "line": {
              "color": "#E5ECF6",
              "width": 0.5
             }
            },
            "type": "bar"
           }
          ],
          "barpolar": [
           {
            "marker": {
             "line": {
              "color": "#E5ECF6",
              "width": 0.5
             }
            },
            "type": "barpolar"
           }
          ],
          "carpet": [
           {
            "aaxis": {
             "endlinecolor": "#2a3f5f",
             "gridcolor": "white",
             "linecolor": "white",
             "minorgridcolor": "white",
             "startlinecolor": "#2a3f5f"
            },
            "baxis": {
             "endlinecolor": "#2a3f5f",
             "gridcolor": "white",
             "linecolor": "white",
             "minorgridcolor": "white",
             "startlinecolor": "#2a3f5f"
            },
            "type": "carpet"
           }
          ],
          "choropleth": [
           {
            "colorbar": {
             "outlinewidth": 0,
             "ticks": ""
            },
            "type": "choropleth"
           }
          ],
          "contour": [
           {
            "colorbar": {
             "outlinewidth": 0,
             "ticks": ""
            },
            "colorscale": [
             [
              0,
              "#0d0887"
             ],
             [
              0.1111111111111111,
              "#46039f"
             ],
             [
              0.2222222222222222,
              "#7201a8"
             ],
             [
              0.3333333333333333,
              "#9c179e"
             ],
             [
              0.4444444444444444,
              "#bd3786"
             ],
             [
              0.5555555555555556,
              "#d8576b"
             ],
             [
              0.6666666666666666,
              "#ed7953"
             ],
             [
              0.7777777777777778,
              "#fb9f3a"
             ],
             [
              0.8888888888888888,
              "#fdca26"
             ],
             [
              1,
              "#f0f921"
             ]
            ],
            "type": "contour"
           }
          ],
          "contourcarpet": [
           {
            "colorbar": {
             "outlinewidth": 0,
             "ticks": ""
            },
            "type": "contourcarpet"
           }
          ],
          "heatmap": [
           {
            "colorbar": {
             "outlinewidth": 0,
             "ticks": ""
            },
            "colorscale": [
             [
              0,
              "#0d0887"
             ],
             [
              0.1111111111111111,
              "#46039f"
             ],
             [
              0.2222222222222222,
              "#7201a8"
             ],
             [
              0.3333333333333333,
              "#9c179e"
             ],
             [
              0.4444444444444444,
              "#bd3786"
             ],
             [
              0.5555555555555556,
              "#d8576b"
             ],
             [
              0.6666666666666666,
              "#ed7953"
             ],
             [
              0.7777777777777778,
              "#fb9f3a"
             ],
             [
              0.8888888888888888,
              "#fdca26"
             ],
             [
              1,
              "#f0f921"
             ]
            ],
            "type": "heatmap"
           }
          ],
          "heatmapgl": [
           {
            "colorbar": {
             "outlinewidth": 0,
             "ticks": ""
            },
            "colorscale": [
             [
              0,
              "#0d0887"
             ],
             [
              0.1111111111111111,
              "#46039f"
             ],
             [
              0.2222222222222222,
              "#7201a8"
             ],
             [
              0.3333333333333333,
              "#9c179e"
             ],
             [
              0.4444444444444444,
              "#bd3786"
             ],
             [
              0.5555555555555556,
              "#d8576b"
             ],
             [
              0.6666666666666666,
              "#ed7953"
             ],
             [
              0.7777777777777778,
              "#fb9f3a"
             ],
             [
              0.8888888888888888,
              "#fdca26"
             ],
             [
              1,
              "#f0f921"
             ]
            ],
            "type": "heatmapgl"
           }
          ],
          "histogram": [
           {
            "marker": {
             "colorbar": {
              "outlinewidth": 0,
              "ticks": ""
             }
            },
            "type": "histogram"
           }
          ],
          "histogram2d": [
           {
            "colorbar": {
             "outlinewidth": 0,
             "ticks": ""
            },
            "colorscale": [
             [
              0,
              "#0d0887"
             ],
             [
              0.1111111111111111,
              "#46039f"
             ],
             [
              0.2222222222222222,
              "#7201a8"
             ],
             [
              0.3333333333333333,
              "#9c179e"
             ],
             [
              0.4444444444444444,
              "#bd3786"
             ],
             [
              0.5555555555555556,
              "#d8576b"
             ],
             [
              0.6666666666666666,
              "#ed7953"
             ],
             [
              0.7777777777777778,
              "#fb9f3a"
             ],
             [
              0.8888888888888888,
              "#fdca26"
             ],
             [
              1,
              "#f0f921"
             ]
            ],
            "type": "histogram2d"
           }
          ],
          "histogram2dcontour": [
           {
            "colorbar": {
             "outlinewidth": 0,
             "ticks": ""
            },
            "colorscale": [
             [
              0,
              "#0d0887"
             ],
             [
              0.1111111111111111,
              "#46039f"
             ],
             [
              0.2222222222222222,
              "#7201a8"
             ],
             [
              0.3333333333333333,
              "#9c179e"
             ],
             [
              0.4444444444444444,
              "#bd3786"
             ],
             [
              0.5555555555555556,
              "#d8576b"
             ],
             [
              0.6666666666666666,
              "#ed7953"
             ],
             [
              0.7777777777777778,
              "#fb9f3a"
             ],
             [
              0.8888888888888888,
              "#fdca26"
             ],
             [
              1,
              "#f0f921"
             ]
            ],
            "type": "histogram2dcontour"
           }
          ],
          "mesh3d": [
           {
            "colorbar": {
             "outlinewidth": 0,
             "ticks": ""
            },
            "type": "mesh3d"
           }
          ],
          "parcoords": [
           {
            "line": {
             "colorbar": {
              "outlinewidth": 0,
              "ticks": ""
             }
            },
            "type": "parcoords"
           }
          ],
          "pie": [
           {
            "automargin": true,
            "type": "pie"
           }
          ],
          "scatter": [
           {
            "marker": {
             "colorbar": {
              "outlinewidth": 0,
              "ticks": ""
             }
            },
            "type": "scatter"
           }
          ],
          "scatter3d": [
           {
            "line": {
             "colorbar": {
              "outlinewidth": 0,
              "ticks": ""
             }
            },
            "marker": {
             "colorbar": {
              "outlinewidth": 0,
              "ticks": ""
             }
            },
            "type": "scatter3d"
           }
          ],
          "scattercarpet": [
           {
            "marker": {
             "colorbar": {
              "outlinewidth": 0,
              "ticks": ""
             }
            },
            "type": "scattercarpet"
           }
          ],
          "scattergeo": [
           {
            "marker": {
             "colorbar": {
              "outlinewidth": 0,
              "ticks": ""
             }
            },
            "type": "scattergeo"
           }
          ],
          "scattergl": [
           {
            "marker": {
             "colorbar": {
              "outlinewidth": 0,
              "ticks": ""
             }
            },
            "type": "scattergl"
           }
          ],
          "scattermapbox": [
           {
            "marker": {
             "colorbar": {
              "outlinewidth": 0,
              "ticks": ""
             }
            },
            "type": "scattermapbox"
           }
          ],
          "scatterpolar": [
           {
            "marker": {
             "colorbar": {
              "outlinewidth": 0,
              "ticks": ""
             }
            },
            "type": "scatterpolar"
           }
          ],
          "scatterpolargl": [
           {
            "marker": {
             "colorbar": {
              "outlinewidth": 0,
              "ticks": ""
             }
            },
            "type": "scatterpolargl"
           }
          ],
          "scatterternary": [
           {
            "marker": {
             "colorbar": {
              "outlinewidth": 0,
              "ticks": ""
             }
            },
            "type": "scatterternary"
           }
          ],
          "surface": [
           {
            "colorbar": {
             "outlinewidth": 0,
             "ticks": ""
            },
            "colorscale": [
             [
              0,
              "#0d0887"
             ],
             [
              0.1111111111111111,
              "#46039f"
             ],
             [
              0.2222222222222222,
              "#7201a8"
             ],
             [
              0.3333333333333333,
              "#9c179e"
             ],
             [
              0.4444444444444444,
              "#bd3786"
             ],
             [
              0.5555555555555556,
              "#d8576b"
             ],
             [
              0.6666666666666666,
              "#ed7953"
             ],
             [
              0.7777777777777778,
              "#fb9f3a"
             ],
             [
              0.8888888888888888,
              "#fdca26"
             ],
             [
              1,
              "#f0f921"
             ]
            ],
            "type": "surface"
           }
          ],
          "table": [
           {
            "cells": {
             "fill": {
              "color": "#EBF0F8"
             },
             "line": {
              "color": "white"
             }
            },
            "header": {
             "fill": {
              "color": "#C8D4E3"
             },
             "line": {
              "color": "white"
             }
            },
            "type": "table"
           }
          ]
         },
         "layout": {
          "annotationdefaults": {
           "arrowcolor": "#2a3f5f",
           "arrowhead": 0,
           "arrowwidth": 1
          },
          "coloraxis": {
           "colorbar": {
            "outlinewidth": 0,
            "ticks": ""
           }
          },
          "colorscale": {
           "diverging": [
            [
             0,
             "#8e0152"
            ],
            [
             0.1,
             "#c51b7d"
            ],
            [
             0.2,
             "#de77ae"
            ],
            [
             0.3,
             "#f1b6da"
            ],
            [
             0.4,
             "#fde0ef"
            ],
            [
             0.5,
             "#f7f7f7"
            ],
            [
             0.6,
             "#e6f5d0"
            ],
            [
             0.7,
             "#b8e186"
            ],
            [
             0.8,
             "#7fbc41"
            ],
            [
             0.9,
             "#4d9221"
            ],
            [
             1,
             "#276419"
            ]
           ],
           "sequential": [
            [
             0,
             "#0d0887"
            ],
            [
             0.1111111111111111,
             "#46039f"
            ],
            [
             0.2222222222222222,
             "#7201a8"
            ],
            [
             0.3333333333333333,
             "#9c179e"
            ],
            [
             0.4444444444444444,
             "#bd3786"
            ],
            [
             0.5555555555555556,
             "#d8576b"
            ],
            [
             0.6666666666666666,
             "#ed7953"
            ],
            [
             0.7777777777777778,
             "#fb9f3a"
            ],
            [
             0.8888888888888888,
             "#fdca26"
            ],
            [
             1,
             "#f0f921"
            ]
           ],
           "sequentialminus": [
            [
             0,
             "#0d0887"
            ],
            [
             0.1111111111111111,
             "#46039f"
            ],
            [
             0.2222222222222222,
             "#7201a8"
            ],
            [
             0.3333333333333333,
             "#9c179e"
            ],
            [
             0.4444444444444444,
             "#bd3786"
            ],
            [
             0.5555555555555556,
             "#d8576b"
            ],
            [
             0.6666666666666666,
             "#ed7953"
            ],
            [
             0.7777777777777778,
             "#fb9f3a"
            ],
            [
             0.8888888888888888,
             "#fdca26"
            ],
            [
             1,
             "#f0f921"
            ]
           ]
          },
          "colorway": [
           "#636efa",
           "#EF553B",
           "#00cc96",
           "#ab63fa",
           "#FFA15A",
           "#19d3f3",
           "#FF6692",
           "#B6E880",
           "#FF97FF",
           "#FECB52"
          ],
          "font": {
           "color": "#2a3f5f"
          },
          "geo": {
           "bgcolor": "white",
           "lakecolor": "white",
           "landcolor": "#E5ECF6",
           "showlakes": true,
           "showland": true,
           "subunitcolor": "white"
          },
          "hoverlabel": {
           "align": "left"
          },
          "hovermode": "closest",
          "mapbox": {
           "style": "light"
          },
          "paper_bgcolor": "white",
          "plot_bgcolor": "#E5ECF6",
          "polar": {
           "angularaxis": {
            "gridcolor": "white",
            "linecolor": "white",
            "ticks": ""
           },
           "bgcolor": "#E5ECF6",
           "radialaxis": {
            "gridcolor": "white",
            "linecolor": "white",
            "ticks": ""
           }
          },
          "scene": {
           "xaxis": {
            "backgroundcolor": "#E5ECF6",
            "gridcolor": "white",
            "gridwidth": 2,
            "linecolor": "white",
            "showbackground": true,
            "ticks": "",
            "zerolinecolor": "white"
           },
           "yaxis": {
            "backgroundcolor": "#E5ECF6",
            "gridcolor": "white",
            "gridwidth": 2,
            "linecolor": "white",
            "showbackground": true,
            "ticks": "",
            "zerolinecolor": "white"
           },
           "zaxis": {
            "backgroundcolor": "#E5ECF6",
            "gridcolor": "white",
            "gridwidth": 2,
            "linecolor": "white",
            "showbackground": true,
            "ticks": "",
            "zerolinecolor": "white"
           }
          },
          "shapedefaults": {
           "line": {
            "color": "#2a3f5f"
           }
          },
          "ternary": {
           "aaxis": {
            "gridcolor": "white",
            "linecolor": "white",
            "ticks": ""
           },
           "baxis": {
            "gridcolor": "white",
            "linecolor": "white",
            "ticks": ""
           },
           "bgcolor": "#E5ECF6",
           "caxis": {
            "gridcolor": "white",
            "linecolor": "white",
            "ticks": ""
           }
          },
          "title": {
           "x": 0.05
          },
          "xaxis": {
           "automargin": true,
           "gridcolor": "white",
           "linecolor": "white",
           "ticks": "",
           "title": {
            "standoff": 15
           },
           "zerolinecolor": "white",
           "zerolinewidth": 2
          },
          "yaxis": {
           "automargin": true,
           "gridcolor": "white",
           "linecolor": "white",
           "ticks": "",
           "title": {
            "standoff": 15
           },
           "zerolinecolor": "white",
           "zerolinewidth": 2
          }
         }
        },
        "title": {
         "font": {
          "color": "#4D5663"
         }
        },
        "xaxis": {
         "gridcolor": "#E1E5ED",
         "showgrid": true,
         "tickfont": {
          "color": "#4D5663"
         },
         "title": {
          "font": {
           "color": "#4D5663"
          },
          "text": ""
         },
         "zerolinecolor": "#E1E5ED"
        },
        "yaxis": {
         "gridcolor": "#E1E5ED",
         "showgrid": true,
         "tickfont": {
          "color": "#4D5663"
         },
         "title": {
          "font": {
           "color": "#4D5663"
          },
          "text": ""
         },
         "zerolinecolor": "#E1E5ED"
        }
       }
      },
      "text/html": [
       "<div>                            <div id=\"97244ac0-4058-49c6-9fb6-59783ecc4e02\" class=\"plotly-graph-div\" style=\"height:525px; width:100%;\"></div>            <script type=\"text/javascript\">                require([\"plotly\"], function(Plotly) {                    window.PLOTLYENV=window.PLOTLYENV || {};\n",
       "                    window.PLOTLYENV.BASE_URL='https://plot.ly';                                    if (document.getElementById(\"97244ac0-4058-49c6-9fb6-59783ecc4e02\")) {                    Plotly.newPlot(                        \"97244ac0-4058-49c6-9fb6-59783ecc4e02\",                        [{\"boxpoints\": false, \"line\": {\"width\": 1.3}, \"marker\": {\"color\": \"rgba(255, 153, 51, 1.0)\"}, \"name\": \"10001\", \"orientation\": \"v\", \"type\": \"box\", \"y\": [16770, 17046, 20478, 16743, 17441, 18544, 20846, 22799, 21773, 25343, 20844, 21735, 23843, 21389, 21626, 22900, 22495, 21921, 18347, 20405, 21170, 22038, 23654, 23572, 20230, 10789, 5054, 18005, 20982, 23742, 25039]}, {\"boxpoints\": false, \"line\": {\"width\": 1.3}, \"marker\": {\"color\": \"rgba(55, 128, 191, 1.0)\"}, \"name\": \"10002\", \"orientation\": \"v\", \"type\": \"box\", \"y\": [9703, 5538, 10507, 9067, 3769, 4086, 4990, 5483, 7195, 13939, 12908, 4165, 5106, 5547, 6066, 8153, 13690, 13512, 5571, 4868, 5154, 5808, 7576, 12143, 13423, 2376, 1741, 4009, 5657, 7996, 14781]}, {\"boxpoints\": false, \"line\": {\"width\": 1.3}, \"marker\": {\"color\": \"rgba(50, 171, 96, 1.0)\"}, \"name\": \"10003\", \"orientation\": \"v\", \"type\": \"box\", \"y\": [21226, 18452, 26384, 19516, 16264, 17745, 21063, 22227, 23696, 34699, 26613, 17697, 21668, 21632, 22407, 26318, 33397, 30089, 17418, 19317, 20787, 22730, 25329, 30319, 26257, 10553, 7403, 18480, 21956, 26214, 36742]}, {\"boxpoints\": false, \"line\": {\"width\": 1.3}, \"marker\": {\"color\": \"rgba(128, 0, 128, 1.0)\"}, \"name\": \"10004\", \"orientation\": \"v\", \"type\": \"box\", \"y\": [2137, 1972, 1560, 1182, 1921, 1798, 2277, 2470, 2299, 1799, 1349, 1936, 2511, 2541, 2701, 2520, 1846, 1220, 1264, 2128, 2327, 2556, 2509, 1553, 1511, 917, 461, 1912, 2323, 2428, 1772]}, {\"boxpoints\": false, \"line\": {\"width\": 1.3}, \"marker\": {\"color\": \"rgba(219, 64, 82, 1.0)\"}, \"name\": \"10005\", \"orientation\": \"v\", \"type\": \"box\", \"y\": [1485, 1234, 1290, 964, 1475, 1735, 1939, 2032, 2087, 1757, 1294, 1781, 2030, 2085, 2123, 2137, 1643, 1223, 1246, 1898, 2146, 2141, 2259, 1711, 1384, 935, 508, 1742, 2092, 2191, 1887]}, {\"boxpoints\": false, \"line\": {\"width\": 1.3}, \"marker\": {\"color\": \"rgba(0, 128, 128, 1.0)\"}, \"name\": \"10006\", \"orientation\": \"v\", \"type\": \"box\", \"y\": [1656, 1405, 1575, 993, 956, 938, 1158, 1199, 1069, 1502, 1040, 1162, 1243, 1143, 1206, 1280, 1600, 1071, 990, 1058, 1101, 1252, 1238, 1218, 1191, 469, 369, 904, 1109, 1204, 1409]}, {\"boxpoints\": false, \"line\": {\"width\": 1.3}, \"marker\": {\"color\": \"rgba(255, 255, 51, 1.0)\"}, \"name\": \"10007\", \"orientation\": \"v\", \"type\": \"box\", \"y\": [2868, 2437, 2358, 1844, 2438, 2502, 3056, 3293, 3234, 3392, 2644, 2747, 3323, 3226, 3417, 3550, 2873, 2372, 1924, 2853, 3047, 3378, 3627, 2789, 2532, 1502, 863, 2691, 3215, 3724, 3393]}, {\"boxpoints\": false, \"line\": {\"width\": 1.3}, \"marker\": {\"color\": \"rgba(128, 128, 0, 1.0)\"}, \"name\": \"10009\", \"orientation\": \"v\", \"type\": \"box\", \"y\": [10049, 7158, 10918, 8098, 5213, 5373, 6488, 6481, 7949, 14088, 10932, 4935, 5973, 6312, 6722, 8840, 13734, 12763, 6671, 5699, 5933, 6738, 8555, 12842, 11739, 3778, 2489, 5380, 6399, 9071, 15583]}, {\"boxpoints\": false, \"line\": {\"width\": 1.3}, \"marker\": {\"color\": \"rgba(251, 128, 114, 1.0)\"}, \"name\": \"10010\", \"orientation\": \"v\", \"type\": \"box\", \"y\": [10306, 9334, 11338, 8738, 10431, 11680, 13315, 14207, 14140, 15717, 12653, 12183, 13944, 13982, 14378, 14957, 14114, 12763, 9540, 12859, 13652, 14480, 15032, 14044, 11483, 6914, 4127, 12162, 13891, 15515, 16029]}, {\"boxpoints\": false, \"line\": {\"width\": 1.3}, \"marker\": {\"color\": \"rgba(128, 177, 211, 1.0)\"}, \"name\": \"10011\", \"orientation\": \"v\", \"type\": \"box\", \"y\": [15644, 16040, 20606, 15877, 16002, 17649, 20367, 21880, 22150, 29604, 22848, 17914, 21453, 21873, 22522, 24958, 29201, 23831, 17287, 18918, 21284, 22866, 24590, 26209, 22821, 10582, 6341, 18399, 21221, 25201, 31693]}, {\"boxpoints\": false, \"line\": {\"width\": 1.3}, \"marker\": {\"color\": \"rgba(128, 177, 211, 0.8999999999999999)\"}, \"name\": \"10012\", \"orientation\": \"v\", \"type\": \"box\", \"y\": [9693, 10435, 13945, 10729, 8401, 8812, 10528, 11012, 12306, 18997, 14307, 8941, 11179, 11331, 11820, 13539, 17385, 14341, 9852, 9765, 10726, 11792, 13150, 16171, 14469, 4431, 3729, 9191, 11037, 13872, 18318]}, {\"boxpoints\": false, \"line\": {\"width\": 1.3}, \"marker\": {\"color\": \"rgba(255, 153, 51, 0.8999999999999999)\"}, \"name\": \"10013\", \"orientation\": \"v\", \"type\": \"box\", \"y\": [8744, 7670, 8514, 6459, 7797, 8279, 9465, 10291, 11037, 12164, 10394, 9234, 10201, 10562, 11149, 11645, 11603, 9862, 6856, 9616, 10572, 11159, 11280, 11433, 10238, 4499, 2879, 8389, 10657, 12160, 12669]}, {\"boxpoints\": false, \"line\": {\"width\": 1.3}, \"marker\": {\"color\": \"rgba(55, 128, 191, 0.8999999999999999)\"}, \"name\": \"10014\", \"orientation\": \"v\", \"type\": \"box\", \"y\": [10797, 10855, 16024, 11651, 9598, 10461, 11978, 13128, 14328, 21170, 16593, 10942, 13223, 13607, 13939, 16062, 20137, 17782, 11044, 11826, 13015, 13900, 16127, 19320, 17489, 6006, 3905, 10748, 12782, 16402, 21552]}, {\"boxpoints\": false, \"line\": {\"width\": 1.3}, \"marker\": {\"color\": \"rgba(50, 171, 96, 0.8999999999999999)\"}, \"name\": \"10016\", \"orientation\": \"v\", \"type\": \"box\", \"y\": [21076, 18222, 20313, 15118, 17884, 20415, 22272, 24345, 24829, 26319, 20062, 20577, 23526, 23593, 24331, 26011, 24178, 20890, 16276, 21060, 22843, 24315, 26109, 24304, 19182, 12498, 6625, 20036, 23511, 26619, 26201]}, {\"boxpoints\": false, \"line\": {\"width\": 1.3}, \"marker\": {\"color\": \"rgba(128, 0, 128, 0.8999999999999999)\"}, \"name\": \"10017\", \"orientation\": \"v\", \"type\": \"box\", \"y\": [10664, 11705, 11916, 8784, 13659, 15931, 17211, 18698, 16933, 13364, 10299, 16127, 17673, 18771, 18099, 16928, 12632, 10474, 11019, 16458, 18212, 18553, 17537, 12320, 9787, 8597, 4580, 15611, 17281, 16916, 12892]}, {\"boxpoints\": false, \"line\": {\"width\": 1.3}, \"marker\": {\"color\": \"rgba(219, 64, 82, 0.8999999999999999)\"}, \"name\": \"10018\", \"orientation\": \"v\", \"type\": \"box\", \"y\": [7904, 8687, 9170, 7675, 9629, 10468, 11675, 12209, 11528, 10630, 9672, 12631, 13780, 12634, 12298, 12369, 10363, 9798, 9465, 11979, 12188, 12257, 12425, 10410, 9115, 6212, 2625, 9905, 11664, 12488, 11077]}, {\"boxpoints\": false, \"line\": {\"width\": 1.3}, \"marker\": {\"color\": \"rgba(0, 128, 128, 0.8999999999999999)\"}, \"name\": \"10019\", \"orientation\": \"v\", \"type\": \"box\", \"y\": [23614, 22443, 26120, 20168, 23620, 25676, 28843, 29973, 28937, 30186, 25567, 27703, 32728, 31502, 30369, 30143, 27930, 27521, 20952, 26504, 29482, 30380, 29797, 28481, 23336, 13786, 10056, 24287, 27966, 30298, 28899]}, {\"boxpoints\": false, \"line\": {\"width\": 1.3}, \"marker\": {\"color\": \"rgba(255, 255, 51, 0.8999999999999999)\"}, \"name\": \"10020\", \"orientation\": \"v\", \"type\": \"box\", \"y\": [1192, 1452, 1503, 1096, 1482, 1670, 1739, 1775, 1499, 1314, 1090, 1617, 1574, 1808, 1597, 1545, 1384, 1060, 1190, 1707, 1699, 1694, 1691, 1267, 1077, 682, 662, 1558, 1410, 1484, 1388]}, {\"boxpoints\": false, \"line\": {\"width\": 1.3}, \"marker\": {\"color\": \"rgba(128, 128, 0, 0.8999999999999999)\"}, \"name\": \"10021\", \"orientation\": \"v\", \"type\": \"box\", \"y\": [9236, 10538, 10430, 8511, 14068, 14746, 17242, 16878, 15461, 14835, 11016, 14529, 16650, 16453, 16695, 16785, 12955, 10345, 11153, 15718, 16562, 16927, 16948, 13192, 11456, 10403, 5498, 15022, 16276, 17303, 14656]}, {\"boxpoints\": false, \"line\": {\"width\": 1.3}, \"marker\": {\"color\": \"rgba(251, 128, 114, 0.8999999999999999)\"}, \"name\": \"10022\", \"orientation\": \"v\", \"type\": \"box\", \"y\": [17582, 18181, 20050, 14911, 21519, 23147, 25455, 26713, 24794, 23370, 17751, 23863, 26840, 27347, 27122, 25879, 22253, 17404, 17340, 23941, 26450, 27610, 25800, 21205, 16887, 11810, 8352, 22619, 25229, 25457, 22950]}, {\"boxpoints\": false, \"line\": {\"width\": 1.3}, \"marker\": {\"color\": \"rgba(251, 128, 114, 0.7999999999999998)\"}, \"name\": \"10023\", \"orientation\": \"v\", \"type\": \"box\", \"y\": [12798, 13087, 14593, 11368, 13529, 14290, 15931, 16484, 15692, 19909, 15255, 13812, 16570, 15301, 16595, 16923, 17126, 14287, 12983, 14934, 15973, 16107, 17187, 16925, 14600, 9162, 5654, 14509, 16012, 16617, 18836]}, {\"boxpoints\": false, \"line\": {\"width\": 1.3}, \"marker\": {\"color\": \"rgba(128, 177, 211, 0.7999999999999998)\"}, \"name\": \"10024\", \"orientation\": \"v\", \"type\": \"box\", \"y\": [10708, 9739, 11208, 9173, 10374, 11226, 12563, 12496, 12028, 16874, 13103, 10410, 12219, 11505, 12147, 12868, 12855, 12281, 10265, 11080, 11592, 12281, 12731, 13251, 11814, 6996, 4351, 10731, 11734, 12822, 14348]}, {\"boxpoints\": false, \"line\": {\"width\": 1.3}, \"marker\": {\"color\": \"rgba(255, 153, 51, 0.7999999999999998)\"}, \"name\": \"10025\", \"orientation\": \"v\", \"type\": \"box\", \"y\": [9115, 7354, 8446, 7602, 8128, 8714, 9725, 9874, 9716, 11260, 9612, 8279, 9598, 9156, 9558, 10420, 9961, 9164, 7635, 8815, 9610, 9664, 10624, 10167, 9700, 6194, 3256, 8397, 9769, 11300, 13290]}, {\"boxpoints\": false, \"line\": {\"width\": 1.3}, \"marker\": {\"color\": \"rgba(55, 128, 191, 0.7999999999999998)\"}, \"name\": \"10026\", \"orientation\": \"v\", \"type\": \"box\", \"y\": [1349, 705, 926, 870, 717, 795, 886, 853, 1022, 1101, 935, 713, 829, 795, 856, 1014, 1014, 1247, 688, 747, 724, 713, 960, 1045, 901, 695, 381, 727, 861, 1203, 1683]}, {\"boxpoints\": false, \"line\": {\"width\": 1.3}, \"marker\": {\"color\": \"rgba(50, 171, 96, 0.7999999999999998)\"}, \"name\": \"10027\", \"orientation\": \"v\", \"type\": \"box\", \"y\": [2176, 938, 1243, 1200, 1148, 1293, 1500, 1478, 1681, 1517, 1397, 1328, 1498, 1420, 1606, 1747, 1622, 1845, 1118, 1447, 1585, 1716, 1794, 1674, 1545, 1265, 499, 1417, 1756, 2424, 2535]}, {\"boxpoints\": false, \"line\": {\"width\": 1.3}, \"marker\": {\"color\": \"rgba(128, 0, 128, 0.7999999999999998)\"}, \"name\": \"10028\", \"orientation\": \"v\", \"type\": \"box\", \"y\": [9509, 9373, 10497, 8360, 10718, 10179, 12145, 12152, 11979, 14585, 10841, 9977, 11775, 11514, 11870, 13057, 12567, 10105, 9460, 10793, 11280, 11846, 13212, 12768, 10614, 7415, 4018, 10388, 11289, 13266, 14129]}, {\"boxpoints\": false, \"line\": {\"width\": 1.3}, \"marker\": {\"color\": \"rgba(219, 64, 82, 0.7999999999999998)\"}, \"name\": \"10029\", \"orientation\": \"v\", \"type\": \"box\", \"y\": [3002, 2109, 2514, 2172, 2294, 2640, 2764, 2754, 2928, 3126, 2457, 2334, 2544, 2458, 2559, 2948, 2917, 2554, 1954, 2290, 2197, 2225, 2840, 2722, 2284, 2103, 1055, 2168, 2678, 3444, 3628]}, {\"boxpoints\": false, \"line\": {\"width\": 1.3}, \"marker\": {\"color\": \"rgba(0, 128, 128, 0.7999999999999998)\"}, \"name\": \"10031\", \"orientation\": \"v\", \"type\": \"box\", \"y\": [1450, 423, 499, 518, 455, 459, 508, 590, 615, 636, 632, 424, 481, 469, 495, 640, 607, 859, 435, 420, 471, 443, 555, 631, 570, 431, 206, 408, 496, 741, 842]}, {\"boxpoints\": false, \"line\": {\"width\": 1.3}, \"marker\": {\"color\": \"rgba(255, 255, 51, 0.7999999999999998)\"}, \"name\": \"10032\", \"orientation\": \"v\", \"type\": \"box\", \"y\": [766, 186, 193, 242, 253, 270, 274, 302, 340, 269, 285, 256, 288, 284, 251, 342, 284, 342, 183, 234, 283, 266, 293, 242, 238, 264, 111, 243, 241, 399, 341]}, {\"boxpoints\": false, \"line\": {\"width\": 1.3}, \"marker\": {\"color\": \"rgba(128, 128, 0, 0.7999999999999998)\"}, \"name\": \"10035\", \"orientation\": \"v\", \"type\": \"box\", \"y\": [1276, 609, 813, 714, 729, 718, 756, 809, 895, 868, 714, 650, 690, 606, 744, 932, 1062, 889, 595, 603, 638, 666, 822, 848, 815, 742, 297, 620, 750, 1210, 1223]}, {\"boxpoints\": false, \"line\": {\"width\": 1.3}, \"marker\": {\"color\": \"rgba(128, 128, 0, 0.7)\"}, \"name\": \"10036\", \"orientation\": \"v\", \"type\": \"box\", \"y\": [19151, 18287, 21478, 17972, 16425, 18583, 20401, 20902, 19578, 23429, 20795, 19994, 22077, 21063, 19880, 21689, 22653, 23337, 16313, 18027, 19865, 19932, 20593, 22069, 19339, 9564, 7207, 16581, 17969, 20814, 22969]}, {\"boxpoints\": false, \"line\": {\"width\": 1.3}, \"marker\": {\"color\": \"rgba(251, 128, 114, 0.7)\"}, \"name\": \"10038\", \"orientation\": \"v\", \"type\": \"box\", \"y\": [2562, 1931, 2025, 1531, 1825, 1929, 2161, 2385, 2497, 2611, 1933, 2084, 2298, 2427, 2517, 2700, 2570, 1955, 1568, 2132, 2354, 2492, 2669, 2569, 2124, 1174, 638, 1957, 2437, 2912, 2752]}, {\"boxpoints\": false, \"line\": {\"width\": 1.3}, \"marker\": {\"color\": \"rgba(128, 177, 211, 0.7)\"}, \"name\": \"10065\", \"orientation\": \"v\", \"type\": \"box\", \"y\": [9194, 10209, 11400, 8390, 12644, 13606, 15144, 15925, 15064, 14510, 10546, 13412, 15754, 15492, 15557, 15764, 12790, 9424, 10927, 14205, 14646, 15882, 15808, 12796, 10121, 8738, 5177, 13806, 15836, 16143, 14236]}, {\"boxpoints\": false, \"line\": {\"width\": 1.3}, \"marker\": {\"color\": \"rgba(255, 153, 51, 0.7)\"}, \"name\": \"10069\", \"orientation\": \"v\", \"type\": \"box\", \"y\": [610, 619, 644, 607, 628, 709, 790, 781, 685, 930, 763, 642, 717, 695, 733, 832, 838, 718, 729, 759, 738, 787, 861, 858, 813, 415, 209, 723, 750, 791, 951]}, {\"boxpoints\": false, \"line\": {\"width\": 1.3}, \"marker\": {\"color\": \"rgba(55, 128, 191, 0.7)\"}, \"name\": \"10075\", \"orientation\": \"v\", \"type\": \"box\", \"y\": [5446, 5641, 6100, 4757, 7070, 7086, 8151, 8223, 7951, 8541, 6165, 6679, 8060, 7976, 8087, 8628, 7302, 5643, 5873, 7545, 7616, 8358, 8486, 7498, 6239, 5041, 3132, 7225, 7873, 8830, 8369]}, {\"boxpoints\": false, \"line\": {\"width\": 1.3}, \"marker\": {\"color\": \"rgba(50, 171, 96, 0.7)\"}, \"name\": \"10103\", \"orientation\": \"v\", \"type\": \"box\", \"y\": [419, 478, 572, 387, 448, 512, 467, 562, 513, 535, 492, 610, 612, 595, 552, 509, 527, 647, 369, 556, 557, 649, 475, 535, 384, 219, 184, 472, 457, 482, 520]}, {\"boxpoints\": false, \"line\": {\"width\": 1.3}, \"marker\": {\"color\": \"rgba(128, 0, 128, 0.7)\"}, \"name\": \"10110\", \"orientation\": \"v\", \"type\": \"box\", \"y\": [411, 330, 305, 222, 399, 505, 504, 529, 477, 366, 273, 503, 555, 580, 501, 438, 305, 220, 256, 543, 580, 544, 507, 306, 311, 222, 186, 499, 479, 502, 343]}, {\"boxpoints\": false, \"line\": {\"width\": 1.3}, \"marker\": {\"color\": \"rgba(219, 64, 82, 0.7)\"}, \"name\": \"10111\", \"orientation\": \"v\", \"type\": \"box\", \"y\": [244, 259, 310, 183, 237, 240, 267, 252, 184, 177, 210, 209, 225, 255, 249, 222, 246, 202, 198, 252, 245, 269, 272, 252, 175, 80, 87, 233, 226, 206, 232]}, {\"boxpoints\": false, \"line\": {\"width\": 1.3}, \"marker\": {\"color\": \"rgba(0, 128, 128, 0.7)\"}, \"name\": \"10112\", \"orientation\": \"v\", \"type\": \"box\", \"y\": [204, 282, 335, 188, 351, 285, 328, 326, 258, 210, 176, 302, 283, 334, 277, 261, 301, 210, 276, 245, 306, 265, 347, 306, 218, 117, 115, 307, 227, 245, 250]}, {\"boxpoints\": false, \"line\": {\"width\": 1.3}, \"marker\": {\"color\": \"rgba(255, 255, 51, 0.7)\"}, \"name\": \"10119\", \"orientation\": \"v\", \"type\": \"box\", \"y\": [3704, 5431, 5257, 5465, 4818, 5120, 5323, 5657, 5178, 5405, 4425, 5238, 5325, 5379, 5565, 6370, 5408, 4802, 5325, 5598, 5594, 5929, 6270, 5314, 4680, 3347, 765, 4773, 5554, 5862, 5458]}, {\"boxpoints\": false, \"line\": {\"width\": 1.3}, \"marker\": {\"color\": \"rgba(255, 255, 51, 0.5999999999999999)\"}, \"name\": \"10128\", \"orientation\": \"v\", \"type\": \"box\", \"y\": [9250, 9096, 10478, 8396, 11493, 11676, 13498, 13350, 13121, 14628, 11175, 11856, 12933, 12648, 13154, 13814, 12580, 10359, 9664, 12246, 12363, 13259, 14009, 12956, 10845, 8238, 4355, 11706, 12655, 14584, 14674]}, {\"boxpoints\": false, \"line\": {\"width\": 1.3}, \"marker\": {\"color\": \"rgba(128, 128, 0, 0.5999999999999999)\"}, \"name\": \"10152\", \"orientation\": \"v\", \"type\": \"box\", \"y\": [115, 183, 178, 139, 440, 490, 572, 535, 403, 230, 194, 513, 611, 635, 549, 383, 234, 169, 232, 577, 617, 631, 429, 196, 191, 160, 170, 535, 537, 426, 232]}, {\"boxpoints\": false, \"line\": {\"width\": 1.3}, \"marker\": {\"color\": \"rgba(251, 128, 114, 0.5999999999999999)\"}, \"name\": \"10153\", \"orientation\": \"v\", \"type\": \"box\", \"y\": [469, 538, 702, 407, 620, 636, 717, 692, 593, 565, 443, 663, 656, 696, 682, 653, 583, 513, 445, 597, 636, 676, 594, 565, 461, 222, 308, 600, 557, 581, 641]}, {\"boxpoints\": false, \"line\": {\"width\": 1.3}, \"marker\": {\"color\": \"rgba(128, 177, 211, 0.5999999999999999)\"}, \"name\": \"10154\", \"orientation\": \"v\", \"type\": \"box\", \"y\": [155, 218, 207, 171, 381, 416, 466, 477, 408, 274, 220, 528, 551, 577, 531, 413, 303, 193, 229, 522, 525, 583, 434, 232, 193, 161, 162, 478, 515, 386, 259]}, {\"boxpoints\": false, \"line\": {\"width\": 1.3}, \"marker\": {\"color\": \"rgba(255, 153, 51, 0.5999999999999999)\"}, \"name\": \"10165\", \"orientation\": \"v\", \"type\": \"box\", \"y\": [572, 668, 745, 592, 776, 860, 979, 1062, 935, 863, 628, 1025, 1074, 1080, 1027, 927, 850, 770, 859, 1046, 1158, 1079, 999, 849, 707, 575, 189, 917, 1054, 915, 941]}, {\"boxpoints\": false, \"line\": {\"width\": 1.3}, \"marker\": {\"color\": \"rgba(55, 128, 191, 0.5999999999999999)\"}, \"name\": \"10167\", \"orientation\": \"v\", \"type\": \"box\", \"y\": [157, 135, 107, 97, 306, 324, 343, 399, 292, 143, 155, 384, 382, 419, 401, 345, 154, 106, 174, 401, 447, 409, 358, 147, 115, 173, 110, 377, 385, 314, 127]}, {\"boxpoints\": false, \"line\": {\"width\": 1.3}, \"marker\": {\"color\": \"rgba(50, 171, 96, 0.5999999999999999)\"}, \"name\": \"10168\", \"orientation\": \"v\", \"type\": \"box\", \"y\": [547, 461, 658, 447, 404, 454, 450, 561, 592, 612, 489, 534, 569, 579, 533, 506, 564, 545, 389, 479, 567, 582, 507, 501, 440, 300, 105, 442, 539, 561, 504]}, {\"boxpoints\": false, \"line\": {\"width\": 1.3}, \"marker\": {\"color\": \"rgba(128, 0, 128, 0.5999999999999999)\"}, \"name\": \"10170\", \"orientation\": \"v\", \"type\": \"box\", \"y\": [743, 711, 910, 692, 755, 911, 914, 1084, 1005, 990, 891, 999, 1064, 1142, 1074, 1011, 830, 785, 716, 927, 1071, 1101, 1063, 788, 707, 528, 224, 831, 1002, 981, 857]}, {\"boxpoints\": false, \"line\": {\"width\": 1.3}, \"marker\": {\"color\": \"rgba(219, 64, 82, 0.5999999999999999)\"}, \"name\": \"10171\", \"orientation\": \"v\", \"type\": \"box\", \"y\": [318, 356, 324, 219, 369, 387, 449, 459, 470, 380, 339, 495, 503, 563, 490, 440, 389, 356, 219, 463, 545, 454, 453, 313, 236, 218, 153, 392, 456, 401, 339]}, {\"boxpoints\": false, \"line\": {\"width\": 1.3}, \"marker\": {\"color\": \"rgba(0, 128, 128, 0.5999999999999999)\"}, \"name\": \"10172\", \"orientation\": \"v\", \"type\": \"box\", \"y\": [286, 292, 190, 180, 418, 509, 488, 517, 499, 279, 225, 530, 547, 638, 573, 411, 314, 207, 214, 570, 628, 567, 492, 300, 241, 257, 173, 532, 555, 458, 238]}, {\"boxpoints\": false, \"line\": {\"width\": 1.3}, \"marker\": {\"color\": \"rgba(0, 128, 128, 0.49999999999999983)\"}, \"name\": \"10173\", \"orientation\": \"v\", \"type\": \"box\", \"y\": [183, 232, 180, 144, 273, 332, 346, 377, 309, 206, 149, 326, 341, 342, 360, 297, 195, 136, 228, 330, 364, 358, 335, 173, 167, 171, 96, 270, 277, 270, 199]}, {\"boxpoints\": false, \"line\": {\"width\": 1.3}, \"marker\": {\"color\": \"rgba(255, 255, 51, 0.49999999999999983)\"}, \"name\": \"10174\", \"orientation\": \"v\", \"type\": \"box\", \"y\": [377, 437, 451, 387, 513, 597, 689, 683, 684, 541, 459, 620, 724, 740, 699, 669, 498, 407, 472, 713, 726, 717, 690, 471, 435, 329, 181, 547, 680, 698, 504]}, {\"boxpoints\": false, \"line\": {\"width\": 1.3}, \"marker\": {\"color\": \"rgba(128, 128, 0, 0.49999999999999983)\"}, \"name\": \"10199\", \"orientation\": \"v\", \"type\": \"box\", \"y\": [527, 812, 762, 766, 728, 705, 790, 838, 900, 770, 771, 823, 749, 805, 864, 922, 804, 792, 854, 864, 895, 863, 894, 805, 768, 510, 154, 787, 884, 814, 767]}, {\"boxpoints\": false, \"line\": {\"width\": 1.3}, \"marker\": {\"color\": \"rgba(251, 128, 114, 0.49999999999999983)\"}, \"name\": \"10280\", \"orientation\": \"v\", \"type\": \"box\", \"y\": [1511, 1560, 1313, 1014, 1565, 1570, 1859, 2005, 1858, 1721, 1335, 1667, 1919, 1995, 2091, 2028, 1746, 1265, 1155, 1741, 1937, 2056, 2005, 1574, 1393, 1023, 464, 1767, 1952, 2134, 1803]}, {\"boxpoints\": false, \"line\": {\"width\": 1.3}, \"marker\": {\"color\": \"rgba(128, 177, 211, 0.49999999999999983)\"}, \"name\": \"10282\", \"orientation\": \"v\", \"type\": \"box\", \"y\": [928, 1185, 1080, 844, 1558, 1719, 1858, 2115, 1945, 1441, 1140, 1988, 2177, 2072, 2095, 2066, 1479, 1209, 1259, 1950, 2074, 1957, 1904, 1271, 1195, 1156, 570, 1882, 2052, 2035, 1367]}, {\"boxpoints\": false, \"line\": {\"width\": 1.3}, \"marker\": {\"color\": \"rgba(255, 153, 51, 0.49999999999999983)\"}, \"name\": \"11101\", \"orientation\": \"v\", \"type\": \"box\", \"y\": [1736, 874, 1764, 1537, 1237, 1208, 1217, 1297, 1629, 1968, 1501, 1178, 1221, 1429, 1601, 1709, 1948, 1755, 1194, 1278, 1144, 1243, 1322, 1821, 1554, 811, 411, 1111, 1333, 1382, 2052]}, {\"boxpoints\": false, \"line\": {\"width\": 1.3}, \"marker\": {\"color\": \"rgba(55, 128, 191, 0.49999999999999983)\"}, \"name\": \"11102\", \"orientation\": \"v\", \"type\": \"box\", \"y\": [1065, 402, 550, 589, 375, 352, 398, 402, 555, 612, 688, 320, 327, 375, 408, 444, 550, 679, 356, 365, 310, 361, 464, 618, 552, 381, 199, 343, 363, 467, 618]}, {\"boxpoints\": false, \"line\": {\"width\": 1.3}, \"marker\": {\"color\": \"rgba(50, 171, 96, 0.49999999999999983)\"}, \"name\": \"11103\", \"orientation\": \"v\", \"type\": \"box\", \"y\": [1099, 251, 481, 478, 246, 239, 221, 251, 371, 586, 549, 238, 245, 271, 242, 316, 504, 560, 286, 205, 223, 237, 254, 480, 431, 234, 152, 249, 230, 284, 494]}, {\"boxpoints\": false, \"line\": {\"width\": 1.3}, \"marker\": {\"color\": \"rgba(128, 0, 128, 0.49999999999999983)\"}, \"name\": \"11104\", \"orientation\": \"v\", \"type\": \"box\", \"y\": [729, 392, 428, 462, 466, 395, 470, 485, 438, 618, 443, 403, 388, 366, 413, 509, 678, 653, 425, 415, 386, 442, 510, 703, 583, 360, 211, 375, 414, 481, 657]}, {\"boxpoints\": false, \"line\": {\"width\": 1.3}, \"marker\": {\"color\": \"rgba(219, 64, 82, 0.49999999999999983)\"}, \"name\": \"11106\", \"orientation\": \"v\", \"type\": \"box\", \"y\": [1288, 497, 755, 734, 478, 475, 525, 562, 724, 858, 888, 497, 480, 539, 523, 617, 789, 832, 496, 436, 455, 461, 595, 728, 728, 440, 238, 452, 479, 628, 799]}, {\"boxpoints\": false, \"line\": {\"width\": 1.3}, \"marker\": {\"color\": \"rgba(219, 64, 82, 0.39999999999999974)\"}, \"name\": \"11201\", \"orientation\": \"v\", \"type\": \"box\", \"y\": [2351, 1180, 1433, 1273, 1318, 1381, 1631, 1746, 1785, 2055, 1710, 1374, 1578, 1601, 1763, 2009, 1837, 1887, 1202, 1446, 1579, 1552, 1831, 1660, 1612, 1036, 512, 1504, 1839, 2465, 2422]}, {\"boxpoints\": false, \"line\": {\"width\": 1.3}, \"marker\": {\"color\": \"rgba(0, 128, 128, 0.39999999999999974)\"}, \"name\": \"11205\", \"orientation\": \"v\", \"type\": \"box\", \"y\": [716, 162, 272, 260, 171, 172, 219, 201, 280, 384, 322, 178, 207, 216, 207, 293, 425, 434, 221, 189, 227, 212, 234, 371, 342, 133, 100, 169, 267, 354, 499]}, {\"boxpoints\": false, \"line\": {\"width\": 1.3}, \"marker\": {\"color\": \"rgba(255, 255, 51, 0.39999999999999974)\"}, \"name\": \"11206\", \"orientation\": \"v\", \"type\": \"box\", \"y\": [1302, 165, 314, 338, 164, 162, 193, 175, 250, 464, 448, 145, 169, 174, 210, 308, 554, 568, 190, 154, 160, 176, 284, 485, 573, 120, 77, 152, 216, 301, 637]}, {\"boxpoints\": false, \"line\": {\"width\": 1.3}, \"marker\": {\"color\": \"rgba(128, 128, 0, 0.39999999999999974)\"}, \"name\": \"11211\", \"orientation\": \"v\", \"type\": \"box\", \"y\": [5150, 1218, 2310, 1931, 1064, 1086, 1301, 1402, 1767, 3261, 3234, 1104, 1362, 1407, 1438, 1942, 3662, 3918, 1689, 1131, 1232, 1344, 1599, 3295, 3231, 744, 516, 1055, 1463, 2086, 3965]}, {\"boxpoints\": false, \"line\": {\"width\": 1.3}, \"marker\": {\"color\": \"rgba(251, 128, 114, 0.39999999999999974)\"}, \"name\": \"11215\", \"orientation\": \"v\", \"type\": \"box\", \"y\": [1120, 238, 369, 366, 253, 291, 349, 373, 391, 626, 500, 284, 310, 314, 316, 444, 575, 732, 269, 294, 285, 329, 316, 500, 540, 191, 136, 298, 317, 442, 652]}, {\"boxpoints\": false, \"line\": {\"width\": 1.3}, \"marker\": {\"color\": \"rgba(128, 177, 211, 0.39999999999999974)\"}, \"name\": \"11217\", \"orientation\": \"v\", \"type\": \"box\", \"y\": [1458, 522, 827, 673, 630, 485, 798, 597, 753, 1037, 823, 647, 605, 752, 607, 750, 1051, 1096, 502, 611, 548, 581, 644, 930, 835, 305, 201, 527, 607, 1068, 1308]}, {\"boxpoints\": false, \"line\": {\"width\": 1.3}, \"marker\": {\"color\": \"rgba(255, 153, 51, 0.39999999999999974)\"}, \"name\": \"11222\", \"orientation\": \"v\", \"type\": \"box\", \"y\": [1479, 219, 440, 353, 210, 232, 249, 252, 406, 686, 685, 218, 291, 294, 277, 447, 757, 869, 327, 296, 241, 259, 349, 695, 694, 162, 127, 253, 319, 494, 790]}, {\"boxpoints\": false, \"line\": {\"width\": 1.3}, \"marker\": {\"color\": \"rgba(55, 128, 191, 0.39999999999999974)\"}, \"name\": \"11231\", \"orientation\": \"v\", \"type\": \"box\", \"y\": [656, 278, 528, 347, 359, 419, 514, 523, 547, 533, 482, 477, 422, 463, 485, 573, 527, 612, 372, 369, 389, 441, 487, 457, 486, 388, 129, 455, 585, 627, 675]}, {\"boxpoints\": false, \"line\": {\"width\": 1.3}, \"marker\": {\"color\": \"rgba(50, 171, 96, 0.39999999999999974)\"}, \"name\": \"11238\", \"orientation\": \"v\", \"type\": \"box\", \"y\": [1043, 204, 360, 336, 181, 156, 190, 221, 286, 475, 435, 161, 185, 227, 219, 297, 469, 571, 194, 172, 197, 207, 250, 445, 447, 93, 82, 185, 236, 368, 564]}, {\"boxpoints\": false, \"line\": {\"width\": 1.3}, \"marker\": {\"color\": \"rgba(128, 0, 128, 0.39999999999999974)\"}, \"name\": \"11371\", \"orientation\": \"v\", \"type\": \"box\", \"y\": [6401, 8316, 7381, 10917, 11369, 8592, 8083, 8953, 8484, 5811, 9280, 10344, 9204, 8268, 9652, 9218, 4648, 6652, 11609, 10035, 8533, 9787, 8208, 3914, 8402, 3339, 892, 9470, 9341, 8046, 4774]}, {\"boxpoints\": false, \"line\": {\"width\": 1.3}, \"marker\": {\"color\": \"rgba(128, 0, 128, 0.2999999999999999)\"}, \"name\": \"11377\", \"orientation\": \"v\", \"type\": \"box\", \"y\": [828, 374, 403, 396, 450, 382, 402, 419, 476, 422, 432, 409, 392, 403, 407, 515, 497, 609, 334, 386, 350, 369, 406, 531, 463, 426, 197, 360, 360, 492, 526]}, {\"boxpoints\": false, \"line\": {\"width\": 1.3}, \"marker\": {\"color\": \"rgba(219, 64, 82, 0.2999999999999999)\"}, \"name\": \"11430\", \"orientation\": \"v\", \"type\": \"box\", \"y\": [7400, 8225, 8507, 10287, 11463, 8751, 7828, 7483, 7935, 8010, 8809, 8859, 6903, 6531, 7280, 7659, 6479, 7296, 9766, 8122, 6917, 6927, 7212, 6609, 7945, 4235, 1345, 7727, 7527, 7079, 6274]}],                        {\"legend\": {\"bgcolor\": \"#F5F6F9\", \"font\": {\"color\": \"#4D5663\"}}, \"paper_bgcolor\": \"#F5F6F9\", \"plot_bgcolor\": \"#F5F6F9\", \"template\": {\"data\": {\"bar\": [{\"error_x\": {\"color\": \"#2a3f5f\"}, \"error_y\": {\"color\": \"#2a3f5f\"}, \"marker\": {\"line\": {\"color\": \"#E5ECF6\", \"width\": 0.5}}, \"type\": \"bar\"}], \"barpolar\": [{\"marker\": {\"line\": {\"color\": \"#E5ECF6\", \"width\": 0.5}}, \"type\": \"barpolar\"}], \"carpet\": [{\"aaxis\": {\"endlinecolor\": \"#2a3f5f\", \"gridcolor\": \"white\", \"linecolor\": \"white\", \"minorgridcolor\": \"white\", \"startlinecolor\": \"#2a3f5f\"}, \"baxis\": {\"endlinecolor\": \"#2a3f5f\", \"gridcolor\": \"white\", \"linecolor\": \"white\", \"minorgridcolor\": \"white\", \"startlinecolor\": \"#2a3f5f\"}, \"type\": \"carpet\"}], \"choropleth\": [{\"colorbar\": {\"outlinewidth\": 0, \"ticks\": \"\"}, \"type\": \"choropleth\"}], \"contour\": [{\"colorbar\": {\"outlinewidth\": 0, \"ticks\": \"\"}, \"colorscale\": [[0.0, \"#0d0887\"], [0.1111111111111111, \"#46039f\"], [0.2222222222222222, \"#7201a8\"], [0.3333333333333333, \"#9c179e\"], [0.4444444444444444, \"#bd3786\"], [0.5555555555555556, \"#d8576b\"], [0.6666666666666666, \"#ed7953\"], [0.7777777777777778, \"#fb9f3a\"], [0.8888888888888888, \"#fdca26\"], [1.0, \"#f0f921\"]], \"type\": \"contour\"}], \"contourcarpet\": [{\"colorbar\": {\"outlinewidth\": 0, \"ticks\": \"\"}, \"type\": \"contourcarpet\"}], \"heatmap\": [{\"colorbar\": {\"outlinewidth\": 0, \"ticks\": \"\"}, \"colorscale\": [[0.0, \"#0d0887\"], [0.1111111111111111, \"#46039f\"], [0.2222222222222222, \"#7201a8\"], [0.3333333333333333, \"#9c179e\"], [0.4444444444444444, \"#bd3786\"], [0.5555555555555556, \"#d8576b\"], [0.6666666666666666, \"#ed7953\"], [0.7777777777777778, \"#fb9f3a\"], [0.8888888888888888, \"#fdca26\"], [1.0, \"#f0f921\"]], \"type\": \"heatmap\"}], \"heatmapgl\": [{\"colorbar\": {\"outlinewidth\": 0, \"ticks\": \"\"}, \"colorscale\": [[0.0, \"#0d0887\"], [0.1111111111111111, \"#46039f\"], [0.2222222222222222, \"#7201a8\"], [0.3333333333333333, \"#9c179e\"], [0.4444444444444444, \"#bd3786\"], [0.5555555555555556, \"#d8576b\"], [0.6666666666666666, \"#ed7953\"], [0.7777777777777778, \"#fb9f3a\"], [0.8888888888888888, \"#fdca26\"], [1.0, \"#f0f921\"]], \"type\": \"heatmapgl\"}], \"histogram\": [{\"marker\": {\"colorbar\": {\"outlinewidth\": 0, \"ticks\": \"\"}}, \"type\": \"histogram\"}], \"histogram2d\": [{\"colorbar\": {\"outlinewidth\": 0, \"ticks\": \"\"}, \"colorscale\": [[0.0, \"#0d0887\"], [0.1111111111111111, \"#46039f\"], [0.2222222222222222, \"#7201a8\"], [0.3333333333333333, \"#9c179e\"], [0.4444444444444444, \"#bd3786\"], [0.5555555555555556, \"#d8576b\"], [0.6666666666666666, \"#ed7953\"], [0.7777777777777778, \"#fb9f3a\"], [0.8888888888888888, \"#fdca26\"], [1.0, \"#f0f921\"]], \"type\": \"histogram2d\"}], \"histogram2dcontour\": [{\"colorbar\": {\"outlinewidth\": 0, \"ticks\": \"\"}, \"colorscale\": [[0.0, \"#0d0887\"], [0.1111111111111111, \"#46039f\"], [0.2222222222222222, \"#7201a8\"], [0.3333333333333333, \"#9c179e\"], [0.4444444444444444, \"#bd3786\"], [0.5555555555555556, \"#d8576b\"], [0.6666666666666666, \"#ed7953\"], [0.7777777777777778, \"#fb9f3a\"], [0.8888888888888888, \"#fdca26\"], [1.0, \"#f0f921\"]], \"type\": \"histogram2dcontour\"}], \"mesh3d\": [{\"colorbar\": {\"outlinewidth\": 0, \"ticks\": \"\"}, \"type\": \"mesh3d\"}], \"parcoords\": [{\"line\": {\"colorbar\": {\"outlinewidth\": 0, \"ticks\": \"\"}}, \"type\": \"parcoords\"}], \"pie\": [{\"automargin\": true, \"type\": \"pie\"}], \"scatter\": [{\"marker\": {\"colorbar\": {\"outlinewidth\": 0, \"ticks\": \"\"}}, \"type\": \"scatter\"}], \"scatter3d\": [{\"line\": {\"colorbar\": {\"outlinewidth\": 0, \"ticks\": \"\"}}, \"marker\": {\"colorbar\": {\"outlinewidth\": 0, \"ticks\": \"\"}}, \"type\": \"scatter3d\"}], \"scattercarpet\": [{\"marker\": {\"colorbar\": {\"outlinewidth\": 0, \"ticks\": \"\"}}, \"type\": \"scattercarpet\"}], \"scattergeo\": [{\"marker\": {\"colorbar\": {\"outlinewidth\": 0, \"ticks\": \"\"}}, \"type\": \"scattergeo\"}], \"scattergl\": [{\"marker\": {\"colorbar\": {\"outlinewidth\": 0, \"ticks\": \"\"}}, \"type\": \"scattergl\"}], \"scattermapbox\": [{\"marker\": {\"colorbar\": {\"outlinewidth\": 0, \"ticks\": \"\"}}, \"type\": \"scattermapbox\"}], \"scatterpolar\": [{\"marker\": {\"colorbar\": {\"outlinewidth\": 0, \"ticks\": \"\"}}, \"type\": \"scatterpolar\"}], \"scatterpolargl\": [{\"marker\": {\"colorbar\": {\"outlinewidth\": 0, \"ticks\": \"\"}}, \"type\": \"scatterpolargl\"}], \"scatterternary\": [{\"marker\": {\"colorbar\": {\"outlinewidth\": 0, \"ticks\": \"\"}}, \"type\": \"scatterternary\"}], \"surface\": [{\"colorbar\": {\"outlinewidth\": 0, \"ticks\": \"\"}, \"colorscale\": [[0.0, \"#0d0887\"], [0.1111111111111111, \"#46039f\"], [0.2222222222222222, \"#7201a8\"], [0.3333333333333333, \"#9c179e\"], [0.4444444444444444, \"#bd3786\"], [0.5555555555555556, \"#d8576b\"], [0.6666666666666666, \"#ed7953\"], [0.7777777777777778, \"#fb9f3a\"], [0.8888888888888888, \"#fdca26\"], [1.0, \"#f0f921\"]], \"type\": \"surface\"}], \"table\": [{\"cells\": {\"fill\": {\"color\": \"#EBF0F8\"}, \"line\": {\"color\": \"white\"}}, \"header\": {\"fill\": {\"color\": \"#C8D4E3\"}, \"line\": {\"color\": \"white\"}}, \"type\": \"table\"}]}, \"layout\": {\"annotationdefaults\": {\"arrowcolor\": \"#2a3f5f\", \"arrowhead\": 0, \"arrowwidth\": 1}, \"coloraxis\": {\"colorbar\": {\"outlinewidth\": 0, \"ticks\": \"\"}}, \"colorscale\": {\"diverging\": [[0, \"#8e0152\"], [0.1, \"#c51b7d\"], [0.2, \"#de77ae\"], [0.3, \"#f1b6da\"], [0.4, \"#fde0ef\"], [0.5, \"#f7f7f7\"], [0.6, \"#e6f5d0\"], [0.7, \"#b8e186\"], [0.8, \"#7fbc41\"], [0.9, \"#4d9221\"], [1, \"#276419\"]], \"sequential\": [[0.0, \"#0d0887\"], [0.1111111111111111, \"#46039f\"], [0.2222222222222222, \"#7201a8\"], [0.3333333333333333, \"#9c179e\"], [0.4444444444444444, \"#bd3786\"], [0.5555555555555556, \"#d8576b\"], [0.6666666666666666, \"#ed7953\"], [0.7777777777777778, \"#fb9f3a\"], [0.8888888888888888, \"#fdca26\"], [1.0, \"#f0f921\"]], \"sequentialminus\": [[0.0, \"#0d0887\"], [0.1111111111111111, \"#46039f\"], [0.2222222222222222, \"#7201a8\"], [0.3333333333333333, \"#9c179e\"], [0.4444444444444444, \"#bd3786\"], [0.5555555555555556, \"#d8576b\"], [0.6666666666666666, \"#ed7953\"], [0.7777777777777778, \"#fb9f3a\"], [0.8888888888888888, \"#fdca26\"], [1.0, \"#f0f921\"]]}, \"colorway\": [\"#636efa\", \"#EF553B\", \"#00cc96\", \"#ab63fa\", \"#FFA15A\", \"#19d3f3\", \"#FF6692\", \"#B6E880\", \"#FF97FF\", \"#FECB52\"], \"font\": {\"color\": \"#2a3f5f\"}, \"geo\": {\"bgcolor\": \"white\", \"lakecolor\": \"white\", \"landcolor\": \"#E5ECF6\", \"showlakes\": true, \"showland\": true, \"subunitcolor\": \"white\"}, \"hoverlabel\": {\"align\": \"left\"}, \"hovermode\": \"closest\", \"mapbox\": {\"style\": \"light\"}, \"paper_bgcolor\": \"white\", \"plot_bgcolor\": \"#E5ECF6\", \"polar\": {\"angularaxis\": {\"gridcolor\": \"white\", \"linecolor\": \"white\", \"ticks\": \"\"}, \"bgcolor\": \"#E5ECF6\", \"radialaxis\": {\"gridcolor\": \"white\", \"linecolor\": \"white\", \"ticks\": \"\"}}, \"scene\": {\"xaxis\": {\"backgroundcolor\": \"#E5ECF6\", \"gridcolor\": \"white\", \"gridwidth\": 2, \"linecolor\": \"white\", \"showbackground\": true, \"ticks\": \"\", \"zerolinecolor\": \"white\"}, \"yaxis\": {\"backgroundcolor\": \"#E5ECF6\", \"gridcolor\": \"white\", \"gridwidth\": 2, \"linecolor\": \"white\", \"showbackground\": true, \"ticks\": \"\", \"zerolinecolor\": \"white\"}, \"zaxis\": {\"backgroundcolor\": \"#E5ECF6\", \"gridcolor\": \"white\", \"gridwidth\": 2, \"linecolor\": \"white\", \"showbackground\": true, \"ticks\": \"\", \"zerolinecolor\": \"white\"}}, \"shapedefaults\": {\"line\": {\"color\": \"#2a3f5f\"}}, \"ternary\": {\"aaxis\": {\"gridcolor\": \"white\", \"linecolor\": \"white\", \"ticks\": \"\"}, \"baxis\": {\"gridcolor\": \"white\", \"linecolor\": \"white\", \"ticks\": \"\"}, \"bgcolor\": \"#E5ECF6\", \"caxis\": {\"gridcolor\": \"white\", \"linecolor\": \"white\", \"ticks\": \"\"}}, \"title\": {\"x\": 0.05}, \"xaxis\": {\"automargin\": true, \"gridcolor\": \"white\", \"linecolor\": \"white\", \"ticks\": \"\", \"title\": {\"standoff\": 15}, \"zerolinecolor\": \"white\", \"zerolinewidth\": 2}, \"yaxis\": {\"automargin\": true, \"gridcolor\": \"white\", \"linecolor\": \"white\", \"ticks\": \"\", \"title\": {\"standoff\": 15}, \"zerolinecolor\": \"white\", \"zerolinewidth\": 2}}}, \"title\": {\"font\": {\"color\": \"#4D5663\"}}, \"xaxis\": {\"gridcolor\": \"#E1E5ED\", \"showgrid\": true, \"tickfont\": {\"color\": \"#4D5663\"}, \"title\": {\"font\": {\"color\": \"#4D5663\"}, \"text\": \"\"}, \"zerolinecolor\": \"#E1E5ED\"}, \"yaxis\": {\"gridcolor\": \"#E1E5ED\", \"showgrid\": true, \"tickfont\": {\"color\": \"#4D5663\"}, \"title\": {\"font\": {\"color\": \"#4D5663\"}, \"text\": \"\"}, \"zerolinecolor\": \"#E1E5ED\"}},                        {\"showLink\": true, \"linkText\": \"Export to plot.ly\", \"plotlyServerURL\": \"https://plot.ly\", \"responsive\": true}                    ).then(function(){\n",
       "                            \n",
       "var gd = document.getElementById('97244ac0-4058-49c6-9fb6-59783ecc4e02');\n",
       "var x = new MutationObserver(function (mutations, observer) {{\n",
       "        var display = window.getComputedStyle(gd).display;\n",
       "        if (!display || display === 'none') {{\n",
       "            console.log([gd, 'removed!']);\n",
       "            Plotly.purge(gd);\n",
       "            observer.disconnect();\n",
       "        }}\n",
       "}});\n",
       "\n",
       "// Listen for the removal of the full notebook cells\n",
       "var notebookContainer = gd.closest('#notebook-container');\n",
       "if (notebookContainer) {{\n",
       "    x.observe(notebookContainer, {childList: true});\n",
       "}}\n",
       "\n",
       "// Listen for the clearing of the current output cell\n",
       "var outputEl = gd.closest('.output');\n",
       "if (outputEl) {{\n",
       "    x.observe(outputEl, {childList: true});\n",
       "}}\n",
       "\n",
       "                        })                };                });            </script>        </div>"
      ]
     },
     "metadata": {},
     "output_type": "display_data"
    }
   ],
   "source": [
    "# cufflinks => 드래그로 가능\n",
    "filter_zip_daily_df.pivot_table('cnt', index='date', columns='zip_code').iplot(kind='box', x='zip_code')"
   ]
  },
  {
   "cell_type": "code",
   "execution_count": 27,
   "metadata": {},
   "outputs": [
    {
     "data": {
      "image/png": "[encoded data removed]",
      "text/plain": [
       "<Figure size 1152x432 with 1 Axes>"
      ]
     },
     "metadata": {
      "image/png": {
       "height": 371,
       "width": 969
      },
      "needs_background": "light"
     },
     "output_type": "display_data"
    }
   ],
   "source": [
    "# seaborn\n",
    "plt.figure(figsize=(16, 6));\n",
    "sns.boxplot(x='zip_code', y='cnt', data=filter_zip_daily_df);"
   ]
  },
  {
   "cell_type": "code",
   "execution_count": 28,
   "metadata": {},
   "outputs": [
    {
     "data": {
      "text/html": [
       "<div>\n",
       "<style scoped>\n",
       "    .dataframe tbody tr th:only-of-type {\n",
       "        vertical-align: middle;\n",
       "    }\n",
       "\n",
       "    .dataframe tbody tr th {\n",
       "        vertical-align: top;\n",
       "    }\n",
       "\n",
       "    .dataframe thead th {\n",
       "        text-align: right;\n",
       "    }\n",
       "</style>\n",
       "<table border=\"1\" class=\"dataframe\">\n",
       "  <thead>\n",
       "    <tr style=\"text-align: right;\">\n",
       "      <th></th>\n",
       "      <th>zip_code</th>\n",
       "      <th>zip_code_geom</th>\n",
       "      <th>pickup_hour</th>\n",
       "      <th>cnt</th>\n",
       "      <th>date</th>\n",
       "    </tr>\n",
       "  </thead>\n",
       "  <tbody>\n",
       "    <tr>\n",
       "      <th>52</th>\n",
       "      <td>10001</td>\n",
       "      <td>POLYGON((-74.00828 40.750272, -74.008255 40.75...</td>\n",
       "      <td>2015-01-01 00:00:00</td>\n",
       "      <td>1221</td>\n",
       "      <td>2015-01-01</td>\n",
       "    </tr>\n",
       "    <tr>\n",
       "      <th>261</th>\n",
       "      <td>10001</td>\n",
       "      <td>POLYGON((-74.00828 40.750272, -74.008255 40.75...</td>\n",
       "      <td>2015-01-01 01:00:00</td>\n",
       "      <td>1151</td>\n",
       "      <td>2015-01-01</td>\n",
       "    </tr>\n",
       "    <tr>\n",
       "      <th>425</th>\n",
       "      <td>10001</td>\n",
       "      <td>POLYGON((-74.00828 40.750272, -74.008255 40.75...</td>\n",
       "      <td>2015-01-01 02:00:00</td>\n",
       "      <td>939</td>\n",
       "      <td>2015-01-01</td>\n",
       "    </tr>\n",
       "    <tr>\n",
       "      <th>630</th>\n",
       "      <td>10001</td>\n",
       "      <td>POLYGON((-74.00828 40.750272, -74.008255 40.75...</td>\n",
       "      <td>2015-01-01 03:00:00</td>\n",
       "      <td>997</td>\n",
       "      <td>2015-01-01</td>\n",
       "    </tr>\n",
       "    <tr>\n",
       "      <th>648</th>\n",
       "      <td>10001</td>\n",
       "      <td>POLYGON((-74.00828 40.750272, -74.008255 40.75...</td>\n",
       "      <td>2015-01-01 04:00:00</td>\n",
       "      <td>794</td>\n",
       "      <td>2015-01-01</td>\n",
       "    </tr>\n",
       "    <tr>\n",
       "      <th>...</th>\n",
       "      <td>...</td>\n",
       "      <td>...</td>\n",
       "      <td>...</td>\n",
       "      <td>...</td>\n",
       "      <td>...</td>\n",
       "    </tr>\n",
       "    <tr>\n",
       "      <th>86434</th>\n",
       "      <td>10001</td>\n",
       "      <td>POLYGON((-74.00828 40.750272, -74.008255 40.75...</td>\n",
       "      <td>2015-01-31 19:00:00</td>\n",
       "      <td>1534</td>\n",
       "      <td>2015-01-31</td>\n",
       "    </tr>\n",
       "    <tr>\n",
       "      <th>86588</th>\n",
       "      <td>10001</td>\n",
       "      <td>POLYGON((-74.00828 40.750272, -74.008255 40.75...</td>\n",
       "      <td>2015-01-31 20:00:00</td>\n",
       "      <td>1219</td>\n",
       "      <td>2015-01-31</td>\n",
       "    </tr>\n",
       "    <tr>\n",
       "      <th>86737</th>\n",
       "      <td>10001</td>\n",
       "      <td>POLYGON((-74.00828 40.750272, -74.008255 40.75...</td>\n",
       "      <td>2015-01-31 21:00:00</td>\n",
       "      <td>1574</td>\n",
       "      <td>2015-01-31</td>\n",
       "    </tr>\n",
       "    <tr>\n",
       "      <th>86844</th>\n",
       "      <td>10001</td>\n",
       "      <td>POLYGON((-74.00828 40.750272, -74.008255 40.75...</td>\n",
       "      <td>2015-01-31 22:00:00</td>\n",
       "      <td>1385</td>\n",
       "      <td>2015-01-31</td>\n",
       "    </tr>\n",
       "    <tr>\n",
       "      <th>86996</th>\n",
       "      <td>10001</td>\n",
       "      <td>POLYGON((-74.00828 40.750272, -74.008255 40.75...</td>\n",
       "      <td>2015-01-31 23:00:00</td>\n",
       "      <td>1300</td>\n",
       "      <td>2015-01-31</td>\n",
       "    </tr>\n",
       "  </tbody>\n",
       "</table>\n",
       "<p>740 rows × 5 columns</p>\n",
       "</div>"
      ],
      "text/plain": [
       "      zip_code                                      zip_code_geom  \\\n",
       "52       10001  POLYGON((-74.00828 40.750272, -74.008255 40.75...   \n",
       "261      10001  POLYGON((-74.00828 40.750272, -74.008255 40.75...   \n",
       "425      10001  POLYGON((-74.00828 40.750272, -74.008255 40.75...   \n",
       "630      10001  POLYGON((-74.00828 40.750272, -74.008255 40.75...   \n",
       "648      10001  POLYGON((-74.00828 40.750272, -74.008255 40.75...   \n",
       "...        ...                                                ...   \n",
       "86434    10001  POLYGON((-74.00828 40.750272, -74.008255 40.75...   \n",
       "86588    10001  POLYGON((-74.00828 40.750272, -74.008255 40.75...   \n",
       "86737    10001  POLYGON((-74.00828 40.750272, -74.008255 40.75...   \n",
       "86844    10001  POLYGON((-74.00828 40.750272, -74.008255 40.75...   \n",
       "86996    10001  POLYGON((-74.00828 40.750272, -74.008255 40.75...   \n",
       "\n",
       "              pickup_hour   cnt        date  \n",
       "52    2015-01-01 00:00:00  1221  2015-01-01  \n",
       "261   2015-01-01 01:00:00  1151  2015-01-01  \n",
       "425   2015-01-01 02:00:00   939  2015-01-01  \n",
       "630   2015-01-01 03:00:00   997  2015-01-01  \n",
       "648   2015-01-01 04:00:00   794  2015-01-01  \n",
       "...                   ...   ...         ...  \n",
       "86434 2015-01-31 19:00:00  1534  2015-01-31  \n",
       "86588 2015-01-31 20:00:00  1219  2015-01-31  \n",
       "86737 2015-01-31 21:00:00  1574  2015-01-31  \n",
       "86844 2015-01-31 22:00:00  1385  2015-01-31  \n",
       "86996 2015-01-31 23:00:00  1300  2015-01-31  \n",
       "\n",
       "[740 rows x 5 columns]"
      ]
     },
     "execution_count": 28,
     "metadata": {},
     "output_type": "execute_result"
    }
   ],
   "source": [
    "filter_zip_df[filter_zip_df['zip_code'] == '10001']"
   ]
  },
  {
   "cell_type": "code",
   "execution_count": 29,
   "metadata": {},
   "outputs": [
    {
     "data": {
      "image/png": "[encoded data removed]",
      "text/plain": [
       "<Figure size 1080x576 with 2 Axes>"
      ]
     },
     "metadata": {
      "image/png": {
       "height": 502,
       "width": 865
      },
      "needs_background": "light"
     },
     "output_type": "display_data"
    }
   ],
   "source": [
    "plt.figure(figsize=(15,8))\n",
    "sns.heatmap(filter_zip_daily_df.pivot_table('cnt', index='date', columns='zip_code'),\n",
    "           lw=.5, cmap='GnBu');"
   ]
  },
  {
   "cell_type": "markdown",
   "metadata": {},
   "source": [
    "### 시간대별 zip_code의 추이"
   ]
  },
  {
   "cell_type": "code",
   "execution_count": 30,
   "metadata": {},
   "outputs": [],
   "source": [
    "filter_zip_df['hour'] = filter_zip_df['pickup_hour'].dt.hour"
   ]
  },
  {
   "cell_type": "code",
   "execution_count": 31,
   "metadata": {},
   "outputs": [
    {
     "data": {
      "text/html": [
       "<div>\n",
       "<style scoped>\n",
       "    .dataframe tbody tr th:only-of-type {\n",
       "        vertical-align: middle;\n",
       "    }\n",
       "\n",
       "    .dataframe tbody tr th {\n",
       "        vertical-align: top;\n",
       "    }\n",
       "\n",
       "    .dataframe thead th {\n",
       "        text-align: right;\n",
       "    }\n",
       "</style>\n",
       "<table border=\"1\" class=\"dataframe\">\n",
       "  <thead>\n",
       "    <tr style=\"text-align: right;\">\n",
       "      <th></th>\n",
       "      <th>zip_code</th>\n",
       "      <th>zip_code_geom</th>\n",
       "      <th>pickup_hour</th>\n",
       "      <th>cnt</th>\n",
       "      <th>date</th>\n",
       "      <th>hour</th>\n",
       "    </tr>\n",
       "  </thead>\n",
       "  <tbody>\n",
       "    <tr>\n",
       "      <th>0</th>\n",
       "      <td>10014</td>\n",
       "      <td>POLYGON((-74.015728 40.725423, -74.01599 40.72...</td>\n",
       "      <td>2015-01-01</td>\n",
       "      <td>1093</td>\n",
       "      <td>2015-01-01</td>\n",
       "      <td>0</td>\n",
       "    </tr>\n",
       "    <tr>\n",
       "      <th>5</th>\n",
       "      <td>11206</td>\n",
       "      <td>POLYGON((-73.95733 40.700904, -73.957457 40.70...</td>\n",
       "      <td>2015-01-01</td>\n",
       "      <td>100</td>\n",
       "      <td>2015-01-01</td>\n",
       "      <td>0</td>\n",
       "    </tr>\n",
       "    <tr>\n",
       "      <th>7</th>\n",
       "      <td>10019</td>\n",
       "      <td>POLYGON((-74.003568 40.763799, -74.003767 40.7...</td>\n",
       "      <td>2015-01-01</td>\n",
       "      <td>1367</td>\n",
       "      <td>2015-01-01</td>\n",
       "      <td>0</td>\n",
       "    </tr>\n",
       "  </tbody>\n",
       "</table>\n",
       "</div>"
      ],
      "text/plain": [
       "  zip_code                                      zip_code_geom pickup_hour  \\\n",
       "0    10014  POLYGON((-74.015728 40.725423, -74.01599 40.72...  2015-01-01   \n",
       "5    11206  POLYGON((-73.95733 40.700904, -73.957457 40.70...  2015-01-01   \n",
       "7    10019  POLYGON((-74.003568 40.763799, -74.003767 40.7...  2015-01-01   \n",
       "\n",
       "    cnt        date  hour  \n",
       "0  1093  2015-01-01     0  \n",
       "5   100  2015-01-01     0  \n",
       "7  1367  2015-01-01     0  "
      ]
     },
     "execution_count": 31,
     "metadata": {},
     "output_type": "execute_result"
    }
   ],
   "source": [
    "filter_zip_df.head(3)"
   ]
  },
  {
   "cell_type": "code",
   "execution_count": 32,
   "metadata": {},
   "outputs": [
    {
     "data": {
      "image/png": "[encoded data removed]",
      "text/plain": [
       "<Figure size 1080x576 with 2 Axes>"
      ]
     },
     "metadata": {
      "image/png": {
       "height": 502,
       "width": 810
      },
      "needs_background": "light"
     },
     "output_type": "display_data"
    }
   ],
   "source": [
    "plt.figure(figsize=(15,8))\n",
    "sns.heatmap(filter_zip_df.pivot_table('cnt', index='hour', columns='zip_code', aggfunc='mean'),\n",
    "           lw=.5, cmap='GnBu');"
   ]
  },
  {
   "cell_type": "code",
   "execution_count": null,
   "metadata": {},
   "outputs": [],
   "source": []
  },
  {
   "cell_type": "code",
   "execution_count": null,
   "metadata": {},
   "outputs": [],
   "source": []
  },
  {
   "cell_type": "markdown",
   "metadata": {},
   "source": [
    "## Practice"
   ]
  },
  {
   "cell_type": "code",
   "execution_count": 83,
   "metadata": {},
   "outputs": [
    {
     "data": {
      "text/html": [
       "<div>\n",
       "<style scoped>\n",
       "    .dataframe tbody tr th:only-of-type {\n",
       "        vertical-align: middle;\n",
       "    }\n",
       "\n",
       "    .dataframe tbody tr th {\n",
       "        vertical-align: top;\n",
       "    }\n",
       "\n",
       "    .dataframe thead th {\n",
       "        text-align: right;\n",
       "    }\n",
       "</style>\n",
       "<table border=\"1\" class=\"dataframe\">\n",
       "  <thead>\n",
       "    <tr style=\"text-align: right;\">\n",
       "      <th></th>\n",
       "      <th>zip_code</th>\n",
       "      <th>pickup_hour</th>\n",
       "      <th>cnt</th>\n",
       "    </tr>\n",
       "  </thead>\n",
       "  <tbody>\n",
       "    <tr>\n",
       "      <th>0</th>\n",
       "      <td>10014</td>\n",
       "      <td>2015-01-01 00:00:00</td>\n",
       "      <td>1093</td>\n",
       "    </tr>\n",
       "    <tr>\n",
       "      <th>1</th>\n",
       "      <td>11209</td>\n",
       "      <td>2015-01-01 00:00:00</td>\n",
       "      <td>4</td>\n",
       "    </tr>\n",
       "    <tr>\n",
       "      <th>2</th>\n",
       "      <td>10473</td>\n",
       "      <td>2015-01-01 00:00:00</td>\n",
       "      <td>1</td>\n",
       "    </tr>\n",
       "    <tr>\n",
       "      <th>3</th>\n",
       "      <td>11237</td>\n",
       "      <td>2015-01-01 00:00:00</td>\n",
       "      <td>38</td>\n",
       "    </tr>\n",
       "    <tr>\n",
       "      <th>4</th>\n",
       "      <td>10803</td>\n",
       "      <td>2015-01-01 00:00:00</td>\n",
       "      <td>1</td>\n",
       "    </tr>\n",
       "    <tr>\n",
       "      <th>...</th>\n",
       "      <td>...</td>\n",
       "      <td>...</td>\n",
       "      <td>...</td>\n",
       "    </tr>\n",
       "    <tr>\n",
       "      <th>87015</th>\n",
       "      <td>11237</td>\n",
       "      <td>2015-01-31 23:00:00</td>\n",
       "      <td>18</td>\n",
       "    </tr>\n",
       "    <tr>\n",
       "      <th>87016</th>\n",
       "      <td>10452</td>\n",
       "      <td>2015-01-31 23:00:00</td>\n",
       "      <td>1</td>\n",
       "    </tr>\n",
       "    <tr>\n",
       "      <th>87017</th>\n",
       "      <td>10003</td>\n",
       "      <td>2015-01-31 23:00:00</td>\n",
       "      <td>2543</td>\n",
       "    </tr>\n",
       "    <tr>\n",
       "      <th>87018</th>\n",
       "      <td>11552</td>\n",
       "      <td>2015-01-31 23:00:00</td>\n",
       "      <td>1</td>\n",
       "    </tr>\n",
       "    <tr>\n",
       "      <th>87019</th>\n",
       "      <td>10177</td>\n",
       "      <td>2015-01-31 23:00:00</td>\n",
       "      <td>3</td>\n",
       "    </tr>\n",
       "  </tbody>\n",
       "</table>\n",
       "<p>87020 rows × 3 columns</p>\n",
       "</div>"
      ],
      "text/plain": [
       "      zip_code         pickup_hour   cnt\n",
       "0        10014 2015-01-01 00:00:00  1093\n",
       "1        11209 2015-01-01 00:00:00     4\n",
       "2        10473 2015-01-01 00:00:00     1\n",
       "3        11237 2015-01-01 00:00:00    38\n",
       "4        10803 2015-01-01 00:00:00     1\n",
       "...        ...                 ...   ...\n",
       "87015    11237 2015-01-31 23:00:00    18\n",
       "87016    10452 2015-01-31 23:00:00     1\n",
       "87017    10003 2015-01-31 23:00:00  2543\n",
       "87018    11552 2015-01-31 23:00:00     1\n",
       "87019    10177 2015-01-31 23:00:00     3\n",
       "\n",
       "[87020 rows x 3 columns]"
      ]
     },
     "execution_count": 83,
     "metadata": {},
     "output_type": "execute_result"
    }
   ],
   "source": [
    "my_df = df[['zip_code', 'pickup_hour', 'cnt']]\n",
    "my_df"
   ]
  },
  {
   "cell_type": "markdown",
   "metadata": {},
   "source": [
    "### 1. 일별로, 택시 가장 많이 이용한 지역 10개씩 뽑아서 리스트로 만들기"
   ]
  },
  {
   "cell_type": "code",
   "execution_count": 4,
   "metadata": {},
   "outputs": [],
   "source": [
    "my_df['day'] =  my_df['pickup_hour'].dt.day"
   ]
  },
  {
   "cell_type": "code",
   "execution_count": 71,
   "metadata": {
    "scrolled": true
   },
   "outputs": [
    {
     "data": {
      "text/html": [
       "<div>\n",
       "<style scoped>\n",
       "    .dataframe tbody tr th:only-of-type {\n",
       "        vertical-align: middle;\n",
       "    }\n",
       "\n",
       "    .dataframe tbody tr th {\n",
       "        vertical-align: top;\n",
       "    }\n",
       "\n",
       "    .dataframe thead th {\n",
       "        text-align: right;\n",
       "    }\n",
       "</style>\n",
       "<table border=\"1\" class=\"dataframe\">\n",
       "  <thead>\n",
       "    <tr style=\"text-align: right;\">\n",
       "      <th></th>\n",
       "      <th>zip_code</th>\n",
       "      <th>pickup_hour</th>\n",
       "      <th>cnt</th>\n",
       "      <th>day</th>\n",
       "      <th>rank_by_min_per_course</th>\n",
       "    </tr>\n",
       "  </thead>\n",
       "  <tbody>\n",
       "    <tr>\n",
       "      <th>0</th>\n",
       "      <td>10014</td>\n",
       "      <td>2015-01-01</td>\n",
       "      <td>1093</td>\n",
       "      <td>1</td>\n",
       "      <td>32.0</td>\n",
       "    </tr>\n",
       "    <tr>\n",
       "      <th>1</th>\n",
       "      <td>11209</td>\n",
       "      <td>2015-01-01</td>\n",
       "      <td>4</td>\n",
       "      <td>1</td>\n",
       "      <td>2121.0</td>\n",
       "    </tr>\n",
       "    <tr>\n",
       "      <th>2</th>\n",
       "      <td>10473</td>\n",
       "      <td>2015-01-01</td>\n",
       "      <td>1</td>\n",
       "      <td>1</td>\n",
       "      <td>2701.0</td>\n",
       "    </tr>\n",
       "    <tr>\n",
       "      <th>3</th>\n",
       "      <td>11237</td>\n",
       "      <td>2015-01-01</td>\n",
       "      <td>38</td>\n",
       "      <td>1</td>\n",
       "      <td>1038.0</td>\n",
       "    </tr>\n",
       "    <tr>\n",
       "      <th>4</th>\n",
       "      <td>10803</td>\n",
       "      <td>2015-01-01</td>\n",
       "      <td>1</td>\n",
       "      <td>1</td>\n",
       "      <td>2701.0</td>\n",
       "    </tr>\n",
       "  </tbody>\n",
       "</table>\n",
       "</div>"
      ],
      "text/plain": [
       "  zip_code pickup_hour   cnt  day  rank_by_min_per_course\n",
       "0    10014  2015-01-01  1093    1                    32.0\n",
       "1    11209  2015-01-01     4    1                  2121.0\n",
       "2    10473  2015-01-01     1    1                  2701.0\n",
       "3    11237  2015-01-01    38    1                  1038.0\n",
       "4    10803  2015-01-01     1    1                  2701.0"
      ]
     },
     "execution_count": 71,
     "metadata": {},
     "output_type": "execute_result"
    }
   ],
   "source": [
    "my_df.head()"
   ]
  },
  {
   "cell_type": "code",
   "execution_count": 49,
   "metadata": {},
   "outputs": [],
   "source": [
    "my_df['rank_by_min_per_course'] = my_df.groupby('day')['cnt'].rank(method='min', ascending=False) # method='min' 동점 관측치 그룹 내 최소 순위 부여"
   ]
  },
  {
   "cell_type": "code",
   "execution_count": 52,
   "metadata": {},
   "outputs": [
    {
     "data": {
      "text/html": [
       "<div>\n",
       "<style scoped>\n",
       "    .dataframe tbody tr th:only-of-type {\n",
       "        vertical-align: middle;\n",
       "    }\n",
       "\n",
       "    .dataframe tbody tr th {\n",
       "        vertical-align: top;\n",
       "    }\n",
       "\n",
       "    .dataframe thead th {\n",
       "        text-align: right;\n",
       "    }\n",
       "</style>\n",
       "<table border=\"1\" class=\"dataframe\">\n",
       "  <thead>\n",
       "    <tr style=\"text-align: right;\">\n",
       "      <th></th>\n",
       "      <th>zip_code</th>\n",
       "      <th>pickup_hour</th>\n",
       "      <th>cnt</th>\n",
       "      <th>day</th>\n",
       "      <th>rank_by_min_per_course</th>\n",
       "    </tr>\n",
       "  </thead>\n",
       "  <tbody>\n",
       "    <tr>\n",
       "      <th>33447</th>\n",
       "      <td>10019</td>\n",
       "      <td>2015-01-12 18:00:00</td>\n",
       "      <td>2156</td>\n",
       "      <td>12</td>\n",
       "      <td>1.0</td>\n",
       "    </tr>\n",
       "    <tr>\n",
       "      <th>8840</th>\n",
       "      <td>10003</td>\n",
       "      <td>2015-01-04 00:00:00</td>\n",
       "      <td>1968</td>\n",
       "      <td>4</td>\n",
       "      <td>1.0</td>\n",
       "    </tr>\n",
       "    <tr>\n",
       "      <th>19209</th>\n",
       "      <td>10019</td>\n",
       "      <td>2015-01-07 19:00:00</td>\n",
       "      <td>2307</td>\n",
       "      <td>7</td>\n",
       "      <td>1.0</td>\n",
       "    </tr>\n",
       "    <tr>\n",
       "      <th>8720</th>\n",
       "      <td>10003</td>\n",
       "      <td>2015-01-03 23:00:00</td>\n",
       "      <td>2092</td>\n",
       "      <td>3</td>\n",
       "      <td>1.0</td>\n",
       "    </tr>\n",
       "    <tr>\n",
       "      <th>39176</th>\n",
       "      <td>10019</td>\n",
       "      <td>2015-01-14 20:00:00</td>\n",
       "      <td>2352</td>\n",
       "      <td>14</td>\n",
       "      <td>1.0</td>\n",
       "    </tr>\n",
       "    <tr>\n",
       "      <th>...</th>\n",
       "      <td>...</td>\n",
       "      <td>...</td>\n",
       "      <td>...</td>\n",
       "      <td>...</td>\n",
       "      <td>...</td>\n",
       "    </tr>\n",
       "    <tr>\n",
       "      <th>560</th>\n",
       "      <td>11436</td>\n",
       "      <td>2015-01-01 03:00:00</td>\n",
       "      <td>1</td>\n",
       "      <td>1</td>\n",
       "      <td>2701.0</td>\n",
       "    </tr>\n",
       "    <tr>\n",
       "      <th>2807</th>\n",
       "      <td>11109</td>\n",
       "      <td>2015-01-01 20:00:00</td>\n",
       "      <td>1</td>\n",
       "      <td>1</td>\n",
       "      <td>2701.0</td>\n",
       "    </tr>\n",
       "    <tr>\n",
       "      <th>1685</th>\n",
       "      <td>11422</td>\n",
       "      <td>2015-01-01 11:00:00</td>\n",
       "      <td>1</td>\n",
       "      <td>1</td>\n",
       "      <td>2701.0</td>\n",
       "    </tr>\n",
       "    <tr>\n",
       "      <th>2039</th>\n",
       "      <td>11436</td>\n",
       "      <td>2015-01-01 14:00:00</td>\n",
       "      <td>1</td>\n",
       "      <td>1</td>\n",
       "      <td>2701.0</td>\n",
       "    </tr>\n",
       "    <tr>\n",
       "      <th>3224</th>\n",
       "      <td>11219</td>\n",
       "      <td>2015-01-01 23:00:00</td>\n",
       "      <td>1</td>\n",
       "      <td>1</td>\n",
       "      <td>2701.0</td>\n",
       "    </tr>\n",
       "  </tbody>\n",
       "</table>\n",
       "<p>87020 rows × 5 columns</p>\n",
       "</div>"
      ],
      "text/plain": [
       "      zip_code         pickup_hour   cnt  day  rank_by_min_per_course\n",
       "33447    10019 2015-01-12 18:00:00  2156   12                     1.0\n",
       "8840     10003 2015-01-04 00:00:00  1968    4                     1.0\n",
       "19209    10019 2015-01-07 19:00:00  2307    7                     1.0\n",
       "8720     10003 2015-01-03 23:00:00  2092    3                     1.0\n",
       "39176    10019 2015-01-14 20:00:00  2352   14                     1.0\n",
       "...        ...                 ...   ...  ...                     ...\n",
       "560      11436 2015-01-01 03:00:00     1    1                  2701.0\n",
       "2807     11109 2015-01-01 20:00:00     1    1                  2701.0\n",
       "1685     11422 2015-01-01 11:00:00     1    1                  2701.0\n",
       "2039     11436 2015-01-01 14:00:00     1    1                  2701.0\n",
       "3224     11219 2015-01-01 23:00:00     1    1                  2701.0\n",
       "\n",
       "[87020 rows x 5 columns]"
      ]
     },
     "execution_count": 52,
     "metadata": {},
     "output_type": "execute_result"
    }
   ],
   "source": [
    "my_df.sort_values(by='rank_by_min_per_course')"
   ]
  },
  {
   "cell_type": "code",
   "execution_count": 73,
   "metadata": {
    "scrolled": true
   },
   "outputs": [
    {
     "name": "stdout",
     "output_type": "stream",
     "text": [
      "day:  1\n",
      "                       zip_code         pickup_hour   cnt\n",
      "rank_by_min_per_course                                   \n",
      "1.0                       10016 2015-01-01 01:00:00  2011\n",
      "2.0                       10003 2015-01-01 00:00:00  1809\n",
      "3.0                       10016 2015-01-01 02:00:00  1752\n",
      "4.0                       10016 2015-01-01 00:00:00  1730\n",
      "5.0                       10022 2015-01-01 01:00:00  1673\n",
      "6.0                       10019 2015-01-01 03:00:00  1622\n",
      "7.0                       10011 2015-01-01 00:00:00  1615\n",
      "8.0                       10016 2015-01-01 03:00:00  1613\n",
      "9.0                       10003 2015-01-01 03:00:00  1484\n",
      "10.0                      10022 2015-01-01 00:00:00  1392\n",
      "~~~~~~~~~~~~~~~~~~~~~~~~~~~~~~~~~~~~~~~~~~~~~~~~~~~~~~~~~~~~~~~~~~~~~~~~~~~~~~~\n",
      "day:  2\n",
      "                       zip_code         pickup_hour   cnt\n",
      "rank_by_min_per_course                                   \n",
      "1.0                       10003 2015-01-02 23:00:00  1791\n",
      "2.0                       10036 2015-01-02 22:00:00  1732\n",
      "3.0                       10019 2015-01-02 18:00:00  1630\n",
      "4.0                       10019 2015-01-02 19:00:00  1618\n",
      "5.0                       10019 2015-01-02 22:00:00  1616\n",
      "6.0                       10003 2015-01-02 22:00:00  1570\n",
      "7.0                       10036 2015-01-02 23:00:00  1492\n",
      "8.0                       10022 2015-01-02 18:00:00  1461\n",
      "9.0                       10022 2015-01-02 19:00:00  1428\n",
      "10.0                      10016 2015-01-02 19:00:00  1414\n",
      "~~~~~~~~~~~~~~~~~~~~~~~~~~~~~~~~~~~~~~~~~~~~~~~~~~~~~~~~~~~~~~~~~~~~~~~~~~~~~~~\n",
      "day:  3\n",
      "                       zip_code         pickup_hour   cnt\n",
      "rank_by_min_per_course                                   \n",
      "1.0                       10003 2015-01-03 23:00:00  2092\n",
      "2.0                       10019 2015-01-03 19:00:00  2031\n",
      "3.0                       10019 2015-01-03 18:00:00  1775\n",
      "4.0                       10036 2015-01-03 22:00:00  1761\n",
      "5.0                       10003 2015-01-03 00:00:00  1759\n",
      "6.0                       10003 2015-01-03 22:00:00  1720\n",
      "7.0                       10019 2015-01-03 13:00:00  1681\n",
      "8.0                       10003 2015-01-03 21:00:00  1668\n",
      "9.0                       10003 2015-01-03 01:00:00  1667\n",
      "10.0                      10019 2015-01-03 14:00:00  1570\n",
      "~~~~~~~~~~~~~~~~~~~~~~~~~~~~~~~~~~~~~~~~~~~~~~~~~~~~~~~~~~~~~~~~~~~~~~~~~~~~~~~\n",
      "day:  4\n",
      "                       zip_code         pickup_hour   cnt\n",
      "rank_by_min_per_course                                   \n",
      "1.0                       10003 2015-01-04 00:00:00  1968\n",
      "2.0                       10003 2015-01-04 01:00:00  1728\n",
      "3.0                       10003 2015-01-04 02:00:00  1374\n",
      "4.0                       10002 2015-01-04 01:00:00  1338\n",
      "5.0                       10014 2015-01-04 00:00:00  1320\n",
      "6.0                       10036 2015-01-04 00:00:00  1316\n",
      "7.0                       10002 2015-01-04 02:00:00  1315\n",
      "8.0                       10019 2015-01-04 00:00:00  1273\n",
      "9.0                       10014 2015-01-04 01:00:00  1230\n",
      "10.0                      10019 2015-01-04 18:00:00  1203\n",
      "~~~~~~~~~~~~~~~~~~~~~~~~~~~~~~~~~~~~~~~~~~~~~~~~~~~~~~~~~~~~~~~~~~~~~~~~~~~~~~~\n",
      "day:  5\n",
      "                       zip_code         pickup_hour   cnt\n",
      "rank_by_min_per_course                                   \n",
      "1.0                       10019 2015-01-05 18:00:00  2188\n",
      "2.0                       10022 2015-01-05 19:00:00  2006\n",
      "3.0                       10022 2015-01-05 18:00:00  1986\n",
      "4.0                       10019 2015-01-05 19:00:00  1885\n",
      "5.0                       10022 2015-01-05 20:00:00  1788\n",
      "6.0                       10019 2015-01-05 20:00:00  1626\n",
      "7.0                       10019 2015-01-05 21:00:00  1603\n",
      "8.0                       10019 2015-01-05 17:00:00  1492\n",
      "9.0                       10022 2015-01-05 17:00:00  1415\n",
      "10.0                      10022 2015-01-05 21:00:00  1379\n",
      "~~~~~~~~~~~~~~~~~~~~~~~~~~~~~~~~~~~~~~~~~~~~~~~~~~~~~~~~~~~~~~~~~~~~~~~~~~~~~~~\n",
      "day:  6\n",
      "                       zip_code         pickup_hour   cnt\n",
      "rank_by_min_per_course                                   \n",
      "1.0                       10019 2015-01-06 18:00:00  2153\n",
      "2.0                       10022 2015-01-06 19:00:00  2099\n",
      "3.0                       10019 2015-01-06 21:00:00  2043\n",
      "4.0                       10022 2015-01-06 18:00:00  1972\n",
      "5.0                       10022 2015-01-06 20:00:00  1914\n",
      "6.0                       10019 2015-01-06 20:00:00  1817\n",
      "7.0                       10019 2015-01-06 19:00:00  1799\n",
      "8.0                       10036 2015-01-06 21:00:00  1684\n",
      "9.0                       10016 2015-01-06 08:00:00  1610\n",
      "10.0                      10022 2015-01-06 21:00:00  1568\n",
      "~~~~~~~~~~~~~~~~~~~~~~~~~~~~~~~~~~~~~~~~~~~~~~~~~~~~~~~~~~~~~~~~~~~~~~~~~~~~~~~\n",
      "day:  7\n",
      "                       zip_code         pickup_hour   cnt\n",
      "rank_by_min_per_course                                   \n",
      "1.0                       10019 2015-01-07 19:00:00  2307\n",
      "2.0                       10019 2015-01-07 21:00:00  2294\n",
      "3.0                       10022 2015-01-07 19:00:00  2236\n",
      "4.0                       10019 2015-01-07 18:00:00  2226\n",
      "5.0                       10019 2015-01-07 20:00:00  2151\n",
      "6.0                       10022 2015-01-07 20:00:00  2129\n",
      "7.0                       10022 2015-01-07 18:00:00  2012\n",
      "8.0                       10036 2015-01-07 22:00:00  1924\n",
      "9.0                       10022 2015-01-07 21:00:00  1881\n",
      "10.0                      10019 2015-01-07 22:00:00  1785\n",
      "~~~~~~~~~~~~~~~~~~~~~~~~~~~~~~~~~~~~~~~~~~~~~~~~~~~~~~~~~~~~~~~~~~~~~~~~~~~~~~~\n",
      "day:  8\n",
      "                       zip_code         pickup_hour   cnt\n",
      "rank_by_min_per_course                                   \n",
      "1.0                       10019 2015-01-08 19:00:00  2323\n",
      "2.0                       10019 2015-01-08 18:00:00  2276\n",
      "3.0                       10019 2015-01-08 21:00:00  2227\n",
      "4.0                       10022 2015-01-08 19:00:00  2143\n",
      "5.0                       10019 2015-01-08 20:00:00  2138\n",
      "6.0                       10019 2015-01-08 22:00:00  2115\n",
      "7.0                       10022 2015-01-08 20:00:00  2034\n",
      "8.0                       10022 2015-01-08 21:00:00  1893\n",
      "9.0                       10016 2015-01-08 08:00:00  1874\n",
      "10.0                      10022 2015-01-08 18:00:00  1852\n",
      "~~~~~~~~~~~~~~~~~~~~~~~~~~~~~~~~~~~~~~~~~~~~~~~~~~~~~~~~~~~~~~~~~~~~~~~~~~~~~~~\n",
      "day:  9\n",
      "                       zip_code         pickup_hour   cnt\n",
      "rank_by_min_per_course                                   \n",
      "1.0                       10003 2015-01-09 23:00:00  2275\n",
      "2.0                       10019 2015-01-09 19:00:00  2242\n",
      "3.0                       10019 2015-01-09 18:00:00  2142\n",
      "4.0                       10003 2015-01-09 22:00:00  2101\n",
      "5.0                       10022 2015-01-09 19:00:00  2033\n",
      "6.0                       10016 2015-01-09 19:00:00  1992\n",
      "7.0                       10003 2015-01-09 21:00:00  1973\n",
      "8.0                       10019 2015-01-09 22:00:00  1968\n",
      "9.0                       10019 2015-01-09 23:00:00  1934\n",
      "10.0                      10003 2015-01-09 19:00:00  1915\n",
      "~~~~~~~~~~~~~~~~~~~~~~~~~~~~~~~~~~~~~~~~~~~~~~~~~~~~~~~~~~~~~~~~~~~~~~~~~~~~~~~\n",
      "day:  10\n",
      "                       zip_code         pickup_hour   cnt\n",
      "rank_by_min_per_course                                   \n",
      "1.0                       10003 2015-01-10 23:00:00  2612\n",
      "2.0                       10003 2015-01-10 22:00:00  2576\n",
      "3.0                       10003 2015-01-10 20:00:00  2448\n",
      "4.0                       10003 2015-01-10 21:00:00  2416\n",
      "5.0                       10003 2015-01-10 00:00:00  2290\n",
      "6.0                       10003 2015-01-10 01:00:00  2155\n",
      "7.0                       10019 2015-01-10 19:00:00  2059\n",
      "8.0                       10003 2015-01-10 19:00:00  2030\n",
      "9.0                       10016 2015-01-10 20:00:00  1951\n",
      "10.0                      10019 2015-01-10 18:00:00  1945\n",
      "~~~~~~~~~~~~~~~~~~~~~~~~~~~~~~~~~~~~~~~~~~~~~~~~~~~~~~~~~~~~~~~~~~~~~~~~~~~~~~~\n",
      "day:  11\n",
      "                       zip_code         pickup_hour   cnt\n",
      "rank_by_min_per_course                                   \n",
      "1.0                       10003 2015-01-11 01:00:00  2657\n",
      "2.0                       10003 2015-01-11 00:00:00  2487\n",
      "3.0                       10003 2015-01-11 02:00:00  2248\n",
      "4.0                       10002 2015-01-11 02:00:00  1999\n",
      "5.0                       10002 2015-01-11 01:00:00  1924\n",
      "6.0                       10014 2015-01-11 01:00:00  1854\n",
      "7.0                       10014 2015-01-11 00:00:00  1757\n",
      "8.0                       10011 2015-01-11 00:00:00  1685\n",
      "9.0                       10014 2015-01-11 02:00:00  1683\n",
      "10.0                      10019 2015-01-11 00:00:00  1669\n",
      "~~~~~~~~~~~~~~~~~~~~~~~~~~~~~~~~~~~~~~~~~~~~~~~~~~~~~~~~~~~~~~~~~~~~~~~~~~~~~~~\n",
      "day:  12\n",
      "                       zip_code         pickup_hour   cnt\n",
      "rank_by_min_per_course                                   \n",
      "1.0                       10019 2015-01-12 18:00:00  2156\n",
      "2.0                       10022 2015-01-12 18:00:00  2117\n",
      "3.0                       10019 2015-01-12 20:00:00  2019\n",
      "5.0                       10022 2015-01-12 19:00:00  1973\n",
      "6.0                       10019 2015-01-12 21:00:00  1874\n",
      "7.0                       10022 2015-01-12 20:00:00  1840\n",
      "8.0                       10022 2015-01-12 21:00:00  1567\n",
      "9.0                       10019 2015-01-12 17:00:00  1566\n",
      "10.0                      10019 2015-01-12 08:00:00  1556\n",
      "~~~~~~~~~~~~~~~~~~~~~~~~~~~~~~~~~~~~~~~~~~~~~~~~~~~~~~~~~~~~~~~~~~~~~~~~~~~~~~~\n",
      "day:  13\n",
      "                       zip_code         pickup_hour   cnt\n",
      "rank_by_min_per_course                                   \n",
      "1.0                       10019 2015-01-13 21:00:00  2519\n",
      "3.0                       10019 2015-01-13 18:00:00  2404\n",
      "4.0                       10019 2015-01-13 19:00:00  2290\n",
      "5.0                       10022 2015-01-13 19:00:00  2198\n",
      "6.0                       10022 2015-01-13 20:00:00  2135\n",
      "7.0                       10022 2015-01-13 21:00:00  2002\n",
      "8.0                       10019 2015-01-13 22:00:00  1906\n",
      "9.0                       10022 2015-01-13 18:00:00  1787\n",
      "10.0                      10022 2015-01-13 14:00:00  1763\n",
      "~~~~~~~~~~~~~~~~~~~~~~~~~~~~~~~~~~~~~~~~~~~~~~~~~~~~~~~~~~~~~~~~~~~~~~~~~~~~~~~\n",
      "day:  14\n",
      "                       zip_code         pickup_hour   cnt\n",
      "rank_by_min_per_course                                   \n",
      "1.0                       10019 2015-01-14 20:00:00  2352\n",
      "2.0                       10022 2015-01-14 19:00:00  2260\n",
      "3.0                       10019 2015-01-14 19:00:00  2255\n",
      "4.0                       10019 2015-01-14 21:00:00  2226\n",
      "5.0                       10019 2015-01-14 18:00:00  2195\n",
      "6.0                       10022 2015-01-14 18:00:00  2118\n",
      "7.0                       10022 2015-01-14 20:00:00  2033\n",
      "8.0                       10022 2015-01-14 21:00:00  1928\n",
      "9.0                       10019 2015-01-14 22:00:00  1876\n",
      "10.0                      10016 2015-01-14 08:00:00  1747\n",
      "~~~~~~~~~~~~~~~~~~~~~~~~~~~~~~~~~~~~~~~~~~~~~~~~~~~~~~~~~~~~~~~~~~~~~~~~~~~~~~~\n",
      "day:  15\n",
      "                       zip_code         pickup_hour   cnt\n",
      "rank_by_min_per_course                                   \n",
      "1.0                       10019 2015-01-15 20:00:00  2272\n",
      "2.0                       10019 2015-01-15 19:00:00  2249\n",
      "3.0                       10019 2015-01-15 22:00:00  2229\n",
      "4.0                       10019 2015-01-15 21:00:00  2214\n",
      "5.0                       10022 2015-01-15 19:00:00  2065\n",
      "6.0                       10022 2015-01-15 20:00:00  2038\n",
      "7.0                       10022 2015-01-15 21:00:00  1994\n",
      "8.0                       10019 2015-01-15 18:00:00  1969\n",
      "9.0                       10003 2015-01-15 22:00:00  1872\n",
      "10.0                      10022 2015-01-15 18:00:00  1857\n",
      "~~~~~~~~~~~~~~~~~~~~~~~~~~~~~~~~~~~~~~~~~~~~~~~~~~~~~~~~~~~~~~~~~~~~~~~~~~~~~~~\n",
      "day:  16\n",
      "                       zip_code         pickup_hour   cnt\n",
      "rank_by_min_per_course                                   \n",
      "1.0                       10003 2015-01-16 23:00:00  2491\n",
      "2.0                       10019 2015-01-16 19:00:00  2361\n",
      "3.0                       10003 2015-01-16 22:00:00  2326\n",
      "4.0                       10003 2015-01-16 21:00:00  2129\n",
      "5.0                       10003 2015-01-16 20:00:00  2060\n",
      "6.0                       10019 2015-01-16 20:00:00  2040\n",
      "7.0                       10019 2015-01-16 18:00:00  2035\n",
      "8.0                       10022 2015-01-16 19:00:00  1947\n",
      "9.0                       10019 2015-01-16 22:00:00  1902\n",
      "10.0                      10003 2015-01-16 19:00:00  1898\n",
      "~~~~~~~~~~~~~~~~~~~~~~~~~~~~~~~~~~~~~~~~~~~~~~~~~~~~~~~~~~~~~~~~~~~~~~~~~~~~~~~\n",
      "day:  17\n",
      "                       zip_code         pickup_hour   cnt\n",
      "rank_by_min_per_course                                   \n",
      "1.0                       10003 2015-01-17 00:00:00  2496\n",
      "2.0                       10003 2015-01-17 23:00:00  2433\n",
      "3.0                       10003 2015-01-17 22:00:00  2280\n",
      "4.0                       10003 2015-01-17 01:00:00  2222\n",
      "5.0                       10003 2015-01-17 19:00:00  2065\n",
      "6.0                       10003 2015-01-17 21:00:00  2017\n",
      "7.0                       10019 2015-01-17 19:00:00  2014\n",
      "8.0                       10003 2015-01-17 20:00:00  1977\n",
      "9.0                       10011 2015-01-17 19:00:00  1865\n",
      "10.0                      10011 2015-01-17 23:00:00  1849\n",
      "~~~~~~~~~~~~~~~~~~~~~~~~~~~~~~~~~~~~~~~~~~~~~~~~~~~~~~~~~~~~~~~~~~~~~~~~~~~~~~~\n",
      "day:  18\n",
      "                       zip_code         pickup_hour   cnt\n",
      "rank_by_min_per_course                                   \n",
      "1.0                       10003 2015-01-18 00:00:00  2500\n",
      "2.0                       10003 2015-01-18 01:00:00  2437\n",
      "3.0                       10003 2015-01-18 02:00:00  2266\n",
      "4.0                       10002 2015-01-18 02:00:00  1961\n",
      "5.0                       10019 2015-01-18 12:00:00  1907\n",
      "7.0                       10019 2015-01-18 13:00:00  1867\n",
      "8.0                       10014 2015-01-18 00:00:00  1863\n",
      "9.0                       10002 2015-01-18 01:00:00  1859\n",
      "10.0                      10019 2015-01-18 14:00:00  1775\n",
      "~~~~~~~~~~~~~~~~~~~~~~~~~~~~~~~~~~~~~~~~~~~~~~~~~~~~~~~~~~~~~~~~~~~~~~~~~~~~~~~\n",
      "day:  19\n",
      "                       zip_code         pickup_hour   cnt\n",
      "rank_by_min_per_course                                   \n",
      "1.0                       10022 2015-01-19 18:00:00  1474\n",
      "2.0                       10019 2015-01-19 18:00:00  1438\n",
      "3.0                       10019 2015-01-19 17:00:00  1332\n",
      "4.0                       10019 2015-01-19 15:00:00  1326\n",
      "5.0                       10001 2015-01-19 19:00:00  1308\n",
      "6.0                       10019 2015-01-19 13:00:00  1306\n",
      "7.0                       10019 2015-01-19 16:00:00  1299\n",
      "8.0                       10019 2015-01-19 19:00:00  1280\n",
      "9.0                       10001 2015-01-19 18:00:00  1279\n",
      "10.0                      10022 2015-01-19 14:00:00  1278\n",
      "~~~~~~~~~~~~~~~~~~~~~~~~~~~~~~~~~~~~~~~~~~~~~~~~~~~~~~~~~~~~~~~~~~~~~~~~~~~~~~~\n",
      "day:  20\n",
      "                       zip_code         pickup_hour   cnt\n",
      "rank_by_min_per_course                                   \n",
      "1.0                       10022 2015-01-20 18:00:00  2090\n",
      "2.0                       10019 2015-01-20 21:00:00  2072\n",
      "3.0                       10019 2015-01-20 20:00:00  2022\n",
      "4.0                       10019 2015-01-20 18:00:00  2006\n",
      "5.0                       10022 2015-01-20 20:00:00  1994\n",
      "6.0                       10019 2015-01-20 19:00:00  1962\n",
      "7.0                       10022 2015-01-20 19:00:00  1896\n",
      "8.0                       10022 2015-01-20 21:00:00  1804\n",
      "9.0                       10019 2015-01-20 22:00:00  1650\n",
      "10.0                      10019 2015-01-20 17:00:00  1551\n",
      "~~~~~~~~~~~~~~~~~~~~~~~~~~~~~~~~~~~~~~~~~~~~~~~~~~~~~~~~~~~~~~~~~~~~~~~~~~~~~~~\n",
      "day:  21\n",
      "                       zip_code         pickup_hour   cnt\n",
      "rank_by_min_per_course                                   \n",
      "1.0                       10019 2015-01-21 19:00:00  2291\n",
      "2.0                       10019 2015-01-21 20:00:00  2258\n",
      "3.0                       10019 2015-01-21 21:00:00  2180\n",
      "4.0                       10019 2015-01-21 18:00:00  2136\n",
      "5.0                       10022 2015-01-21 18:00:00  2096\n",
      "6.0                       10022 2015-01-21 19:00:00  2073\n",
      "7.0                       10022 2015-01-21 21:00:00  2025\n",
      "8.0                       10022 2015-01-21 20:00:00  2006\n",
      "9.0                       10019 2015-01-21 22:00:00  1928\n",
      "10.0                      10036 2015-01-21 22:00:00  1672\n",
      "~~~~~~~~~~~~~~~~~~~~~~~~~~~~~~~~~~~~~~~~~~~~~~~~~~~~~~~~~~~~~~~~~~~~~~~~~~~~~~~\n",
      "day:  22\n",
      "                       zip_code         pickup_hour   cnt\n",
      "rank_by_min_per_course                                   \n",
      "1.0                       10019 2015-01-22 20:00:00  2353\n",
      "2.0                       10019 2015-01-22 19:00:00  2308\n",
      "3.0                       10019 2015-01-22 22:00:00  2294\n",
      "4.0                       10019 2015-01-22 18:00:00  2177\n",
      "5.0                       10022 2015-01-22 21:00:00  2106\n",
      "6.0                       10022 2015-01-22 19:00:00  2096\n",
      "7.0                       10019 2015-01-22 21:00:00  2075\n",
      "8.0                       10022 2015-01-22 20:00:00  2036\n",
      "9.0                       10022 2015-01-22 18:00:00  1987\n",
      "10.0                      10022 2015-01-22 22:00:00  1951\n",
      "~~~~~~~~~~~~~~~~~~~~~~~~~~~~~~~~~~~~~~~~~~~~~~~~~~~~~~~~~~~~~~~~~~~~~~~~~~~~~~~\n",
      "day:  23\n",
      "                       zip_code         pickup_hour   cnt\n",
      "rank_by_min_per_course                                   \n",
      "1.0                       10019 2015-01-23 19:00:00  2328\n",
      "2.0                       10003 2015-01-23 23:00:00  2310\n",
      "3.0                       10019 2015-01-23 23:00:00  2137\n",
      "4.0                       10003 2015-01-23 22:00:00  2090\n",
      "5.0                       10019 2015-01-23 18:00:00  2031\n",
      "6.0                       10019 2015-01-23 20:00:00  1962\n",
      "7.0                       10022 2015-01-23 18:00:00  1946\n",
      "8.0                       10003 2015-01-23 21:00:00  1923\n",
      "9.0                       10003 2015-01-23 19:00:00  1833\n",
      "10.0                      10016 2015-01-23 20:00:00  1822\n",
      "~~~~~~~~~~~~~~~~~~~~~~~~~~~~~~~~~~~~~~~~~~~~~~~~~~~~~~~~~~~~~~~~~~~~~~~~~~~~~~~\n",
      "day:  24\n",
      "                       zip_code         pickup_hour   cnt\n",
      "rank_by_min_per_course                                   \n",
      "1.0                       10003 2015-01-24 23:00:00  2429\n",
      "2.0                       10003 2015-01-24 00:00:00  2315\n",
      "3.0                       10003 2015-01-24 01:00:00  2241\n",
      "4.0                       10003 2015-01-24 22:00:00  2182\n",
      "5.0                       10019 2015-01-24 19:00:00  1983\n",
      "6.0                       10003 2015-01-24 19:00:00  1866\n",
      "7.0                       10003 2015-01-24 21:00:00  1852\n",
      "8.0                       10014 2015-01-24 23:00:00  1821\n",
      "9.0                       10011 2015-01-24 23:00:00  1810\n",
      "10.0                      10011 2015-01-24 19:00:00  1802\n",
      "~~~~~~~~~~~~~~~~~~~~~~~~~~~~~~~~~~~~~~~~~~~~~~~~~~~~~~~~~~~~~~~~~~~~~~~~~~~~~~~\n",
      "day:  25\n",
      "                       zip_code         pickup_hour   cnt\n",
      "rank_by_min_per_course                                   \n",
      "1.0                       10003 2015-01-25 01:00:00  2612\n",
      "2.0                       10003 2015-01-25 00:00:00  2562\n",
      "3.0                       10003 2015-01-25 02:00:00  2378\n",
      "4.0                       10014 2015-01-25 01:00:00  2048\n",
      "5.0                       10002 2015-01-25 01:00:00  2028\n",
      "6.0                       10014 2015-01-25 00:00:00  1956\n",
      "7.0                       10002 2015-01-25 00:00:00  1839\n",
      "8.0                       10002 2015-01-25 02:00:00  1828\n",
      "9.0                       10002 2015-01-25 03:00:00  1760\n",
      "10.0                      10014 2015-01-25 02:00:00  1710\n",
      "~~~~~~~~~~~~~~~~~~~~~~~~~~~~~~~~~~~~~~~~~~~~~~~~~~~~~~~~~~~~~~~~~~~~~~~~~~~~~~~\n",
      "day:  26\n",
      "                       zip_code         pickup_hour   cnt\n",
      "rank_by_min_per_course                                   \n",
      "1.0                       10016 2015-01-26 08:00:00  1520\n",
      "2.0                       10021 2015-01-26 08:00:00  1366\n",
      "3.0                       10016 2015-01-26 09:00:00  1262\n",
      "4.0                       10022 2015-01-26 13:00:00  1254\n",
      "5.0                       10016 2015-01-26 07:00:00  1215\n",
      "6.0                       10019 2015-01-26 13:00:00  1188\n",
      "7.0                       10019 2015-01-26 08:00:00  1176\n",
      "8.0                       10019 2015-01-26 12:00:00  1155\n",
      "9.0                       10022 2015-01-26 08:00:00  1101\n",
      "10.0                      10011 2015-01-26 09:00:00  1100\n",
      "~~~~~~~~~~~~~~~~~~~~~~~~~~~~~~~~~~~~~~~~~~~~~~~~~~~~~~~~~~~~~~~~~~~~~~~~~~~~~~~\n",
      "day:  27\n",
      "                       zip_code         pickup_hour   cnt\n",
      "rank_by_min_per_course                                   \n",
      "1.0                       10022 2015-01-27 18:00:00  1157\n",
      "2.0                       10019 2015-01-27 18:00:00  1088\n",
      "3.0                       10019 2015-01-27 19:00:00  1055\n",
      "4.0                       10019 2015-01-27 21:00:00  1038\n",
      "5.0                       10022 2015-01-27 17:00:00  1016\n",
      "6.0                       10036 2015-01-27 21:00:00  1000\n",
      "7.0                       10019 2015-01-27 22:00:00   946\n",
      "8.0                       10019 2015-01-27 20:00:00   943\n",
      "9.0                       10003 2015-01-27 21:00:00   940\n",
      "10.0                      10019 2015-01-27 17:00:00   867\n",
      "~~~~~~~~~~~~~~~~~~~~~~~~~~~~~~~~~~~~~~~~~~~~~~~~~~~~~~~~~~~~~~~~~~~~~~~~~~~~~~~\n",
      "day:  28\n",
      "                       zip_code         pickup_hour   cnt\n",
      "rank_by_min_per_course                                   \n",
      "1.0                       10019 2015-01-28 22:00:00  2136\n",
      "2.0                       10019 2015-01-28 19:00:00  2130\n",
      "3.0                       10019 2015-01-28 20:00:00  1994\n",
      "4.0                       10022 2015-01-28 18:00:00  1890\n",
      "5.0                       10022 2015-01-28 19:00:00  1853\n",
      "6.0                       10022 2015-01-28 20:00:00  1844\n",
      "7.0                       10022 2015-01-28 21:00:00  1843\n",
      "8.0                       10019 2015-01-28 18:00:00  1818\n",
      "9.0                       10019 2015-01-28 21:00:00  1770\n",
      "10.0                      10016 2015-01-28 08:00:00  1523\n",
      "~~~~~~~~~~~~~~~~~~~~~~~~~~~~~~~~~~~~~~~~~~~~~~~~~~~~~~~~~~~~~~~~~~~~~~~~~~~~~~~\n",
      "day:  29\n",
      "                       zip_code         pickup_hour   cnt\n",
      "rank_by_min_per_course                                   \n",
      "1.0                       10019 2015-01-29 22:00:00  2217\n",
      "2.0                       10019 2015-01-29 20:00:00  2206\n",
      "3.0                       10019 2015-01-29 19:00:00  2181\n",
      "4.0                       10022 2015-01-29 20:00:00  2024\n",
      "5.0                       10022 2015-01-29 21:00:00  1989\n",
      "6.0                       10022 2015-01-29 19:00:00  1887\n",
      "7.0                       10019 2015-01-29 18:00:00  1867\n",
      "8.0                       10019 2015-01-29 21:00:00  1836\n",
      "9.0                       10003 2015-01-29 21:00:00  1830\n",
      "10.0                      10019 2015-01-29 23:00:00  1783\n",
      "~~~~~~~~~~~~~~~~~~~~~~~~~~~~~~~~~~~~~~~~~~~~~~~~~~~~~~~~~~~~~~~~~~~~~~~~~~~~~~~\n",
      "day:  30\n",
      "                       zip_code         pickup_hour   cnt\n",
      "rank_by_min_per_course                                   \n",
      "1.0                       10019 2015-01-30 19:00:00  2371\n",
      "2.0                       10003 2015-01-30 21:00:00  2278\n",
      "3.0                       10003 2015-01-30 23:00:00  2268\n",
      "4.0                       10003 2015-01-30 22:00:00  2246\n",
      "5.0                       10003 2015-01-30 20:00:00  2178\n",
      "6.0                       10019 2015-01-30 20:00:00  2146\n",
      "7.0                       10019 2015-01-30 22:00:00  2115\n",
      "8.0                       10003 2015-01-30 19:00:00  1990\n",
      "9.0                       10019 2015-01-30 23:00:00  1962\n",
      "10.0                      10019 2015-01-30 18:00:00  1945\n",
      "~~~~~~~~~~~~~~~~~~~~~~~~~~~~~~~~~~~~~~~~~~~~~~~~~~~~~~~~~~~~~~~~~~~~~~~~~~~~~~~\n",
      "day:  31\n",
      "                       zip_code         pickup_hour   cnt\n",
      "rank_by_min_per_course                                   \n",
      "1.0                       10003 2015-01-31 23:00:00  2543\n",
      "2.0                       10003 2015-01-31 01:00:00  2488\n",
      "3.0                       10003 2015-01-31 00:00:00  2476\n",
      "4.0                       10003 2015-01-31 22:00:00  2441\n",
      "5.0                       10003 2015-01-31 21:00:00  2326\n",
      "6.0                       10003 2015-01-31 19:00:00  2177\n",
      "7.0                       10003 2015-01-31 20:00:00  2114\n",
      "8.0                       10019 2015-01-31 19:00:00  2088\n",
      "9.0                       10003 2015-01-31 02:00:00  2016\n",
      "10.0                      10003 2015-01-31 18:00:00  1996\n",
      "~~~~~~~~~~~~~~~~~~~~~~~~~~~~~~~~~~~~~~~~~~~~~~~~~~~~~~~~~~~~~~~~~~~~~~~~~~~~~~~\n"
     ]
    }
   ],
   "source": [
    "tmp_df = my_df.groupby(['day', 'rank_by_min_per_course']).max()\n",
    "for i in range(1,32):\n",
    "    print('day: ', i)\n",
    "    print(tmp_df.loc[i][:10])\n",
    "    print(\"~~~~~~~~~~~~~~~~~~~~~~~~~~~~~~~~~~~~~~~~~~~~~~~~~~~~~~~~~~~~~~~~~~~~~~~~~~~~~~~\")"
   ]
  },
  {
   "cell_type": "code",
   "execution_count": null,
   "metadata": {},
   "outputs": [],
   "source": []
  },
  {
   "cell_type": "markdown",
   "metadata": {},
   "source": [
    "### 2. 1시간 간격으로, 가장 택시 이용이 많았던 시간 구간을 찾기"
   ]
  },
  {
   "cell_type": "code",
   "execution_count": 84,
   "metadata": {},
   "outputs": [],
   "source": [
    "my_df['hour'] = my_df['pickup_hour'].dt.hour"
   ]
  },
  {
   "cell_type": "code",
   "execution_count": 85,
   "metadata": {},
   "outputs": [
    {
     "data": {
      "text/html": [
       "<div>\n",
       "<style scoped>\n",
       "    .dataframe tbody tr th:only-of-type {\n",
       "        vertical-align: middle;\n",
       "    }\n",
       "\n",
       "    .dataframe tbody tr th {\n",
       "        vertical-align: top;\n",
       "    }\n",
       "\n",
       "    .dataframe thead th {\n",
       "        text-align: right;\n",
       "    }\n",
       "</style>\n",
       "<table border=\"1\" class=\"dataframe\">\n",
       "  <thead>\n",
       "    <tr style=\"text-align: right;\">\n",
       "      <th></th>\n",
       "      <th>zip_code</th>\n",
       "      <th>pickup_hour</th>\n",
       "      <th>cnt</th>\n",
       "      <th>hour</th>\n",
       "    </tr>\n",
       "  </thead>\n",
       "  <tbody>\n",
       "    <tr>\n",
       "      <th>87015</th>\n",
       "      <td>11237</td>\n",
       "      <td>2015-01-31 23:00:00</td>\n",
       "      <td>18</td>\n",
       "      <td>23</td>\n",
       "    </tr>\n",
       "    <tr>\n",
       "      <th>87016</th>\n",
       "      <td>10452</td>\n",
       "      <td>2015-01-31 23:00:00</td>\n",
       "      <td>1</td>\n",
       "      <td>23</td>\n",
       "    </tr>\n",
       "    <tr>\n",
       "      <th>87017</th>\n",
       "      <td>10003</td>\n",
       "      <td>2015-01-31 23:00:00</td>\n",
       "      <td>2543</td>\n",
       "      <td>23</td>\n",
       "    </tr>\n",
       "    <tr>\n",
       "      <th>87018</th>\n",
       "      <td>11552</td>\n",
       "      <td>2015-01-31 23:00:00</td>\n",
       "      <td>1</td>\n",
       "      <td>23</td>\n",
       "    </tr>\n",
       "    <tr>\n",
       "      <th>87019</th>\n",
       "      <td>10177</td>\n",
       "      <td>2015-01-31 23:00:00</td>\n",
       "      <td>3</td>\n",
       "      <td>23</td>\n",
       "    </tr>\n",
       "  </tbody>\n",
       "</table>\n",
       "</div>"
      ],
      "text/plain": [
       "      zip_code         pickup_hour   cnt  hour\n",
       "87015    11237 2015-01-31 23:00:00    18    23\n",
       "87016    10452 2015-01-31 23:00:00     1    23\n",
       "87017    10003 2015-01-31 23:00:00  2543    23\n",
       "87018    11552 2015-01-31 23:00:00     1    23\n",
       "87019    10177 2015-01-31 23:00:00     3    23"
      ]
     },
     "execution_count": 85,
     "metadata": {},
     "output_type": "execute_result"
    }
   ],
   "source": [
    "my_df.tail()"
   ]
  },
  {
   "cell_type": "code",
   "execution_count": 90,
   "metadata": {},
   "outputs": [
    {
     "data": {
      "text/html": [
       "<div>\n",
       "<style scoped>\n",
       "    .dataframe tbody tr th:only-of-type {\n",
       "        vertical-align: middle;\n",
       "    }\n",
       "\n",
       "    .dataframe tbody tr th {\n",
       "        vertical-align: top;\n",
       "    }\n",
       "\n",
       "    .dataframe thead th {\n",
       "        text-align: right;\n",
       "    }\n",
       "</style>\n",
       "<table border=\"1\" class=\"dataframe\">\n",
       "  <thead>\n",
       "    <tr style=\"text-align: right;\">\n",
       "      <th></th>\n",
       "      <th>cnt</th>\n",
       "    </tr>\n",
       "    <tr>\n",
       "      <th>hour</th>\n",
       "      <th></th>\n",
       "    </tr>\n",
       "  </thead>\n",
       "  <tbody>\n",
       "    <tr>\n",
       "      <th>0</th>\n",
       "      <td>458278</td>\n",
       "    </tr>\n",
       "    <tr>\n",
       "      <th>1</th>\n",
       "      <td>346290</td>\n",
       "    </tr>\n",
       "    <tr>\n",
       "      <th>2</th>\n",
       "      <td>261156</td>\n",
       "    </tr>\n",
       "    <tr>\n",
       "      <th>3</th>\n",
       "      <td>192981</td>\n",
       "    </tr>\n",
       "    <tr>\n",
       "      <th>4</th>\n",
       "      <td>139042</td>\n",
       "    </tr>\n",
       "  </tbody>\n",
       "</table>\n",
       "</div>"
      ],
      "text/plain": [
       "         cnt\n",
       "hour        \n",
       "0     458278\n",
       "1     346290\n",
       "2     261156\n",
       "3     192981\n",
       "4     139042"
      ]
     },
     "execution_count": 90,
     "metadata": {},
     "output_type": "execute_result"
    }
   ],
   "source": [
    "my_df.groupby('hour')[['cnt']].sum().head()"
   ]
  },
  {
   "cell_type": "code",
   "execution_count": null,
   "metadata": {},
   "outputs": [],
   "source": []
  },
  {
   "cell_type": "code",
   "execution_count": null,
   "metadata": {},
   "outputs": [],
   "source": []
  }
 ],
 "metadata": {
  "kernelspec": {
   "display_name": "Python 3",
   "language": "python",
   "name": "python3"
  },
  "language_info": {
   "codemirror_mode": {
    "name": "ipython",
    "version": 3
   },
   "file_extension": ".py",
   "mimetype": "text/x-python",
   "name": "python",
   "nbconvert_exporter": "python",
   "pygments_lexer": "ipython3",
   "version": "3.7.7"
  },
  "varInspector": {
   "cols": {
    "lenName": 16,
    "lenType": 16,
    "lenVar": 40
   },
   "kernels_config": {
    "python": {
     "delete_cmd_postfix": "",
     "delete_cmd_prefix": "del ",
     "library": "var_list.py",
     "varRefreshCmd": "print(var_dic_list())"
    },
    "r": {
     "delete_cmd_postfix": ") ",
     "delete_cmd_prefix": "rm(",
     "library": "var_list.r",
     "varRefreshCmd": "cat(var_dic_list()) "
    }
   },
   "types_to_exclude": [
    "module",
    "function",
    "builtin_function_or_method",
    "instance",
    "_Feature"
   ],
   "window_display": false
  }
 },
 "nbformat": 4,
 "nbformat_minor": 2
}
