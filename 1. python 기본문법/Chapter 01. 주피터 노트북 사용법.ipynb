{
 "cells": [
  {
   "cell_type": "markdown",
   "metadata": {},
   "source": [
    "### 셀타입 code -> markdown : m\n",
    "### 셀타입 markdown -> code : y\n",
    "### ESC 누르면 명령모드로 바뀜. 이 때 h 누르면 help창 나옴 \n",
    "### a -> 위에 셀 추가   b -> 뒤에 셀 추가  dd -> 셀 삭제 z -> undo\n",
    "### ctrl+enter -> 셀 실행   shift+enter -> 셀 실행후 밑에 셀 추가\n"
   ]
  },
  {
   "cell_type": "markdown",
   "metadata": {},
   "source": [
    "**bold**  *italic*\n",
    "\n",
    "- python\n",
    "    - pandas\n",
    "    - numpy\n",
    "- machine learning\n",
    "- deep learning\n",
    "\n",
    "\n",
    "1. python\n",
    "2. maching learning\n",
    "3. deep learning"
   ]
  },
  {
   "cell_type": "markdown",
   "metadata": {},
   "source": [
    "> 인용구 쓰기\n"
   ]
  },
  {
   "cell_type": "markdown",
   "metadata": {},
   "source": [
    "$ y=ax+b $"
   ]
  },
  {
   "cell_type": "markdown",
   "metadata": {},
   "source": [
    "\n",
    "```python\n",
    "a = 10\n",
    "print(a)\n",
    "```"
   ]
  },
  {
   "cell_type": "markdown",
   "metadata": {},
   "source": [
    "[python 공식 페이지](https://www.python.org/)"
   ]
  }
 ],
 "metadata": {
  "kernelspec": {
   "display_name": "Python 3",
   "language": "python",
   "name": "python3"
  },
  "language_info": {
   "codemirror_mode": {
    "name": "ipython",
    "version": 3
   },
   "file_extension": ".py",
   "mimetype": "text/x-python",
   "name": "python",
   "nbconvert_exporter": "python",
   "pygments_lexer": "ipython3",
   "version": "3.8.3"
  }
 },
 "nbformat": 4,
 "nbformat_minor": 4
}
