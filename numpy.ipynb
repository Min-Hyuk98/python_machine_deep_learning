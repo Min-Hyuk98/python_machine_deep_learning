{
 "cells": [
  {
   "cell_type": "markdown",
   "metadata": {},
   "source": [
    "# NUMPY "
   ]
  },
  {
   "cell_type": "code",
   "execution_count": 7,
   "metadata": {},
   "outputs": [],
   "source": [
    "import numpy as np\n",
    "import matplotlib.pyplot as plt"
   ]
  },
  {
   "cell_type": "code",
   "execution_count": 8,
   "metadata": {},
   "outputs": [
    {
     "name": "stdout",
     "output_type": "stream",
     "text": [
      "[[1 2 3]\n",
      " [4 5 6]\n",
      " [7 8 9]] <class 'numpy.ndarray'> (3, 3)\n"
     ]
    }
   ],
   "source": [
    "x = np.array([[1,2,3],[4,5,6],[7,8,9]])\n",
    "print(x, type(x), x.shape)"
   ]
  },
  {
   "cell_type": "code",
   "execution_count": 9,
   "metadata": {},
   "outputs": [
    {
     "name": "stdout",
     "output_type": "stream",
     "text": [
      "[ 2  5  8 11 14 17]\n"
     ]
    }
   ],
   "source": [
    "x = np.arange(2,20, 3)\n",
    "print(x)"
   ]
  },
  {
   "cell_type": "code",
   "execution_count": 10,
   "metadata": {},
   "outputs": [
    {
     "data": {
      "text/plain": [
       "array([[[1., 1., 1., 1.],\n",
       "        [1., 1., 1., 1.],\n",
       "        [1., 1., 1., 1.]],\n",
       "\n",
       "       [[1., 1., 1., 1.],\n",
       "        [1., 1., 1., 1.],\n",
       "        [1., 1., 1., 1.]]])"
      ]
     },
     "execution_count": 10,
     "metadata": {},
     "output_type": "execute_result"
    }
   ],
   "source": [
    "np.ones((2,3,4))"
   ]
  },
  {
   "cell_type": "code",
   "execution_count": 11,
   "metadata": {},
   "outputs": [
    {
     "data": {
      "text/plain": [
       "array([0., 0., 0., 0.])"
      ]
     },
     "execution_count": 11,
     "metadata": {},
     "output_type": "execute_result"
    }
   ],
   "source": [
    "np.zeros(4)"
   ]
  },
  {
   "cell_type": "code",
   "execution_count": 12,
   "metadata": {},
   "outputs": [
    {
     "data": {
      "text/plain": [
       "array([ 1., 11., 21.])"
      ]
     },
     "execution_count": 12,
     "metadata": {},
     "output_type": "execute_result"
    }
   ],
   "source": [
    "np.linspace(1,21,3)"
   ]
  },
  {
   "cell_type": "code",
   "execution_count": 13,
   "metadata": {},
   "outputs": [
    {
     "name": "stdout",
     "output_type": "stream",
     "text": [
      "[ 1  2  3  4  5  6  7  8  9 10 11 12 13 14 15] (15,)\n"
     ]
    },
    {
     "data": {
      "text/plain": [
       "array([[ 1,  2,  3],\n",
       "       [ 4,  5,  6],\n",
       "       [ 7,  8,  9],\n",
       "       [10, 11, 12],\n",
       "       [13, 14, 15]])"
      ]
     },
     "execution_count": 13,
     "metadata": {},
     "output_type": "execute_result"
    }
   ],
   "source": [
    "x = np.arange(1,16)\n",
    "print(x, x.shape)  \n",
    "\n",
    "x.reshape(5,3)"
   ]
  },
  {
   "cell_type": "code",
   "execution_count": 14,
   "metadata": {},
   "outputs": [
    {
     "data": {
      "text/plain": [
       "array([[0.61137923, 0.65732776, 0.12329161],\n",
       "       [0.80412599, 0.13482838, 0.68904286]])"
      ]
     },
     "execution_count": 14,
     "metadata": {},
     "output_type": "execute_result"
    }
   ],
   "source": [
    "np.random.rand(2,3)\n",
    "## 0, 1사이의 분포로 랜덤한 ndarray 생성"
   ]
  },
  {
   "cell_type": "code",
   "execution_count": 15,
   "metadata": {},
   "outputs": [
    {
     "data": {
      "text/plain": [
       "array([[-0.38009328,  1.17782622,  1.91132424],\n",
       "       [-0.93923264, -0.97299826,  2.17520688]])"
      ]
     },
     "execution_count": 15,
     "metadata": {},
     "output_type": "execute_result"
    }
   ],
   "source": [
    "np.random.randn(2,3)\n",
    "## 정규분포로 샘플링된 랜덤 ndarray 생성"
   ]
  },
  {
   "cell_type": "code",
   "execution_count": 16,
   "metadata": {},
   "outputs": [
    {
     "data": {
      "text/plain": [
       "array([[37, 11, 45,  3, 65],\n",
       "       [46, 44, 69, 56, 58],\n",
       "       [49, 85, 30, 38, 26]])"
      ]
     },
     "execution_count": 16,
     "metadata": {},
     "output_type": "execute_result"
    }
   ],
   "source": [
    "np.random.randint(1,100,(3,5)) \n",
    "## 1~99사이의 정수로 이루어진 3x5 행렬 생성"
   ]
  },
  {
   "cell_type": "code",
   "execution_count": 17,
   "metadata": {},
   "outputs": [
    {
     "data": {
      "text/plain": [
       "array([[17, 78, 58, 25],\n",
       "       [29, 29, 45, 67],\n",
       "       [47,  9, 55, 78]])"
      ]
     },
     "execution_count": 17,
     "metadata": {},
     "output_type": "execute_result"
    }
   ],
   "source": [
    "np.random.choice(100, (3, 4))  \n",
    "## random.arange(0,100) 즉, 0~99사이의 랜덤숫자로 3x4 행렬 생성"
   ]
  },
  {
   "cell_type": "code",
   "execution_count": 18,
   "metadata": {},
   "outputs": [
    {
     "name": "stdout",
     "output_type": "stream",
     "text": [
      "[[0 1 2 3 4]\n",
      " [5 6 7 8 9]]     3     [[2 3]]\n"
     ]
    }
   ],
   "source": [
    "x = np.arange(10).reshape(2, 5)\n",
    "print(x,\"   \", x[0][3],\"   \", x[0:1,2:4])"
   ]
  },
  {
   "cell_type": "code",
   "execution_count": 19,
   "metadata": {},
   "outputs": [
    {
     "name": "stdout",
     "output_type": "stream",
     "text": [
      "[[[ 0  1  2  3]\n",
      "  [ 4  5  6  7]\n",
      "  [ 8  9 10 11]]\n",
      "\n",
      " [[12 13 14 15]\n",
      "  [16 17 18 19]\n",
      "  [20 21 22 23]]]\n",
      "\n",
      "[[[0 1 2 3]\n",
      "  [4 5 6 7]]]\n",
      "\n",
      "[[0 1 2 3]\n",
      " [4 5 6 7]]\n"
     ]
    }
   ],
   "source": [
    "x = np.arange(24).reshape(2, 3, 4)\n",
    "print(x)\n",
    "print(\"\")\n",
    "print(x[:1,:2,:])  ## 슬라이싱만 해서 차원 유지\n",
    "print(\"\")\n",
    "print(x[0,:2,:] )  ## 인덱싱 한번해서 한 차원 줄어듬"
   ]
  },
  {
   "cell_type": "markdown",
   "metadata": {},
   "source": [
    "- ravel과 flatten은 n차원을 1차원으로 바꿔준다\n",
    "\n",
    "    - ravel은 기존의 것 그대로 사용  \n",
    "    - flatten은 기존의 것을 복사해서 사용"
   ]
  },
  {
   "cell_type": "code",
   "execution_count": 20,
   "metadata": {},
   "outputs": [
    {
     "name": "stdout",
     "output_type": "stream",
     "text": [
      "[0 1 2 3 4 5]\n",
      "[0 1 2 3 4 5]\n"
     ]
    }
   ],
   "source": [
    "x = np.arange(6).reshape(2,3)\n",
    "print(x.flatten())\n",
    "print(x.ravel())"
   ]
  },
  {
   "cell_type": "code",
   "execution_count": 21,
   "metadata": {},
   "outputs": [
    {
     "name": "stdout",
     "output_type": "stream",
     "text": [
      "[[1 2 3]\n",
      " [4 5 6]]\n",
      "\n",
      "[[0 1 2]\n",
      " [3 4 5]]\n",
      "3.5\n",
      "21\n",
      "6\n",
      "5\n"
     ]
    }
   ],
   "source": [
    "x1 = np.array(([1,2,3],[4,5,6]))\n",
    "x2 = np.arange(6).reshape(2,3)\n",
    "print(x1)\n",
    "print(\"\")\n",
    "print(x2)\n",
    "print(np.mean(x1))\n",
    "print(np.sum(x1))\n",
    "print(np.max(x1))\n",
    "print(np.argmax(x1))"
   ]
  },
  {
   "cell_type": "markdown",
   "metadata": {},
   "source": [
    "- any, all 함수\n",
    " - any: 특정 조건을 만족하는 것이 하나라도 있으면 True, 아니면 False\n",
    " - all: 모든 원소가 특정 조건을 만족한다면 True, 아니면 False"
   ]
  },
  {
   "cell_type": "code",
   "execution_count": 22,
   "metadata": {},
   "outputs": [
    {
     "name": "stdout",
     "output_type": "stream",
     "text": [
      "False\n",
      "True\n"
     ]
    }
   ],
   "source": [
    "x = np.array(([1,2,-4],[4,5,6]))\n",
    "\n",
    "print(np.all(x>0))\n",
    "print(np.any(x>0))"
   ]
  },
  {
   "cell_type": "code",
   "execution_count": 23,
   "metadata": {},
   "outputs": [
    {
     "data": {
      "text/plain": [
       "array([[1, 2, 0],\n",
       "       [4, 0, 6]])"
      ]
     },
     "execution_count": 23,
     "metadata": {},
     "output_type": "execute_result"
    }
   ],
   "source": [
    "x = np.array(([1,2,-4],[4,-1,6]))\n",
    "np.where(x>0, x, 0)"
   ]
  },
  {
   "cell_type": "markdown",
   "metadata": {},
   "source": [
    "### 1차원 벡터  (행의 Transpose) -> axis = 0\n",
    "    - axis=None은 axis=0과 동일\n",
    "    - axis=0 -> 행이 증가하는방향(오른쪽)으로 연산\n",
    "    - 이때는 transpose된 것으로 나오므로 행이 증가하는 방향이 오른쪽 \n",
    "### 2차원 행렬 (행 x 열)-> axis = 0 or 1\n",
    "    - axis=None은 axis=0,1과 동일\n",
    "    - axis=None ->(기본값).. 행,열 둘다 증가하는 방향으로 연산(오른쪽 아래로)\n",
    "    - axis=0 -> 행이 증가하는 방향(밑으로) 연산.... shape(a,b)중 a 기준\n",
    "    - axis=1 -> 열이 증가하는 방향(오른쪽으로) 연산.... shape(a,b)중 b 기준\n",
    "### 3차원 텐서 (행렬 x 행 x 열)-> axis = 0 or 1 or 2\n",
    "    - axis=None은 axis=0,1,2와 동일\n",
    "    - axis=None -> (기본값).. 전부다 연산  -> 결과는 숫자 하나\n",
    "    - axis=1 -> shape(a,b,c)에서 a기준으로 연산 -> 결과는 bxc행렬\n",
    "    - axis=2 -> shape(a,b,c)에서 b기준으로 연산 -> 결과는 axc행렬\n",
    "    - axis=3 -> shape(a,b,c)에서 c기준으로 연산 -> 결과는 axb행렬"
   ]
  },
  {
   "cell_type": "code",
   "execution_count": 24,
   "metadata": {},
   "outputs": [
    {
     "name": "stdout",
     "output_type": "stream",
     "text": [
      "276 \n",
      "\n",
      "[[12 14 16 18]\n",
      " [20 22 24 26]\n",
      " [28 30 32 34]] \n",
      "\n",
      "[[12 15 18 21]\n",
      " [48 51 54 57]] \n",
      "\n",
      "[[ 6 22 38]\n",
      " [54 70 86]] \n",
      "\n",
      "[ 60  92 124] \n",
      "\n",
      "276\n"
     ]
    }
   ],
   "source": [
    "z = np.arange(24).reshape(2,3,4)\n",
    "print(np.sum(z),\"\\n\")\n",
    "print(np.sum(z, axis=0),\"\\n\")\n",
    "print(np.sum(z, axis=1),\"\\n\")\n",
    "print(np.sum(z, axis=2),\"\\n\")\n",
    "print(np.sum(z, axis=(0,2)),\"\\n\")\n",
    "print(np.sum(z, axis=(0,1,2)))"
   ]
  },
  {
   "cell_type": "markdown",
   "metadata": {},
   "source": [
    "### broascasting\n",
    "- **뒷 차원**에서 부터 비교하여 **Shape이 같거나**, 차원 중 **값이 1인 것**이 존재하면 가능\n",
    "     - (4,3)과 (1,3) 가능    <- 3=3 and 1존재\n",
    "     - (4,3)과 3 가능        <- 3=3 and 1존재\n",
    "     - (4,3)과 (1,4) 불가능  <- 3!=4\n",
    "     - (4,3)과 (2,3) 불가능  <- 3=3 but 4!=2"
   ]
  },
  {
   "cell_type": "markdown",
   "metadata": {},
   "source": [
    "### Boolean indexing\n",
    "  - ndarry 인덱싱 시, bool 리스트를 전달하여 True인 경우만 필터링"
   ]
  },
  {
   "cell_type": "code",
   "execution_count": 25,
   "metadata": {},
   "outputs": [
    {
     "name": "stdout",
     "output_type": "stream",
     "text": [
      "[59 75 12  9 29  4 66 74 24 81] \n",
      "\n",
      "[False False  True False False  True  True  True  True False] \n",
      "\n",
      "10 \n",
      "\n",
      "[12  4 66 74 24] \n",
      "\n"
     ]
    },
    {
     "data": {
      "text/plain": [
       "array([66, 74])"
      ]
     },
     "execution_count": 25,
     "metadata": {},
     "output_type": "execute_result"
    }
   ],
   "source": [
    "x = np.random.randint(1,101, size=10)\n",
    "print(x,\"\\n\")\n",
    "print(x % 2 == 0,\"\\n\")\n",
    "print(len(x % 2 == 0),\"\\n\")\n",
    "print(x[x % 2 == 0],\"\\n\")\n",
    "x[(x % 2 == 0) & (x > 30)]"
   ]
  },
  {
   "cell_type": "code",
   "execution_count": 26,
   "metadata": {},
   "outputs": [
    {
     "data": {
      "text/plain": [
       "array([[1.30368425, 2.45939546],\n",
       "       [4.08403937, 6.21893387]])"
      ]
     },
     "execution_count": 26,
     "metadata": {},
     "output_type": "execute_result"
    }
   ],
   "source": [
    "x1 = np.random.rand(2,3)\n",
    "x2 = np.arange(6).reshape(3,2)\n",
    "np.matmul(x1,x2) # 벡터곱"
   ]
  },
  {
   "cell_type": "code",
   "execution_count": 27,
   "metadata": {},
   "outputs": [
    {
     "data": {
      "text/plain": [
       "array([29, 30, 35, 27, 15, 28])"
      ]
     },
     "execution_count": 27,
     "metadata": {},
     "output_type": "execute_result"
    }
   ],
   "source": [
    "## 1. 로또번호 생성기\n",
    "\n",
    "np.random.randint(1,46,6) ## 중복발생\n",
    "\n",
    "np.random.choice(np.arange(1,46), size=6, replace=False)  ## 중복 제거"
   ]
  },
  {
   "cell_type": "code",
   "execution_count": 28,
   "metadata": {},
   "outputs": [
    {
     "data": {
      "text/plain": [
       "3.1403132"
      ]
     },
     "execution_count": 28,
     "metadata": {},
     "output_type": "execute_result"
    }
   ],
   "source": [
    "## 2. 파이 계산하기 (몬테카를로 방법)\n",
    "\n",
    "count = int(1e7)\n",
    "x = np.random.rand(count)\n",
    "y = np.random.rand(count)\n",
    "num = np.sqrt(x**2 + y**2) <= 1\n",
    "pi = (np.sum(num) / count) * 4\n",
    "pi"
   ]
  }
 ],
 "metadata": {
  "kernelspec": {
   "display_name": "Python 3",
   "language": "python",
   "name": "python3"
  },
  "language_info": {
   "codemirror_mode": {
    "name": "ipython",
    "version": 3
   },
   "file_extension": ".py",
   "mimetype": "text/x-python",
   "name": "python",
   "nbconvert_exporter": "python",
   "pygments_lexer": "ipython3",
   "version": "3.7.1"
  }
 },
 "nbformat": 4,
 "nbformat_minor": 4
}
