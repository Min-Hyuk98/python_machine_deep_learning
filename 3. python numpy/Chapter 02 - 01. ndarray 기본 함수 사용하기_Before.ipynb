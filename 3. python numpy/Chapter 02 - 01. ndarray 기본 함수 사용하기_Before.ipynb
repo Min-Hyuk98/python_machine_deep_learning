{
 "cells": [
  {
   "cell_type": "markdown",
   "metadata": {},
   "source": [
    "## 학습목표\n",
    " 1. numpy에서 자주 사용되는 함수들을 사용해보기"
   ]
  },
  {
   "cell_type": "code",
   "execution_count": 13,
   "metadata": {},
   "outputs": [],
   "source": [
    "import numpy as np"
   ]
  },
  {
   "cell_type": "markdown",
   "metadata": {},
   "source": [
    "#### numpy documentation\n",
    " - [numpy 공식 문서 링크](https://www.numpy.org/devdocs/reference/)\n",
    " - numpy에서 제공되는 함수등에 대한 문서"
   ]
  },
  {
   "cell_type": "markdown",
   "metadata": {},
   "source": [
    "#### 연산 함수\n",
    " - add, substract, multiply, divide"
   ]
  },
  {
   "cell_type": "code",
   "execution_count": 14,
   "metadata": {},
   "outputs": [
    {
     "name": "stdout",
     "output_type": "stream",
     "text": [
      "[[ 0  1  2  3  4]\n",
      " [ 5  6  7  8  9]\n",
      " [10 11 12 13 14]\n",
      " [15 16 17 18 19]]\n",
      "[[0.43537057 0.73877583 0.22211092 0.04736761 0.22907845]\n",
      " [0.56453897 0.47842488 0.20822701 0.87977327 0.58041963]\n",
      " [0.29219548 0.0706949  0.67484309 0.58341994 0.24888363]\n",
      " [0.04642883 0.90670085 0.30248111 0.24569705 0.28198096]]\n"
     ]
    }
   ],
   "source": [
    "x = np.arange(20).reshape(4,5)\n",
    "y = np.random.rand(4,5)\n",
    "\n",
    "print(x)\n",
    "print(y)"
   ]
  },
  {
   "cell_type": "code",
   "execution_count": 15,
   "metadata": {},
   "outputs": [
    {
     "name": "stdout",
     "output_type": "stream",
     "text": [
      "[[ 0.43537057  1.73877583  2.22211092  3.04736761  4.22907845]\n",
      " [ 5.56453897  6.47842488  7.20822701  8.87977327  9.58041963]\n",
      " [10.29219548 11.0706949  12.67484309 13.58341994 14.24888363]\n",
      " [15.04642883 16.90670085 17.30248111 18.24569705 19.28198096]]\n",
      "[[ 0.43537057  1.73877583  2.22211092  3.04736761  4.22907845]\n",
      " [ 5.56453897  6.47842488  7.20822701  8.87977327  9.58041963]\n",
      " [10.29219548 11.0706949  12.67484309 13.58341994 14.24888363]\n",
      " [15.04642883 16.90670085 17.30248111 18.24569705 19.28198096]]\n"
     ]
    }
   ],
   "source": [
    "print(x + y)\n",
    "print(np.add(x,y))"
   ]
  },
  {
   "cell_type": "code",
   "execution_count": 16,
   "metadata": {},
   "outputs": [
    {
     "name": "stdout",
     "output_type": "stream",
     "text": [
      "[[-0.43537057  0.26122417  1.77788908  2.95263239  3.77092155]\n",
      " [ 4.43546103  5.52157512  6.79177299  7.12022673  8.41958037]\n",
      " [ 9.70780452 10.9293051  11.32515691 12.41658006 13.75111637]\n",
      " [14.95357117 15.09329915 16.69751889 17.75430295 18.71801904]]\n",
      "[[-0.43537057  0.26122417  1.77788908  2.95263239  3.77092155]\n",
      " [ 4.43546103  5.52157512  6.79177299  7.12022673  8.41958037]\n",
      " [ 9.70780452 10.9293051  11.32515691 12.41658006 13.75111637]\n",
      " [14.95357117 15.09329915 16.69751889 17.75430295 18.71801904]]\n"
     ]
    }
   ],
   "source": [
    "print(x - y)\n",
    "print(np.subtract(x,y))"
   ]
  },
  {
   "cell_type": "code",
   "execution_count": 17,
   "metadata": {},
   "outputs": [
    {
     "name": "stdout",
     "output_type": "stream",
     "text": [
      "[[ 0.          0.73877583  0.44422185  0.14210282  0.91631382]\n",
      " [ 2.82269486  2.87054928  1.45758906  7.03818614  5.22377667]\n",
      " [ 2.92195477  0.77764392  8.09811708  7.5844592   3.48437078]\n",
      " [ 0.69643244 14.50721363  5.14217894  4.42254698  5.35763826]]\n",
      "[[ 0.          0.73877583  0.44422185  0.14210282  0.91631382]\n",
      " [ 2.82269486  2.87054928  1.45758906  7.03818614  5.22377667]\n",
      " [ 2.92195477  0.77764392  8.09811708  7.5844592   3.48437078]\n",
      " [ 0.69643244 14.50721363  5.14217894  4.42254698  5.35763826]]\n"
     ]
    }
   ],
   "source": [
    "print(x * y)\n",
    "print(np.multiply(x,y))"
   ]
  },
  {
   "cell_type": "code",
   "execution_count": 18,
   "metadata": {},
   "outputs": [
    {
     "name": "stdout",
     "output_type": "stream",
     "text": [
      "[[  0.           1.35359058   9.00450983  63.33442219  17.46126676]\n",
      " [  8.85678447  12.54115378  33.61715671   9.09325198  15.50602277]\n",
      " [ 34.22366454 155.59820724  17.78191136  22.28240612  56.25118927]\n",
      " [323.07512914  17.64639348  56.20185598  73.26095159  67.38043566]]\n",
      "[[  0.           1.35359058   9.00450983  63.33442219  17.46126676]\n",
      " [  8.85678447  12.54115378  33.61715671   9.09325198  15.50602277]\n",
      " [ 34.22366454 155.59820724  17.78191136  22.28240612  56.25118927]\n",
      " [323.07512914  17.64639348  56.20185598  73.26095159  67.38043566]]\n"
     ]
    }
   ],
   "source": [
    "print(x / y)\n",
    "print(np.divide(x,y))"
   ]
  },
  {
   "cell_type": "markdown",
   "metadata": {},
   "source": [
    "#### 통계 함수\n",
    " - 평균, 분산, 중앙, 최대, 최소값 등등 통계 관련된 함수가 내장"
   ]
  },
  {
   "cell_type": "code",
   "execution_count": 19,
   "metadata": {},
   "outputs": [],
   "source": [
    "x = np.arange(20).reshape(4,5)"
   ]
  },
  {
   "cell_type": "code",
   "execution_count": 20,
   "metadata": {},
   "outputs": [
    {
     "data": {
      "text/plain": [
       "9.5"
      ]
     },
     "execution_count": 20,
     "metadata": {},
     "output_type": "execute_result"
    }
   ],
   "source": [
    "np.mean(x)"
   ]
  },
  {
   "cell_type": "code",
   "execution_count": 21,
   "metadata": {},
   "outputs": [
    {
     "data": {
      "text/plain": [
       "19"
      ]
     },
     "execution_count": 21,
     "metadata": {},
     "output_type": "execute_result"
    }
   ],
   "source": [
    "np.max(x)"
   ]
  },
  {
   "cell_type": "code",
   "execution_count": 22,
   "metadata": {},
   "outputs": [
    {
     "data": {
      "text/plain": [
       "0"
      ]
     },
     "execution_count": 22,
     "metadata": {},
     "output_type": "execute_result"
    }
   ],
   "source": [
    "np.min(x)"
   ]
  },
  {
   "cell_type": "code",
   "execution_count": 24,
   "metadata": {},
   "outputs": [
    {
     "data": {
      "text/plain": [
       "19"
      ]
     },
     "execution_count": 24,
     "metadata": {},
     "output_type": "execute_result"
    }
   ],
   "source": [
    "np.argmax(x) ## flatten한 상태로 가정하고 인덱스를 반환"
   ]
  },
  {
   "cell_type": "code",
   "execution_count": 25,
   "metadata": {},
   "outputs": [
    {
     "data": {
      "text/plain": [
       "(33.25, 9.5, 5.766281297335398)"
      ]
     },
     "execution_count": 25,
     "metadata": {},
     "output_type": "execute_result"
    }
   ],
   "source": [
    "np.var(x), np.median(x), np.std(x)"
   ]
  },
  {
   "cell_type": "markdown",
   "metadata": {},
   "source": [
    "#### 집계함수\n",
    " - 합계(sum), 누적합계(cumsum) 등등 계산 가능"
   ]
  },
  {
   "cell_type": "code",
   "execution_count": 26,
   "metadata": {},
   "outputs": [],
   "source": [
    "x = np.arange(20).reshape(4,5)"
   ]
  },
  {
   "cell_type": "code",
   "execution_count": 27,
   "metadata": {},
   "outputs": [
    {
     "data": {
      "text/plain": [
       "190"
      ]
     },
     "execution_count": 27,
     "metadata": {},
     "output_type": "execute_result"
    }
   ],
   "source": [
    "np.sum(x)"
   ]
  },
  {
   "cell_type": "code",
   "execution_count": 29,
   "metadata": {},
   "outputs": [
    {
     "data": {
      "text/plain": [
       "array([  0,   1,   3,   6,  10,  15,  21,  28,  36,  45,  55,  66,  78,\n",
       "        91, 105, 120, 136, 153, 171, 190], dtype=int32)"
      ]
     },
     "execution_count": 29,
     "metadata": {},
     "output_type": "execute_result"
    }
   ],
   "source": [
    "np.cumsum(x)  ## 누적합"
   ]
  },
  {
   "cell_type": "markdown",
   "metadata": {},
   "source": [
    "#### any, all 함수\n",
    " - any: 특정 조건을 만족하는 것이 하나라도 있으면 True, 아니면 False\n",
    " - all: 모든 원소가 특정 조건을 만족한다면 True, 아니면 False"
   ]
  },
  {
   "cell_type": "code",
   "execution_count": 37,
   "metadata": {},
   "outputs": [],
   "source": [
    "x = np.arange(20).reshape(4,5)"
   ]
  },
  {
   "cell_type": "code",
   "execution_count": 38,
   "metadata": {},
   "outputs": [
    {
     "data": {
      "text/plain": [
       "array([[False,  True,  True,  True,  True],\n",
       "       [ True,  True,  True,  True,  True],\n",
       "       [ True,  True,  True,  True,  True],\n",
       "       [ True,  True,  True,  True,  True]])"
      ]
     },
     "execution_count": 38,
     "metadata": {},
     "output_type": "execute_result"
    }
   ],
   "source": [
    "x > 0"
   ]
  },
  {
   "cell_type": "code",
   "execution_count": 39,
   "metadata": {},
   "outputs": [
    {
     "data": {
      "text/plain": [
       "True"
      ]
     },
     "execution_count": 39,
     "metadata": {},
     "output_type": "execute_result"
    }
   ],
   "source": [
    "np.any(x > 0)"
   ]
  },
  {
   "cell_type": "code",
   "execution_count": 40,
   "metadata": {},
   "outputs": [
    {
     "data": {
      "text/plain": [
       "False"
      ]
     },
     "execution_count": 40,
     "metadata": {},
     "output_type": "execute_result"
    }
   ],
   "source": [
    "np.all(x > 0)"
   ]
  },
  {
   "cell_type": "markdown",
   "metadata": {},
   "source": [
    "#### where 함수\n",
    " - 조건에 따라 선별적으로 값을 선택 가능\n",
    " - 사용 예) 음수인경우는 0, 나머지는 그대로 값을 쓰는 경우"
   ]
  },
  {
   "cell_type": "code",
   "execution_count": 43,
   "metadata": {},
   "outputs": [
    {
     "data": {
      "text/plain": [
       "array([-5.78383771e-01, -6.07110345e-01,  7.96500664e-04,  1.40291969e+00,\n",
       "        9.56588011e-01, -1.79880669e+00, -3.19259951e-01,  3.09829216e-01,\n",
       "        6.74697685e-02, -3.57270446e-01])"
      ]
     },
     "execution_count": 43,
     "metadata": {},
     "output_type": "execute_result"
    }
   ],
   "source": [
    "z = np.random.randn(10)\n",
    "z"
   ]
  },
  {
   "cell_type": "code",
   "execution_count": 45,
   "metadata": {},
   "outputs": [
    {
     "data": {
      "text/plain": [
       "array([0.00000000e+00, 0.00000000e+00, 7.96500664e-04, 1.40291969e+00,\n",
       "       9.56588011e-01, 0.00000000e+00, 0.00000000e+00, 3.09829216e-01,\n",
       "       6.74697685e-02, 0.00000000e+00])"
      ]
     },
     "execution_count": 45,
     "metadata": {},
     "output_type": "execute_result"
    }
   ],
   "source": [
    "## np.where(조건문, 참일때수행, 거짓일때수행)\n",
    "np.where(z>0, z, 0)\n"
   ]
  },
  {
   "cell_type": "code",
   "execution_count": null,
   "metadata": {},
   "outputs": [],
   "source": []
  }
 ],
 "metadata": {
  "kernelspec": {
   "display_name": "Python 3",
   "language": "python",
   "name": "python3"
  },
  "language_info": {
   "codemirror_mode": {
    "name": "ipython",
    "version": 3
   },
   "file_extension": ".py",
   "mimetype": "text/x-python",
   "name": "python",
   "nbconvert_exporter": "python",
   "pygments_lexer": "ipython3",
   "version": "3.8.3"
  }
 },
 "nbformat": 4,
 "nbformat_minor": 1
}
