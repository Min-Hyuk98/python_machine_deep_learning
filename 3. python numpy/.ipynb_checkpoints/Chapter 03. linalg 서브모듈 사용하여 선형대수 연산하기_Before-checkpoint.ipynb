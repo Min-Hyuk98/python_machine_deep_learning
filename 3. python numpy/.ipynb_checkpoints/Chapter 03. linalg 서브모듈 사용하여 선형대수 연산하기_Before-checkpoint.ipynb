{
 "cells": [
  {
   "cell_type": "markdown",
   "metadata": {},
   "source": [
    "## 학습목표\n",
    " 1. linalg 서브모듈 함수 활용여 선형대수 연산하기"
   ]
  },
  {
   "cell_type": "code",
   "execution_count": 1,
   "metadata": {},
   "outputs": [],
   "source": [
    "import numpy as np"
   ]
  },
  {
   "cell_type": "markdown",
   "metadata": {},
   "source": [
    "#### np.linalg.inv\n",
    " - 역행렬을 구할 때 사용\n",
    " - 모든 차원의 값이 같아야 함"
   ]
  },
  {
   "cell_type": "code",
   "execution_count": 6,
   "metadata": {},
   "outputs": [
    {
     "name": "stdout",
     "output_type": "stream",
     "text": [
      "[[0.91278938 0.79026725 0.69083923]\n",
      " [0.51576159 0.92199291 0.42217558]\n",
      " [0.31821452 0.64786114 0.08830001]]\n",
      "[[ 1.00000000e+00  6.57023638e-16 -2.18279096e-16]\n",
      " [-1.33127918e-16  1.00000000e+00 -1.06511285e-16]\n",
      " [ 8.19831822e-17  2.08036664e-16  1.00000000e+00]]\n",
      "[[ 1.00000000e+00  6.57023638e-16 -2.18279096e-16]\n",
      " [-1.33127918e-16  1.00000000e+00 -1.06511285e-16]\n",
      " [ 8.19831822e-17  2.08036664e-16  1.00000000e+00]]\n"
     ]
    }
   ],
   "source": [
    "x = np.random.rand(3,3)\n",
    "print(x)\n",
    "\n",
    "print(np.matmul(x, np.linalg.inv(x)))  ## x 곱하기 x의 역행렬\n",
    "print(x @ np.linalg.inv(x))  ## 2가지 방식으로 행렬곱 표현 가능\n"
   ]
  },
  {
   "cell_type": "markdown",
   "metadata": {},
   "source": [
    "#### np.linalg.solve\n",
    " - Ax = B 형태의 선형대수식 솔루션을 제공\n",
    " - 예제) 호랑이와 닭의 합 : 25 호랑이 다리와 닭 다리의 합은 64\n",
    "   - x + y = 25\n",
    "   - 2x + 4y = 64\n",
    "   \n",
    " $$\\begin{pmatrix} 1 & 1 \\\\ 2 & 4 \\end{pmatrix}\\begin{pmatrix} x \\\\ y \\end{pmatrix}= \\begin{pmatrix} 25 \\\\ 64 \\end{pmatrix}$$\n"
   ]
  },
  {
   "cell_type": "code",
   "execution_count": 12,
   "metadata": {},
   "outputs": [
    {
     "name": "stdout",
     "output_type": "stream",
     "text": [
      "[18.  7.]\n"
     ]
    }
   ],
   "source": [
    "A = np.array([[1,1], [2,4]])\n",
    "B = np.array([25, 64])\n",
    "\n",
    "x = np.linalg.solve(A, B)\n",
    "print(x)"
   ]
  },
  {
   "cell_type": "code",
   "execution_count": 13,
   "metadata": {},
   "outputs": [
    {
     "data": {
      "text/plain": [
       "True"
      ]
     },
     "execution_count": 13,
     "metadata": {},
     "output_type": "execute_result"
    }
   ],
   "source": [
    "## Ax = B가 맞는지 검산\n",
    "## 컴퓨터 계산시 나오는 미미한 오차 제거위해 np.allclose()사용\n",
    "\n",
    "np.allclose(A@x, B) "
   ]
  }
 ],
 "metadata": {
  "kernelspec": {
   "display_name": "Python 3",
   "language": "python",
   "name": "python3"
  },
  "language_info": {
   "codemirror_mode": {
    "name": "ipython",
    "version": 3
   },
   "file_extension": ".py",
   "mimetype": "text/x-python",
   "name": "python",
   "nbconvert_exporter": "python",
   "pygments_lexer": "ipython3",
   "version": "3.8.3"
  }
 },
 "nbformat": 4,
 "nbformat_minor": 1
}
