{
 "cells": [
  {
   "cell_type": "markdown",
   "metadata": {},
   "source": [
    "# 네이버 뉴스 데이터 가져오기\n",
    "\n",
    "> 1. 네이버 오픈 API로 기사 URL 크롤링\n",
    "> 2. bs4 + selenium으로 기사 제목 및 내용 크롤링"
   ]
  },
  {
   "cell_type": "code",
   "execution_count": 59,
   "metadata": {},
   "outputs": [],
   "source": [
    "import os\n",
    "import sys\n",
    "import urllib.request\n",
    "import requests\n",
    "\n",
    "news_data = []\n",
    "page_count = 3\n",
    "client_id = \"mdYMhGy0qq51dat9icK3\"\n",
    "client_secret = \"Q0QYj8vyiv\" # 발급받은 client_secret\n",
    "encText = urllib.parse.quote(\"파이썬\")\n",
    "\n",
    "for i in range(3):\n",
    "    url = \"https://openapi.naver.com/v1/search/news?query=\" + encText + \"&start=\" + str(i * 10 + 1) # json 결과\n",
    "    # url = \"https://openapi.naver.com/v1/search/blog.xml?query=\" + encText # xml 결과\n",
    "\n",
    "    request = urllib.request.Request(url)\n",
    "    request.add_header(\"X-Naver-Client-Id\",client_id)\n",
    "    request.add_header(\"X-Naver-Client-Secret\",client_secret)\n",
    "    response = urllib.request.urlopen(request)\n",
    "    rescode = response.getcode()\n",
    "\n",
    "\n",
    "    if(rescode==200):\n",
    "    #    response_body = response.read()\n",
    "        result = requests.get(response.geturl(),\n",
    "                              headers={\"X-Naver-Client-Id\":client_id,\n",
    "                                       \"X-Naver-Client-Secret\":client_secret}\n",
    "                             )\n",
    "        news_data.append(result.json())\n",
    "    #    print(response_body.decode('utf-8'))\n",
    "    else:\n",
    "        print(\"Error Code:\" + rescode)\n",
    "\n",
    "\n"
   ]
  },
  {
   "cell_type": "markdown",
   "metadata": {},
   "source": [
    "### 네이버 OPEN API를 통해 가져온 데이터 확인하기."
   ]
  },
  {
   "cell_type": "code",
   "execution_count": 60,
   "metadata": {},
   "outputs": [
    {
     "name": "stdout",
     "output_type": "stream",
     "text": [
      "http://www.pointn.net/news/articleView.html?idxno=22983\n"
     ]
    }
   ],
   "source": [
    "print(news_data[0]['items'][0]['link'])"
   ]
  },
  {
   "cell_type": "markdown",
   "metadata": {},
   "source": [
    "### 가져온 URL이 네이버 뉴스인지 확인하기."
   ]
  },
  {
   "cell_type": "code",
   "execution_count": 72,
   "metadata": {},
   "outputs": [
    {
     "name": "stdout",
     "output_type": "stream",
     "text": [
      "http://www.pointn.net/news/articleView.html?idxno=22983\n",
      "http://www.futurekorea.co.kr/news/articleView.html?idxno=141762\n",
      "http://www.aitimes.com/news/articleView.html?idxno=132974\n",
      "http://www.kgdm.co.kr/news/articleView.html?idxno=720900\n",
      "http://edu.donga.com/?p=article&ps=view&at_no=20201020110717670656\n",
      "http://www.boannews.com/media/view.asp?idx=91879&kind=\n",
      "http://www.mhns.co.kr/news/articleView.html?idxno=419393\n",
      "http://www.hkbs.co.kr/news/articleView.html?idxno=594041\n",
      "http://www.ccreview.co.kr/news/articleView.html?idxno=291361\n",
      "http://www.hkbs.co.kr/news/articleView.html?idxno=594220\n",
      "http://www.mrepublic.co.kr/news/articleView.html?idxno=55477\n",
      "http://www.anewsa.com/detail.php?number=2250833&thread=09\n",
      "http://www.snmnews.com/news/articleView.html?idxno=470286\n",
      "http://www.breaknews.com/761600\n",
      "http://www.enewstoday.co.kr/news/articleView.html?idxno=1421296\n",
      "http://www.dtoday.co.kr/news/articleView.html?idxno=384280\n",
      "http://www.newsrep.co.kr/news/articleView.html?idxno=149612\n",
      "http://www.weeklytoday.com/news/articleView.html?idxno=315209\n",
      "http://www.kukinews.com/newsView/kuk202010190013\n",
      "http://www.ajunews.com/view/20201019073114016\n",
      "http://www.thepublic.kr/news/newsview.php?ncode=1065601183488787\n",
      "https://www.wikitree.co.kr/articles/581963\n",
      "http://www.ksmnews.co.kr/default/index_view_page.php?idx=310214&part_idx=234\n",
      "http://www.newsworker.co.kr/news/articleView.html?idxno=88298\n",
      "http://www.idaegu.co.kr/news/articleView.html?idxno=326078\n",
      "http://www.dkilbo.com/news/articleView.html?idxno=314149\n",
      "http://www.kbmaeil.com/news/articleView.html?idxno=858620\n",
      "http://www.kjdaily.com/read.php3?aid=1603017833527137002\n",
      "http://www.gwangnam.co.kr/read.php3?aid=1603015180368434010\n",
      "http://www.hidomin.com/news/articleView.html?idxno=434891\n"
     ]
    },
    {
     "data": {
      "text/plain": [
       "[['http://www.hkbs.co.kr/news/articleView.html?idxno=594041',\n",
       "  'http://www.hkbs.co.kr/news/articleView.html?idxno=594220'],\n",
       " [],\n",
       " []]"
      ]
     },
     "execution_count": 72,
     "metadata": {},
     "output_type": "execute_result"
    }
   ],
   "source": [
    "naver_news_link = []\n",
    "for page in news_data:\n",
    "    page_news_link = []\n",
    "    for item in page['items']:\n",
    "        link = item['link']\n",
    "        print(link)\n",
    "        if 'hkbs' in link:\n",
    "            page_news_link.append(link)\n",
    "    naver_news_link.append(page_news_link)\n",
    "naver_news_link"
   ]
  },
  {
   "cell_type": "markdown",
   "metadata": {},
   "source": [
    "### 네이버 뉴스 기사 크롤링!"
   ]
  },
  {
   "cell_type": "code",
   "execution_count": 73,
   "metadata": {},
   "outputs": [],
   "source": [
    "import pandas as pd\n",
    "import numpy as np\n",
    "from selenium import webdriver\n",
    "from tqdm import tqdm_notebook\n",
    "import requests\n",
    "import pickle\n",
    "import re\n",
    "import ast\n",
    "\n",
    "from bs4 import BeautifulSoup \n",
    "from urllib.request import urlopen\n",
    "import urllib\n",
    "import time\n",
    "import os\n"
   ]
  },
  {
   "cell_type": "code",
   "execution_count": 74,
   "metadata": {},
   "outputs": [],
   "source": [
    "# 가상 크롬드라이버를 불러옴.\n",
    "# 윈도우 10의 경우 chromedriver.exe\n",
    "driver = webdriver.Chrome('C:/Users/Jang/chromedriver.exe')\n"
   ]
  },
  {
   "cell_type": "code",
   "execution_count": 75,
   "metadata": {},
   "outputs": [
    {
     "name": "stderr",
     "output_type": "stream",
     "text": [
      "C:\\Users\\Jang\\anaconda3\\lib\\site-packages\\ipykernel_launcher.py:4: TqdmDeprecationWarning: This function will be removed in tqdm==5.0.0\n",
      "Please use `tqdm.notebook.tqdm` instead of `tqdm.tqdm_notebook`\n",
      "  after removing the cwd from sys.path.\n"
     ]
    },
    {
     "data": {
      "application/vnd.jupyter.widget-view+json": {
       "model_id": "96561e43db964819bad759cb43132d6d",
       "version_major": 2,
       "version_minor": 0
      },
      "text/plain": [
       "HBox(children=(HTML(value=''), FloatProgress(value=0.0, max=3.0), HTML(value='')))"
      ]
     },
     "metadata": {},
     "output_type": "display_data"
    },
    {
     "name": "stderr",
     "output_type": "stream",
     "text": [
      "C:\\Users\\Jang\\anaconda3\\lib\\site-packages\\ipykernel_launcher.py:8: TqdmDeprecationWarning: This function will be removed in tqdm==5.0.0\n",
      "Please use `tqdm.notebook.tqdm` instead of `tqdm.tqdm_notebook`\n",
      "  \n"
     ]
    },
    {
     "data": {
      "application/vnd.jupyter.widget-view+json": {
       "model_id": "1306638e236045988bc5bbadd0ad44b4",
       "version_major": 2,
       "version_minor": 0
      },
      "text/plain": [
       "HBox(children=(HTML(value=''), FloatProgress(value=0.0, max=2.0), HTML(value='')))"
      ]
     },
     "metadata": {},
     "output_type": "display_data"
    },
    {
     "name": "stdout",
     "output_type": "stream",
     "text": [
      "0\n",
      "-----------------\n",
      "0\n",
      "http://www.hkbs.co.kr/news/articleView.html?idxno=594041\n",
      "포스코 취업·창업 지원 프로그램, '호평' 이어간다\n",
      "0\n",
      "-----------------\n",
      "1\n",
      "http://www.hkbs.co.kr/news/articleView.html?idxno=594220\n",
      "국민내일배움카드 우수 훈련과정 공개\n",
      "\n"
     ]
    },
    {
     "data": {
      "application/vnd.jupyter.widget-view+json": {
       "model_id": "59d7d26c013e4e179d70ee041caa381b",
       "version_major": 2,
       "version_minor": 0
      },
      "text/plain": [
       "HBox(children=(HTML(value=''), FloatProgress(value=1.0, bar_style='info', layout=Layout(width='20px'), max=1.0…"
      ]
     },
     "metadata": {},
     "output_type": "display_data"
    },
    {
     "name": "stdout",
     "output_type": "stream",
     "text": [
      "\n"
     ]
    },
    {
     "data": {
      "application/vnd.jupyter.widget-view+json": {
       "model_id": "8c96024c01334209bde756dfe27f9734",
       "version_major": 2,
       "version_minor": 0
      },
      "text/plain": [
       "HBox(children=(HTML(value=''), FloatProgress(value=1.0, bar_style='info', layout=Layout(width='20px'), max=1.0…"
      ]
     },
     "metadata": {},
     "output_type": "display_data"
    },
    {
     "name": "stdout",
     "output_type": "stream",
     "text": [
      "\n",
      "\n",
      "[\"포스코 취업·창업 지원 프로그램, '호평' 이어간다\", '국민내일배움카드 우수 훈련과정 공개']\n",
      "==================================\n",
      "['  [포항=환경일보] 김용달 기자 = 포스코가 진행하는 취·창업 지원 프로그램이 취업준비생들 사이에서 호평을 받고 있다. 최근 언택트 교육방식을 프로그램에 도입하고 교육생들의 취·창업 사례가 늘어나면서 혁신과 성과 두 마리 토끼를 모두 잡았다는 평가를 받고 있다.                 포스코 취업아카데미에서 화상회의를 통해 언택트 교육을 진행하고 있는 모습<사진제공=포스코>    3번째 문단 좌측 @ 2020-06-08 추가                포스코는 청년 인재를 육성하고 이들의 취업과 창업을 지원하기 위해 2019년부터 ‘포유드림’ 교육을 운영하고 있다. 목표는 취·창업에 실질적으로 도움이 되는 콘텐츠를 만들고, 2023년까지 5500명에게 교육을 제공하는 것이다.    포유드림 프로그램은 △포스코 취업아카데미 △청년 AI·Big Data 아카데미 △창업 인큐베이팅 스쿨로 구성돼 있다.   \\'포스코 취업아카데미\\'는 취업 경쟁력 및 실무역량 강화를 위해 참여형 실무과제를 수행하는 교육 프로그램이다. 포스코는 코로나19 사태로 순연됐던 이 프로그램에 최근 화상회의를 통한 언택트 교육방식을 도입했다.    3주간의 교육기간 동안 1주차에는 온라인으로 기업·직무분석, 자기소개서 코칭, 모의면접 등을 진행하며, 2주차부터는 합숙 교육을 통해 창의적 문제해결 방법론을 바탕으로한 조별 과제수행을 진행한다.   현재까지 총 1289명이 포스코 취업아카데미를 수료했으며, 이 중 38%인 462명이 취업에 성공했다. 지난해 포스코에 취업한 안동환(27) 교육생은 \"취업을 준비하는 과정에서 많은 도움을 받았고 기업의 업무 및 문제해결 방법을 이해할 수 있었다\"라고 말했다.   현재 포스코 취업아카데미는 포항지역에서 진행되는 11월 교육 지원자를 모집하고 있다. 모집기간은 10월 15일부터 10월 21일까지이고, 홈페이지를 통해 신청할 수 있다. 포스코는 교육생 전원에게 숙식을 무료로 제공하며 연수수당 50만원과 기념품을 지급한다. 교육 성적 우수자는 2개월간 포스코인재창조원에서 인턴으로 근무할 수 있다.   \\'청년 AI·Big Data 아카데미\\'는 국내외 기업들의 채용선호 대상인 인공지능(AI)과 빅데이터(Big Data) 전문가를 육성하는 인재 양성 프로그램이다. 교육생들은 9주간의 교육기간 동안 파이썬 프로그래밍 기초, 인공지능, 빅데이터분석 이론 및 실습과 실무 과제수행을 통해 차별화된 취업 경쟁력을 확보할 수 있다.   이 프로그램을 수료한 283명 중 43%인 122명이 AI 분야에 취업했다. 현재 코로나19 감염 예방을 위해 합숙 교육 대신 온라인 수업을 진행하고 있으며 교육생들의 평가도 긍정적이다. 포스코는 인재창조원의 인프라를 활용해 높은 수준의 강의 콘텐츠를 교육생들에게 제공할뿐만 아니라 강사와 학생간 1:1 밀착코칭도 진행하고 있다.   \\'창업 인큐베이팅 스쿨\\'은 예비 창업자들을 대상으로 사업 아이디어 구체화, 사업계획서 작성 등 실무 교육부터 법무·재무·노무 등 경영 지식까지 제공하는 프로그램이다.    이 프로그램 역시 코로나19 확산 수준에 따라 교육방식을 유동적으로 진행하고 있다. 사회적 거리두기 1단계시 4주 합숙 교육, 2단계부터는 3주 온라인 교육으로 진행할 예정이다. 온라인 교육을 시행할 시에는 전문 강사의 1:1 코칭 프로그램도 별도로 수행할 계획이다.   창업 인큐베이팅 스쿨은 현재까지 134명이 수료했으며, 58%인 78명이 창업에 성공했다. 또한 포항 창조경제혁신센터에 입주한 10명은 창업을 준비하고 있다.     김용달 기자\\xa0\\xa0kimyd0308@naver.com <저작권자 © 환경일보, 무단 전재 및 재배포 금지>      190306   ', '  [환경일보] 우리 지역에서 어떤 직업훈련을 받으면 취업이 잘 될까? 고용노동부가 국민내일배움카드 취업률이 높은 상위 직종과 훈련 과정을 공개했다.   서울‧경기‧인천‧강원‧대전‧대구‧광주‧부산 8개 권역별로 취업률이 높은 상위 5개 직종과 훈련 과정을 뽑았다.    3번째 문단 좌측 @ 2020-06-08 추가        권역별로 취업률이 높은 직종을 살펴보면 ▷서울은 법률과 정보기술 직종이 ▷경기와 인천은 기계가공 직종이 ▷대전은 정보기술 직종이 높았고, ▷강원‧광주‧대구는 의료 직종이 ▷부산은 자동차 직종이 높은 것으로 나타났다.   정보‧기술 분야의 경우 대전, 서울, 광주 등 다수 지역의 상위 직종에 포함됐으며, 이는 디지털‧신기술 분야의 인력 수요 증가에 따른 것으로 보인다.   주요 훈련 대상별로 청년‧여성‧중장년이 많이 찾는 훈련 직종과 취업률이 높은 훈련 직종을 살펴보면, 청년들이 가장 많이 찾은 훈련 직종은 커피바리스타 과정 등 식음료 조리 직종과 ‘빅데이터 활용 자바 파이썬 개발자 양성’ 등 정보기술 직종, 취업률이 가장 높은 직종은 법률사무취업과정 등 법률 직종(83.4%), 컴퓨터응용기계 과정 등 기계가공직종(77.4%)인 것으로 나타났다.   여성의 경우 가장 많이 찾은 훈련 직종은 요양보호사 자격 취득과정 등 보건 직종, 취업률이 가장 높은 직종은 법률사무취업과정 등 법률 직종(80.7%)인 것으로 나타났다.   중장년의 경우 가장 많이 찾은 훈련 직종은 요양보호사 자격 취득 등 보건 직종, 취업률이 가장 높은 직종은 기계‧설계 제작 실무 등 기계‧가공 직종(75.7%)인 것으로 나타났다.               <자료제공=고용노동부>         국민내일배움카드는 다양한 국민들의 수요를 반영해 기간산업‧뿌리직종, 서비스 직종 등 다양한 분야의 훈련 과정을 운영 중이며 앞으로는, 4차산업혁명 등 디지털 전환 시대에 현장에서 원하는 핵심 인재 양성을 위한 훈련 과정을 대폭 확충할 예정이다.   향후 5년간 18만명의 ’디지털 핵심 실무인재 양성‘을 목표로 한국판뉴딜의 대표사업으로서 K-Digital Training을 추진하고 있다.   이 과정에는 ‘멋쟁이사자처럼’, ‘엘리스’ 등 청년들이 수업받기 원하는 민간 혁신기관 등이 훈련기관으로 참여하고, ‘네이버’, ‘솔트룩스’, ‘하나금융TI’ 등 청년들이 취업하고 싶은 디지털 선도기업이 훈련 과정 설계‧운영을 직접 지원한다.   훈련방식은 기존 강의식 보다는 프로젝트 기반의 실전 과제 수행, 자기주도적 학습방식 등을 도입함으로써, 비전공자도 디지털 분야의 핵심실무인재로 거듭나도록 기회를 제공해 나갈 계획이다.   국민내일배움카드의 다양한 훈련 과정들은 직업훈련포탈(HRD-Net)을 통해 검색할 수 있고, 계좌 한도 내에서 수강할 수 있다.   국민내일배움카드는 실업자‧재직자 구분 없이 신청할 수 있고, 온라인 HRD-Net 또는 고용센터 방문을 통해 발급받을 수 있으며, 5년간 300만원에서 500만원까지 이용할 수 있다.   임서정 차관은 “코로나19로 고용 여건이 어렵지만, 직업훈련은 위기의 상황에서도 일자리를 찾기 위한 원동력이 된다”면서 “보다 많은 분들이 내일배움카드의 혜택을 받을 수 있도록, 자부담률 완화 등 꾸준한 제도개선 정책을 펼치고 있다”고 말했다.   또한 “향후, 국민내일배움카드가 디지털 신기술 분야 등 신산업과 주력산업 전반에 걸쳐 핵심적인 인재 양성을 위한 ‘국가대표 직업훈련 플랫폼’이 될 수 있도록 더욱 노력하겠다”라고 밝혔다. 한이삭 기자\\xa0\\xa0press@hkbs.co.kr <저작권자 © 환경일보, 무단 전재 및 재배포 금지>      190306   ']\n"
     ]
    }
   ],
   "source": [
    "naver_news_title = []\n",
    "naver_news_content = []\n",
    "\n",
    "for n in tqdm_notebook(range(len(naver_news_link))):\n",
    "    news_page_title = []\n",
    "    news_page_content = []\n",
    "    \n",
    "    for idx in tqdm_notebook(range(len(naver_news_link[n]))):\n",
    "        print(n)\n",
    "        print(\"-----------------\")\n",
    "        print(idx)\n",
    "        ########### 긁어온 URL로 접속하기 ############    \n",
    "        try:\n",
    "            driver.get(naver_news_link[n][idx])\n",
    "            print(naver_news_link[n][idx])\n",
    "        except:\n",
    "            print(\"Timeout!\")\n",
    "            continue\n",
    "        \n",
    "        try:\n",
    "            response = driver.page_source\n",
    "        except UnexpectedAlterPresentException:\n",
    "            driver.switch_to_alert().accept()\n",
    "            print(\"게시글이 삭제된 경우입니다\")\n",
    "            continue\n",
    "        soup = BeautifulSoup(response, 'html.parser')\n",
    "        \n",
    "        ###### 뉴스 타이틀 긁어오기 ######\n",
    "        title = None\n",
    "        try:\n",
    "            title = soup.find('font', class_ ='headline-title').text\n",
    "            print(title)\n",
    "        except:\n",
    "            title = 'OUTLINK'\n",
    "        news_page_title.append(title)\n",
    "        \n",
    "        ###### 뉴스 본문 긁어오기 ######\n",
    "        doc = None\n",
    "        text = \"\"\n",
    "        data = soup.find_all(\"div\", {\"id\": \"articleBody\"})\n",
    "        if data:\n",
    "            for item in data:\n",
    "                text = text + str(item.find_all(text=True)).strip()\n",
    "                text = ast.literal_eval(text)\n",
    "                doc = ' '.join(text)\n",
    "        else:\n",
    "            doc = \"OUTLINK\"\n",
    "        news_page_content.append(doc.replace('\\n',' '))\n",
    "        \n",
    "    naver_news_title.append(news_page_title)\n",
    "    naver_news_content.append(news_page_content)\n",
    "    time.sleep(2)\n",
    "    \n",
    "print(naver_news_title[0])\n",
    "print(\"==================================\")\n",
    "print(naver_news_content[0])"
   ]
  },
  {
   "cell_type": "markdown",
   "metadata": {},
   "source": [
    "### 크롤링 결과 확인하기."
   ]
  },
  {
   "cell_type": "code",
   "execution_count": 76,
   "metadata": {},
   "outputs": [
    {
     "name": "stdout",
     "output_type": "stream",
     "text": [
      "[\"포스코 취업·창업 지원 프로그램, '호평' 이어간다\", '국민내일배움카드 우수 훈련과정 공개']\n"
     ]
    }
   ],
   "source": [
    "print(naver_news_title[0])"
   ]
  },
  {
   "cell_type": "code",
   "execution_count": 77,
   "metadata": {},
   "outputs": [
    {
     "name": "stdout",
     "output_type": "stream",
     "text": [
      "['  [포항=환경일보] 김용달 기자 = 포스코가 진행하는 취·창업 지원 프로그램이 취업준비생들 사이에서 호평을 받고 있다. 최근 언택트 교육방식을 프로그램에 도입하고 교육생들의 취·창업 사례가 늘어나면서 혁신과 성과 두 마리 토끼를 모두 잡았다는 평가를 받고 있다.                 포스코 취업아카데미에서 화상회의를 통해 언택트 교육을 진행하고 있는 모습<사진제공=포스코>    3번째 문단 좌측 @ 2020-06-08 추가                포스코는 청년 인재를 육성하고 이들의 취업과 창업을 지원하기 위해 2019년부터 ‘포유드림’ 교육을 운영하고 있다. 목표는 취·창업에 실질적으로 도움이 되는 콘텐츠를 만들고, 2023년까지 5500명에게 교육을 제공하는 것이다.    포유드림 프로그램은 △포스코 취업아카데미 △청년 AI·Big Data 아카데미 △창업 인큐베이팅 스쿨로 구성돼 있다.   \\'포스코 취업아카데미\\'는 취업 경쟁력 및 실무역량 강화를 위해 참여형 실무과제를 수행하는 교육 프로그램이다. 포스코는 코로나19 사태로 순연됐던 이 프로그램에 최근 화상회의를 통한 언택트 교육방식을 도입했다.    3주간의 교육기간 동안 1주차에는 온라인으로 기업·직무분석, 자기소개서 코칭, 모의면접 등을 진행하며, 2주차부터는 합숙 교육을 통해 창의적 문제해결 방법론을 바탕으로한 조별 과제수행을 진행한다.   현재까지 총 1289명이 포스코 취업아카데미를 수료했으며, 이 중 38%인 462명이 취업에 성공했다. 지난해 포스코에 취업한 안동환(27) 교육생은 \"취업을 준비하는 과정에서 많은 도움을 받았고 기업의 업무 및 문제해결 방법을 이해할 수 있었다\"라고 말했다.   현재 포스코 취업아카데미는 포항지역에서 진행되는 11월 교육 지원자를 모집하고 있다. 모집기간은 10월 15일부터 10월 21일까지이고, 홈페이지를 통해 신청할 수 있다. 포스코는 교육생 전원에게 숙식을 무료로 제공하며 연수수당 50만원과 기념품을 지급한다. 교육 성적 우수자는 2개월간 포스코인재창조원에서 인턴으로 근무할 수 있다.   \\'청년 AI·Big Data 아카데미\\'는 국내외 기업들의 채용선호 대상인 인공지능(AI)과 빅데이터(Big Data) 전문가를 육성하는 인재 양성 프로그램이다. 교육생들은 9주간의 교육기간 동안 파이썬 프로그래밍 기초, 인공지능, 빅데이터분석 이론 및 실습과 실무 과제수행을 통해 차별화된 취업 경쟁력을 확보할 수 있다.   이 프로그램을 수료한 283명 중 43%인 122명이 AI 분야에 취업했다. 현재 코로나19 감염 예방을 위해 합숙 교육 대신 온라인 수업을 진행하고 있으며 교육생들의 평가도 긍정적이다. 포스코는 인재창조원의 인프라를 활용해 높은 수준의 강의 콘텐츠를 교육생들에게 제공할뿐만 아니라 강사와 학생간 1:1 밀착코칭도 진행하고 있다.   \\'창업 인큐베이팅 스쿨\\'은 예비 창업자들을 대상으로 사업 아이디어 구체화, 사업계획서 작성 등 실무 교육부터 법무·재무·노무 등 경영 지식까지 제공하는 프로그램이다.    이 프로그램 역시 코로나19 확산 수준에 따라 교육방식을 유동적으로 진행하고 있다. 사회적 거리두기 1단계시 4주 합숙 교육, 2단계부터는 3주 온라인 교육으로 진행할 예정이다. 온라인 교육을 시행할 시에는 전문 강사의 1:1 코칭 프로그램도 별도로 수행할 계획이다.   창업 인큐베이팅 스쿨은 현재까지 134명이 수료했으며, 58%인 78명이 창업에 성공했다. 또한 포항 창조경제혁신센터에 입주한 10명은 창업을 준비하고 있다.     김용달 기자\\xa0\\xa0kimyd0308@naver.com <저작권자 © 환경일보, 무단 전재 및 재배포 금지>      190306   ', '  [환경일보] 우리 지역에서 어떤 직업훈련을 받으면 취업이 잘 될까? 고용노동부가 국민내일배움카드 취업률이 높은 상위 직종과 훈련 과정을 공개했다.   서울‧경기‧인천‧강원‧대전‧대구‧광주‧부산 8개 권역별로 취업률이 높은 상위 5개 직종과 훈련 과정을 뽑았다.    3번째 문단 좌측 @ 2020-06-08 추가        권역별로 취업률이 높은 직종을 살펴보면 ▷서울은 법률과 정보기술 직종이 ▷경기와 인천은 기계가공 직종이 ▷대전은 정보기술 직종이 높았고, ▷강원‧광주‧대구는 의료 직종이 ▷부산은 자동차 직종이 높은 것으로 나타났다.   정보‧기술 분야의 경우 대전, 서울, 광주 등 다수 지역의 상위 직종에 포함됐으며, 이는 디지털‧신기술 분야의 인력 수요 증가에 따른 것으로 보인다.   주요 훈련 대상별로 청년‧여성‧중장년이 많이 찾는 훈련 직종과 취업률이 높은 훈련 직종을 살펴보면, 청년들이 가장 많이 찾은 훈련 직종은 커피바리스타 과정 등 식음료 조리 직종과 ‘빅데이터 활용 자바 파이썬 개발자 양성’ 등 정보기술 직종, 취업률이 가장 높은 직종은 법률사무취업과정 등 법률 직종(83.4%), 컴퓨터응용기계 과정 등 기계가공직종(77.4%)인 것으로 나타났다.   여성의 경우 가장 많이 찾은 훈련 직종은 요양보호사 자격 취득과정 등 보건 직종, 취업률이 가장 높은 직종은 법률사무취업과정 등 법률 직종(80.7%)인 것으로 나타났다.   중장년의 경우 가장 많이 찾은 훈련 직종은 요양보호사 자격 취득 등 보건 직종, 취업률이 가장 높은 직종은 기계‧설계 제작 실무 등 기계‧가공 직종(75.7%)인 것으로 나타났다.               <자료제공=고용노동부>         국민내일배움카드는 다양한 국민들의 수요를 반영해 기간산업‧뿌리직종, 서비스 직종 등 다양한 분야의 훈련 과정을 운영 중이며 앞으로는, 4차산업혁명 등 디지털 전환 시대에 현장에서 원하는 핵심 인재 양성을 위한 훈련 과정을 대폭 확충할 예정이다.   향후 5년간 18만명의 ’디지털 핵심 실무인재 양성‘을 목표로 한국판뉴딜의 대표사업으로서 K-Digital Training을 추진하고 있다.   이 과정에는 ‘멋쟁이사자처럼’, ‘엘리스’ 등 청년들이 수업받기 원하는 민간 혁신기관 등이 훈련기관으로 참여하고, ‘네이버’, ‘솔트룩스’, ‘하나금융TI’ 등 청년들이 취업하고 싶은 디지털 선도기업이 훈련 과정 설계‧운영을 직접 지원한다.   훈련방식은 기존 강의식 보다는 프로젝트 기반의 실전 과제 수행, 자기주도적 학습방식 등을 도입함으로써, 비전공자도 디지털 분야의 핵심실무인재로 거듭나도록 기회를 제공해 나갈 계획이다.   국민내일배움카드의 다양한 훈련 과정들은 직업훈련포탈(HRD-Net)을 통해 검색할 수 있고, 계좌 한도 내에서 수강할 수 있다.   국민내일배움카드는 실업자‧재직자 구분 없이 신청할 수 있고, 온라인 HRD-Net 또는 고용센터 방문을 통해 발급받을 수 있으며, 5년간 300만원에서 500만원까지 이용할 수 있다.   임서정 차관은 “코로나19로 고용 여건이 어렵지만, 직업훈련은 위기의 상황에서도 일자리를 찾기 위한 원동력이 된다”면서 “보다 많은 분들이 내일배움카드의 혜택을 받을 수 있도록, 자부담률 완화 등 꾸준한 제도개선 정책을 펼치고 있다”고 말했다.   또한 “향후, 국민내일배움카드가 디지털 신기술 분야 등 신산업과 주력산업 전반에 걸쳐 핵심적인 인재 양성을 위한 ‘국가대표 직업훈련 플랫폼’이 될 수 있도록 더욱 노력하겠다”라고 밝혔다. 한이삭 기자\\xa0\\xa0press@hkbs.co.kr <저작권자 © 환경일보, 무단 전재 및 재배포 금지>      190306   ']\n"
     ]
    }
   ],
   "source": [
    "print(naver_news_content[0])"
   ]
  },
  {
   "cell_type": "code",
   "execution_count": 80,
   "metadata": {},
   "outputs": [
    {
     "name": "stdout",
     "output_type": "stream",
     "text": [
      "2\n",
      "2\n"
     ]
    }
   ],
   "source": [
    "print(len(naver_news_title[0]))\n",
    "print(len(naver_news_content[0]))"
   ]
  },
  {
   "cell_type": "markdown",
   "metadata": {},
   "source": [
    "### 크롤링 결과 저장하기."
   ]
  },
  {
   "cell_type": "code",
   "execution_count": 83,
   "metadata": {},
   "outputs": [
    {
     "ename": "ValueError",
     "evalue": "binary mode doesn't take an encoding argument",
     "output_type": "error",
     "traceback": [
      "\u001b[1;31m---------------------------------------------------------------------------\u001b[0m",
      "\u001b[1;31mValueError\u001b[0m                                Traceback (most recent call last)",
      "\u001b[1;32m<ipython-input-83-04d9d757a3d4>\u001b[0m in \u001b[0;36m<module>\u001b[1;34m\u001b[0m\n\u001b[0;32m      1\u001b[0m \u001b[1;31m# -*- coding:utf-8 -*-\u001b[0m\u001b[1;33m\u001b[0m\u001b[1;33m\u001b[0m\u001b[1;33m\u001b[0m\u001b[0m\n\u001b[0;32m      2\u001b[0m \u001b[1;33m\u001b[0m\u001b[0m\n\u001b[1;32m----> 3\u001b[1;33m \u001b[1;32mwith\u001b[0m \u001b[0mopen\u001b[0m\u001b[1;33m(\u001b[0m\u001b[1;34m\"naver_news_title.pk\"\u001b[0m\u001b[1;33m,\u001b[0m \u001b[1;34m\"wb\"\u001b[0m\u001b[1;33m,\u001b[0m \u001b[0mencoding\u001b[0m\u001b[1;33m=\u001b[0m\u001b[1;34m'utf-8'\u001b[0m\u001b[1;33m)\u001b[0m \u001b[1;32mas\u001b[0m \u001b[0mf\u001b[0m\u001b[1;33m:\u001b[0m\u001b[1;33m\u001b[0m\u001b[1;33m\u001b[0m\u001b[0m\n\u001b[0m\u001b[0;32m      4\u001b[0m     \u001b[0mpickle\u001b[0m\u001b[1;33m.\u001b[0m\u001b[0mdump\u001b[0m\u001b[1;33m(\u001b[0m\u001b[0mnaver_news_title\u001b[0m\u001b[1;33m,\u001b[0m \u001b[0mf\u001b[0m\u001b[1;33m)\u001b[0m\u001b[1;33m\u001b[0m\u001b[1;33m\u001b[0m\u001b[0m\n\u001b[0;32m      5\u001b[0m \u001b[1;33m\u001b[0m\u001b[0m\n",
      "\u001b[1;31mValueError\u001b[0m: binary mode doesn't take an encoding argument"
     ]
    }
   ],
   "source": [
    "# -*- coding:utf-8 -*-\n",
    "\n",
    "with open(\"./data/naver_news_title.pk\", \"wb\", encoding='utf-8') as f:\n",
    "    pickle.dump(naver_news_title, f)\n",
    "    \n",
    "with open(\"./data/naver_news_content.pk\", \"wb\", encoding='utf-8') as f:\n",
    "    pickle.dump(naver_news_content, f)"
   ]
  },
  {
   "cell_type": "code",
   "execution_count": null,
   "metadata": {},
   "outputs": [],
   "source": []
  }
 ],
 "metadata": {
  "kernelspec": {
   "display_name": "Python 3",
   "language": "python",
   "name": "python3"
  },
  "language_info": {
   "codemirror_mode": {
    "name": "ipython",
    "version": 3
   },
   "file_extension": ".py",
   "mimetype": "text/x-python",
   "name": "python",
   "nbconvert_exporter": "python",
   "pygments_lexer": "ipython3",
   "version": "3.6.10"
  }
 },
 "nbformat": 4,
 "nbformat_minor": 2
}
