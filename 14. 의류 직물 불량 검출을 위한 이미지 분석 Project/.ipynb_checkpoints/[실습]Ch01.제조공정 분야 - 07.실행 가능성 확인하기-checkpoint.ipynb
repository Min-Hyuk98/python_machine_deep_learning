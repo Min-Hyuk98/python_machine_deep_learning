{
 "cells": [
  {
   "cell_type": "markdown",
   "metadata": {},
   "source": [
    "# 실행 가능성 확인하기"
   ]
  },
  {
   "cell_type": "code",
   "execution_count": 1,
   "metadata": {},
   "outputs": [],
   "source": [
    "import glob\n",
    "import os\n",
    "import tensorflow as tf\n",
    "import cv2\n",
    "from tensorflow.keras.layers import Conv2D, MaxPool2D, Flatten, Dense\n",
    "from tensorflow.keras.models import Sequential"
   ]
  },
  {
   "cell_type": "markdown",
   "metadata": {},
   "source": [
    "## 하이퍼파라미터"
   ]
  },
  {
   "cell_type": "code",
   "execution_count": 2,
   "metadata": {},
   "outputs": [],
   "source": [
    "EPOCHS = 50\n",
    "\n",
    "DATASET_PATH = 'dataset/2/'\n",
    "DATASET_OK_PATTERN = DATASET_PATH + 'OK/*.png'\n",
    "DATASET_FAIL_PATTERN = DATASET_PATH + 'FAIL/*.png'\n",
    "\n",
    "RESULT_SAVE_PATH = 'results/'"
   ]
  },
  {
   "cell_type": "markdown",
   "metadata": {},
   "source": [
    "## 단순한 모델 설정"
   ]
  },
  {
   "cell_type": "code",
   "execution_count": 12,
   "metadata": {},
   "outputs": [],
   "source": [
    "def Model():\n",
    "    return Sequential([Conv2D(32, (3,3), activation='relu'),\n",
    "                       MaxPool2D(),\n",
    "                       Conv2D(64, (3,3), activation='relu'),\n",
    "                       MaxPool2D(),\n",
    "                       Conv2D(128, (3,3), activation='relu'),\n",
    "                       MaxPool2D(),\n",
    "                       Conv2D(256, (3,3), activation='relu'),\n",
    "                       MaxPool2D(),\n",
    "                       Flatten(),\n",
    "                       Dense(1, activation='sigmoid')\n",
    "                      ])"
   ]
  },
  {
   "cell_type": "markdown",
   "metadata": {},
   "source": [
    "## 데이터셋 불러오기"
   ]
  },
  {
   "cell_type": "code",
   "execution_count": 4,
   "metadata": {},
   "outputs": [],
   "source": [
    "def preprocess(file_name):\n",
    "    img = tf.io.read_file(file_name)\n",
    "    img = tf.io.decode_png(img)\n",
    "    return tf.image.convert_image_dtype(img, tf.float32)"
   ]
  },
  {
   "cell_type": "code",
   "execution_count": 5,
   "metadata": {},
   "outputs": [
    {
     "name": "stdout",
     "output_type": "stream",
     "text": [
      "['dataset/2/OK\\\\0000.png', 'dataset/2/OK\\\\0001.png', 'dataset/2/OK\\\\0002.png', 'dataset/2/OK\\\\0003.png', 'dataset/2/OK\\\\0004.png']\n",
      "['dataset/2/FAIL\\\\0000.png', 'dataset/2/FAIL\\\\0001.png', 'dataset/2/FAIL\\\\0002.png', 'dataset/2/FAIL\\\\0003.png', 'dataset/2/FAIL\\\\0004.png']\n"
     ]
    }
   ],
   "source": [
    "# OK dataset\n",
    "ok_list = glob.glob(DATASET_OK_PATTERN)\n",
    "print(ok_list[:5])\n",
    "\n",
    "ds_ok = tf.data.Dataset.list_files(ok_list)\n",
    "ds_ok_label = tf.data.Dataset.from_tensor_slices([0] * len(ok_list)) ##  [0 for _ in len(ok_list)] 와 동일\n",
    "\n",
    "ds_ok = ds_ok.map(preprocess)\n",
    "ds_ok = tf.data.Dataset.zip((ds_ok, ds_ok_label))\n",
    "\n",
    "# FAIL dataset\n",
    "fail_list = glob.glob(DATASET_FAIL_PATTERN)\n",
    "print(fail_list[:5])\n",
    "\n",
    "ds_fail = tf.data.Dataset.list_files(fail_list)\n",
    "ds_fail_label = tf.data.Dataset.from_tensor_slices([1] * len(fail_list)) ##  [0 for _ in len(fail_list)] 와 동일\n",
    "\n",
    "ds_fail = ds_fail.map(preprocess)\n",
    "ds_fail = tf.data.Dataset.zip((ds_fail, ds_fail_label))"
   ]
  },
  {
   "cell_type": "code",
   "execution_count": 6,
   "metadata": {},
   "outputs": [],
   "source": [
    "ds = tf.data.Dataset.concatenate(ds_ok, ds_fail)"
   ]
  },
  {
   "cell_type": "markdown",
   "metadata": {},
   "source": [
    "## Train, Valid 데이터셋 나누기"
   ]
  },
  {
   "cell_type": "code",
   "execution_count": 9,
   "metadata": {
    "scrolled": false
   },
   "outputs": [],
   "source": [
    "ds_size = len(ok_list) + len(fail_list)\n",
    "train_size = int(ds_size * 0.7)\n",
    "\n",
    "ds = ds.shuffle(ds_size) # batch크기 = ds_size로 지정\n",
    "ds_train = ds.take(train_size).shuffle(1024, # 버퍼크기 1024개\n",
    "                                    reshuffle_each_iteration = True).batch(32)\n",
    "ds_valid = ds.skip(train_size).batch(32) "
   ]
  },
  {
   "cell_type": "markdown",
   "metadata": {},
   "source": [
    "## 모델 생성 및 학습"
   ]
  },
  {
   "cell_type": "code",
   "execution_count": 13,
   "metadata": {
    "scrolled": true
   },
   "outputs": [],
   "source": [
    "model = Model()\n",
    "model.compile(optimizer='adam',\n",
    "              loss='binary_crossentropy',\n",
    "              metrics=['accuracy'])"
   ]
  },
  {
   "cell_type": "code",
   "execution_count": null,
   "metadata": {
    "scrolled": true
   },
   "outputs": [
    {
     "name": "stdout",
     "output_type": "stream",
     "text": [
      "Train for 21 steps, validate for 9 steps\n",
      "Epoch 1/50\n",
      "21/21 [==============================] - 155s 7s/step - loss: 0.4772 - accuracy: 0.8669 - val_loss: 0.5063 - val_accuracy: 0.8768\n",
      "Epoch 2/50\n",
      "21/21 [==============================] - 163s 8s/step - loss: 0.3777 - accuracy: 0.8775 - val_loss: 0.2734 - val_accuracy: 0.9225\n",
      "Epoch 3/50\n",
      "21/21 [==============================] - 151s 7s/step - loss: 0.3774 - accuracy: 0.8714 - val_loss: 0.3313 - val_accuracy: 0.8803\n",
      "Epoch 4/50\n",
      "21/21 [==============================] - 138s 7s/step - loss: 0.3620 - accuracy: 0.8608 - val_loss: 0.3798 - val_accuracy: 0.8556\n",
      "Epoch 5/50\n",
      "21/21 [==============================] - 140s 7s/step - loss: 0.3498 - accuracy: 0.8805 - val_loss: 0.3514 - val_accuracy: 0.8768\n",
      "Epoch 6/50\n",
      "21/21 [==============================] - 129s 6s/step - loss: 0.3339 - accuracy: 0.8896 - val_loss: 0.3198 - val_accuracy: 0.8873\n",
      "Epoch 7/50\n",
      "21/21 [==============================] - 138s 7s/step - loss: 0.3565 - accuracy: 0.8623 - val_loss: 0.3981 - val_accuracy: 0.8239\n",
      "Epoch 8/50\n",
      " 3/21 [===>..........................] - ETA: 2:43 - loss: 0.2480 - accuracy: 0.9167"
     ]
    }
   ],
   "source": [
    "model.fit(ds_train, validation_data=ds_valid, epochs=EPOCHS)"
   ]
  },
  {
   "cell_type": "markdown",
   "metadata": {},
   "source": [
    "## 결과를 이미지로 저장"
   ]
  },
  {
   "cell_type": "code",
   "execution_count": null,
   "metadata": {},
   "outputs": [],
   "source": [
    "def mkdir(path):\n",
    "    if os.path.exists(path) is FALSE:\n",
    "        os.makedir(path)\n",
    "mkdir(RESULT_SAVE_PATH + '/TP')\n",
    "mkdir(RESULT_SAVE_PATH + '/TN')\n",
    "mkdir(RESULT_SAVE_PATH + '/FP')\n",
    "mkdir(RESULT_SAVE_PATH + '/FN')\n",
    "\n",
    "index = 0\n",
    "for imgs, labels in ds_valid:\n",
    "    preds = model.predict(imgs)\n",
    "    for idx in range(imgs.shape[0]):\n",
    "        gt = labels[idx].numpy()\n",
    "        y = preds[idx]\n",
    "        elif gt == 1 and y > 0.5:\n",
    "            path = RESULT_SAVE_PATH + '/TP'\n",
    "        elif gt == 1 and y <= 0.5:\n",
    "            path = RESULT_SAVE_PATH + '/TN'\n",
    "        elif gt == 0 and y > 0.5:\n",
    "            path = RESULT_SAVE_PATH + '/FP'\n",
    "        else:\n",
    "            path = RESULT_SAVE_PATH + '/TP'    \n",
    "        cv2.imwrite(path + '/%.f_%04d.png' %(y, index), imgs[idx].numpy() * 255)\n",
    "        index += 1"
   ]
  }
 ],
 "metadata": {
  "kernelspec": {
   "display_name": "Python 3",
   "language": "python",
   "name": "python3"
  },
  "language_info": {
   "codemirror_mode": {
    "name": "ipython",
    "version": 3
   },
   "file_extension": ".py",
   "mimetype": "text/x-python",
   "name": "python",
   "nbconvert_exporter": "python",
   "pygments_lexer": "ipython3",
   "version": "3.7.7"
  }
 },
 "nbformat": 4,
 "nbformat_minor": 2
}
