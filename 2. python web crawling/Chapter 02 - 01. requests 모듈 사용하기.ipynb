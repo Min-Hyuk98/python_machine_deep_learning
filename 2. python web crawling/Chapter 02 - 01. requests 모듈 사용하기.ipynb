{
 "cells": [
  {
   "cell_type": "markdown",
   "metadata": {},
   "source": [
    "### 학습목표 \n",
    " 1. requests 모듈 사용하여 http request/response 확인하기"
   ]
  },
  {
   "cell_type": "markdown",
   "metadata": {},
   "source": [
    "#### requests 모듈\n",
    "1. http request/response를 위한 모듈\n",
    "2. HTTP method를 메소드 명으로 사용하여 request 요청 예) get, post"
   ]
  },
  {
   "cell_type": "code",
   "execution_count": 1,
   "metadata": {},
   "outputs": [],
   "source": [
    "import requests\n"
   ]
  },
  {
   "cell_type": "markdown",
   "metadata": {},
   "source": [
    "#### get 요청하기\n",
    "1. http get 요청하기\n",
    "2. query parameter 이용하여 데이터 전달하기"
   ]
  },
  {
   "cell_type": "code",
   "execution_count": 4,
   "metadata": {},
   "outputs": [
    {
     "data": {
      "text/plain": [
       "<Response [200]>"
      ]
     },
     "execution_count": 4,
     "metadata": {},
     "output_type": "execute_result"
    }
   ],
   "source": [
    "url = 'https://news.v.daum.net/v/20190728165812603'\n",
    "\n",
    "requests.get(url)\n"
   ]
  },
  {
   "cell_type": "markdown",
   "metadata": {},
   "source": [
    "#### post 요청하기\n",
    "1. http post 요청하기\n",
    "2. post data 이용하여 데이터 전달하기"
   ]
  },
  {
   "cell_type": "code",
   "execution_count": 10,
   "metadata": {},
   "outputs": [
    {
     "name": "stdout",
     "output_type": "stream",
     "text": [
      "<Response [200]>\n"
     ]
    }
   ],
   "source": [
    "url = 'https://nid.naver.com/nidlogin.login?mode=form&url=https%3A%2F%2Fwww.naver.com'\n",
    "\n",
    "data = {\n",
    "    'id': 'my_id',\n",
    "    'pw': 'my_pw'\n",
    "}\n",
    "\n",
    "resp = requests.post(url, data)\n",
    "print(resp)"
   ]
  },
  {
   "cell_type": "markdown",
   "metadata": {},
   "source": [
    "#### HTTP header 데이터 이용하기\n",
    "1. header 데이터 구성하기\n",
    "2. header 데이터 전달하기"
   ]
  },
  {
   "cell_type": "code",
   "execution_count": 15,
   "metadata": {},
   "outputs": [
    {
     "name": "stdout",
     "output_type": "stream",
     "text": [
      "<Response [200]>\n"
     ]
    }
   ],
   "source": [
    "url = 'https://naver.com'\n",
    "\n",
    "## 헤더 정보 넣어야 할 때 사용\n",
    "headers = {\n",
    "    'content-type': 'text/html; charset=UTF-8',\n",
    "    'content-encoding': 'gzip'\n",
    "}\n",
    "\n",
    "resp = requests.get(url, headers=headers)\n",
    "print(resp)"
   ]
  },
  {
   "cell_type": "markdown",
   "metadata": {},
   "source": [
    "#### HTTP response 처리하기\n",
    "1. response 객체의 이해\n",
    "2. status_code 확인하기\n",
    "3. text 속성 확인하기"
   ]
  },
  {
   "cell_type": "code",
   "execution_count": 17,
   "metadata": {},
   "outputs": [
    {
     "name": "stdout",
     "output_type": "stream",
     "text": [
      "OK\n"
     ]
    }
   ],
   "source": [
    "url = 'https://naver.com'\n",
    "\n",
    "resp = requests.get(url)\n",
    "\n",
    "if resp.status_code == 200:\n",
    "    print('OK')\n",
    "else:\n",
    "    print('error')"
   ]
  }
 ],
 "metadata": {
  "kernelspec": {
   "display_name": "Python 3",
   "language": "python",
   "name": "python3"
  },
  "language_info": {
   "codemirror_mode": {
    "name": "ipython",
    "version": 3
   },
   "file_extension": ".py",
   "mimetype": "text/x-python",
   "name": "python",
   "nbconvert_exporter": "python",
   "pygments_lexer": "ipython3",
   "version": "3.8.3"
  }
 },
 "nbformat": 4,
 "nbformat_minor": 2
}
