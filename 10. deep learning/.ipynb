{
 "cells": [
  {
   "cell_type": "markdown",
   "metadata": {},
   "source": [
    "## 수치 미분을 이용한 심층 신경망 학습"
   ]
  },
  {
   "cell_type": "markdown",
   "metadata": {},
   "source": [
    "## Import modules"
   ]
  },
  {
   "cell_type": "code",
   "execution_count": 1,
   "metadata": {},
   "outputs": [],
   "source": [
    "import time\n",
    "import numpy as np"
   ]
  },
  {
   "cell_type": "markdown",
   "metadata": {},
   "source": [
    "## 유틸리티 함수"
   ]
  },
  {
   "cell_type": "code",
   "execution_count": 2,
   "metadata": {},
   "outputs": [],
   "source": [
    "epsilon = 0.0001\n",
    "\n",
    "def _t(x):\n",
    "    return np.transpose(x)\n",
    "\n",
    "def _m(A, B):\n",
    "    return np.matmul(A, B)\n",
    "\n",
    "def sigmoid(x):\n",
    "    return 1 / (1 + np.exp(-x))\n",
    "\n",
    "def mean_squared_error(h, y):\n",
    "    return 1 / 2 * np.mean(np.square(h - y))"
   ]
  },
  {
   "cell_type": "markdown",
   "metadata": {},
   "source": [
    "## Dense Layer 구현"
   ]
  },
  {
   "cell_type": "code",
   "execution_count": 3,
   "metadata": {},
   "outputs": [],
   "source": [
    "class Dense:\n",
    "    def __init__(self, W, b, a):\n",
    "        self.W = W\n",
    "        self.b = b\n",
    "        self.a = a\n",
    "        \n",
    "        self.dW = np.zeros_like(self.W)\n",
    "        self.db = np.zeros_like(self.b)\n",
    "\n",
    "    def __call__(self, x):\n",
    "        return self.a(_m(_t(self.W), x) + self.b)   # matmul((ixo)T,ix1) + ox1"
   ]
  },
  {
   "cell_type": "markdown",
   "metadata": {},
   "source": [
    "## 심층신경망 구현"
   ]
  },
  {
   "cell_type": "code",
   "execution_count": 4,
   "metadata": {},
   "outputs": [],
   "source": [
    "class DNN:\n",
    "    def __init__(self, hidden_depth, num_neuron, num_input, num_output, activation=sigmoid):\n",
    "        def init_var(i, o):\n",
    "            return np.random.normal(0.0, 0.01, (i, o)), np.zeros((o,))\n",
    "\n",
    "        self.sequence = list()\n",
    "        # First hidden layer\n",
    "        W, b = init_var(num_input, num_neuron)\n",
    "        self.sequence.append(Dense(W, b, activation))\n",
    "        \n",
    "        # Hidden layers\n",
    "        for _ in range(hidden_depth - 1):\n",
    "            W, b = init_var(num_neuron, num_neuron)\n",
    "            self.sequence.append(Dense(W, b, activation))\n",
    "\n",
    "        # Output layer\n",
    "        W, b = init_var(num_neuron, num_output)\n",
    "        self.sequence.append(Dense(W, b, activation))\n",
    "\n",
    "    def __call__(self, x):\n",
    "        for layer in self.sequence:\n",
    "            x = layer(x)\n",
    "        return x\n",
    "\n",
    "    def calc_gradient(self, x, y, loss_func):\n",
    "        def get_new_sequence(layer_index, new_layer):\n",
    "            new_sequence = list()\n",
    "            for i, layer in enumerate(self.sequence):\n",
    "                if i == layer_index:\n",
    "                    new_sequence.append(new_layer)\n",
    "                else:\n",
    "                    new_sequence.append(layer)\n",
    "            return new_sequence\n",
    "        \n",
    "        def eval_sequence(x, sequence):\n",
    "            for layer in sequence:\n",
    "                x = layer(x)\n",
    "            return x\n",
    "        \n",
    "        loss = loss_func(self(x), y)\n",
    "        \n",
    "        for layer_id, layer in enumerate(self.sequence):\n",
    "            for w_i, w in enumerate(layer.W):\n",
    "                for w_j, ww in enumerate(w):\n",
    "                    W = np.copy(layer.W)\n",
    "                    W[w_i][w_j] = ww + epsilon\n",
    "                    \n",
    "                    new_layer = Dense(W, layer.b, layer.a)\n",
    "                    new_seq = get_new_sequence(layer_id, new_layer)\n",
    "                    h = eval_sequence(x, new_seq)\n",
    "                    \n",
    "                    num_grad = (loss_func(h, y) - loss) / epsilon # (f(x+eps) - f(x)) / eps\n",
    "                    layer.dW[w_i][w_j] = num_grad\n",
    "                    \n",
    "            for b_i, bb in enumerate(layer.b):\n",
    "                b = np.copy(layer.b)\n",
    "                b[b_i] = bb + epsilon\n",
    "\n",
    "                new_layer = Dense(layer.W, b, layer.a)\n",
    "                new_seq = get_new_sequence(layer_id, new_layer)\n",
    "                h = eval_sequence(x, new_seq)\n",
    "\n",
    "                num_grad = (loss_func(h, y) - loss) / epsilon # (f(x+eps) - f(x)) / eps\n",
    "                layer.db[b_i] = num_grad\n",
    "        \n",
    "        return loss\n"
   ]
  },
  {
   "cell_type": "markdown",
   "metadata": {},
   "source": [
    "## 경사하강 학습법"
   ]
  },
  {
   "cell_type": "code",
   "execution_count": 5,
   "metadata": {},
   "outputs": [],
   "source": [
    "def gradient_descent(network, x, y, loss_obj, alpha=0.01):\n",
    "    loss = network.calc_gradient(x, y, loss_obj)\n",
    "    for layer in network.sequence:\n",
    "        layer.W += -alpha * layer.dW\n",
    "        layer.b += -alpha * layer.db\n",
    "    return loss"
   ]
  },
  {
   "cell_type": "markdown",
   "metadata": {},
   "source": [
    "## 동작 테스트"
   ]
  },
  {
   "cell_type": "code",
   "execution_count": 6,
   "metadata": {
    "scrolled": true
   },
   "outputs": [
    {
     "name": "stdout",
     "output_type": "stream",
     "text": [
      "Epoch 0: Test loss 0.7950564273693886\n",
      "Epoch 1: Test loss 0.7906235740065878\n",
      "Epoch 2: Test loss 0.7862178364937982\n",
      "Epoch 3: Test loss 0.7818406862390781\n",
      "Epoch 4: Test loss 0.7774935375707165\n",
      "Epoch 5: Test loss 0.7731777458580524\n",
      "Epoch 6: Test loss 0.768894605896583\n",
      "Epoch 7: Test loss 0.7646453505574168\n",
      "Epoch 8: Test loss 0.760431149698229\n",
      "Epoch 9: Test loss 0.7562531093327372\n",
      "Epoch 10: Test loss 0.7521122710516456\n",
      "Epoch 11: Test loss 0.7480096116887166\n",
      "Epoch 12: Test loss 0.743946043223412\n",
      "Epoch 13: Test loss 0.7399224129093095\n",
      "Epoch 14: Test loss 0.7359395036184438\n",
      "Epoch 15: Test loss 0.7319980343888833\n",
      "Epoch 16: Test loss 0.7280986611633976\n",
      "Epoch 17: Test loss 0.7242419777058133\n",
      "Epoch 18: Test loss 0.7204285166813609\n",
      "Epoch 19: Test loss 0.7166587508877702\n",
      "Epoch 20: Test loss 0.7129330946217496\n",
      "Epoch 21: Test loss 0.7092519051682006\n",
      "Epoch 22: Test loss 0.705615484397386\n",
      "Epoch 23: Test loss 0.7020240804567772\n",
      "Epoch 24: Test loss 0.6984778895436672\n",
      "Epoch 25: Test loss 0.694977057746205\n",
      "Epoch 26: Test loss 0.6915216829401193\n",
      "Epoch 27: Test loss 0.6881118167289142\n",
      "Epoch 28: Test loss 0.6847474664165362\n",
      "Epoch 29: Test loss 0.6814285970017258\n",
      "Epoch 30: Test loss 0.6781551331842021\n",
      "Epoch 31: Test loss 0.6749269613726683\n",
      "Epoch 32: Test loss 0.6717439316871289\n",
      "Epoch 33: Test loss 0.6686058599465091\n",
      "Epoch 34: Test loss 0.6655125296351265\n",
      "Epoch 35: Test loss 0.6624636938410032\n",
      "Epoch 36: Test loss 0.6594590771606637\n",
      "Epoch 37: Test loss 0.6564983775647882\n",
      "Epoch 38: Test loss 0.6535812682204438\n",
      "Epoch 39: Test loss 0.6507073992660278\n",
      "Epoch 40: Test loss 0.6478763995354574\n",
      "Epoch 41: Test loss 0.6450878782286635\n",
      "Epoch 42: Test loss 0.6423414265267202\n",
      "Epoch 43: Test loss 0.6396366191488336\n",
      "Epoch 44: Test loss 0.6369730158509723\n",
      "Epoch 45: Test loss 0.6343501628642775\n",
      "Epoch 46: Test loss 0.6317675942730796\n",
      "Epoch 47: Test loss 0.629224833332462\n",
      "Epoch 48: Test loss 0.6267213937251739\n",
      "Epoch 49: Test loss 0.6242567807583174\n",
      "Epoch 50: Test loss 0.6218304925005829\n",
      "Epoch 51: Test loss 0.6194420208607997\n",
      "Epoch 52: Test loss 0.6170908526087495\n",
      "Epoch 53: Test loss 0.6147764703394428\n",
      "Epoch 54: Test loss 0.6124983533825203\n",
      "Epoch 55: Test loss 0.6102559786577927\n",
      "Epoch 56: Test loss 0.6080488214786391\n",
      "Epoch 57: Test loss 0.6058763563051631\n",
      "Epoch 58: Test loss 0.6037380574484417\n",
      "Epoch 59: Test loss 0.6016333997278167\n",
      "Epoch 60: Test loss 0.5995618590829837\n",
      "Epoch 61: Test loss 0.5975229131427524\n",
      "Epoch 62: Test loss 0.5955160417521149\n",
      "Epoch 63: Test loss 0.5935407274595685\n",
      "Epoch 64: Test loss 0.5915964559665083\n",
      "Epoch 65: Test loss 0.589682716540425\n",
      "Epoch 66: Test loss 0.5877990023936217\n",
      "Epoch 67: Test loss 0.5859448110292772\n",
      "Epoch 68: Test loss 0.5841196445564202\n",
      "Epoch 69: Test loss 0.5823230099756036\n",
      "Epoch 70: Test loss 0.5805544194366907\n",
      "Epoch 71: Test loss 0.5788133904705646\n",
      "Epoch 72: Test loss 0.577099446195873\n",
      "Epoch 73: Test loss 0.5754121155027487\n",
      "Epoch 74: Test loss 0.5737509332144756\n",
      "Epoch 75: Test loss 0.5721154402287052\n",
      "Epoch 76: Test loss 0.5705051836392654\n",
      "Epoch 77: Test loss 0.568919716840175\n",
      "Epoch 78: Test loss 0.5673585996126538\n",
      "Epoch 79: Test loss 0.5658213981964052\n",
      "Epoch 80: Test loss 0.564307685346374\n",
      "Epoch 81: Test loss 0.5628170403757837\n",
      "Epoch 82: Test loss 0.5613490491865846\n",
      "Epoch 83: Test loss 0.5599033042881546\n",
      "Epoch 84: Test loss 0.5584794048051166\n",
      "Epoch 85: Test loss 0.5570769564751692\n",
      "Epoch 86: Test loss 0.5556955716376937\n",
      "Epoch 87: Test loss 0.5543348692138288\n",
      "Epoch 88: Test loss 0.5529944746787367\n",
      "Epoch 89: Test loss 0.5516740200267499\n",
      "Epoch 90: Test loss 0.5503731437299928\n",
      "Epoch 91: Test loss 0.5490914906910292\n",
      "Epoch 92: Test loss 0.5478287121901506\n",
      "Epoch 93: Test loss 0.5465844658277469\n",
      "Epoch 94: Test loss 0.5453584154623188\n",
      "Epoch 95: Test loss 0.5441502311444668\n",
      "Epoch 96: Test loss 0.5429595890474469\n",
      "Epoch 97: Test loss 0.541786171394481\n",
      "Epoch 98: Test loss 0.5406296663834342\n",
      "Epoch 99: Test loss 0.5394897681088804\n",
      "47.300122022628784 seconds elapsed.\n"
     ]
    }
   ],
   "source": [
    "x = np.random.normal(0.0, 1.0, (10,))\n",
    "y = np.random.normal(0.0, 1.0, (2,))\n",
    "\n",
    "dnn = DNN(hidden_depth=5, num_neuron=32, num_input=10, num_output=2, activation=sigmoid)\n",
    "\n",
    "t = time.time()\n",
    "for epoch in range(100):\n",
    "    loss = gradient_descent(dnn, x, y, mean_squared_error, 0.01)\n",
    "    print('Epoch {}: Test loss {}'.format(epoch, loss))\n",
    "print('{} seconds elapsed.'.format(time.time() - t))"
   ]
  },
  {
   "cell_type": "code",
   "execution_count": null,
   "metadata": {},
   "outputs": [],
   "source": []
  }
 ],
 "metadata": {
  "kernelspec": {
   "display_name": "Python 3",
   "language": "python",
   "name": "python3"
  },
  "language_info": {
   "codemirror_mode": {
    "name": "ipython",
    "version": 3
   },
   "file_extension": ".py",
   "mimetype": "text/x-python",
   "name": "python",
   "nbconvert_exporter": "python",
   "pygments_lexer": "ipython3",
   "version": "3.7.1"
  }
 },
 "nbformat": 4,
 "nbformat_minor": 2
}
