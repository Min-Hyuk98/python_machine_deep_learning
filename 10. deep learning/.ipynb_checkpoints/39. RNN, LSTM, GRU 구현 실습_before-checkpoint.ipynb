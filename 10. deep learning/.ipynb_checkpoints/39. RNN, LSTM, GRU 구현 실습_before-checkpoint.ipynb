{
 "cells": [
  {
   "cell_type": "markdown",
   "metadata": {},
   "source": [
    "## 순환신경망 구현 및 학습"
   ]
  },
  {
   "cell_type": "code",
   "execution_count": 1,
   "metadata": {},
   "outputs": [],
   "source": [
    "import tensorflow as tf"
   ]
  },
  {
   "cell_type": "markdown",
   "metadata": {},
   "source": [
    "## 하이퍼 파라미터"
   ]
  },
  {
   "cell_type": "code",
   "execution_count": 2,
   "metadata": {},
   "outputs": [],
   "source": [
    "EPOCHS = 10\n",
    "NUM_WORDS = 10000"
   ]
  },
  {
   "cell_type": "markdown",
   "metadata": {},
   "source": [
    "## 모델 정의"
   ]
  },
  {
   "cell_type": "code",
   "execution_count": 3,
   "metadata": {},
   "outputs": [],
   "source": [
    "class RNNModel(tf.keras.Model):\n",
    "    def __init__(self):\n",
    "        super().__init__()\n",
    "        \n",
    "        # train_data의 각 숫자는 class일뿐 숫자로서의 의미는 없다\n",
    "        # 이것을 적용시켜주기 위해 embedding을 통해\n",
    "        # 숫자 하나를 16개로 쪼개준다 (-> 크기자체는 커짐)\n",
    "        # 1 x 32  --> 16 x 32\n",
    "        self.emb = tf.keras.layers.Embedding(NUM_WORDS, 16)\n",
    "        \n",
    "        self.rnn = tf.keras.layers.SimpleRNN(32) # 뉴런 32개\n",
    "        self.dense = tf.keras.layers.Dense(1, activation='sigmoid') #결과는 하나.. binary라서..\n",
    "        \n",
    "    def __call__(self, x, training=None, mask=None):\n",
    "        x = self.emb(x)\n",
    "        x = self.rnn(x)\n",
    "        return self.dense(x)\n",
    "\n",
    "class LSTMModel(tf.keras.Model):\n",
    "    def __init__(self):\n",
    "        super().__init__()\n",
    "        self.emb = tf.keras.layers.Embedding(NUM_WORDS, 16)     \n",
    "        self.lstm = tf.keras.layers.LSTM(32) # 뉴런 32개\n",
    "        self.dense = tf.keras.layers.Dense(1, activation='sigmoid') #결과는 하나.. binary라서..\n",
    "        \n",
    "    def __call__(self, x, training=None, mask=None):\n",
    "        x = self.emb(x)\n",
    "        x = self.lstm(x)\n",
    "        return self.dense(x)\n",
    "    \n",
    "class GRUModel(tf.keras.Model):\n",
    "    def __init__(self):\n",
    "        super().__init__()\n",
    "        self.emb = tf.keras.layers.Embedding(NUM_WORDS, 16)\n",
    "        self.gru = tf.keras.layers.GRU(32) # 뉴런 32개\n",
    "        self.dense = tf.keras.layers.Dense(1, activation='sigmoid') #결과는 하나.. binary라서..\n",
    "        \n",
    "    def __call__(self, x, training=None, mask=None):\n",
    "        x = self.emb(x)\n",
    "        x = self.gru(x)\n",
    "        return self.dense(x)\n",
    "    "
   ]
  },
  {
   "cell_type": "markdown",
   "metadata": {},
   "source": [
    "## IMDB 데이터셋 준비\n",
    "- x : 영화 평가 문장\n",
    "- y : 평가가 긍정인지 부정인지 binary데이터\n"
   ]
  },
  {
   "cell_type": "code",
   "execution_count": 4,
   "metadata": {},
   "outputs": [
    {
     "name": "stderr",
     "output_type": "stream",
     "text": [
      "C:\\Users\\Jang\\Anaconda3\\lib\\site-packages\\tensorflow_core\\python\\keras\\datasets\\imdb.py:129: VisibleDeprecationWarning: Creating an ndarray from ragged nested sequences (which is a list-or-tuple of lists-or-tuples-or ndarrays with different lengths or shapes) is deprecated. If you meant to do this, you must specify 'dtype=object' when creating the ndarray\n",
      "  x_train, y_train = np.array(xs[:idx]), np.array(labels[:idx])\n",
      "C:\\Users\\Jang\\Anaconda3\\lib\\site-packages\\tensorflow_core\\python\\keras\\datasets\\imdb.py:130: VisibleDeprecationWarning: Creating an ndarray from ragged nested sequences (which is a list-or-tuple of lists-or-tuples-or ndarrays with different lengths or shapes) is deprecated. If you meant to do this, you must specify 'dtype=object' when creating the ndarray\n",
      "  x_test, y_test = np.array(xs[idx:]), np.array(labels[idx:])\n"
     ]
    }
   ],
   "source": [
    "imdb = tf.keras.datasets.imdb\n",
    "(x_train, y_train), (x_test, y_test) = imdb.load_data(num_words=NUM_WORDS) ## num_words로 사용할 단어 수 제한함"
   ]
  },
  {
   "cell_type": "code",
   "execution_count": 5,
   "metadata": {},
   "outputs": [
    {
     "name": "stdout",
     "output_type": "stream",
     "text": [
      "(25000,) (25000,)\n",
      "218 189\n",
      "[list([1, 14, 22, 16, 43, 530, 973, 1622, 1385, 65, 458, 4468, 66, 3941, 4, 173, 36, 256, 5, 25, 100, 43, 838, 112, 50, 670, 2, 9, 35, 480, 284, 5, 150, 4, 172, 112, 167, 2, 336, 385, 39, 4, 172, 4536, 1111, 17, 546, 38, 13, 447, 4, 192, 50, 16, 6, 147, 2025, 19, 14, 22, 4, 1920, 4613, 469, 4, 22, 71, 87, 12, 16, 43, 530, 38, 76, 15, 13, 1247, 4, 22, 17, 515, 17, 12, 16, 626, 18, 2, 5, 62, 386, 12, 8, 316, 8, 106, 5, 4, 2223, 5244, 16, 480, 66, 3785, 33, 4, 130, 12, 16, 38, 619, 5, 25, 124, 51, 36, 135, 48, 25, 1415, 33, 6, 22, 12, 215, 28, 77, 52, 5, 14, 407, 16, 82, 2, 8, 4, 107, 117, 5952, 15, 256, 4, 2, 7, 3766, 5, 723, 36, 71, 43, 530, 476, 26, 400, 317, 46, 7, 4, 2, 1029, 13, 104, 88, 4, 381, 15, 297, 98, 32, 2071, 56, 26, 141, 6, 194, 7486, 18, 4, 226, 22, 21, 134, 476, 26, 480, 5, 144, 30, 5535, 18, 51, 36, 28, 224, 92, 25, 104, 4, 226, 65, 16, 38, 1334, 88, 12, 16, 283, 5, 16, 4472, 113, 103, 32, 15, 16, 5345, 19, 178, 32])\n",
      " list([1, 194, 1153, 194, 8255, 78, 228, 5, 6, 1463, 4369, 5012, 134, 26, 4, 715, 8, 118, 1634, 14, 394, 20, 13, 119, 954, 189, 102, 5, 207, 110, 3103, 21, 14, 69, 188, 8, 30, 23, 7, 4, 249, 126, 93, 4, 114, 9, 2300, 1523, 5, 647, 4, 116, 9, 35, 8163, 4, 229, 9, 340, 1322, 4, 118, 9, 4, 130, 4901, 19, 4, 1002, 5, 89, 29, 952, 46, 37, 4, 455, 9, 45, 43, 38, 1543, 1905, 398, 4, 1649, 26, 6853, 5, 163, 11, 3215, 2, 4, 1153, 9, 194, 775, 7, 8255, 2, 349, 2637, 148, 605, 2, 8003, 15, 123, 125, 68, 2, 6853, 15, 349, 165, 4362, 98, 5, 4, 228, 9, 43, 2, 1157, 15, 299, 120, 5, 120, 174, 11, 220, 175, 136, 50, 9, 4373, 228, 8255, 5, 2, 656, 245, 2350, 5, 4, 9837, 131, 152, 491, 18, 2, 32, 7464, 1212, 14, 9, 6, 371, 78, 22, 625, 64, 1382, 9, 8, 168, 145, 23, 4, 1690, 15, 16, 4, 1355, 5, 28, 6, 52, 154, 462, 33, 89, 78, 285, 16, 145, 95])\n",
      " list([1, 14, 47, 8, 30, 31, 7, 4, 249, 108, 7, 4, 5974, 54, 61, 369, 13, 71, 149, 14, 22, 112, 4, 2401, 311, 12, 16, 3711, 33, 75, 43, 1829, 296, 4, 86, 320, 35, 534, 19, 263, 4821, 1301, 4, 1873, 33, 89, 78, 12, 66, 16, 4, 360, 7, 4, 58, 316, 334, 11, 4, 1716, 43, 645, 662, 8, 257, 85, 1200, 42, 1228, 2578, 83, 68, 3912, 15, 36, 165, 1539, 278, 36, 69, 2, 780, 8, 106, 14, 6905, 1338, 18, 6, 22, 12, 215, 28, 610, 40, 6, 87, 326, 23, 2300, 21, 23, 22, 12, 272, 40, 57, 31, 11, 4, 22, 47, 6, 2307, 51, 9, 170, 23, 595, 116, 595, 1352, 13, 191, 79, 638, 89, 2, 14, 9, 8, 106, 607, 624, 35, 534, 6, 227, 7, 129, 113])]\n"
     ]
    }
   ],
   "source": [
    "print(x_train.shape, y_train.shape)\n",
    "print(len(x_train[0]), len(x_train[1])) \n",
    "print(x_train[0:3])\n",
    "\n",
    "## 각 리스트의 맨 앞에있는 1은 SOS(start of sequence)로, 문장의 시작을 알린다\n",
    "## 자주 사용하는 단어 num_words(=10000)개 만을 이용하고, 각 단어가 많이 쓰일수록 낮은 숫자로 나타낸다"
   ]
  },
  {
   "cell_type": "code",
   "execution_count": 6,
   "metadata": {},
   "outputs": [
    {
     "data": {
      "text/plain": [
       "array([  30, 5535,   18,   51,   36,   28,  224,   92,   25,  104,    4,\n",
       "        226,   65,   16,   38, 1334,   88,   12,   16,  283,    5,   16,\n",
       "       4472,  113,  103,   32,   15,   16, 5345,   19,  178,   32])"
      ]
     },
     "execution_count": 6,
     "metadata": {},
     "output_type": "execute_result"
    }
   ],
   "source": [
    "x_train = tf.keras.preprocessing.sequence.pad_sequences(x_train,\n",
    "                                                        value = 0,     # padding이 필요하면 0으로 padding한다\n",
    "                                                        padding='pre', # padding이 필요하면 앞으로 padding한다\n",
    "                                                        maxlen=32)     # 32길이로 잘라주고, 32길이가 안되면 위의 두가지 조건 적용한다\n",
    "x_test = tf.keras.preprocessing.sequence.pad_sequences(x_test,\n",
    "                                                        value = 0,\n",
    "                                                        padding='pre',\n",
    "                                                        maxlen=32)\n",
    "## 문장이 너무 길다 -> 앞에 32개 단어만 가져와서 classification하겠다\n",
    "x_train[0]"
   ]
  },
  {
   "cell_type": "code",
   "execution_count": 7,
   "metadata": {},
   "outputs": [],
   "source": [
    "train_ds = tf.data.Dataset.from_tensor_slices((x_train, y_train)).shuffle(1000).batch(32)\n",
    "test_ds = tf.data.Dataset.from_tensor_slices((x_test, y_test)).batch(32)"
   ]
  },
  {
   "cell_type": "markdown",
   "metadata": {},
   "source": [
    "## 모델 생성"
   ]
  },
  {
   "cell_type": "code",
   "execution_count": 8,
   "metadata": {},
   "outputs": [],
   "source": [
    "rnn_model = RNNModel()\n",
    "lstm_model = LSTMModel()\n",
    "gru_model = GRUModel()\n",
    "\n",
    "rnn_model.compile(optimizer='adam',\n",
    "              loss='binary_crossentropy',\n",
    "              metrics=['accuracy'])\n",
    "\n",
    "lstm_model.compile(optimizer='adam',\n",
    "              loss='binary_crossentropy',\n",
    "              metrics=['accuracy'])\n",
    "\n",
    "gru_model.compile(optimizer='adam',\n",
    "              loss='binary_crossentropy',\n",
    "              metrics=['accuracy'])"
   ]
  },
  {
   "cell_type": "markdown",
   "metadata": {},
   "source": [
    "## 학습 루프 동작"
   ]
  },
  {
   "cell_type": "code",
   "execution_count": 9,
   "metadata": {
    "scrolled": true
   },
   "outputs": [
    {
     "name": "stdout",
     "output_type": "stream",
     "text": [
      "Epoch 1/10\n",
      "782/782 [==============================] - 24s 31ms/step - loss: 0.5658 - accuracy: 0.6829 - val_loss: 0.0000e+00 - val_accuracy: 0.0000e+00\n",
      "Epoch 2/10\n",
      "782/782 [==============================] - 18s 22ms/step - loss: 0.3723 - accuracy: 0.8358 - val_loss: 0.4862 - val_accuracy: 0.7668\n",
      "Epoch 3/10\n",
      "782/782 [==============================] - 18s 23ms/step - loss: 0.2299 - accuracy: 0.9116 - val_loss: 0.5634 - val_accuracy: 0.7608\n",
      "Epoch 4/10\n",
      "782/782 [==============================] - 17s 22ms/step - loss: 0.1081 - accuracy: 0.9626 - val_loss: 0.7615 - val_accuracy: 0.7314\n",
      "Epoch 5/10\n",
      "782/782 [==============================] - 17s 21ms/step - loss: 0.0513 - accuracy: 0.9842 - val_loss: 0.9714 - val_accuracy: 0.7494\n",
      "Epoch 6/10\n",
      "782/782 [==============================] - 17s 21ms/step - loss: 0.0276 - accuracy: 0.9916 - val_loss: 1.1164 - val_accuracy: 0.7456\n",
      "Epoch 7/10\n",
      "782/782 [==============================] - 14s 18ms/step - loss: 0.0174 - accuracy: 0.9950 - val_loss: 1.2333 - val_accuracy: 0.7401\n",
      "Epoch 8/10\n",
      "782/782 [==============================] - 14s 17ms/step - loss: 0.0197 - accuracy: 0.9936 - val_loss: 1.3029 - val_accuracy: 0.7436\n",
      "Epoch 9/10\n",
      "782/782 [==============================] - 13s 17ms/step - loss: 0.0135 - accuracy: 0.9960 - val_loss: 1.3666 - val_accuracy: 0.7424\n",
      "Epoch 10/10\n",
      "782/782 [==============================] - 15s 19ms/step - loss: 0.0130 - accuracy: 0.9952 - val_loss: 1.4442 - val_accuracy: 0.7278\n"
     ]
    },
    {
     "data": {
      "text/plain": [
       "<tensorflow.python.keras.callbacks.History at 0x236b725d438>"
      ]
     },
     "execution_count": 9,
     "metadata": {},
     "output_type": "execute_result"
    }
   ],
   "source": [
    "rnn_model.fit(train_ds, validation_data=test_ds, epochs=EPOCHS)"
   ]
  },
  {
   "cell_type": "code",
   "execution_count": 10,
   "metadata": {},
   "outputs": [
    {
     "name": "stdout",
     "output_type": "stream",
     "text": [
      "Epoch 1/10\n",
      "782/782 [==============================] - 30s 38ms/step - loss: 0.5049 - accuracy: 0.7432 - val_loss: 0.0000e+00 - val_accuracy: 0.0000e+00\n",
      "Epoch 2/10\n",
      "782/782 [==============================] - 27s 34ms/step - loss: 0.3750 - accuracy: 0.8327 - val_loss: 0.4555 - val_accuracy: 0.7875\n",
      "Epoch 3/10\n",
      "782/782 [==============================] - 22s 28ms/step - loss: 0.3260 - accuracy: 0.8613 - val_loss: 0.4794 - val_accuracy: 0.7812\n",
      "Epoch 4/10\n",
      "782/782 [==============================] - 20s 26ms/step - loss: 0.2843 - accuracy: 0.8836 - val_loss: 0.4990 - val_accuracy: 0.7797\n",
      "Epoch 5/10\n",
      "782/782 [==============================] - 18s 23ms/step - loss: 0.2342 - accuracy: 0.9077 - val_loss: 0.6789 - val_accuracy: 0.7631\n",
      "Epoch 6/10\n",
      "782/782 [==============================] - 26s 33ms/step - loss: 0.1829 - accuracy: 0.9296 - val_loss: 0.6970 - val_accuracy: 0.7592\n",
      "Epoch 7/10\n",
      "782/782 [==============================] - 24s 31ms/step - loss: 0.1395 - accuracy: 0.9513 - val_loss: 0.8057 - val_accuracy: 0.7583\n",
      "Epoch 8/10\n",
      "782/782 [==============================] - 26s 33ms/step - loss: 0.1075 - accuracy: 0.9629 - val_loss: 0.9440 - val_accuracy: 0.7528\n",
      "Epoch 9/10\n",
      "782/782 [==============================] - 24s 31ms/step - loss: 0.0862 - accuracy: 0.9702 - val_loss: 1.1205 - val_accuracy: 0.7486\n",
      "Epoch 10/10\n",
      "782/782 [==============================] - 18s 23ms/step - loss: 0.0742 - accuracy: 0.9739 - val_loss: 1.1972 - val_accuracy: 0.7472\n"
     ]
    },
    {
     "data": {
      "text/plain": [
       "<tensorflow.python.keras.callbacks.History at 0x236ab137908>"
      ]
     },
     "execution_count": 10,
     "metadata": {},
     "output_type": "execute_result"
    }
   ],
   "source": [
    "lstm_model.fit(train_ds, validation_data=test_ds, epochs=EPOCHS)"
   ]
  },
  {
   "cell_type": "code",
   "execution_count": 11,
   "metadata": {},
   "outputs": [
    {
     "name": "stdout",
     "output_type": "stream",
     "text": [
      "Epoch 1/10\n",
      "782/782 [==============================] - 29s 37ms/step - loss: 0.5078 - accuracy: 0.7373 - val_loss: 0.0000e+00 - val_accuracy: 0.0000e+00\n",
      "Epoch 2/10\n",
      "782/782 [==============================] - 25s 32ms/step - loss: 0.3747 - accuracy: 0.8316 - val_loss: 0.4626 - val_accuracy: 0.7817\n",
      "Epoch 3/10\n",
      "782/782 [==============================] - 25s 32ms/step - loss: 0.3269 - accuracy: 0.8587 - val_loss: 0.4832 - val_accuracy: 0.7792\n",
      "Epoch 4/10\n",
      "782/782 [==============================] - 25s 32ms/step - loss: 0.2867 - accuracy: 0.8828 - val_loss: 0.5128 - val_accuracy: 0.7802\n",
      "Epoch 5/10\n",
      "782/782 [==============================] - 26s 33ms/step - loss: 0.2425 - accuracy: 0.9055 - val_loss: 0.5592 - val_accuracy: 0.7710\n",
      "Epoch 6/10\n",
      "782/782 [==============================] - 25s 32ms/step - loss: 0.1998 - accuracy: 0.9252 - val_loss: 0.6890 - val_accuracy: 0.7577\n",
      "Epoch 7/10\n",
      "782/782 [==============================] - 24s 31ms/step - loss: 0.1612 - accuracy: 0.9445 - val_loss: 0.7064 - val_accuracy: 0.7570\n",
      "Epoch 8/10\n",
      "782/782 [==============================] - 25s 32ms/step - loss: 0.1329 - accuracy: 0.9556 - val_loss: 0.8701 - val_accuracy: 0.7534\n",
      "Epoch 9/10\n",
      "782/782 [==============================] - 19s 25ms/step - loss: 0.1057 - accuracy: 0.9652 - val_loss: 0.9646 - val_accuracy: 0.7485\n",
      "Epoch 10/10\n",
      "782/782 [==============================] - 18s 24ms/step - loss: 0.0834 - accuracy: 0.9741 - val_loss: 1.0818 - val_accuracy: 0.7443\n"
     ]
    },
    {
     "data": {
      "text/plain": [
       "<tensorflow.python.keras.callbacks.History at 0x236ae3456a0>"
      ]
     },
     "execution_count": 11,
     "metadata": {},
     "output_type": "execute_result"
    }
   ],
   "source": [
    "gru_model.fit(train_ds, validation_data=test_ds, epochs=EPOCHS)"
   ]
  }
 ],
 "metadata": {
  "kernelspec": {
   "display_name": "Python 3",
   "language": "python",
   "name": "python3"
  },
  "language_info": {
   "codemirror_mode": {
    "name": "ipython",
    "version": 3
   },
   "file_extension": ".py",
   "mimetype": "text/x-python",
   "name": "python",
   "nbconvert_exporter": "python",
   "pygments_lexer": "ipython3",
   "version": "3.7.1"
  }
 },
 "nbformat": 4,
 "nbformat_minor": 2
}
