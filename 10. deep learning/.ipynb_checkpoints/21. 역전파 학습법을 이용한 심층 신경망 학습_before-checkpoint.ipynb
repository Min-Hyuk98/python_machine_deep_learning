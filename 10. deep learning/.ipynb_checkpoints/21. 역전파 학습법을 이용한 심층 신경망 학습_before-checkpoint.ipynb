{
 "cells": [
  {
   "cell_type": "markdown",
   "metadata": {},
   "source": [
    "## 역전파 학습법을 이용한 심층 신경망 학습"
   ]
  },
  {
   "cell_type": "markdown",
   "metadata": {},
   "source": [
    "## Import modules"
   ]
  },
  {
   "cell_type": "code",
   "execution_count": 1,
   "metadata": {},
   "outputs": [],
   "source": [
    "import time\n",
    "import numpy as np"
   ]
  },
  {
   "cell_type": "markdown",
   "metadata": {},
   "source": [
    "## 유틸리티 함수"
   ]
  },
  {
   "cell_type": "code",
   "execution_count": 2,
   "metadata": {},
   "outputs": [],
   "source": [
    "def _t(x):\n",
    "    return np.transpose(x)\n",
    "\n",
    "def _m(A, B):\n",
    "    return np.matmul(A, B)"
   ]
  },
  {
   "cell_type": "markdown",
   "metadata": {},
   "source": [
    "## Sigmoid 구현"
   ]
  },
  {
   "cell_type": "code",
   "execution_count": 3,
   "metadata": {},
   "outputs": [],
   "source": [
    "class Sigmoid:\n",
    "    def __init__(self):\n",
    "        self.last_o = 1\n",
    "\n",
    "    def __call__(self, x):\n",
    "        self.last_o = 1.0 / (1.0 + np.exp(-x))\n",
    "        return self.last_o\n",
    "\n",
    "    def grad(self):  ## sigmoid(x) * (1 - sigmoid(x))\n",
    "        return self.last_o * (1 - self.last_o)"
   ]
  },
  {
   "cell_type": "markdown",
   "metadata": {},
   "source": [
    "## Mean Squared Error 구현\n",
    "\n",
    "- MSE = 1/2 * mean((h-y)**2)\n",
    "- MSE미분 = h-y"
   ]
  },
  {
   "cell_type": "code",
   "execution_count": 4,
   "metadata": {},
   "outputs": [],
   "source": [
    "class MeanSquaredError:\n",
    "    def __init__(self):\n",
    "        self.dh = 1\n",
    "        self.last_diff=1\n",
    "\n",
    "    def __call__(self, h, y):\n",
    "        self.last_diff = h - y\n",
    "        return (1 / 2) * np.mean(np.square(self.last_diff))\n",
    "\n",
    "    def grad(self):\n",
    "        return self.last_diff"
   ]
  },
  {
   "cell_type": "markdown",
   "metadata": {},
   "source": [
    "## Dense Layer 구현"
   ]
  },
  {
   "cell_type": "code",
   "execution_count": 5,
   "metadata": {},
   "outputs": [],
   "source": [
    "class Dense:\n",
    "    def __init__(self, W, b, a_obj): ## a_obj에는 sigmoid 클래스가 들어온다\n",
    "        self.W = W\n",
    "        self.b = b\n",
    "        self.a = a_obj() ## 클래스를 인스턴스화해서 저장  <-- 각 layer마다 activation func이 따로 있어야 한다\n",
    "        \n",
    "        self.dW = np.zeros_like(self.W)\n",
    "        self.db = np.zeros_like(self.b)\n",
    "        self.dh = np.zeros_like(_t(self.W))\n",
    "        \n",
    "        self.last_x = np.zeros((self.W.shape[0],)) ##  마지막 입력\n",
    "        self.last_y = np.zeros((self.W.shape[1],))  ## 마지막 출력\n",
    "\n",
    "    def __call__(self, x):\n",
    "        self.last_x = x\n",
    "        self.last_h = _m(_t(self.W),x) + self.b\n",
    "        return self.a(self.last_h)\n",
    "\n",
    "    def grad(self): # dy / dh = a.grad * w\n",
    "        return self.a.grad() * self.W\n",
    "\n",
    "    ## dh == 이전 layer까지의 gradient\n",
    "    def grad_W(self, dh): # dy / dw =  a.grad * x\n",
    "        grad = np.ones_like(self.W)\n",
    "        grad_a = self.a.grad()\n",
    "        for j in range(grad.shape[1]):\n",
    "            grad[:,j] = dh[j] * grad_a[j] * self.last_x\n",
    "        return grad\n",
    "        \n",
    "\n",
    "    def grad_b(self, dh): # dy / db = a.grad * 1\n",
    "        return self.a.grad() * dh  ## dh = 이전까지 gradient"
   ]
  },
  {
   "cell_type": "markdown",
   "metadata": {},
   "source": [
    "## 심층신경망 구현"
   ]
  },
  {
   "cell_type": "code",
   "execution_count": 6,
   "metadata": {},
   "outputs": [],
   "source": [
    "class DNN:\n",
    "    def __init__(self, hidden_depth, num_neuron, input, output, activation=Sigmoid):\n",
    "        def init_var(i, o):\n",
    "            return np.random.normal(0.0, 0.01, (i, o)), np.zeros((o,))\n",
    "\n",
    "        self.sequence = list()\n",
    "        # First hidden layer\n",
    "        W, b = init_var(input, num_neuron)\n",
    "        self.sequence.append(Dense(W, b, activation))\n",
    "\n",
    "        # Hidden Layers\n",
    "        for index in range(hidden_depth):\n",
    "            W, b = init_var(num_neuron, num_neuron)\n",
    "            self.sequence.append(Dense(W, b, activation))\n",
    "\n",
    "        # Output Layer\n",
    "        W, b = init_var(num_neuron, output)\n",
    "        self.sequence.append(Dense(W, b, activation))\n",
    "\n",
    "    def __call__(self, x):\n",
    "        for layer in self.sequence:\n",
    "            x = layer(x)\n",
    "        return x\n",
    "\n",
    "    def calc_gradient(self, loss_obj):\n",
    "        loss_obj.dh = loss_obj.grad()\n",
    "        self.sequence.append(loss_obj)  ## 임시로 넣어줌\n",
    "        \n",
    "        # back-prop loop\n",
    "        for i in range(len(self.sequence)-1, 0, -1):\n",
    "            l1 = self.sequence[i]\n",
    "            l0 = self.sequence[i-1]\n",
    "            \n",
    "            l0.dh = _m(l0.grad(), l1.dh)\n",
    "            l0.dW = l0.grad_W(l1.dh)\n",
    "            l0.db = l0.grad_b(l1.dh)\n",
    "        \n",
    "        self.sequence.remove(loss_obj)  ## 임시로 넣은것을 빼줌"
   ]
  },
  {
   "cell_type": "markdown",
   "metadata": {},
   "source": [
    "## 경사하강 학습법"
   ]
  },
  {
   "cell_type": "code",
   "execution_count": 7,
   "metadata": {},
   "outputs": [],
   "source": [
    "def gradient_descent(network, x, y, loss_obj, alpha=0.01):\n",
    "    \n",
    "    # forward 한번 하면서 last_o,last_diff, last_x, last_h 미리 구해서 저장해놓음\n",
    "    loss = loss_obj(network(x), y)  # Forward inference  \n",
    "    \n",
    "    network.calc_gradient(loss_obj)  # Back-propagation\n",
    "    for layer in network.sequence:\n",
    "        layer.W += -alpha * layer.dW\n",
    "        layer.b += -alpha * layer.db\n",
    "    return loss"
   ]
  },
  {
   "cell_type": "markdown",
   "metadata": {},
   "source": [
    "## 동작 테스트"
   ]
  },
  {
   "cell_type": "code",
   "execution_count": 11,
   "metadata": {},
   "outputs": [
    {
     "name": "stdout",
     "output_type": "stream",
     "text": [
      "Epoch 0: Test loss 0.13089119225094176\n",
      "Epoch 1: Test loss 0.1294169361630632\n",
      "Epoch 2: Test loss 0.12796052992368848\n",
      "Epoch 3: Test loss 0.12652205952291157\n",
      "Epoch 4: Test loss 0.12510159262858608\n",
      "Epoch 5: Test loss 0.12369917914421613\n",
      "Epoch 6: Test loss 0.12231485179179692\n",
      "Epoch 7: Test loss 0.12094862671581072\n",
      "Epoch 8: Test loss 0.11960050410470326\n",
      "Epoch 9: Test loss 0.11827046882630433\n",
      "Epoch 10: Test loss 0.11695849107381151\n",
      "Epoch 11: Test loss 0.11566452701912378\n",
      "Epoch 12: Test loss 0.1143885194704887\n",
      "Epoch 13: Test loss 0.11313039853161633\n",
      "Epoch 14: Test loss 0.1118900822596016\n",
      "Epoch 15: Test loss 0.1106674773191949\n",
      "Epoch 16: Test loss 0.1094624796311565\n",
      "Epoch 17: Test loss 0.10827497501262724\n",
      "Epoch 18: Test loss 0.10710483980764127\n",
      "Epoch 19: Test loss 0.10595194150609813\n",
      "Epoch 20: Test loss 0.10481613934969694\n",
      "Epoch 21: Test loss 0.10369728492351493\n",
      "Epoch 22: Test loss 0.10259522273208496\n",
      "Epoch 23: Test loss 0.10150979075899287\n",
      "Epoch 24: Test loss 0.10044082100917041\n",
      "Epoch 25: Test loss 0.0993881400332098\n",
      "Epoch 26: Test loss 0.09835156943316224\n",
      "Epoch 27: Test loss 0.09733092634941548\n",
      "Epoch 28: Test loss 0.09632602392836241\n",
      "Epoch 29: Test loss 0.0953366717706873\n",
      "Epoch 30: Test loss 0.09436267636019567\n",
      "Epoch 31: Test loss 0.09340384147320716\n",
      "Epoch 32: Test loss 0.09245996856861585\n",
      "Epoch 33: Test loss 0.09153085715879734\n",
      "Epoch 34: Test loss 0.09061630516160837\n",
      "Epoch 35: Test loss 0.08971610923378699\n",
      "Epoch 36: Test loss 0.08883006508611067\n",
      "Epoch 37: Test loss 0.08795796778071747\n",
      "Epoch 38: Test loss 0.08709961201103238\n",
      "Epoch 39: Test loss 0.08625479236477485\n",
      "Epoch 40: Test loss 0.08542330357055009\n",
      "Epoch 41: Test loss 0.08460494072854836\n",
      "Epoch 42: Test loss 0.08379949952589352\n",
      "Epoch 43: Test loss 0.08300677643719498\n",
      "Epoch 44: Test loss 0.08222656891086473\n",
      "Epoch 45: Test loss 0.08145867554176803\n",
      "Epoch 46: Test loss 0.08070289623077502\n",
      "Epoch 47: Test loss 0.07995903233178184\n",
      "Epoch 48: Test loss 0.07922688678676502\n",
      "Epoch 49: Test loss 0.07850626424942564\n",
      "Epoch 50: Test loss 0.0777969711979737\n",
      "Epoch 51: Test loss 0.07709881603759122\n",
      "Epoch 52: Test loss 0.07641160919310243\n",
      "Epoch 53: Test loss 0.07573516319236594\n",
      "Epoch 54: Test loss 0.07506929274089087\n",
      "Epoch 55: Test loss 0.07441381478816349\n",
      "Epoch 56: Test loss 0.07376854858615597\n",
      "Epoch 57: Test loss 0.07313331574047388\n",
      "Epoch 58: Test loss 0.0725079402545809\n",
      "Epoch 59: Test loss 0.07189224856752549\n",
      "Epoch 60: Test loss 0.07128606958557479\n",
      "Epoch 61: Test loss 0.07068923470814742\n",
      "Epoch 62: Test loss 0.07010157784841743\n",
      "Epoch 63: Test loss 0.06952293544894733\n",
      "Epoch 64: Test loss 0.06895314649269141\n",
      "Epoch 65: Test loss 0.06839205250969368\n",
      "Epoch 66: Test loss 0.06783949757979055\n",
      "Epoch 67: Test loss 0.06729532833161185\n",
      "Epoch 68: Test loss 0.06675939393815984\n",
      "Epoch 69: Test loss 0.06623154610923085\n",
      "Epoch 70: Test loss 0.0657116390809301\n",
      "Epoch 71: Test loss 0.06519952960251701\n",
      "Epoch 72: Test loss 0.06469507692080483\n",
      "Epoch 73: Test loss 0.0641981427623262\n",
      "Epoch 74: Test loss 0.06370859131346368\n",
      "Epoch 75: Test loss 0.06322628919873277\n",
      "Epoch 76: Test loss 0.06275110545739371\n",
      "Epoch 77: Test loss 0.062282911518557874\n",
      "Epoch 78: Test loss 0.061821581174944094\n",
      "Epoch 79: Test loss 0.06136699055543026\n",
      "Epoch 80: Test loss 0.060919018096536826\n",
      "Epoch 81: Test loss 0.06047754451296962\n",
      "Epoch 82: Test loss 0.060042452767340715\n",
      "Epoch 83: Test loss 0.059613628039178655\n",
      "Epoch 84: Test loss 0.059190957693331325\n",
      "Epoch 85: Test loss 0.05877433124785757\n",
      "Epoch 86: Test loss 0.05836364034149722\n",
      "Epoch 87: Test loss 0.057958778700802294\n",
      "Epoch 88: Test loss 0.05755964210700624\n",
      "Epoch 89: Test loss 0.057166128362702434\n",
      "Epoch 90: Test loss 0.05677813725839764\n",
      "Epoch 91: Test loss 0.056395570539000996\n",
      "Epoch 92: Test loss 0.056018331870304375\n",
      "Epoch 93: Test loss 0.055646326805505436\n",
      "Epoch 94: Test loss 0.05527946275182007\n",
      "Epoch 95: Test loss 0.05491764893722816\n",
      "Epoch 96: Test loss 0.05456079637739084\n",
      "Epoch 97: Test loss 0.05420881784277597\n",
      "Epoch 98: Test loss 0.053861627826023974\n",
      "Epoch 99: Test loss 0.053519142509583444\n",
      "2.3860158920288086 seconds elapsed.\n"
     ]
    }
   ],
   "source": [
    "x = np.random.normal(0.0, 1.0, (10,))\n",
    "y = np.random.normal(0.0, 1.0, (2,))\n",
    "\n",
    "t = time.time()\n",
    "dnn = DNN(hidden_depth=100, num_neuron=32, input=10, output=2, activation=Sigmoid)\n",
    "loss_obj = MeanSquaredError()\n",
    "for epoch in range(100):\n",
    "    loss = gradient_descent(dnn, x, y, loss_obj, alpha=0.01)\n",
    "    print('Epoch {}: Test loss {}'.format(epoch, loss))\n",
    "print('{} seconds elapsed.'.format(time.time() - t))"
   ]
  },
  {
   "cell_type": "code",
   "execution_count": null,
   "metadata": {},
   "outputs": [],
   "source": []
  }
 ],
 "metadata": {
  "kernelspec": {
   "display_name": "Python 3",
   "language": "python",
   "name": "python3"
  },
  "language_info": {
   "codemirror_mode": {
    "name": "ipython",
    "version": 3
   },
   "file_extension": ".py",
   "mimetype": "text/x-python",
   "name": "python",
   "nbconvert_exporter": "python",
   "pygments_lexer": "ipython3",
   "version": "3.7.1"
  }
 },
 "nbformat": 4,
 "nbformat_minor": 2
}
