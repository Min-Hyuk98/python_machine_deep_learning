{
 "cells": [
  {
   "cell_type": "markdown",
   "metadata": {},
   "source": [
    "## 수치 미분을 이용한 심층 신경망 학습\n",
    "\n",
    "### without back propagation"
   ]
  },
  {
   "cell_type": "markdown",
   "metadata": {},
   "source": [
    "## Import modules"
   ]
  },
  {
   "cell_type": "code",
   "execution_count": 49,
   "metadata": {},
   "outputs": [],
   "source": [
    "import time\n",
    "import numpy as np"
   ]
  },
  {
   "cell_type": "markdown",
   "metadata": {},
   "source": [
    "## 유틸리티 함수"
   ]
  },
  {
   "cell_type": "code",
   "execution_count": 50,
   "metadata": {},
   "outputs": [],
   "source": [
    "epsilon = 0.0001\n",
    "\n",
    "def _t(x): ## transpose\n",
    "    return np.transpose(x)\n",
    "\n",
    "def _m(A, B):  ## 행렬곱\n",
    "    return np.matmul(A, B)\n",
    "\n",
    "def sigmoid(x): ## sigmoid함수\n",
    "    return 1 / (1 + np.exp(-x))\n",
    "\n",
    "def mean_squared_error(h, y):  ## MSE\n",
    "    return 1 / 2 * np.mean(np.square(h - y))"
   ]
  },
  {
   "cell_type": "markdown",
   "metadata": {},
   "source": [
    "## Dense Layer 구현"
   ]
  },
  {
   "cell_type": "code",
   "execution_count": 51,
   "metadata": {},
   "outputs": [],
   "source": [
    "class Dense:\n",
    "    def __init__(self, W, b, a):\n",
    "        self.W = W\n",
    "        self.b = b\n",
    "        self.a = a ## activation function\n",
    "        \n",
    "        # 미분값을 담을 변수도 초기화해주기\n",
    "        # zeros_like -> 파라미터와 같은 shape, 자료형으로 초기화해줌\n",
    "        self.dW = np.zeros_like(self.W) \n",
    "        self.db = np.zeros_like(self.b)\n",
    "\n",
    "    def __call__(self, x):\n",
    "        return self.a(_m(_t(self.W),x) + self.b)  ## matmul((iXo)T , iX1) + oX1 "
   ]
  },
  {
   "cell_type": "markdown",
   "metadata": {},
   "source": [
    "## 심층신경망 구현\n",
    "\n",
    "- hidden_depth = hidden layer의 개수\n",
    "- num_neuron = layer당 뉴런의 개수\n",
    "- num_input = input의 개수\n",
    "- num_output = output의 개수"
   ]
  },
  {
   "cell_type": "code",
   "execution_count": 52,
   "metadata": {},
   "outputs": [],
   "source": [
    "class DNN:\n",
    "    def __init__(self, hidden_depth, num_neuron, num_input, num_output, activation=sigmoid):\n",
    "        \n",
    "        def init_var(i, o):\n",
    "            return np.random.normal(0.0, 0.01, (i, o)), np.zeros((o,))\n",
    "\n",
    "        self.sequence = list()\n",
    "        # First hidden layer\n",
    "        W, b = init_var(num_input, num_neuron)\n",
    "        self.sequence.append(Dense(W, b, activation))\n",
    "        \n",
    "        # Hidden layers\n",
    "        for _ in range(hidden_depth - 1):\n",
    "            W, b = init_var(num_neuron, num_neuron)\n",
    "            self.sequence.append(Dense(W, b, activation))\n",
    "\n",
    "        # Output layer\n",
    "        W, b = init_var(num_neuron, num_output)\n",
    "        self.sequence.append(Dense(W, b, activation))\n",
    "\n",
    "    def __call__(self, x):\n",
    "        for layer in self.sequence:\n",
    "            x = layer(x)\n",
    "        return x\n",
    "\n",
    "    def calc_gradient(self, x, y, loss_func):\n",
    "        \n",
    "        # 특정 layer를 새로운 layer로 바꿔준다\n",
    "        def get_new_sequence(layer_index, new_layer):\n",
    "            new_sequence = list()\n",
    "            for i, layer in enumerate(self.sequence):\n",
    "                if i == layer_index:\n",
    "                    new_sequence.append(new_layer)\n",
    "                else:\n",
    "                    new_sequence.append(layer)\n",
    "            return new_sequence\n",
    "        \n",
    "        def eval_sequence(x, sequence):\n",
    "            for layer in sequence:\n",
    "                x = layer(x)\n",
    "            return x\n",
    "        \n",
    "        # 기준이 되는 loss\n",
    "        loss = loss_func(self(x), y) # self(x) --> __call__에 들어가서 x를 return받음\n",
    "        \n",
    "        for layer_id, layer in enumerate(self.sequence):\n",
    "            \n",
    "            ## weight 파라미터를 바꿔보기\n",
    "            for w_i, w in enumerate(layer.W): ## w -> vector\n",
    "                for w_j, ww in enumerate(w): ## ww -> scalar\n",
    "                    W = np.copy(layer.W) ## 새로운 layer를 만들기 위해서 복사\n",
    "                    W[w_i][w_j] = ww + epsilon\n",
    "                    \n",
    "                    new_layer = Dense(W, layer.b, layer.a)\n",
    "                    new_seq = get_new_sequence(layer_id, new_layer)\n",
    "                    h = eval_sequence(x, new_seq)\n",
    "                    \n",
    "                    num_grad = (loss_func(h,y) - loss) / epsilon  ## (f(x+eps) - f(x)) / eps\n",
    "                    \n",
    "                    layer.dW[w_i][w_j] = num_grad  ## num_grad는 스칼라 하나만 바뀐 것\n",
    "                \n",
    "            ## bias 파라미터를 바꿔보기\n",
    "            for b_i, bb in enumerate(layer.b): ## bb -> scalar\n",
    "                b = np.copy(layer.b) ## 새로운 layer를 만들기 위해서 복사\n",
    "                b[b_i] = bb + epsilon\n",
    "                \n",
    "                new_layer = Dense(layer.W, b, layer.a)\n",
    "                new_seq = get_new_sequence(layer_id, new_layer)\n",
    "                h = eval_sequence(x, new_seq)\n",
    "                \n",
    "                num_grad = (loss_func(h,y) - loss) / epsilon  ## (f(x+eps) - f(x)) / eps\n",
    "                layer.db[b_i] = num_grad  ## num_grad는 스칼라 하나만 바뀐 것\n",
    "                \n",
    "        return loss\n"
   ]
  },
  {
   "cell_type": "markdown",
   "metadata": {},
   "source": [
    "## 경사하강 학습법"
   ]
  },
  {
   "cell_type": "code",
   "execution_count": 53,
   "metadata": {},
   "outputs": [],
   "source": [
    "def gradient_descent(network, x, y, loss_obj, alpha=0.01):\n",
    "    loss = network.calc_gradient(x, y, loss_obj)\n",
    "    for layer in network.sequence:\n",
    "        layer.W += -alpha * layer.dW\n",
    "        layer.b += -alpha * layer.db\n",
    "    return loss"
   ]
  },
  {
   "cell_type": "markdown",
   "metadata": {},
   "source": [
    "## 동작 테스트"
   ]
  },
  {
   "cell_type": "code",
   "execution_count": 54,
   "metadata": {},
   "outputs": [
    {
     "name": "stdout",
     "output_type": "stream",
     "text": [
      "Epoch 0: Test loss 0.30575528692745185\n",
      "Epoch 1: Test loss 0.3040428991880344\n",
      "Epoch 2: Test loss 0.3023399880847716\n",
      "Epoch 3: Test loss 0.30064675017173326\n",
      "Epoch 4: Test loss 0.2989633745634927\n",
      "Epoch 5: Test loss 0.2972900428933639\n",
      "Epoch 6: Test loss 0.2956269292842166\n",
      "Epoch 7: Test loss 0.29397420033128385\n",
      "Epoch 8: Test loss 0.29233201509685847\n",
      "Epoch 9: Test loss 0.29070052511636074\n",
      "Epoch 10: Test loss 0.28907987441569577\n",
      "Epoch 11: Test loss 0.2874701995392075\n",
      "Epoch 12: Test loss 0.28587162958816603\n",
      "Epoch 13: Test loss 0.2842842862691399\n",
      "Epoch 14: Test loss 0.2827082839518895\n",
      "Epoch 15: Test loss 0.28114372973640317\n",
      "Epoch 16: Test loss 0.27959072352858805\n",
      "Epoch 17: Test loss 0.2780493581241929\n",
      "Epoch 18: Test loss 0.2765197193004794\n",
      "Epoch 19: Test loss 0.2750018859149988\n",
      "Epoch 20: Test loss 0.27349593001149636\n",
      "Epoch 21: Test loss 0.27200191693181064\n",
      "Epoch 22: Test loss 0.27051990543398374\n",
      "Epoch 23: Test loss 0.26904994781547964\n",
      "Epoch 24: Test loss 0.26759209004158074\n",
      "Epoch 25: Test loss 0.2661463718780898\n",
      "Epoch 26: Test loss 0.2647128270283111\n",
      "Epoch 27: Test loss 0.2632914832734478\n",
      "Epoch 28: Test loss 0.26188236261630293\n",
      "Epoch 29: Test loss 0.26048548142776784\n",
      "Epoch 30: Test loss 0.25910085059549876\n",
      "Epoch 31: Test loss 0.2577284756749076\n",
      "Epoch 32: Test loss 0.2563683570414897\n",
      "Epoch 33: Test loss 0.2550204900444859\n",
      "Epoch 34: Test loss 0.25368486516142097\n",
      "Epoch 35: Test loss 0.2523614681532583\n",
      "Epoch 36: Test loss 0.25105028021975534\n",
      "Epoch 37: Test loss 0.249751278154741\n",
      "Epoch 38: Test loss 0.24846443450110128\n",
      "Epoch 39: Test loss 0.24718971770513948\n",
      "Epoch 40: Test loss 0.245927092270003\n",
      "Epoch 41: Test loss 0.24467651890807982\n",
      "Epoch 42: Test loss 0.24343795469201793\n",
      "Epoch 43: Test loss 0.24221135320418108\n",
      "Epoch 44: Test loss 0.2409966646844178\n",
      "Epoch 45: Test loss 0.23979383617588942\n",
      "Epoch 46: Test loss 0.23860281166876635\n",
      "Epoch 47: Test loss 0.23742353224177437\n",
      "Epoch 48: Test loss 0.23625593620130206\n",
      "Epoch 49: Test loss 0.2350999592180381\n",
      "Epoch 50: Test loss 0.23395553446103215\n",
      "Epoch 51: Test loss 0.2328225927289748\n",
      "Epoch 52: Test loss 0.2317010625787585\n",
      "Epoch 53: Test loss 0.23059087045111748\n",
      "Epoch 54: Test loss 0.22949194079338983\n",
      "Epoch 55: Test loss 0.22840419617924138\n",
      "Epoch 56: Test loss 0.22732755742536875\n",
      "Epoch 57: Test loss 0.226261943705169\n",
      "Epoch 58: Test loss 0.22520727265927631\n",
      "Epoch 59: Test loss 0.22416346050299923\n",
      "Epoch 60: Test loss 0.223130422130671\n",
      "Epoch 61: Test loss 0.22210807121679194\n",
      "Epoch 62: Test loss 0.22109632031413387\n",
      "Epoch 63: Test loss 0.22009508094871397\n",
      "Epoch 64: Test loss 0.21910426371164055\n",
      "Epoch 65: Test loss 0.21812377834792754\n",
      "Epoch 66: Test loss 0.217153533842236\n",
      "Epoch 67: Test loss 0.21619343850162018\n",
      "Epoch 68: Test loss 0.21524340003528025\n",
      "Epoch 69: Test loss 0.21430332563138493\n",
      "Epoch 70: Test loss 0.21337312203100847\n",
      "Epoch 71: Test loss 0.2124526955991955\n",
      "Epoch 72: Test loss 0.21154195239322648\n",
      "Epoch 73: Test loss 0.2106407982281649\n",
      "Epoch 74: Test loss 0.20974913873966344\n",
      "Epoch 75: Test loss 0.208866879444197\n",
      "Epoch 76: Test loss 0.2079939257966162\n",
      "Epoch 77: Test loss 0.20713018324526716\n",
      "Epoch 78: Test loss 0.2062755572845927\n",
      "Epoch 79: Test loss 0.2054299535053689\n",
      "Epoch 80: Test loss 0.20459327764255797\n",
      "Epoch 81: Test loss 0.20376543562090305\n",
      "Epoch 82: Test loss 0.20294633359831027\n",
      "Epoch 83: Test loss 0.20213587800706245\n",
      "Epoch 84: Test loss 0.20133397559293778\n",
      "Epoch 85: Test loss 0.2005405334522982\n",
      "Epoch 86: Test loss 0.19975545906723002\n",
      "Epoch 87: Test loss 0.19897866033872658\n",
      "Epoch 88: Test loss 0.19821004561806962\n",
      "Epoch 89: Test loss 0.1974495237364026\n",
      "Epoch 90: Test loss 0.1966970040325924\n",
      "Epoch 91: Test loss 0.19595239637939035\n",
      "Epoch 92: Test loss 0.19521561120800532\n",
      "Epoch 93: Test loss 0.19448655953113042\n",
      "Epoch 94: Test loss 0.19376515296444463\n",
      "Epoch 95: Test loss 0.19305130374668875\n",
      "Epoch 96: Test loss 0.19234492475837148\n",
      "Epoch 97: Test loss 0.1916459295390909\n",
      "Epoch 98: Test loss 0.19095423230360617\n",
      "Epoch 99: Test loss 0.19026974795667345\n",
      "49.640888929367065 seconds elapsed.\n"
     ]
    }
   ],
   "source": [
    "x = np.random.normal(0.0, 1.0, (10,))\n",
    "y = np.random.normal(0.0, 1.0, (2,))\n",
    "\n",
    "dnn = DNN(hidden_depth=5, num_neuron=32, num_input=10, num_output=2, activation=sigmoid)\n",
    "\n",
    "t = time.time()\n",
    "for epoch in range(100):\n",
    "    loss = gradient_descent(dnn, x, y, mean_squared_error, 0.01)\n",
    "    print('Epoch {}: Test loss {}'.format(epoch, loss))\n",
    "print('{} seconds elapsed.'.format(time.time() - t))"
   ]
  },
  {
   "cell_type": "markdown",
   "metadata": {},
   "source": [
    "## 변수가 늘어나면 O(n제곱) 으로 계산이 늘어남\n",
    "\n",
    "## ~> back propagation 필요"
   ]
  }
 ],
 "metadata": {
  "kernelspec": {
   "display_name": "Python 3",
   "language": "python",
   "name": "python3"
  },
  "language_info": {
   "codemirror_mode": {
    "name": "ipython",
    "version": 3
   },
   "file_extension": ".py",
   "mimetype": "text/x-python",
   "name": "python",
   "nbconvert_exporter": "python",
   "pygments_lexer": "ipython3",
   "version": "3.7.1"
  }
 },
 "nbformat": 4,
 "nbformat_minor": 2
}
