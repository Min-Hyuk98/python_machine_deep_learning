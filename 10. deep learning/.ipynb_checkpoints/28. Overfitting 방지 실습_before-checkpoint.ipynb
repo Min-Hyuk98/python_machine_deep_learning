{
 "cells": [
  {
   "cell_type": "markdown",
   "metadata": {},
   "source": [
    "# Overfitting 방지 실습"
   ]
  },
  {
   "cell_type": "markdown",
   "metadata": {},
   "source": [
    "## Import modules"
   ]
  },
  {
   "cell_type": "code",
   "execution_count": 1,
   "metadata": {},
   "outputs": [],
   "source": [
    "import tensorflow as tf\n",
    "import numpy as np\n",
    "import matplotlib.pyplot as plt"
   ]
  },
  {
   "cell_type": "markdown",
   "metadata": {},
   "source": [
    "## 하이퍼파라미터 정의"
   ]
  },
  {
   "cell_type": "code",
   "execution_count": 2,
   "metadata": {},
   "outputs": [],
   "source": [
    "EPOCHS = 50"
   ]
  },
  {
   "cell_type": "markdown",
   "metadata": {},
   "source": [
    "## 네트워크 구조 정의"
   ]
  },
  {
   "cell_type": "code",
   "execution_count": 3,
   "metadata": {},
   "outputs": [],
   "source": [
    "class MyModel(tf.keras.Model):\n",
    "    def __init__(self):\n",
    "        super(MyModel, self).__init__()\n",
    "        self.flatten = tf.keras.layers.Flatten()                       # 28x28 = 784\n",
    "        self.dense1 = tf.keras.layers.Dense(64, activation='relu')\n",
    "        self.dense2 = tf.keras.layers.Dense(64, activation='relu')\n",
    "        self.dense3 = tf.keras.layers.Dense(64, activation='relu')\n",
    "        self.dense4 = tf.keras.layers.Dense(64, activation='relu')\n",
    "        self.dense5 = tf.keras.layers.Dense(10, activation='softmax')  # 10\n",
    "\n",
    "    def call(self, x, training=False, mask=None):\n",
    "        h = self.flatten(x)\n",
    "        h = self.dense1(h)\n",
    "        h = self.dense2(h)\n",
    "        h = self.dense3(h)\n",
    "        h = self.dense4(h)\n",
    "        return self.dense5(h)"
   ]
  },
  {
   "cell_type": "markdown",
   "metadata": {},
   "source": [
    "## 데이터 불러오기"
   ]
  },
  {
   "cell_type": "code",
   "execution_count": 4,
   "metadata": {},
   "outputs": [],
   "source": [
    "fashion_mnist = tf.keras.datasets.fashion_mnist\n",
    "\n",
    "(x_train, y_train), (x_test, y_test) = fashion_mnist.load_data()\n",
    "x_train, x_test = x_train / 255.0, x_test / 255.0\n",
    "\n",
    "x_train = x_train.astype(np.float32)\n",
    "x_test = x_test.astype(np.float32)\n",
    "\n",
    "train_ds = tf.data.Dataset.from_tensor_slices((x_train, y_train)).shuffle(10000).batch(32).prefetch(2048)\n",
    "test_ds = tf.data.Dataset.from_tensor_slices((x_test, y_test)).batch(32).prefetch(2048)"
   ]
  },
  {
   "cell_type": "markdown",
   "metadata": {},
   "source": [
    "## 모델 생성\n",
    "\n",
    "- sparse_categorical_crossentropy\n",
    "    - sparse : y범주가 3개 이상 (one-hot encoding 아닐때)\n",
    "    - categorical : y가 연속형이 아니라 범주형 변수\n",
    "    - crossentropy : loss함수의 한 종류"
   ]
  },
  {
   "cell_type": "code",
   "execution_count": 5,
   "metadata": {},
   "outputs": [],
   "source": [
    "model = MyModel()\n",
    "\n",
    "model.compile(optimizer='adam',\n",
    "              loss='sparse_categorical_crossentropy',\n",
    "              metrics=['accuracy'])"
   ]
  },
  {
   "cell_type": "markdown",
   "metadata": {},
   "source": [
    "## 모델 학습 "
   ]
  },
  {
   "cell_type": "code",
   "execution_count": 6,
   "metadata": {
    "scrolled": true
   },
   "outputs": [
    {
     "name": "stdout",
     "output_type": "stream",
     "text": [
      "Epoch 1/50\n",
      "1875/1875 [==============================] - 24s 13ms/step - loss: 0.5177 - accuracy: 0.8125 - val_loss: 0.0000e+00 - val_accuracy: 0.0000e+00s: 0.6085 - - 21s 13ms/step - loss: 0.5306 - accura - 21s 13ms/ste - 22s 13ms/step - loss: 0.5281 - accuracy: 0.809  - 22s 13ms/step - loss: 0.5258 - accura - 22s 13ms/step -  - 23s 13ms/step - loss: 0.5227 - accuracy: 0.81 - 23s 13ms/step - loss: 0.5228 -  - 23s 12ms/step - loss: 0.51\n",
      "Epoch 2/50\n",
      "1875/1875 [==============================] - 6s 3ms/step - loss: 0.3811 - accuracy: 0.8609 - val_loss: 0.4037 - val_accuracy: 0.8562\n",
      "Epoch 3/50\n",
      "1875/1875 [==============================] - 6s 3ms/step - loss: 0.3479 - accuracy: 0.8725 - val_loss: 0.3836 - val_accuracy: 0.8642\n",
      "Epoch 4/50\n",
      "1875/1875 [==============================] - 6s 3ms/step - loss: 0.3231 - accuracy: 0.8805 - val_loss: 0.3660 - val_accuracy: 0.8672\n",
      "Epoch 5/50\n",
      "1875/1875 [==============================] - 7s 4ms/step - loss: 0.3086 - accuracy: 0.8856 - val_loss: 0.3491 - val_accuracy: 0.8743\n",
      "Epoch 6/50\n",
      "1875/1875 [==============================] - 6s 3ms/step - loss: 0.2950 - accuracy: 0.8891 - val_loss: 0.3729 - val_accuracy: 0.8655\n",
      "Epoch 7/50\n",
      "1875/1875 [==============================] - 6s 3ms/step - loss: 0.2845 - accuracy: 0.8946 - val_loss: 0.3502 - val_accuracy: 0.8770\n",
      "Epoch 8/50\n",
      "1875/1875 [==============================] - 5s 3ms/step - loss: 0.2736 - accuracy: 0.8967 - val_loss: 0.3560 - val_accuracy: 0.8747\n",
      "Epoch 9/50\n",
      "1875/1875 [==============================] - 5s 3ms/step - loss: 0.2671 - accuracy: 0.9001 - val_loss: 0.3585 - val_accuracy: 0.8739\n",
      "Epoch 10/50\n",
      "1875/1875 [==============================] - 5s 3ms/step - loss: 0.2579 - accuracy: 0.9033 - val_loss: 0.3710 - val_accuracy: 0.8695\n",
      "Epoch 11/50\n",
      "1875/1875 [==============================] - 5s 3ms/step - loss: 0.2518 - accuracy: 0.9048 - val_loss: 0.3583 - val_accuracy: 0.8760\n",
      "Epoch 12/50\n",
      "1875/1875 [==============================] - 5s 3ms/step - loss: 0.2459 - accuracy: 0.9072 - val_loss: 0.3491 - val_accuracy: 0.8819\n",
      "Epoch 13/50\n",
      "1875/1875 [==============================] - 5s 3ms/step - loss: 0.2382 - accuracy: 0.9106 - val_loss: 0.3528 - val_accuracy: 0.8812\n",
      "Epoch 14/50\n",
      "1875/1875 [==============================] - 5s 3ms/step - loss: 0.2307 - accuracy: 0.9132 - val_loss: 0.3367 - val_accuracy: 0.8816\n",
      "Epoch 15/50\n",
      "1875/1875 [==============================] - 6s 3ms/step - loss: 0.2271 - accuracy: 0.9126 - val_loss: 0.3470 - val_accuracy: 0.8837\n",
      "Epoch 16/50\n",
      "1875/1875 [==============================] - 6s 3ms/step - loss: 0.2224 - accuracy: 0.9153 - val_loss: 0.3392 - val_accuracy: 0.8892\n",
      "Epoch 17/50\n",
      "1875/1875 [==============================] - 7s 4ms/step - loss: 0.2170 - accuracy: 0.9180 - val_loss: 0.3626 - val_accuracy: 0.8805\n",
      "Epoch 18/50\n",
      "1875/1875 [==============================] - 7s 4ms/step - loss: 0.2146 - accuracy: 0.9191 - val_loss: 0.3622 - val_accuracy: 0.8835\n",
      "Epoch 19/50\n",
      "1875/1875 [==============================] - 8s 4ms/step - loss: 0.2077 - accuracy: 0.9207 - val_loss: 0.3558 - val_accuracy: 0.8839\n",
      "Epoch 20/50\n",
      "1875/1875 [==============================] - 8s 4ms/step - loss: 0.2026 - accuracy: 0.9232 - val_loss: 0.3740 - val_accuracy: 0.8838\n",
      "Epoch 21/50\n",
      "1875/1875 [==============================] - 8s 4ms/step - loss: 0.2026 - accuracy: 0.9219 - val_loss: 0.3612 - val_accuracy: 0.8833\n",
      "Epoch 22/50\n",
      "1875/1875 [==============================] - 8s 4ms/step - loss: 0.1971 - accuracy: 0.9241 - val_loss: 0.3951 - val_accuracy: 0.8780\n",
      "Epoch 23/50\n",
      "1875/1875 [==============================] - 8s 4ms/step - loss: 0.1945 - accuracy: 0.9262 - val_loss: 0.3690 - val_accuracy: 0.8836\n",
      "Epoch 24/50\n",
      "1875/1875 [==============================] - 8s 4ms/step - loss: 0.1901 - accuracy: 0.9281 - val_loss: 0.3778 - val_accuracy: 0.8840\n",
      "Epoch 25/50\n",
      "1875/1875 [==============================] - 8s 4ms/step - loss: 0.1867 - accuracy: 0.9283 - val_loss: 0.3793 - val_accuracy: 0.8839\n",
      "Epoch 26/50\n",
      "1875/1875 [==============================] - 8s 4ms/step - loss: 0.1860 - accuracy: 0.9290 - val_loss: 0.3952 - val_accuracy: 0.8794\n",
      "Epoch 27/50\n",
      "1875/1875 [==============================] - 8s 4ms/step - loss: 0.1813 - accuracy: 0.9311 - val_loss: 0.3886 - val_accuracy: 0.8785\n",
      "Epoch 28/50\n",
      "1875/1875 [==============================] - 8s 4ms/step - loss: 0.1804 - accuracy: 0.9305 - val_loss: 0.3976 - val_accuracy: 0.8859\n",
      "Epoch 29/50\n",
      "1875/1875 [==============================] - 8s 4ms/step - loss: 0.1745 - accuracy: 0.9324 - val_loss: 0.4108 - val_accuracy: 0.8830\n",
      "Epoch 30/50\n",
      "1875/1875 [==============================] - 8s 4ms/step - loss: 0.1734 - accuracy: 0.9331 - val_loss: 0.3912 - val_accuracy: 0.8861\n",
      "Epoch 31/50\n",
      "1875/1875 [==============================] - 9s 5ms/step - loss: 0.1690 - accuracy: 0.9359 - val_loss: 0.3808 - val_accuracy: 0.8891\n",
      "Epoch 32/50\n",
      "1875/1875 [==============================] - 8s 4ms/step - loss: 0.1682 - accuracy: 0.9360 - val_loss: 0.3893 - val_accuracy: 0.8886\n",
      "Epoch 33/50\n",
      "1875/1875 [==============================] - 8s 4ms/step - loss: 0.1649 - accuracy: 0.9372 - val_loss: 0.4235 - val_accuracy: 0.8858\n",
      "Epoch 34/50\n",
      "1875/1875 [==============================] - 7s 4ms/step - loss: 0.1648 - accuracy: 0.9374 - val_loss: 0.4323 - val_accuracy: 0.8862\n",
      "Epoch 35/50\n",
      "1875/1875 [==============================] - 6s 3ms/step - loss: 0.1633 - accuracy: 0.9383 - val_loss: 0.4538 - val_accuracy: 0.8830\n",
      "Epoch 36/50\n",
      "1875/1875 [==============================] - 6s 3ms/step - loss: 0.1602 - accuracy: 0.9391 - val_loss: 0.4333 - val_accuracy: 0.8861\n",
      "Epoch 37/50\n",
      "1875/1875 [==============================] - 6s 3ms/step - loss: 0.1576 - accuracy: 0.9394 - val_loss: 0.4287 - val_accuracy: 0.8884\n",
      "Epoch 38/50\n",
      "1875/1875 [==============================] - 6s 3ms/step - loss: 0.1563 - accuracy: 0.9395 - val_loss: 0.4461 - val_accuracy: 0.8852\n",
      "Epoch 39/50\n",
      "1875/1875 [==============================] - 6s 3ms/step - loss: 0.1536 - accuracy: 0.9415 - val_loss: 0.4592 - val_accuracy: 0.8843\n",
      "Epoch 40/50\n",
      "1875/1875 [==============================] - 6s 3ms/step - loss: 0.1504 - accuracy: 0.9420 - val_loss: 0.4582 - val_accuracy: 0.8879\n",
      "Epoch 41/50\n",
      "1875/1875 [==============================] - 6s 3ms/step - loss: 0.1518 - accuracy: 0.9414 - val_loss: 0.4447 - val_accuracy: 0.8905\n",
      "Epoch 42/50\n",
      "1875/1875 [==============================] - 8s 4ms/step - loss: 0.1482 - accuracy: 0.9423 - val_loss: 0.4724 - val_accuracy: 0.8856\n",
      "Epoch 43/50\n",
      "1875/1875 [==============================] - 8s 4ms/step - loss: 0.1473 - accuracy: 0.9437 - val_loss: 0.4317 - val_accuracy: 0.8869\n",
      "Epoch 44/50\n",
      "1875/1875 [==============================] - 8s 4ms/step - loss: 0.1466 - accuracy: 0.9435 - val_loss: 0.4758 - val_accuracy: 0.8788\n",
      "Epoch 45/50\n",
      "1875/1875 [==============================] - 8s 4ms/step - loss: 0.1452 - accuracy: 0.9445 - val_loss: 0.4551 - val_accuracy: 0.8847\n",
      "Epoch 46/50\n",
      "1875/1875 [==============================] - 8s 4ms/step - loss: 0.1421 - accuracy: 0.9452 - val_loss: 0.5275 - val_accuracy: 0.8848\n",
      "Epoch 47/50\n",
      "1875/1875 [==============================] - 6s 3ms/step - loss: 0.1431 - accuracy: 0.9455 - val_loss: 0.4581 - val_accuracy: 0.8856\n",
      "Epoch 48/50\n",
      "1875/1875 [==============================] - 6s 3ms/step - loss: 0.1411 - accuracy: 0.9458 - val_loss: 0.4809 - val_accuracy: 0.8878\n",
      "Epoch 49/50\n",
      "1875/1875 [==============================] - 6s 3ms/step - loss: 0.1374 - accuracy: 0.9474 - val_loss: 0.5151 - val_accuracy: 0.8851\n",
      "Epoch 50/50\n",
      "1875/1875 [==============================] - 6s 3ms/step - loss: 0.1382 - accuracy: 0.9471 - val_loss: 0.4901 - val_accuracy: 0.8872\n"
     ]
    }
   ],
   "source": [
    "history = model.fit(train_ds, validation_data=test_ds, epochs=EPOCHS)"
   ]
  },
  {
   "cell_type": "markdown",
   "metadata": {},
   "source": [
    "- 반복할수록 train데이터의 loss는 꾸준히 감소한다... 당연함\n",
    "- 반복할수록 val_loss는 감소하다가 어느지점부터는 증가한다... 어느지점이 최적의 epoch일때이고, 넘어가면 overfitting 됨\n",
    "- val_loss는 감소하다가 어느지점부터는 증가하지만\n",
    "- val_accuracy는 쭉 증가한다... 잘 맞추는지와 loss값이 다를 수도 있다"
   ]
  },
  {
   "cell_type": "markdown",
   "metadata": {},
   "source": [
    "## Matplotlib를 이용한 시각화 "
   ]
  },
  {
   "cell_type": "code",
   "execution_count": 7,
   "metadata": {},
   "outputs": [
    {
     "data": {
      "image/png": "[encoded data removed]",
      "text/plain": [
       "<Figure size 432x288 with 1 Axes>"
      ]
     },
     "metadata": {
      "needs_background": "light"
     },
     "output_type": "display_data"
    }
   ],
   "source": [
    "loss = history.history['loss']\n",
    "val_loss = history.history['val_loss']\n",
    "\n",
    "plt.figure()\n",
    "plt.plot(loss, 'ro-')\n",
    "plt.plot(val_loss, 'bo-')\n",
    "plt.ylabel('Cross Entropy')\n",
    "plt.xlabel('Epochs')\n",
    "plt.title('training and validation loss')\n",
    "plt.show()"
   ]
  },
  {
   "cell_type": "markdown",
   "metadata": {},
   "source": [
    "## Early stopping callback으로 성능 개선하기\n",
    "\n",
    "- overfitting 방지 위해 특정 epoch에서 실행을 멈춰줌"
   ]
  },
  {
   "cell_type": "code",
   "execution_count": 8,
   "metadata": {},
   "outputs": [],
   "source": [
    "earlystopper = tf.keras.callbacks.EarlyStopping(monitor='val_loss', patience=10, verbose=1)\n",
    "\n",
    "# 10번의 epoch동안 val_loss가 감소하지 않으면 멈춰준다"
   ]
  },
  {
   "cell_type": "markdown",
   "metadata": {},
   "source": [
    "## 모델 학습 2"
   ]
  },
  {
   "cell_type": "code",
   "execution_count": 9,
   "metadata": {},
   "outputs": [
    {
     "name": "stdout",
     "output_type": "stream",
     "text": [
      "Epoch 1/50\n",
      "1875/1875 [==============================] - 16s 8ms/step - loss: 0.1369 - accuracy: 0.9471 - val_loss: 0.0000e+00 - val_accuracy: 0.0000e+00\n",
      "Epoch 2/50\n",
      "1875/1875 [==============================] - 8s 4ms/step - loss: 0.1336 - accuracy: 0.9484 - val_loss: 0.4898 - val_accuracy: 0.8851\n",
      "Epoch 3/50\n",
      "1875/1875 [==============================] - 8s 4ms/step - loss: 0.1356 - accuracy: 0.9493 - val_loss: 0.5443 - val_accuracy: 0.8918\n",
      "Epoch 4/50\n",
      "1875/1875 [==============================] - 8s 4ms/step - loss: 0.1347 - accuracy: 0.9482 - val_loss: 0.5239 - val_accuracy: 0.8891\n",
      "Epoch 5/50\n",
      "1875/1875 [==============================] - 8s 4ms/step - loss: 0.1313 - accuracy: 0.9502 - val_loss: 0.4933 - val_accuracy: 0.8914\n",
      "Epoch 6/50\n",
      "1875/1875 [==============================] - 9s 5ms/step - loss: 0.1274 - accuracy: 0.9510 - val_loss: 0.5531 - val_accuracy: 0.8889\n",
      "Epoch 7/50\n",
      "1875/1875 [==============================] - 9s 5ms/step - loss: 0.1312 - accuracy: 0.9497 - val_loss: 0.5052 - val_accuracy: 0.8895\n",
      "Epoch 8/50\n",
      "1875/1875 [==============================] - 9s 5ms/step - loss: 0.1275 - accuracy: 0.9515 - val_loss: 0.5958 - val_accuracy: 0.8799\n",
      "Epoch 9/50\n",
      "1875/1875 [==============================] - 8s 4ms/step - loss: 0.1281 - accuracy: 0.9515 - val_loss: 0.5542 - val_accuracy: 0.8783\n",
      "Epoch 10/50\n",
      "1875/1875 [==============================] - 8s 4ms/step - loss: 0.1248 - accuracy: 0.9525 - val_loss: 0.5324 - val_accuracy: 0.8886\n",
      "Epoch 11/50\n",
      "1875/1875 [==============================] - 6s 3ms/step - loss: 0.1238 - accuracy: 0.9533 - val_loss: 0.5623 - val_accuracy: 0.8853\n",
      "Epoch 12/50\n",
      "1875/1875 [==============================] - 6s 3ms/step - loss: 0.1217 - accuracy: 0.9534 - val_loss: 0.5807 - val_accuracy: 0.8901\n",
      "Epoch 00012: early stopping\n"
     ]
    }
   ],
   "source": [
    "history = model.fit(train_ds, validation_data=test_ds, epochs=EPOCHS, callbacks=[earlystopper])"
   ]
  },
  {
   "cell_type": "markdown",
   "metadata": {},
   "source": [
    "## Matplotlib를 이용한 시각화 "
   ]
  },
  {
   "cell_type": "code",
   "execution_count": 15,
   "metadata": {},
   "outputs": [
    {
     "data": {
      "image/png": "[encoded data removed]",
      "text/plain": [
       "<Figure size 432x288 with 1 Axes>"
      ]
     },
     "metadata": {
      "needs_background": "light"
     },
     "output_type": "display_data"
    }
   ],
   "source": [
    "loss = history.history['loss']\n",
    "val_loss = history.history['val_loss']\n",
    "\n",
    "plt.figure()\n",
    "plt.plot(loss, 'ro-')\n",
    "plt.plot(val_loss, 'bo-')\n",
    "plt.ylabel('Cross Entropy')\n",
    "plt.xlabel('E## Matplotlib를 이용한 시각화 pochs')\n",
    "plt.title('training and validation loss')\n",
    "plt.show()"
   ]
  },
  {
   "cell_type": "markdown",
   "metadata": {},
   "source": [
    "## Drop out으로 성능 개선하기\n",
    "- 특정 확률로 각 노드를 사용할지 말지 결정\n",
    "- dense4에 drop out 적용함\n",
    "- 노드 64개면 underfitting날 수 있으므로 128개로 올려줌"
   ]
  },
  {
   "cell_type": "code",
   "execution_count": 11,
   "metadata": {},
   "outputs": [],
   "source": [
    "class MyModel(tf.keras.Model):\n",
    "    def __init__(self):\n",
    "        super(MyModel, self).__init__()\n",
    "        self.flatten = tf.keras.layers.Flatten()                       # 28x28 = 784\n",
    "        self.dense1 = tf.keras.layers.Dense(64, activation='relu')\n",
    "        self.dense2 = tf.keras.layers.Dense(64, activation='relu')\n",
    "        self.dense3 = tf.keras.layers.Dense(64, activation='relu')\n",
    "        self.dense4 = tf.keras.layers.Dense(128, activation='relu')\n",
    "        self.dropout4 = tf.keras.layers.Dropout(0.5)\n",
    "        self.dense5 = tf.keras.layers.Dense(10, activation='softmax')  # 10\n",
    "\n",
    "    def call(self, x, training=False, mask=None):\n",
    "        h = self.flatten(x)\n",
    "        h = self.dense1(h)\n",
    "        h = self.dense2(h)\n",
    "        h = self.dense3(h)\n",
    "        h = self.dense4(h)\n",
    "        return self.dense5(h)"
   ]
  },
  {
   "cell_type": "markdown",
   "metadata": {},
   "source": [
    "- early stopping callback"
   ]
  },
  {
   "cell_type": "code",
   "execution_count": 12,
   "metadata": {},
   "outputs": [],
   "source": [
    "earlystopper = tf.keras.callbacks.EarlyStopping(monitor='val_loss', patience=10, verbose=1)"
   ]
  },
  {
   "cell_type": "markdown",
   "metadata": {},
   "source": [
    "## 모델 학습 3"
   ]
  },
  {
   "cell_type": "code",
   "execution_count": 13,
   "metadata": {},
   "outputs": [
    {
     "name": "stdout",
     "output_type": "stream",
     "text": [
      "Epoch 1/50\n",
      "1875/1875 [==============================] - 14s 8ms/step - loss: 0.1238 - accuracy: 0.9532 - val_loss: 0.0000e+00 - val_accuracy: 0.0000e+00\n",
      "Epoch 2/50\n",
      "1875/1875 [==============================] - 7s 4ms/step - loss: 0.1208 - accuracy: 0.9535 - val_loss: 0.5659 - val_accuracy: 0.8877\n",
      "Epoch 3/50\n",
      "1875/1875 [==============================] - 8s 4ms/step - loss: 0.1219 - accuracy: 0.9530 - val_loss: 0.5779 - val_accuracy: 0.8858\n",
      "Epoch 4/50\n",
      "1875/1875 [==============================] - 8s 4ms/step - loss: 0.1178 - accuracy: 0.9542 - val_loss: 0.5712 - val_accuracy: 0.8870\n",
      "Epoch 5/50\n",
      "1875/1875 [==============================] - 8s 4ms/step - loss: 0.1187 - accuracy: 0.9540 - val_loss: 0.5867 - val_accuracy: 0.8807\n",
      "Epoch 6/50\n",
      "1875/1875 [==============================] - 8s 4ms/step - loss: 0.1197 - accuracy: 0.9541 - val_loss: 0.5919 - val_accuracy: 0.8853\n",
      "Epoch 7/50\n",
      "1875/1875 [==============================] - 8s 4ms/step - loss: 0.1173 - accuracy: 0.9550 - val_loss: 0.5583 - val_accuracy: 0.8887\n",
      "Epoch 8/50\n",
      "1875/1875 [==============================] - 8s 4ms/step - loss: 0.1161 - accuracy: 0.9553 - val_loss: 0.5958 - val_accuracy: 0.8870\n",
      "Epoch 9/50\n",
      "1875/1875 [==============================] - 8s 4ms/step - loss: 0.1127 - accuracy: 0.9566 - val_loss: 0.6171 - val_accuracy: 0.8847\n",
      "Epoch 10/50\n",
      "1875/1875 [==============================] - 8s 4ms/step - loss: 0.1196 - accuracy: 0.9546 - val_loss: 0.6311 - val_accuracy: 0.8879\n",
      "Epoch 11/50\n",
      "1875/1875 [==============================] - 7s 4ms/step - loss: 0.1128 - accuracy: 0.9561 - val_loss: 0.6632 - val_accuracy: 0.8870\n",
      "Epoch 00011: early stopping\n"
     ]
    }
   ],
   "source": [
    "history = model.fit(train_ds, validation_data=test_ds, epochs=EPOCHS, callbacks=[earlystopper])"
   ]
  },
  {
   "cell_type": "markdown",
   "metadata": {},
   "source": [
    "## Matplotlib를 이용한 시각화 "
   ]
  },
  {
   "cell_type": "code",
   "execution_count": 14,
   "metadata": {},
   "outputs": [
    {
     "data": {
      "image/png": "[encoded data removed]",
      "text/plain": [
       "<Figure size 432x288 with 1 Axes>"
      ]
     },
     "metadata": {
      "needs_background": "light"
     },
     "output_type": "display_data"
    }
   ],
   "source": [
    "loss = history.history['loss']\n",
    "val_loss = history.history['val_loss']\n",
    "\n",
    "plt.figure()\n",
    "plt.plot(loss, 'ro-')\n",
    "plt.plot(val_loss, 'bo-')\n",
    "plt.ylabel('Cross Entropy')\n",
    "plt.xlabel('E## Matplotlib를 이용한 시각화 pochs')\n",
    "plt.title('training and validation loss')\n",
    "plt.show()"
   ]
  }
 ],
 "metadata": {
  "kernelspec": {
   "display_name": "Python 3",
   "language": "python",
   "name": "python3"
  },
  "language_info": {
   "codemirror_mode": {
    "name": "ipython",
    "version": 3
   },
   "file_extension": ".py",
   "mimetype": "text/x-python",
   "name": "python",
   "nbconvert_exporter": "python",
   "pygments_lexer": "ipython3",
   "version": "3.7.1"
  }
 },
 "nbformat": 4,
 "nbformat_minor": 2
}
